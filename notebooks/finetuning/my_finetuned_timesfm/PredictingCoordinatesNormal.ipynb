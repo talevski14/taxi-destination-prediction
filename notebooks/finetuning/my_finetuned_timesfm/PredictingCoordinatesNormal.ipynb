{
 "cells": [
  {
   "cell_type": "code",
   "id": "initial_id",
   "metadata": {
    "collapsed": true,
    "ExecuteTime": {
     "end_time": "2025-09-21T18:53:57.085712Z",
     "start_time": "2025-09-21T18:53:56.524702Z"
    }
   },
   "source": [
    "import pandas as pd"
   ],
   "outputs": [],
   "execution_count": 1
  },
  {
   "cell_type": "code",
   "id": "31235c077b90ad65",
   "metadata": {
    "ExecuteTime": {
     "end_time": "2025-09-21T18:53:58.327040Z",
     "start_time": "2025-09-21T18:53:57.085712Z"
    }
   },
   "source": [
    "df = pd.read_parquet(\"../../../data/data_taxi_central_based.parquet\")\n",
    "trip_ids_to_keep = [1398764351620000197, 1380694967620000451]\n",
    "df = df[df['TRIP_ID'].isin(trip_ids_to_keep)]\n",
    "df"
   ],
   "outputs": [
    {
     "data": {
      "text/plain": [
       "                      TRIP_ID  ORIGIN_CALL   TAXI_ID   TIMESTAMP  \\\n",
       "index                                                              \n",
       "20214274  1380694967620000451      19967.0  20000451  1380694967   \n",
       "20214275  1380694967620000451      19967.0  20000451  1380694982   \n",
       "20214276  1380694967620000451      19967.0  20000451  1380694997   \n",
       "20214277  1380694967620000451      19967.0  20000451  1380695012   \n",
       "20214278  1380694967620000451      19967.0  20000451  1380695027   \n",
       "...                       ...          ...       ...         ...   \n",
       "67580730  1398764351620000197      63882.0  20000197  1398771806   \n",
       "67580731  1398764351620000197      63882.0  20000197  1398771821   \n",
       "67580732  1398764351620000197      63882.0  20000197  1398771836   \n",
       "67580733  1398764351620000197      63882.0  20000197  1398771851   \n",
       "67580734  1398764351620000197      63882.0  20000197  1398771866   \n",
       "\n",
       "          POLYLINE_LENGTH       LON        LAT  \n",
       "index                                           \n",
       "20214274              504 -8.640432  41.147676  \n",
       "20214275              504 -8.639622  41.144274  \n",
       "20214276              504 -8.638362  41.140755  \n",
       "20214277              504 -8.635878  41.137317  \n",
       "20214278              504 -8.635464  41.133564  \n",
       "...                   ...       ...        ...  \n",
       "67580730              502 -8.582418  41.178528  \n",
       "67580731              502 -8.582535  41.178600  \n",
       "67580732              502 -8.582202  41.179617  \n",
       "67580733              502 -8.581860  41.180283  \n",
       "67580734              502 -8.582607  41.180859  \n",
       "\n",
       "[1006 rows x 7 columns]"
      ],
      "text/html": [
       "<div>\n",
       "<style scoped>\n",
       "    .dataframe tbody tr th:only-of-type {\n",
       "        vertical-align: middle;\n",
       "    }\n",
       "\n",
       "    .dataframe tbody tr th {\n",
       "        vertical-align: top;\n",
       "    }\n",
       "\n",
       "    .dataframe thead th {\n",
       "        text-align: right;\n",
       "    }\n",
       "</style>\n",
       "<table border=\"1\" class=\"dataframe\">\n",
       "  <thead>\n",
       "    <tr style=\"text-align: right;\">\n",
       "      <th></th>\n",
       "      <th>TRIP_ID</th>\n",
       "      <th>ORIGIN_CALL</th>\n",
       "      <th>TAXI_ID</th>\n",
       "      <th>TIMESTAMP</th>\n",
       "      <th>POLYLINE_LENGTH</th>\n",
       "      <th>LON</th>\n",
       "      <th>LAT</th>\n",
       "    </tr>\n",
       "    <tr>\n",
       "      <th>index</th>\n",
       "      <th></th>\n",
       "      <th></th>\n",
       "      <th></th>\n",
       "      <th></th>\n",
       "      <th></th>\n",
       "      <th></th>\n",
       "      <th></th>\n",
       "    </tr>\n",
       "  </thead>\n",
       "  <tbody>\n",
       "    <tr>\n",
       "      <th>20214274</th>\n",
       "      <td>1380694967620000451</td>\n",
       "      <td>19967.0</td>\n",
       "      <td>20000451</td>\n",
       "      <td>1380694967</td>\n",
       "      <td>504</td>\n",
       "      <td>-8.640432</td>\n",
       "      <td>41.147676</td>\n",
       "    </tr>\n",
       "    <tr>\n",
       "      <th>20214275</th>\n",
       "      <td>1380694967620000451</td>\n",
       "      <td>19967.0</td>\n",
       "      <td>20000451</td>\n",
       "      <td>1380694982</td>\n",
       "      <td>504</td>\n",
       "      <td>-8.639622</td>\n",
       "      <td>41.144274</td>\n",
       "    </tr>\n",
       "    <tr>\n",
       "      <th>20214276</th>\n",
       "      <td>1380694967620000451</td>\n",
       "      <td>19967.0</td>\n",
       "      <td>20000451</td>\n",
       "      <td>1380694997</td>\n",
       "      <td>504</td>\n",
       "      <td>-8.638362</td>\n",
       "      <td>41.140755</td>\n",
       "    </tr>\n",
       "    <tr>\n",
       "      <th>20214277</th>\n",
       "      <td>1380694967620000451</td>\n",
       "      <td>19967.0</td>\n",
       "      <td>20000451</td>\n",
       "      <td>1380695012</td>\n",
       "      <td>504</td>\n",
       "      <td>-8.635878</td>\n",
       "      <td>41.137317</td>\n",
       "    </tr>\n",
       "    <tr>\n",
       "      <th>20214278</th>\n",
       "      <td>1380694967620000451</td>\n",
       "      <td>19967.0</td>\n",
       "      <td>20000451</td>\n",
       "      <td>1380695027</td>\n",
       "      <td>504</td>\n",
       "      <td>-8.635464</td>\n",
       "      <td>41.133564</td>\n",
       "    </tr>\n",
       "    <tr>\n",
       "      <th>...</th>\n",
       "      <td>...</td>\n",
       "      <td>...</td>\n",
       "      <td>...</td>\n",
       "      <td>...</td>\n",
       "      <td>...</td>\n",
       "      <td>...</td>\n",
       "      <td>...</td>\n",
       "    </tr>\n",
       "    <tr>\n",
       "      <th>67580730</th>\n",
       "      <td>1398764351620000197</td>\n",
       "      <td>63882.0</td>\n",
       "      <td>20000197</td>\n",
       "      <td>1398771806</td>\n",
       "      <td>502</td>\n",
       "      <td>-8.582418</td>\n",
       "      <td>41.178528</td>\n",
       "    </tr>\n",
       "    <tr>\n",
       "      <th>67580731</th>\n",
       "      <td>1398764351620000197</td>\n",
       "      <td>63882.0</td>\n",
       "      <td>20000197</td>\n",
       "      <td>1398771821</td>\n",
       "      <td>502</td>\n",
       "      <td>-8.582535</td>\n",
       "      <td>41.178600</td>\n",
       "    </tr>\n",
       "    <tr>\n",
       "      <th>67580732</th>\n",
       "      <td>1398764351620000197</td>\n",
       "      <td>63882.0</td>\n",
       "      <td>20000197</td>\n",
       "      <td>1398771836</td>\n",
       "      <td>502</td>\n",
       "      <td>-8.582202</td>\n",
       "      <td>41.179617</td>\n",
       "    </tr>\n",
       "    <tr>\n",
       "      <th>67580733</th>\n",
       "      <td>1398764351620000197</td>\n",
       "      <td>63882.0</td>\n",
       "      <td>20000197</td>\n",
       "      <td>1398771851</td>\n",
       "      <td>502</td>\n",
       "      <td>-8.581860</td>\n",
       "      <td>41.180283</td>\n",
       "    </tr>\n",
       "    <tr>\n",
       "      <th>67580734</th>\n",
       "      <td>1398764351620000197</td>\n",
       "      <td>63882.0</td>\n",
       "      <td>20000197</td>\n",
       "      <td>1398771866</td>\n",
       "      <td>502</td>\n",
       "      <td>-8.582607</td>\n",
       "      <td>41.180859</td>\n",
       "    </tr>\n",
       "  </tbody>\n",
       "</table>\n",
       "<p>1006 rows × 7 columns</p>\n",
       "</div>"
      ]
     },
     "execution_count": 2,
     "metadata": {},
     "output_type": "execute_result"
    }
   ],
   "execution_count": 2
  },
  {
   "cell_type": "code",
   "id": "ac9990d577976560",
   "metadata": {
    "ExecuteTime": {
     "end_time": "2025-09-21T18:54:01.541586Z",
     "start_time": "2025-09-21T18:53:58.556904Z"
    }
   },
   "source": [
    "import timesfm"
   ],
   "outputs": [
    {
     "name": "stdout",
     "output_type": "stream",
     "text": [
      " See https://github.com/google-research/timesfm/blob/master/README.md for updated APIs.\n",
      "Loaded PyTorch TimesFM, likely because python version is 3.11.13 | packaged by Anaconda, Inc. | (main, Jun  5 2025, 13:03:15) [MSC v.1929 64 bit (AMD64)].\n"
     ]
    }
   ],
   "execution_count": 3
  },
  {
   "cell_type": "code",
   "id": "6d8fdf0c81a15ef0",
   "metadata": {
    "ExecuteTime": {
     "end_time": "2025-09-21T18:54:01.580592Z",
     "start_time": "2025-09-21T18:54:01.575311Z"
    }
   },
   "source": [
    "df_lon = df.drop(columns=['ORIGIN_CALL', 'TAXI_ID', 'POLYLINE_LENGTH', 'LAT'])\n",
    "df_lat = df.drop(columns=['ORIGIN_CALL', 'TAXI_ID', 'POLYLINE_LENGTH', 'LON'])"
   ],
   "outputs": [],
   "execution_count": 4
  },
  {
   "cell_type": "code",
   "id": "aaf2ef79835988e8",
   "metadata": {
    "ExecuteTime": {
     "end_time": "2025-09-21T18:54:06.951020Z",
     "start_time": "2025-09-21T18:54:01.596226Z"
    }
   },
   "source": [
    "tfm_lat = timesfm.TimesFm(\n",
    "      hparams=timesfm.TimesFmHparams(\n",
    "          backend=\"gpu\",\n",
    "          per_core_batch_size=32,\n",
    "          horizon_len=20,\n",
    "          num_layers=50,\n",
    "          use_positional_embedding=False,\n",
    "          context_len=256,\n",
    "      ),\n",
    "      checkpoint=timesfm.TimesFmCheckpoint(\n",
    "          huggingface_repo_id=\"google/timesfm-2.0-500m-pytorch\"),\n",
    "  )"
   ],
   "outputs": [
    {
     "data": {
      "text/plain": [
       "Fetching 5 files:   0%|          | 0/5 [00:00<?, ?it/s]"
      ],
      "application/vnd.jupyter.widget-view+json": {
       "version_major": 2,
       "version_minor": 0,
       "model_id": "ddedca491e904b0883a745a5d79d40cb"
      }
     },
     "metadata": {},
     "output_type": "display_data"
    }
   ],
   "execution_count": 5
  },
  {
   "cell_type": "code",
   "id": "f2bf8bd6ea976c66",
   "metadata": {
    "ExecuteTime": {
     "end_time": "2025-09-21T18:54:10.686001Z",
     "start_time": "2025-09-21T18:54:06.963098Z"
    }
   },
   "source": [
    "tfm_lon = timesfm.TimesFm(\n",
    "      hparams=timesfm.TimesFmHparams(\n",
    "          backend=\"gpu\",\n",
    "          per_core_batch_size=32,\n",
    "          horizon_len=20,\n",
    "          num_layers=50,\n",
    "          use_positional_embedding=False,\n",
    "          context_len=256,\n",
    "      ),\n",
    "      checkpoint=timesfm.TimesFmCheckpoint(\n",
    "          huggingface_repo_id=\"google/timesfm-2.0-500m-pytorch\"),\n",
    "  )"
   ],
   "outputs": [
    {
     "data": {
      "text/plain": [
       "Fetching 5 files:   0%|          | 0/5 [00:00<?, ?it/s]"
      ],
      "application/vnd.jupyter.widget-view+json": {
       "version_major": 2,
       "version_minor": 0,
       "model_id": "dbc66deb6d9440a195416ff474707de6"
      }
     },
     "metadata": {},
     "output_type": "display_data"
    }
   ],
   "execution_count": 6
  },
  {
   "cell_type": "code",
   "id": "6544a51e861c3cfb",
   "metadata": {
    "ExecuteTime": {
     "end_time": "2025-09-21T18:54:10.713350Z",
     "start_time": "2025-09-21T18:54:10.696727Z"
    }
   },
   "source": [
    "df_lat = df_lat.sort_values(by=['TRIP_ID', 'TIMESTAMP'])\n",
    "df_lat_test = df_lat.groupby('TRIP_ID', group_keys=False).tail(20)\n",
    "df_lat_train = df_lat.drop(df_lat_test.index)"
   ],
   "outputs": [],
   "execution_count": 7
  },
  {
   "cell_type": "code",
   "id": "feca5a661cf1a0d8",
   "metadata": {
    "ExecuteTime": {
     "end_time": "2025-09-21T18:54:10.733197Z",
     "start_time": "2025-09-21T18:54:10.726284Z"
    }
   },
   "source": [
    "df_lon = df_lon.sort_values(by=['TRIP_ID', 'TIMESTAMP'])\n",
    "df_lon_test = df_lon.groupby('TRIP_ID', group_keys=False).tail(20)\n",
    "df_lon_train = df_lon.drop(df_lat_test.index)"
   ],
   "outputs": [],
   "execution_count": 8
  },
  {
   "cell_type": "code",
   "id": "ed9138b5a1f1ef4c",
   "metadata": {
    "ExecuteTime": {
     "end_time": "2025-09-21T18:54:11.774096Z",
     "start_time": "2025-09-21T18:54:10.749229Z"
    }
   },
   "source": [
    "from sklearn.preprocessing import MinMaxScaler\n",
    "scaler_lat = MinMaxScaler()\n",
    "df_lat_train['LAT'] = scaler_lat.fit_transform(df_lat_train[['LAT']])\n",
    "\n",
    "scaler_lon = MinMaxScaler()\n",
    "df_lon_train['LON'] = scaler_lon.fit_transform(df_lon_train[['LON']])"
   ],
   "outputs": [],
   "execution_count": 9
  },
  {
   "cell_type": "code",
   "id": "debca559b45a7aa7",
   "metadata": {
    "ExecuteTime": {
     "end_time": "2025-09-21T18:54:11.798380Z",
     "start_time": "2025-09-21T18:54:11.789227Z"
    }
   },
   "source": [
    "df_lat_train['TIMESTAMP'] = pd.to_datetime(df_lat_train['TIMESTAMP'], unit='s')\n",
    "df_lon_train['TIMESTAMP'] = pd.to_datetime(df_lon_train['TIMESTAMP'], unit='s')"
   ],
   "outputs": [],
   "execution_count": 10
  },
  {
   "cell_type": "code",
   "id": "ac9f39dfe4f0f960",
   "metadata": {
    "ExecuteTime": {
     "end_time": "2025-09-21T18:54:11.818092Z",
     "start_time": "2025-09-21T18:54:11.811883Z"
    }
   },
   "source": [
    "df_lon_train = df_lon_train.rename(columns={'TIMESTAMP': 'ds', 'LON': 'y', 'TRIP_ID': 'unique_id'})\n",
    "df_lat_train = df_lat_train.rename(columns={'TIMESTAMP': 'ds', 'LAT': 'y', 'TRIP_ID': 'unique_id'})"
   ],
   "outputs": [],
   "execution_count": 11
  },
  {
   "cell_type": "code",
   "id": "ed3ada5fe1a7ca0e",
   "metadata": {
    "ExecuteTime": {
     "end_time": "2025-09-21T18:54:19.577168Z",
     "start_time": "2025-09-21T18:54:11.833386Z"
    }
   },
   "source": [
    "forecast_df_lon = tfm_lon.forecast_on_df(\n",
    "    inputs=df_lon_train,\n",
    "    freq=\"15s\",\n",
    "    value_name=\"y\",\n",
    "    num_jobs=-1,\n",
    ")"
   ],
   "outputs": [
    {
     "name": "stdout",
     "output_type": "stream",
     "text": [
      "Processing dataframe with multiple processes.\n",
      "Finished preprocessing dataframe.\n",
      "Finished forecasting.\n"
     ]
    }
   ],
   "execution_count": 12
  },
  {
   "cell_type": "code",
   "id": "8a832bbf399e88c5",
   "metadata": {
    "ExecuteTime": {
     "end_time": "2025-09-21T18:54:23.601642Z",
     "start_time": "2025-09-21T18:54:19.593460Z"
    }
   },
   "source": [
    "forecast_df_lat = tfm_lon.forecast_on_df(\n",
    "    inputs=df_lat_train,\n",
    "    freq=\"15s\",\n",
    "    value_name=\"y\",\n",
    "    num_jobs=-1,\n",
    ")"
   ],
   "outputs": [
    {
     "name": "stdout",
     "output_type": "stream",
     "text": [
      "Processing dataframe with multiple processes.\n",
      "Finished preprocessing dataframe.\n",
      "Finished forecasting.\n"
     ]
    }
   ],
   "execution_count": 13
  },
  {
   "cell_type": "code",
   "id": "e90b98dd91419fa4",
   "metadata": {
    "ExecuteTime": {
     "end_time": "2025-09-21T18:54:23.648320Z",
     "start_time": "2025-09-21T18:54:23.642968Z"
    }
   },
   "source": [
    "forecast_df_lon_keep = forecast_df_lon[['unique_id', 'ds', 'timesfm-q-0.9']]"
   ],
   "outputs": [],
   "execution_count": 14
  },
  {
   "cell_type": "code",
   "id": "8b5c3019c028bff6",
   "metadata": {
    "ExecuteTime": {
     "end_time": "2025-09-21T18:54:23.656256Z",
     "start_time": "2025-09-21T18:54:23.648320Z"
    }
   },
   "source": [
    "forecast_df_lat_keep = forecast_df_lat[['unique_id', 'ds', 'timesfm-q-0.9']]"
   ],
   "outputs": [],
   "execution_count": 15
  },
  {
   "cell_type": "code",
   "id": "28cea87086d776a8",
   "metadata": {
    "ExecuteTime": {
     "end_time": "2025-09-21T18:54:23.696503Z",
     "start_time": "2025-09-21T18:54:23.679224Z"
    }
   },
   "source": [
    "forecast_df_lat_keep['timesfm-q-0.9'] = scaler_lat.inverse_transform(forecast_df_lat_keep[['timesfm-q-0.9']])\n",
    "forecast_df_lon_keep['timesfm-q-0.9'] = scaler_lon.inverse_transform(forecast_df_lon_keep[['timesfm-q-0.9']])"
   ],
   "outputs": [
    {
     "name": "stderr",
     "output_type": "stream",
     "text": [
      "C:\\Users\\Nikola\\AppData\\Local\\Temp\\ipykernel_3388\\3587103272.py:1: SettingWithCopyWarning: \n",
      "A value is trying to be set on a copy of a slice from a DataFrame.\n",
      "Try using .loc[row_indexer,col_indexer] = value instead\n",
      "\n",
      "See the caveats in the documentation: https://pandas.pydata.org/pandas-docs/stable/user_guide/indexing.html#returning-a-view-versus-a-copy\n",
      "  forecast_df_lat_keep['timesfm-q-0.9'] = scaler_lat.inverse_transform(forecast_df_lat_keep[['timesfm-q-0.9']])\n",
      "C:\\Users\\Nikola\\AppData\\Local\\Temp\\ipykernel_3388\\3587103272.py:2: SettingWithCopyWarning: \n",
      "A value is trying to be set on a copy of a slice from a DataFrame.\n",
      "Try using .loc[row_indexer,col_indexer] = value instead\n",
      "\n",
      "See the caveats in the documentation: https://pandas.pydata.org/pandas-docs/stable/user_guide/indexing.html#returning-a-view-versus-a-copy\n",
      "  forecast_df_lon_keep['timesfm-q-0.9'] = scaler_lon.inverse_transform(forecast_df_lon_keep[['timesfm-q-0.9']])\n"
     ]
    }
   ],
   "execution_count": 16
  },
  {
   "cell_type": "code",
   "id": "9fb0429524f5d23b",
   "metadata": {
    "ExecuteTime": {
     "end_time": "2025-09-21T18:54:23.724246Z",
     "start_time": "2025-09-21T18:54:23.719958Z"
    }
   },
   "source": [
    "forecast_df_lat_keep = forecast_df_lat_keep.rename(columns={'timesfm-q-0.9': 'LAT_PREDICTED'})\n",
    "forecast_df_lon_keep = forecast_df_lon_keep.rename(columns={'timesfm-q-0.9': 'LON_PREDICTED'})"
   ],
   "outputs": [],
   "execution_count": 17
  },
  {
   "cell_type": "code",
   "id": "6c129c2e025cb7ae",
   "metadata": {
    "ExecuteTime": {
     "end_time": "2025-09-21T18:54:23.783483Z",
     "start_time": "2025-09-21T18:54:23.766599Z"
    }
   },
   "source": [
    "forecast_df_lat_keep = forecast_df_lat_keep.sort_values(['unique_id', 'ds'])\n",
    "forecast_df_lat_keep = forecast_df_lat_keep.groupby('unique_id').tail(1)\n",
    "\n",
    "forecast_df_lon_keep = forecast_df_lon_keep.sort_values(['unique_id', 'ds'])\n",
    "forecast_df_lon_keep = forecast_df_lon_keep.groupby('unique_id').tail(1)"
   ],
   "outputs": [],
   "execution_count": 18
  },
  {
   "cell_type": "code",
   "id": "46f75c22597f8364",
   "metadata": {
    "ExecuteTime": {
     "end_time": "2025-09-21T18:54:23.795118Z",
     "start_time": "2025-09-21T18:54:23.783483Z"
    }
   },
   "source": [
    "df_lon_test = df_lon_test.rename(columns={'TIMESTAMP': 'ds', 'TRIP_ID': 'unique_id'})\n",
    "df_lon_test = df_lon_test.sort_values(['unique_id', 'ds'])\n",
    "df_lon_test = df_lon_test.groupby('unique_id').tail(1)\n",
    "\n",
    "df_lat_test = df_lat_test.rename(columns={'TIMESTAMP': 'ds', 'TRIP_ID': 'unique_id'})\n",
    "df_lat_test = df_lat_test.sort_values(['unique_id', 'ds'])\n",
    "df_lat_test = df_lat_test.groupby('unique_id').tail(1)"
   ],
   "outputs": [],
   "execution_count": 19
  },
  {
   "cell_type": "code",
   "id": "46b58aacaf850616",
   "metadata": {
    "ExecuteTime": {
     "end_time": "2025-09-21T18:54:23.845095Z",
     "start_time": "2025-09-21T18:54:23.814754Z"
    }
   },
   "source": [
    "result_lat = df_lat_test.merge(forecast_df_lat_keep, how='left', on=['unique_id'])\n",
    "result_lon = df_lon_test.merge(forecast_df_lon_keep, how='left', on=['unique_id'])\n",
    "result = result_lat.merge(result_lon, how='left', on=['unique_id'])"
   ],
   "outputs": [],
   "execution_count": 20
  },
  {
   "cell_type": "code",
   "id": "968067708a9b0d80",
   "metadata": {
    "ExecuteTime": {
     "end_time": "2025-09-21T18:54:23.872364Z",
     "start_time": "2025-09-21T18:54:23.867878Z"
    }
   },
   "source": [
    "from evaluation_script import haversine_distance"
   ],
   "outputs": [],
   "execution_count": 21
  },
  {
   "cell_type": "code",
   "id": "185c32d8ae39f423",
   "metadata": {
    "ExecuteTime": {
     "end_time": "2025-09-21T18:54:23.913842Z",
     "start_time": "2025-09-21T18:54:23.893571Z"
    }
   },
   "source": [
    "result['DISTANCE_DELTA_SEPARATED'] = result.apply(lambda row: haversine_distance(\n",
    "    row['LAT'], row['LON'], row['LAT_PREDICTED'], row['LON_PREDICTED']), axis=1)"
   ],
   "outputs": [],
   "execution_count": 22
  },
  {
   "cell_type": "code",
   "id": "cac3d9e02fc41412",
   "metadata": {
    "ExecuteTime": {
     "end_time": "2025-09-21T18:54:23.942309Z",
     "start_time": "2025-09-21T18:54:23.937648Z"
    }
   },
   "source": [
    "result['DISTANCE_DELTA_SEPARATED'].mean()"
   ],
   "outputs": [
    {
     "data": {
      "text/plain": [
       "np.float64(1.001562968638081)"
      ]
     },
     "execution_count": 23,
     "metadata": {},
     "output_type": "execute_result"
    }
   ],
   "execution_count": 23
  },
  {
   "cell_type": "code",
   "id": "6d6de9b483deb9fa",
   "metadata": {
    "ExecuteTime": {
     "end_time": "2025-09-21T18:54:23.993856Z",
     "start_time": "2025-09-21T18:54:23.988498Z"
    }
   },
   "source": [
    "result['DISTANCE_DELTA_SEPARATED'].median()"
   ],
   "outputs": [
    {
     "data": {
      "text/plain": [
       "1.001562968638081"
      ]
     },
     "execution_count": 24,
     "metadata": {},
     "output_type": "execute_result"
    }
   ],
   "execution_count": 24
  },
  {
   "metadata": {
    "ExecuteTime": {
     "end_time": "2025-09-21T18:54:24.011400Z",
     "start_time": "2025-09-21T18:54:23.993856Z"
    }
   },
   "cell_type": "code",
   "source": "result.to_csv(\"result.csv\", index=False)",
   "id": "7c8457a4b2a692da",
   "outputs": [],
   "execution_count": 25
  },
  {
   "metadata": {
    "ExecuteTime": {
     "end_time": "2025-09-21T18:54:24.050106Z",
     "start_time": "2025-09-21T18:54:24.034287Z"
    }
   },
   "cell_type": "code",
   "source": "forecast_df_lat",
   "id": "45393fbae5424c2f",
   "outputs": [
    {
     "data": {
      "text/plain": [
       "              unique_id                  ds   timesfm  timesfm-q-0.1  \\\n",
       "0   1380694967620000451 2013-10-02 08:23:47  1.002002       0.998792   \n",
       "1   1380694967620000451 2013-10-02 08:24:02  1.003342       1.002115   \n",
       "2   1380694967620000451 2013-10-02 08:24:17  1.003994       1.003323   \n",
       "3   1380694967620000451 2013-10-02 08:24:32  1.004757       1.004993   \n",
       "4   1380694967620000451 2013-10-02 08:24:47  1.003018       1.000515   \n",
       "5   1380694967620000451 2013-10-02 08:25:02  1.005051       1.000298   \n",
       "6   1380694967620000451 2013-10-02 08:25:17  1.003945       0.997551   \n",
       "7   1380694967620000451 2013-10-02 08:25:32  1.002998       0.997237   \n",
       "8   1380694967620000451 2013-10-02 08:25:47  1.001682       0.995457   \n",
       "9   1380694967620000451 2013-10-02 08:26:02  1.003420       0.997872   \n",
       "10  1380694967620000451 2013-10-02 08:26:17  1.000096       0.993000   \n",
       "11  1380694967620000451 2013-10-02 08:26:32  1.001313       0.993820   \n",
       "12  1380694967620000451 2013-10-02 08:26:47  1.000448       0.991145   \n",
       "13  1380694967620000451 2013-10-02 08:27:02  1.002007       0.991645   \n",
       "14  1380694967620000451 2013-10-02 08:27:17  1.000458       0.989060   \n",
       "15  1380694967620000451 2013-10-02 08:27:32  1.001022       0.988007   \n",
       "16  1380694967620000451 2013-10-02 08:27:47  0.999427       0.985192   \n",
       "17  1380694967620000451 2013-10-02 08:28:02  1.000195       0.984459   \n",
       "18  1380694967620000451 2013-10-02 08:28:17  1.002341       0.984431   \n",
       "19  1380694967620000451 2013-10-02 08:28:32  1.002850       0.985594   \n",
       "20  1398764351620000197 2014-04-29 11:39:41  0.980327       0.978570   \n",
       "21  1398764351620000197 2014-04-29 11:39:56  0.980808       0.978218   \n",
       "22  1398764351620000197 2014-04-29 11:40:11  0.981295       0.978385   \n",
       "23  1398764351620000197 2014-04-29 11:40:26  0.980935       0.976633   \n",
       "24  1398764351620000197 2014-04-29 11:40:41  0.980736       0.974989   \n",
       "25  1398764351620000197 2014-04-29 11:40:56  0.981072       0.973751   \n",
       "26  1398764351620000197 2014-04-29 11:41:11  0.980692       0.972167   \n",
       "27  1398764351620000197 2014-04-29 11:41:26  0.980798       0.970738   \n",
       "28  1398764351620000197 2014-04-29 11:41:41  0.980733       0.969574   \n",
       "29  1398764351620000197 2014-04-29 11:41:56  0.980394       0.967497   \n",
       "30  1398764351620000197 2014-04-29 11:42:11  0.980086       0.966110   \n",
       "31  1398764351620000197 2014-04-29 11:42:26  0.980201       0.964782   \n",
       "32  1398764351620000197 2014-04-29 11:42:41  0.980123       0.962930   \n",
       "33  1398764351620000197 2014-04-29 11:42:56  0.980031       0.961414   \n",
       "34  1398764351620000197 2014-04-29 11:43:11  0.979533       0.959686   \n",
       "35  1398764351620000197 2014-04-29 11:43:26  0.979009       0.957345   \n",
       "36  1398764351620000197 2014-04-29 11:43:41  0.978998       0.956486   \n",
       "37  1398764351620000197 2014-04-29 11:43:56  0.978597       0.954891   \n",
       "38  1398764351620000197 2014-04-29 11:44:11  0.978489       0.953967   \n",
       "39  1398764351620000197 2014-04-29 11:44:26  0.978275       0.952935   \n",
       "\n",
       "    timesfm-q-0.2  timesfm-q-0.3  timesfm-q-0.4  timesfm-q-0.5  timesfm-q-0.6  \\\n",
       "0        1.000572       1.001706       1.001619       1.002002       1.002470   \n",
       "1        1.001543       1.003023       1.002688       1.003342       1.004027   \n",
       "2        1.003997       1.003771       1.003966       1.003994       1.004606   \n",
       "3        1.004845       1.004938       1.005038       1.004757       1.006084   \n",
       "4        1.001689       1.002121       1.003525       1.003018       1.003676   \n",
       "5        1.002975       1.003630       1.004220       1.005051       1.005887   \n",
       "6        1.000833       1.002015       1.002854       1.003945       1.004397   \n",
       "7        1.000352       1.001286       1.002049       1.002998       1.003058   \n",
       "8        0.998323       0.999876       1.000590       1.001682       1.002451   \n",
       "9        1.001167       1.002460       1.002897       1.003420       1.004076   \n",
       "10       0.997002       0.998988       0.999643       1.000096       1.000646   \n",
       "11       0.998229       0.999670       1.000549       1.001313       1.002735   \n",
       "12       0.996092       0.998610       0.999158       1.000448       1.001526   \n",
       "13       0.998082       0.999883       1.001159       1.002007       1.002759   \n",
       "14       0.995382       0.998021       0.998747       1.000458       1.001342   \n",
       "15       0.995414       0.997855       0.999886       1.001022       1.001966   \n",
       "16       0.992891       0.996314       0.997757       0.999427       1.001017   \n",
       "17       0.993866       0.997687       0.999201       1.000195       1.002396   \n",
       "18       0.994770       0.998131       1.000628       1.002341       1.004006   \n",
       "19       0.995428       0.999745       1.001719       1.002850       1.004174   \n",
       "20       0.979704       0.980123       0.980266       0.980327       0.980406   \n",
       "21       0.979588       0.980446       0.980650       0.980808       0.980968   \n",
       "22       0.980290       0.980961       0.981196       0.981295       0.981332   \n",
       "23       0.979172       0.980340       0.980778       0.980935       0.981191   \n",
       "24       0.978276       0.979768       0.980569       0.980736       0.981006   \n",
       "25       0.977770       0.979643       0.980588       0.981072       0.981371   \n",
       "26       0.976856       0.979001       0.980091       0.980692       0.981058   \n",
       "27       0.976061       0.978686       0.980034       0.980798       0.981233   \n",
       "28       0.975435       0.978349       0.979880       0.980733       0.981187   \n",
       "29       0.974242       0.977598       0.979421       0.980394       0.980915   \n",
       "30       0.973391       0.976993       0.979040       0.980086       0.980695   \n",
       "31       0.972628       0.976645       0.978997       0.980201       0.981028   \n",
       "32       0.971464       0.976107       0.978634       0.980123       0.981002   \n",
       "33       0.970713       0.975661       0.978483       0.980031       0.980961   \n",
       "34       0.969529       0.974729       0.977736       0.979533       0.980476   \n",
       "35       0.968032       0.973662       0.977166       0.979009       0.980123   \n",
       "36       0.967359       0.973410       0.976901       0.978998       0.980182   \n",
       "37       0.966429       0.972766       0.976438       0.978597       0.980000   \n",
       "38       0.965922       0.972309       0.976215       0.978489       0.979952   \n",
       "39       0.965144       0.971985       0.975973       0.978275       0.979701   \n",
       "\n",
       "    timesfm-q-0.7  timesfm-q-0.8  timesfm-q-0.9  \n",
       "0        1.002551       1.003782       1.005085  \n",
       "1        1.003612       1.005653       1.005245  \n",
       "2        1.004648       1.006028       1.005628  \n",
       "3        1.006519       1.007185       1.007197  \n",
       "4        1.004475       1.005361       1.005590  \n",
       "5        1.006539       1.007014       1.006649  \n",
       "6        1.005160       1.006108       1.006314  \n",
       "7        1.003914       1.004443       1.005529  \n",
       "8        1.003099       1.004197       1.005447  \n",
       "9        1.005812       1.005649       1.007441  \n",
       "10       1.002358       1.003243       1.004465  \n",
       "11       1.002912       1.004591       1.005781  \n",
       "12       1.002699       1.003787       1.004305  \n",
       "13       1.004242       1.005003       1.005789  \n",
       "14       1.002722       1.003832       1.004345  \n",
       "15       1.003605       1.004491       1.005291  \n",
       "16       1.002568       1.003693       1.005538  \n",
       "17       1.003658       1.005060       1.006392  \n",
       "18       1.005159       1.007143       1.009327  \n",
       "19       1.006068       1.007171       1.008163  \n",
       "20       0.980332       0.980670       0.981478  \n",
       "21       0.980841       0.981464       0.982229  \n",
       "22       0.981144       0.981605       0.982358  \n",
       "23       0.981155       0.981648       0.982543  \n",
       "24       0.981032       0.981601       0.982657  \n",
       "25       0.981529       0.982003       0.983171  \n",
       "26       0.981206       0.981905       0.983113  \n",
       "27       0.981471       0.982359       0.983888  \n",
       "28       0.981562       0.982370       0.983927  \n",
       "29       0.981480       0.982286       0.984005  \n",
       "30       0.981183       0.982083       0.983784  \n",
       "31       0.981448       0.982518       0.984308  \n",
       "32       0.981598       0.982649       0.984410  \n",
       "33       0.981634       0.982666       0.984412  \n",
       "34       0.981127       0.982102       0.983720  \n",
       "35       0.980879       0.981853       0.983463  \n",
       "36       0.980892       0.981828       0.983527  \n",
       "37       0.980776       0.981927       0.983581  \n",
       "38       0.980632       0.981808       0.983545  \n",
       "39       0.980609       0.981789       0.983349  "
      ],
      "text/html": [
       "<div>\n",
       "<style scoped>\n",
       "    .dataframe tbody tr th:only-of-type {\n",
       "        vertical-align: middle;\n",
       "    }\n",
       "\n",
       "    .dataframe tbody tr th {\n",
       "        vertical-align: top;\n",
       "    }\n",
       "\n",
       "    .dataframe thead th {\n",
       "        text-align: right;\n",
       "    }\n",
       "</style>\n",
       "<table border=\"1\" class=\"dataframe\">\n",
       "  <thead>\n",
       "    <tr style=\"text-align: right;\">\n",
       "      <th></th>\n",
       "      <th>unique_id</th>\n",
       "      <th>ds</th>\n",
       "      <th>timesfm</th>\n",
       "      <th>timesfm-q-0.1</th>\n",
       "      <th>timesfm-q-0.2</th>\n",
       "      <th>timesfm-q-0.3</th>\n",
       "      <th>timesfm-q-0.4</th>\n",
       "      <th>timesfm-q-0.5</th>\n",
       "      <th>timesfm-q-0.6</th>\n",
       "      <th>timesfm-q-0.7</th>\n",
       "      <th>timesfm-q-0.8</th>\n",
       "      <th>timesfm-q-0.9</th>\n",
       "    </tr>\n",
       "  </thead>\n",
       "  <tbody>\n",
       "    <tr>\n",
       "      <th>0</th>\n",
       "      <td>1380694967620000451</td>\n",
       "      <td>2013-10-02 08:23:47</td>\n",
       "      <td>1.002002</td>\n",
       "      <td>0.998792</td>\n",
       "      <td>1.000572</td>\n",
       "      <td>1.001706</td>\n",
       "      <td>1.001619</td>\n",
       "      <td>1.002002</td>\n",
       "      <td>1.002470</td>\n",
       "      <td>1.002551</td>\n",
       "      <td>1.003782</td>\n",
       "      <td>1.005085</td>\n",
       "    </tr>\n",
       "    <tr>\n",
       "      <th>1</th>\n",
       "      <td>1380694967620000451</td>\n",
       "      <td>2013-10-02 08:24:02</td>\n",
       "      <td>1.003342</td>\n",
       "      <td>1.002115</td>\n",
       "      <td>1.001543</td>\n",
       "      <td>1.003023</td>\n",
       "      <td>1.002688</td>\n",
       "      <td>1.003342</td>\n",
       "      <td>1.004027</td>\n",
       "      <td>1.003612</td>\n",
       "      <td>1.005653</td>\n",
       "      <td>1.005245</td>\n",
       "    </tr>\n",
       "    <tr>\n",
       "      <th>2</th>\n",
       "      <td>1380694967620000451</td>\n",
       "      <td>2013-10-02 08:24:17</td>\n",
       "      <td>1.003994</td>\n",
       "      <td>1.003323</td>\n",
       "      <td>1.003997</td>\n",
       "      <td>1.003771</td>\n",
       "      <td>1.003966</td>\n",
       "      <td>1.003994</td>\n",
       "      <td>1.004606</td>\n",
       "      <td>1.004648</td>\n",
       "      <td>1.006028</td>\n",
       "      <td>1.005628</td>\n",
       "    </tr>\n",
       "    <tr>\n",
       "      <th>3</th>\n",
       "      <td>1380694967620000451</td>\n",
       "      <td>2013-10-02 08:24:32</td>\n",
       "      <td>1.004757</td>\n",
       "      <td>1.004993</td>\n",
       "      <td>1.004845</td>\n",
       "      <td>1.004938</td>\n",
       "      <td>1.005038</td>\n",
       "      <td>1.004757</td>\n",
       "      <td>1.006084</td>\n",
       "      <td>1.006519</td>\n",
       "      <td>1.007185</td>\n",
       "      <td>1.007197</td>\n",
       "    </tr>\n",
       "    <tr>\n",
       "      <th>4</th>\n",
       "      <td>1380694967620000451</td>\n",
       "      <td>2013-10-02 08:24:47</td>\n",
       "      <td>1.003018</td>\n",
       "      <td>1.000515</td>\n",
       "      <td>1.001689</td>\n",
       "      <td>1.002121</td>\n",
       "      <td>1.003525</td>\n",
       "      <td>1.003018</td>\n",
       "      <td>1.003676</td>\n",
       "      <td>1.004475</td>\n",
       "      <td>1.005361</td>\n",
       "      <td>1.005590</td>\n",
       "    </tr>\n",
       "    <tr>\n",
       "      <th>5</th>\n",
       "      <td>1380694967620000451</td>\n",
       "      <td>2013-10-02 08:25:02</td>\n",
       "      <td>1.005051</td>\n",
       "      <td>1.000298</td>\n",
       "      <td>1.002975</td>\n",
       "      <td>1.003630</td>\n",
       "      <td>1.004220</td>\n",
       "      <td>1.005051</td>\n",
       "      <td>1.005887</td>\n",
       "      <td>1.006539</td>\n",
       "      <td>1.007014</td>\n",
       "      <td>1.006649</td>\n",
       "    </tr>\n",
       "    <tr>\n",
       "      <th>6</th>\n",
       "      <td>1380694967620000451</td>\n",
       "      <td>2013-10-02 08:25:17</td>\n",
       "      <td>1.003945</td>\n",
       "      <td>0.997551</td>\n",
       "      <td>1.000833</td>\n",
       "      <td>1.002015</td>\n",
       "      <td>1.002854</td>\n",
       "      <td>1.003945</td>\n",
       "      <td>1.004397</td>\n",
       "      <td>1.005160</td>\n",
       "      <td>1.006108</td>\n",
       "      <td>1.006314</td>\n",
       "    </tr>\n",
       "    <tr>\n",
       "      <th>7</th>\n",
       "      <td>1380694967620000451</td>\n",
       "      <td>2013-10-02 08:25:32</td>\n",
       "      <td>1.002998</td>\n",
       "      <td>0.997237</td>\n",
       "      <td>1.000352</td>\n",
       "      <td>1.001286</td>\n",
       "      <td>1.002049</td>\n",
       "      <td>1.002998</td>\n",
       "      <td>1.003058</td>\n",
       "      <td>1.003914</td>\n",
       "      <td>1.004443</td>\n",
       "      <td>1.005529</td>\n",
       "    </tr>\n",
       "    <tr>\n",
       "      <th>8</th>\n",
       "      <td>1380694967620000451</td>\n",
       "      <td>2013-10-02 08:25:47</td>\n",
       "      <td>1.001682</td>\n",
       "      <td>0.995457</td>\n",
       "      <td>0.998323</td>\n",
       "      <td>0.999876</td>\n",
       "      <td>1.000590</td>\n",
       "      <td>1.001682</td>\n",
       "      <td>1.002451</td>\n",
       "      <td>1.003099</td>\n",
       "      <td>1.004197</td>\n",
       "      <td>1.005447</td>\n",
       "    </tr>\n",
       "    <tr>\n",
       "      <th>9</th>\n",
       "      <td>1380694967620000451</td>\n",
       "      <td>2013-10-02 08:26:02</td>\n",
       "      <td>1.003420</td>\n",
       "      <td>0.997872</td>\n",
       "      <td>1.001167</td>\n",
       "      <td>1.002460</td>\n",
       "      <td>1.002897</td>\n",
       "      <td>1.003420</td>\n",
       "      <td>1.004076</td>\n",
       "      <td>1.005812</td>\n",
       "      <td>1.005649</td>\n",
       "      <td>1.007441</td>\n",
       "    </tr>\n",
       "    <tr>\n",
       "      <th>10</th>\n",
       "      <td>1380694967620000451</td>\n",
       "      <td>2013-10-02 08:26:17</td>\n",
       "      <td>1.000096</td>\n",
       "      <td>0.993000</td>\n",
       "      <td>0.997002</td>\n",
       "      <td>0.998988</td>\n",
       "      <td>0.999643</td>\n",
       "      <td>1.000096</td>\n",
       "      <td>1.000646</td>\n",
       "      <td>1.002358</td>\n",
       "      <td>1.003243</td>\n",
       "      <td>1.004465</td>\n",
       "    </tr>\n",
       "    <tr>\n",
       "      <th>11</th>\n",
       "      <td>1380694967620000451</td>\n",
       "      <td>2013-10-02 08:26:32</td>\n",
       "      <td>1.001313</td>\n",
       "      <td>0.993820</td>\n",
       "      <td>0.998229</td>\n",
       "      <td>0.999670</td>\n",
       "      <td>1.000549</td>\n",
       "      <td>1.001313</td>\n",
       "      <td>1.002735</td>\n",
       "      <td>1.002912</td>\n",
       "      <td>1.004591</td>\n",
       "      <td>1.005781</td>\n",
       "    </tr>\n",
       "    <tr>\n",
       "      <th>12</th>\n",
       "      <td>1380694967620000451</td>\n",
       "      <td>2013-10-02 08:26:47</td>\n",
       "      <td>1.000448</td>\n",
       "      <td>0.991145</td>\n",
       "      <td>0.996092</td>\n",
       "      <td>0.998610</td>\n",
       "      <td>0.999158</td>\n",
       "      <td>1.000448</td>\n",
       "      <td>1.001526</td>\n",
       "      <td>1.002699</td>\n",
       "      <td>1.003787</td>\n",
       "      <td>1.004305</td>\n",
       "    </tr>\n",
       "    <tr>\n",
       "      <th>13</th>\n",
       "      <td>1380694967620000451</td>\n",
       "      <td>2013-10-02 08:27:02</td>\n",
       "      <td>1.002007</td>\n",
       "      <td>0.991645</td>\n",
       "      <td>0.998082</td>\n",
       "      <td>0.999883</td>\n",
       "      <td>1.001159</td>\n",
       "      <td>1.002007</td>\n",
       "      <td>1.002759</td>\n",
       "      <td>1.004242</td>\n",
       "      <td>1.005003</td>\n",
       "      <td>1.005789</td>\n",
       "    </tr>\n",
       "    <tr>\n",
       "      <th>14</th>\n",
       "      <td>1380694967620000451</td>\n",
       "      <td>2013-10-02 08:27:17</td>\n",
       "      <td>1.000458</td>\n",
       "      <td>0.989060</td>\n",
       "      <td>0.995382</td>\n",
       "      <td>0.998021</td>\n",
       "      <td>0.998747</td>\n",
       "      <td>1.000458</td>\n",
       "      <td>1.001342</td>\n",
       "      <td>1.002722</td>\n",
       "      <td>1.003832</td>\n",
       "      <td>1.004345</td>\n",
       "    </tr>\n",
       "    <tr>\n",
       "      <th>15</th>\n",
       "      <td>1380694967620000451</td>\n",
       "      <td>2013-10-02 08:27:32</td>\n",
       "      <td>1.001022</td>\n",
       "      <td>0.988007</td>\n",
       "      <td>0.995414</td>\n",
       "      <td>0.997855</td>\n",
       "      <td>0.999886</td>\n",
       "      <td>1.001022</td>\n",
       "      <td>1.001966</td>\n",
       "      <td>1.003605</td>\n",
       "      <td>1.004491</td>\n",
       "      <td>1.005291</td>\n",
       "    </tr>\n",
       "    <tr>\n",
       "      <th>16</th>\n",
       "      <td>1380694967620000451</td>\n",
       "      <td>2013-10-02 08:27:47</td>\n",
       "      <td>0.999427</td>\n",
       "      <td>0.985192</td>\n",
       "      <td>0.992891</td>\n",
       "      <td>0.996314</td>\n",
       "      <td>0.997757</td>\n",
       "      <td>0.999427</td>\n",
       "      <td>1.001017</td>\n",
       "      <td>1.002568</td>\n",
       "      <td>1.003693</td>\n",
       "      <td>1.005538</td>\n",
       "    </tr>\n",
       "    <tr>\n",
       "      <th>17</th>\n",
       "      <td>1380694967620000451</td>\n",
       "      <td>2013-10-02 08:28:02</td>\n",
       "      <td>1.000195</td>\n",
       "      <td>0.984459</td>\n",
       "      <td>0.993866</td>\n",
       "      <td>0.997687</td>\n",
       "      <td>0.999201</td>\n",
       "      <td>1.000195</td>\n",
       "      <td>1.002396</td>\n",
       "      <td>1.003658</td>\n",
       "      <td>1.005060</td>\n",
       "      <td>1.006392</td>\n",
       "    </tr>\n",
       "    <tr>\n",
       "      <th>18</th>\n",
       "      <td>1380694967620000451</td>\n",
       "      <td>2013-10-02 08:28:17</td>\n",
       "      <td>1.002341</td>\n",
       "      <td>0.984431</td>\n",
       "      <td>0.994770</td>\n",
       "      <td>0.998131</td>\n",
       "      <td>1.000628</td>\n",
       "      <td>1.002341</td>\n",
       "      <td>1.004006</td>\n",
       "      <td>1.005159</td>\n",
       "      <td>1.007143</td>\n",
       "      <td>1.009327</td>\n",
       "    </tr>\n",
       "    <tr>\n",
       "      <th>19</th>\n",
       "      <td>1380694967620000451</td>\n",
       "      <td>2013-10-02 08:28:32</td>\n",
       "      <td>1.002850</td>\n",
       "      <td>0.985594</td>\n",
       "      <td>0.995428</td>\n",
       "      <td>0.999745</td>\n",
       "      <td>1.001719</td>\n",
       "      <td>1.002850</td>\n",
       "      <td>1.004174</td>\n",
       "      <td>1.006068</td>\n",
       "      <td>1.007171</td>\n",
       "      <td>1.008163</td>\n",
       "    </tr>\n",
       "    <tr>\n",
       "      <th>20</th>\n",
       "      <td>1398764351620000197</td>\n",
       "      <td>2014-04-29 11:39:41</td>\n",
       "      <td>0.980327</td>\n",
       "      <td>0.978570</td>\n",
       "      <td>0.979704</td>\n",
       "      <td>0.980123</td>\n",
       "      <td>0.980266</td>\n",
       "      <td>0.980327</td>\n",
       "      <td>0.980406</td>\n",
       "      <td>0.980332</td>\n",
       "      <td>0.980670</td>\n",
       "      <td>0.981478</td>\n",
       "    </tr>\n",
       "    <tr>\n",
       "      <th>21</th>\n",
       "      <td>1398764351620000197</td>\n",
       "      <td>2014-04-29 11:39:56</td>\n",
       "      <td>0.980808</td>\n",
       "      <td>0.978218</td>\n",
       "      <td>0.979588</td>\n",
       "      <td>0.980446</td>\n",
       "      <td>0.980650</td>\n",
       "      <td>0.980808</td>\n",
       "      <td>0.980968</td>\n",
       "      <td>0.980841</td>\n",
       "      <td>0.981464</td>\n",
       "      <td>0.982229</td>\n",
       "    </tr>\n",
       "    <tr>\n",
       "      <th>22</th>\n",
       "      <td>1398764351620000197</td>\n",
       "      <td>2014-04-29 11:40:11</td>\n",
       "      <td>0.981295</td>\n",
       "      <td>0.978385</td>\n",
       "      <td>0.980290</td>\n",
       "      <td>0.980961</td>\n",
       "      <td>0.981196</td>\n",
       "      <td>0.981295</td>\n",
       "      <td>0.981332</td>\n",
       "      <td>0.981144</td>\n",
       "      <td>0.981605</td>\n",
       "      <td>0.982358</td>\n",
       "    </tr>\n",
       "    <tr>\n",
       "      <th>23</th>\n",
       "      <td>1398764351620000197</td>\n",
       "      <td>2014-04-29 11:40:26</td>\n",
       "      <td>0.980935</td>\n",
       "      <td>0.976633</td>\n",
       "      <td>0.979172</td>\n",
       "      <td>0.980340</td>\n",
       "      <td>0.980778</td>\n",
       "      <td>0.980935</td>\n",
       "      <td>0.981191</td>\n",
       "      <td>0.981155</td>\n",
       "      <td>0.981648</td>\n",
       "      <td>0.982543</td>\n",
       "    </tr>\n",
       "    <tr>\n",
       "      <th>24</th>\n",
       "      <td>1398764351620000197</td>\n",
       "      <td>2014-04-29 11:40:41</td>\n",
       "      <td>0.980736</td>\n",
       "      <td>0.974989</td>\n",
       "      <td>0.978276</td>\n",
       "      <td>0.979768</td>\n",
       "      <td>0.980569</td>\n",
       "      <td>0.980736</td>\n",
       "      <td>0.981006</td>\n",
       "      <td>0.981032</td>\n",
       "      <td>0.981601</td>\n",
       "      <td>0.982657</td>\n",
       "    </tr>\n",
       "    <tr>\n",
       "      <th>25</th>\n",
       "      <td>1398764351620000197</td>\n",
       "      <td>2014-04-29 11:40:56</td>\n",
       "      <td>0.981072</td>\n",
       "      <td>0.973751</td>\n",
       "      <td>0.977770</td>\n",
       "      <td>0.979643</td>\n",
       "      <td>0.980588</td>\n",
       "      <td>0.981072</td>\n",
       "      <td>0.981371</td>\n",
       "      <td>0.981529</td>\n",
       "      <td>0.982003</td>\n",
       "      <td>0.983171</td>\n",
       "    </tr>\n",
       "    <tr>\n",
       "      <th>26</th>\n",
       "      <td>1398764351620000197</td>\n",
       "      <td>2014-04-29 11:41:11</td>\n",
       "      <td>0.980692</td>\n",
       "      <td>0.972167</td>\n",
       "      <td>0.976856</td>\n",
       "      <td>0.979001</td>\n",
       "      <td>0.980091</td>\n",
       "      <td>0.980692</td>\n",
       "      <td>0.981058</td>\n",
       "      <td>0.981206</td>\n",
       "      <td>0.981905</td>\n",
       "      <td>0.983113</td>\n",
       "    </tr>\n",
       "    <tr>\n",
       "      <th>27</th>\n",
       "      <td>1398764351620000197</td>\n",
       "      <td>2014-04-29 11:41:26</td>\n",
       "      <td>0.980798</td>\n",
       "      <td>0.970738</td>\n",
       "      <td>0.976061</td>\n",
       "      <td>0.978686</td>\n",
       "      <td>0.980034</td>\n",
       "      <td>0.980798</td>\n",
       "      <td>0.981233</td>\n",
       "      <td>0.981471</td>\n",
       "      <td>0.982359</td>\n",
       "      <td>0.983888</td>\n",
       "    </tr>\n",
       "    <tr>\n",
       "      <th>28</th>\n",
       "      <td>1398764351620000197</td>\n",
       "      <td>2014-04-29 11:41:41</td>\n",
       "      <td>0.980733</td>\n",
       "      <td>0.969574</td>\n",
       "      <td>0.975435</td>\n",
       "      <td>0.978349</td>\n",
       "      <td>0.979880</td>\n",
       "      <td>0.980733</td>\n",
       "      <td>0.981187</td>\n",
       "      <td>0.981562</td>\n",
       "      <td>0.982370</td>\n",
       "      <td>0.983927</td>\n",
       "    </tr>\n",
       "    <tr>\n",
       "      <th>29</th>\n",
       "      <td>1398764351620000197</td>\n",
       "      <td>2014-04-29 11:41:56</td>\n",
       "      <td>0.980394</td>\n",
       "      <td>0.967497</td>\n",
       "      <td>0.974242</td>\n",
       "      <td>0.977598</td>\n",
       "      <td>0.979421</td>\n",
       "      <td>0.980394</td>\n",
       "      <td>0.980915</td>\n",
       "      <td>0.981480</td>\n",
       "      <td>0.982286</td>\n",
       "      <td>0.984005</td>\n",
       "    </tr>\n",
       "    <tr>\n",
       "      <th>30</th>\n",
       "      <td>1398764351620000197</td>\n",
       "      <td>2014-04-29 11:42:11</td>\n",
       "      <td>0.980086</td>\n",
       "      <td>0.966110</td>\n",
       "      <td>0.973391</td>\n",
       "      <td>0.976993</td>\n",
       "      <td>0.979040</td>\n",
       "      <td>0.980086</td>\n",
       "      <td>0.980695</td>\n",
       "      <td>0.981183</td>\n",
       "      <td>0.982083</td>\n",
       "      <td>0.983784</td>\n",
       "    </tr>\n",
       "    <tr>\n",
       "      <th>31</th>\n",
       "      <td>1398764351620000197</td>\n",
       "      <td>2014-04-29 11:42:26</td>\n",
       "      <td>0.980201</td>\n",
       "      <td>0.964782</td>\n",
       "      <td>0.972628</td>\n",
       "      <td>0.976645</td>\n",
       "      <td>0.978997</td>\n",
       "      <td>0.980201</td>\n",
       "      <td>0.981028</td>\n",
       "      <td>0.981448</td>\n",
       "      <td>0.982518</td>\n",
       "      <td>0.984308</td>\n",
       "    </tr>\n",
       "    <tr>\n",
       "      <th>32</th>\n",
       "      <td>1398764351620000197</td>\n",
       "      <td>2014-04-29 11:42:41</td>\n",
       "      <td>0.980123</td>\n",
       "      <td>0.962930</td>\n",
       "      <td>0.971464</td>\n",
       "      <td>0.976107</td>\n",
       "      <td>0.978634</td>\n",
       "      <td>0.980123</td>\n",
       "      <td>0.981002</td>\n",
       "      <td>0.981598</td>\n",
       "      <td>0.982649</td>\n",
       "      <td>0.984410</td>\n",
       "    </tr>\n",
       "    <tr>\n",
       "      <th>33</th>\n",
       "      <td>1398764351620000197</td>\n",
       "      <td>2014-04-29 11:42:56</td>\n",
       "      <td>0.980031</td>\n",
       "      <td>0.961414</td>\n",
       "      <td>0.970713</td>\n",
       "      <td>0.975661</td>\n",
       "      <td>0.978483</td>\n",
       "      <td>0.980031</td>\n",
       "      <td>0.980961</td>\n",
       "      <td>0.981634</td>\n",
       "      <td>0.982666</td>\n",
       "      <td>0.984412</td>\n",
       "    </tr>\n",
       "    <tr>\n",
       "      <th>34</th>\n",
       "      <td>1398764351620000197</td>\n",
       "      <td>2014-04-29 11:43:11</td>\n",
       "      <td>0.979533</td>\n",
       "      <td>0.959686</td>\n",
       "      <td>0.969529</td>\n",
       "      <td>0.974729</td>\n",
       "      <td>0.977736</td>\n",
       "      <td>0.979533</td>\n",
       "      <td>0.980476</td>\n",
       "      <td>0.981127</td>\n",
       "      <td>0.982102</td>\n",
       "      <td>0.983720</td>\n",
       "    </tr>\n",
       "    <tr>\n",
       "      <th>35</th>\n",
       "      <td>1398764351620000197</td>\n",
       "      <td>2014-04-29 11:43:26</td>\n",
       "      <td>0.979009</td>\n",
       "      <td>0.957345</td>\n",
       "      <td>0.968032</td>\n",
       "      <td>0.973662</td>\n",
       "      <td>0.977166</td>\n",
       "      <td>0.979009</td>\n",
       "      <td>0.980123</td>\n",
       "      <td>0.980879</td>\n",
       "      <td>0.981853</td>\n",
       "      <td>0.983463</td>\n",
       "    </tr>\n",
       "    <tr>\n",
       "      <th>36</th>\n",
       "      <td>1398764351620000197</td>\n",
       "      <td>2014-04-29 11:43:41</td>\n",
       "      <td>0.978998</td>\n",
       "      <td>0.956486</td>\n",
       "      <td>0.967359</td>\n",
       "      <td>0.973410</td>\n",
       "      <td>0.976901</td>\n",
       "      <td>0.978998</td>\n",
       "      <td>0.980182</td>\n",
       "      <td>0.980892</td>\n",
       "      <td>0.981828</td>\n",
       "      <td>0.983527</td>\n",
       "    </tr>\n",
       "    <tr>\n",
       "      <th>37</th>\n",
       "      <td>1398764351620000197</td>\n",
       "      <td>2014-04-29 11:43:56</td>\n",
       "      <td>0.978597</td>\n",
       "      <td>0.954891</td>\n",
       "      <td>0.966429</td>\n",
       "      <td>0.972766</td>\n",
       "      <td>0.976438</td>\n",
       "      <td>0.978597</td>\n",
       "      <td>0.980000</td>\n",
       "      <td>0.980776</td>\n",
       "      <td>0.981927</td>\n",
       "      <td>0.983581</td>\n",
       "    </tr>\n",
       "    <tr>\n",
       "      <th>38</th>\n",
       "      <td>1398764351620000197</td>\n",
       "      <td>2014-04-29 11:44:11</td>\n",
       "      <td>0.978489</td>\n",
       "      <td>0.953967</td>\n",
       "      <td>0.965922</td>\n",
       "      <td>0.972309</td>\n",
       "      <td>0.976215</td>\n",
       "      <td>0.978489</td>\n",
       "      <td>0.979952</td>\n",
       "      <td>0.980632</td>\n",
       "      <td>0.981808</td>\n",
       "      <td>0.983545</td>\n",
       "    </tr>\n",
       "    <tr>\n",
       "      <th>39</th>\n",
       "      <td>1398764351620000197</td>\n",
       "      <td>2014-04-29 11:44:26</td>\n",
       "      <td>0.978275</td>\n",
       "      <td>0.952935</td>\n",
       "      <td>0.965144</td>\n",
       "      <td>0.971985</td>\n",
       "      <td>0.975973</td>\n",
       "      <td>0.978275</td>\n",
       "      <td>0.979701</td>\n",
       "      <td>0.980609</td>\n",
       "      <td>0.981789</td>\n",
       "      <td>0.983349</td>\n",
       "    </tr>\n",
       "  </tbody>\n",
       "</table>\n",
       "</div>"
      ]
     },
     "execution_count": 26,
     "metadata": {},
     "output_type": "execute_result"
    }
   ],
   "execution_count": 26
  },
  {
   "metadata": {
    "ExecuteTime": {
     "end_time": "2025-09-21T18:54:24.104726Z",
     "start_time": "2025-09-21T18:54:24.101012Z"
    }
   },
   "cell_type": "code",
   "source": "columns = ['timesfm-q-0.1', 'timesfm-q-0.2', 'timesfm-q-0.3', 'timesfm-q-0.4', 'timesfm-q-0.5', 'timesfm-q-0.6', 'timesfm-q-0.7', 'timesfm-q-0.8', 'timesfm-q-0.9']",
   "id": "ddc759e5de2c638d",
   "outputs": [],
   "execution_count": 27
  },
  {
   "metadata": {
    "ExecuteTime": {
     "end_time": "2025-09-21T18:54:24.170763Z",
     "start_time": "2025-09-21T18:54:24.151329Z"
    }
   },
   "cell_type": "code",
   "source": [
    "for column in columns:\n",
    "    forecast_df_lat[column] = scaler_lat.inverse_transform(forecast_df_lat[[column]])\n",
    "    forecast_df_lon[column] = scaler_lon.inverse_transform(forecast_df_lon[[column]])"
   ],
   "id": "82dd7cbf5aa99617",
   "outputs": [],
   "execution_count": 28
  },
  {
   "metadata": {
    "ExecuteTime": {
     "end_time": "2025-09-21T18:54:24.263558Z",
     "start_time": "2025-09-21T18:54:24.242806Z"
    }
   },
   "cell_type": "code",
   "source": [
    "forecast_df_lat = forecast_df_lat.sort_values(['unique_id', 'ds'])\n",
    "forecast_df_lat = forecast_df_lat.groupby('unique_id').tail(1)\n",
    "\n",
    "forecast_df_lon = forecast_df_lon.sort_values(['unique_id', 'ds'])\n",
    "forecast_df_lon = forecast_df_lon.groupby('unique_id').tail(1)"
   ],
   "id": "b2fda8e739fb7d89",
   "outputs": [],
   "execution_count": 29
  },
  {
   "metadata": {
    "ExecuteTime": {
     "end_time": "2025-09-21T18:54:24.294215Z",
     "start_time": "2025-09-21T18:54:24.286452Z"
    }
   },
   "cell_type": "code",
   "source": [
    "result_lat = df_lat_test.merge(forecast_df_lat, how='left', on=['unique_id'])\n",
    "result_lon = df_lon_test.merge(forecast_df_lon, how='left', on=['unique_id'])\n",
    "result = result_lat.merge(result_lon, how='left', on=['unique_id'])"
   ],
   "id": "3fa6cd2f9dc4851c",
   "outputs": [],
   "execution_count": 30
  },
  {
   "metadata": {
    "ExecuteTime": {
     "end_time": "2025-09-21T18:54:24.334222Z",
     "start_time": "2025-09-21T18:54:24.321210Z"
    }
   },
   "cell_type": "code",
   "source": "result",
   "id": "f2225daebef6cedd",
   "outputs": [
    {
     "data": {
      "text/plain": [
       "             unique_id      ds_x_x        LAT              ds_y_x  timesfm_x  \\\n",
       "0  1380694967620000451  1380702512  41.186565 2013-10-02 08:28:32   1.002850   \n",
       "1  1398764351620000197  1398771866  41.180859 2014-04-29 11:44:26   0.978275   \n",
       "\n",
       "   timesfm-q-0.1_x  timesfm-q-0.2_x  timesfm-q-0.3_x  timesfm-q-0.4_x  \\\n",
       "0        41.180862        41.184841        41.186588        41.187386   \n",
       "1        41.167648        41.172585        41.175354        41.176971   \n",
       "\n",
       "   timesfm-q-0.5_x  ...  timesfm_y  timesfm-q-0.1_y  timesfm-q-0.2_y  \\\n",
       "0        41.187843  ...   0.094514        -8.634988         -8.63288   \n",
       "1        41.177898  ...   0.392010        -8.586727         -8.58415   \n",
       "\n",
       "   timesfm-q-0.3_y  timesfm-q-0.4_y  timesfm-q-0.5_y timesfm-q-0.6_y  \\\n",
       "0        -8.631309        -8.629621        -8.627663       -8.625425   \n",
       "1        -8.582765        -8.582023        -8.581492       -8.581037   \n",
       "\n",
       "   timesfm-q-0.7_y  timesfm-q-0.8_y  timesfm-q-0.9_y  \n",
       "0        -8.622414        -8.618450        -8.612391  \n",
       "1        -8.580578        -8.580078        -8.579210  \n",
       "\n",
       "[2 rows x 27 columns]"
      ],
      "text/html": [
       "<div>\n",
       "<style scoped>\n",
       "    .dataframe tbody tr th:only-of-type {\n",
       "        vertical-align: middle;\n",
       "    }\n",
       "\n",
       "    .dataframe tbody tr th {\n",
       "        vertical-align: top;\n",
       "    }\n",
       "\n",
       "    .dataframe thead th {\n",
       "        text-align: right;\n",
       "    }\n",
       "</style>\n",
       "<table border=\"1\" class=\"dataframe\">\n",
       "  <thead>\n",
       "    <tr style=\"text-align: right;\">\n",
       "      <th></th>\n",
       "      <th>unique_id</th>\n",
       "      <th>ds_x_x</th>\n",
       "      <th>LAT</th>\n",
       "      <th>ds_y_x</th>\n",
       "      <th>timesfm_x</th>\n",
       "      <th>timesfm-q-0.1_x</th>\n",
       "      <th>timesfm-q-0.2_x</th>\n",
       "      <th>timesfm-q-0.3_x</th>\n",
       "      <th>timesfm-q-0.4_x</th>\n",
       "      <th>timesfm-q-0.5_x</th>\n",
       "      <th>...</th>\n",
       "      <th>timesfm_y</th>\n",
       "      <th>timesfm-q-0.1_y</th>\n",
       "      <th>timesfm-q-0.2_y</th>\n",
       "      <th>timesfm-q-0.3_y</th>\n",
       "      <th>timesfm-q-0.4_y</th>\n",
       "      <th>timesfm-q-0.5_y</th>\n",
       "      <th>timesfm-q-0.6_y</th>\n",
       "      <th>timesfm-q-0.7_y</th>\n",
       "      <th>timesfm-q-0.8_y</th>\n",
       "      <th>timesfm-q-0.9_y</th>\n",
       "    </tr>\n",
       "  </thead>\n",
       "  <tbody>\n",
       "    <tr>\n",
       "      <th>0</th>\n",
       "      <td>1380694967620000451</td>\n",
       "      <td>1380702512</td>\n",
       "      <td>41.186565</td>\n",
       "      <td>2013-10-02 08:28:32</td>\n",
       "      <td>1.002850</td>\n",
       "      <td>41.180862</td>\n",
       "      <td>41.184841</td>\n",
       "      <td>41.186588</td>\n",
       "      <td>41.187386</td>\n",
       "      <td>41.187843</td>\n",
       "      <td>...</td>\n",
       "      <td>0.094514</td>\n",
       "      <td>-8.634988</td>\n",
       "      <td>-8.63288</td>\n",
       "      <td>-8.631309</td>\n",
       "      <td>-8.629621</td>\n",
       "      <td>-8.627663</td>\n",
       "      <td>-8.625425</td>\n",
       "      <td>-8.622414</td>\n",
       "      <td>-8.618450</td>\n",
       "      <td>-8.612391</td>\n",
       "    </tr>\n",
       "    <tr>\n",
       "      <th>1</th>\n",
       "      <td>1398764351620000197</td>\n",
       "      <td>1398771866</td>\n",
       "      <td>41.180859</td>\n",
       "      <td>2014-04-29 11:44:26</td>\n",
       "      <td>0.978275</td>\n",
       "      <td>41.167648</td>\n",
       "      <td>41.172585</td>\n",
       "      <td>41.175354</td>\n",
       "      <td>41.176971</td>\n",
       "      <td>41.177898</td>\n",
       "      <td>...</td>\n",
       "      <td>0.392010</td>\n",
       "      <td>-8.586727</td>\n",
       "      <td>-8.58415</td>\n",
       "      <td>-8.582765</td>\n",
       "      <td>-8.582023</td>\n",
       "      <td>-8.581492</td>\n",
       "      <td>-8.581037</td>\n",
       "      <td>-8.580578</td>\n",
       "      <td>-8.580078</td>\n",
       "      <td>-8.579210</td>\n",
       "    </tr>\n",
       "  </tbody>\n",
       "</table>\n",
       "<p>2 rows × 27 columns</p>\n",
       "</div>"
      ]
     },
     "execution_count": 31,
     "metadata": {},
     "output_type": "execute_result"
    }
   ],
   "execution_count": 31
  },
  {
   "metadata": {
    "ExecuteTime": {
     "end_time": "2025-09-21T18:54:24.401171Z",
     "start_time": "2025-09-21T18:54:24.395192Z"
    }
   },
   "cell_type": "code",
   "source": "df_lat_test",
   "id": "49054dc6e70aea13",
   "outputs": [
    {
     "data": {
      "text/plain": [
       "                    unique_id          ds        LAT\n",
       "index                                               \n",
       "20214777  1380694967620000451  1380702512  41.186565\n",
       "67580734  1398764351620000197  1398771866  41.180859"
      ],
      "text/html": [
       "<div>\n",
       "<style scoped>\n",
       "    .dataframe tbody tr th:only-of-type {\n",
       "        vertical-align: middle;\n",
       "    }\n",
       "\n",
       "    .dataframe tbody tr th {\n",
       "        vertical-align: top;\n",
       "    }\n",
       "\n",
       "    .dataframe thead th {\n",
       "        text-align: right;\n",
       "    }\n",
       "</style>\n",
       "<table border=\"1\" class=\"dataframe\">\n",
       "  <thead>\n",
       "    <tr style=\"text-align: right;\">\n",
       "      <th></th>\n",
       "      <th>unique_id</th>\n",
       "      <th>ds</th>\n",
       "      <th>LAT</th>\n",
       "    </tr>\n",
       "    <tr>\n",
       "      <th>index</th>\n",
       "      <th></th>\n",
       "      <th></th>\n",
       "      <th></th>\n",
       "    </tr>\n",
       "  </thead>\n",
       "  <tbody>\n",
       "    <tr>\n",
       "      <th>20214777</th>\n",
       "      <td>1380694967620000451</td>\n",
       "      <td>1380702512</td>\n",
       "      <td>41.186565</td>\n",
       "    </tr>\n",
       "    <tr>\n",
       "      <th>67580734</th>\n",
       "      <td>1398764351620000197</td>\n",
       "      <td>1398771866</td>\n",
       "      <td>41.180859</td>\n",
       "    </tr>\n",
       "  </tbody>\n",
       "</table>\n",
       "</div>"
      ]
     },
     "execution_count": 32,
     "metadata": {},
     "output_type": "execute_result"
    }
   ],
   "execution_count": 32
  },
  {
   "metadata": {
    "ExecuteTime": {
     "end_time": "2025-09-21T18:54:24.457143Z",
     "start_time": "2025-09-21T18:54:24.448061Z"
    }
   },
   "cell_type": "code",
   "source": [
    "for col in columns:\n",
    "    result[f'DISTANCE_DELTA_SEPARATED_{col}'] = result.apply(lambda row: haversine_distance(\n",
    "    row['LAT'], row['LON'], row[f'{col}_x'], row[f'{col}_y']), axis=1)"
   ],
   "id": "e6c4b64c066ba7f4",
   "outputs": [],
   "execution_count": 33
  },
  {
   "metadata": {
    "ExecuteTime": {
     "end_time": "2025-09-21T18:54:24.631679Z",
     "start_time": "2025-09-21T18:54:24.625942Z"
    }
   },
   "cell_type": "code",
   "source": [
    "for col in columns:\n",
    "    print(f\"Column: {col}   Mean: {result[f'DISTANCE_DELTA_SEPARATED_{col}'].mean()}    Median: {result[f'DISTANCE_DELTA_SEPARATED_{col}'].median()}\")"
   ],
   "id": "5b99a14cdb92b324",
   "outputs": [
    {
     "name": "stdout",
     "output_type": "stream",
     "text": [
      "Column: timesfm-q-0.1   Mean: 1.0921882701346464    Median: 1.0921882701346464\n",
      "Column: timesfm-q-0.2   Mean: 0.56445734842757    Median: 0.56445734842757\n",
      "Column: timesfm-q-0.3   Mean: 0.34370711714440466    Median: 0.34370711714440466\n",
      "Column: timesfm-q-0.4   Mean: 0.33492069055538065    Median: 0.33492069055538065\n",
      "Column: timesfm-q-0.5   Mean: 0.37402891353194273    Median: 0.37402891353194273\n",
      "Column: timesfm-q-0.6   Mean: 0.4489187144588578    Median: 0.4489187144588578\n",
      "Column: timesfm-q-0.7   Mean: 0.5746328187000282    Median: 0.5746328187000282\n",
      "Column: timesfm-q-0.8   Mean: 0.7357206532080014    Median: 0.7357206532080014\n",
      "Column: timesfm-q-0.9   Mean: 1.001562968638081    Median: 1.001562968638081\n"
     ]
    }
   ],
   "execution_count": 34
  },
  {
   "metadata": {
    "ExecuteTime": {
     "end_time": "2025-09-21T18:54:25.298451Z",
     "start_time": "2025-09-21T18:54:24.710100Z"
    }
   },
   "cell_type": "code",
   "source": "import matplotlib.pyplot as plt",
   "id": "bf4d1aafe871993c",
   "outputs": [],
   "execution_count": 35
  },
  {
   "metadata": {
    "ExecuteTime": {
     "end_time": "2025-09-21T18:54:25.320228Z",
     "start_time": "2025-09-21T18:54:25.298451Z"
    }
   },
   "cell_type": "code",
   "source": [
    "stats = []\n",
    "for col in columns:\n",
    "    mean_val = result[f'DISTANCE_DELTA_SEPARATED_{col}'].mean()\n",
    "    median_val = result[f'DISTANCE_DELTA_SEPARATED_{col}'].median()\n",
    "    label = col.replace(\"timesfm-\", \"\")\n",
    "    stats.append({\"quantile\": label, \"mean\": mean_val, \"median\": median_val})\n",
    "\n",
    "df_stats = pd.DataFrame(stats)"
   ],
   "id": "c4c47ecb39d1e546",
   "outputs": [],
   "execution_count": 36
  },
  {
   "metadata": {
    "ExecuteTime": {
     "end_time": "2025-09-21T18:54:25.547594Z",
     "start_time": "2025-09-21T18:54:25.349823Z"
    }
   },
   "cell_type": "code",
   "source": [
    "plt.figure(figsize=(8,5))\n",
    "plt.plot(df_stats[\"quantile\"], df_stats[\"mean\"], marker=\"o\", label=\"Mean\")\n",
    "plt.plot(df_stats[\"quantile\"], df_stats[\"median\"], marker=\"o\", label=\"Median\")\n",
    "plt.xlabel(\"Quantile\")\n",
    "plt.ylabel(\"Haversine distance error\")\n",
    "plt.title(\"Prediction error vs. quantile\")\n",
    "plt.legend()\n",
    "plt.grid(True)\n",
    "plt.show()"
   ],
   "id": "6ce332bbda0bcf56",
   "outputs": [
    {
     "data": {
      "text/plain": [
       "<Figure size 800x500 with 1 Axes>"
      ],
      "image/png": "[encoded data removed]"
     },
     "metadata": {},
     "output_type": "display_data"
    }
   ],
   "execution_count": 37
  }
 ],
 "metadata": {
  "kernelspec": {
   "display_name": "Python 3",
   "language": "python",
   "name": "python3"
  },
  "language_info": {
   "codemirror_mode": {
    "name": "ipython",
    "version": 2
   },
   "file_extension": ".py",
   "mimetype": "text/x-python",
   "name": "python",
   "nbconvert_exporter": "python",
   "pygments_lexer": "ipython2",
   "version": "2.7.6"
  }
 },
 "nbformat": 4,
 "nbformat_minor": 5
}
