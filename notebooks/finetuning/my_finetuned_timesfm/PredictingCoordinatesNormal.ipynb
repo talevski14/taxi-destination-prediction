{
 "cells": [
  {
   "cell_type": "code",
   "id": "initial_id",
   "metadata": {
    "collapsed": true,
    "ExecuteTime": {
     "end_time": "2025-09-21T18:08:10.042187Z",
     "start_time": "2025-09-21T18:08:09.639617Z"
    }
   },
   "source": [
    "import pandas as pd"
   ],
   "outputs": [],
   "execution_count": 1
  },
  {
   "cell_type": "code",
   "id": "31235c077b90ad65",
   "metadata": {
    "ExecuteTime": {
     "end_time": "2025-09-21T18:08:11.954001Z",
     "start_time": "2025-09-21T18:08:10.047587Z"
    }
   },
   "source": [
    "df = pd.read_parquet(\"../../../data/data_taxi_central_based.parquet\")\n",
    "trip_ids_to_keep = [1398764351620000197, 1380694967620000451]\n",
    "df = df[df['TRIP_ID'].isin(trip_ids_to_keep)]\n",
    "df"
   ],
   "outputs": [
    {
     "data": {
      "text/plain": [
       "                      TRIP_ID  ORIGIN_CALL   TAXI_ID   TIMESTAMP  \\\n",
       "index                                                              \n",
       "20214274  1380694967620000451      19967.0  20000451  1380694967   \n",
       "20214275  1380694967620000451      19967.0  20000451  1380694982   \n",
       "20214276  1380694967620000451      19967.0  20000451  1380694997   \n",
       "20214277  1380694967620000451      19967.0  20000451  1380695012   \n",
       "20214278  1380694967620000451      19967.0  20000451  1380695027   \n",
       "...                       ...          ...       ...         ...   \n",
       "67580730  1398764351620000197      63882.0  20000197  1398771806   \n",
       "67580731  1398764351620000197      63882.0  20000197  1398771821   \n",
       "67580732  1398764351620000197      63882.0  20000197  1398771836   \n",
       "67580733  1398764351620000197      63882.0  20000197  1398771851   \n",
       "67580734  1398764351620000197      63882.0  20000197  1398771866   \n",
       "\n",
       "          POLYLINE_LENGTH       LON        LAT  \n",
       "index                                           \n",
       "20214274              504 -8.640432  41.147676  \n",
       "20214275              504 -8.639622  41.144274  \n",
       "20214276              504 -8.638362  41.140755  \n",
       "20214277              504 -8.635878  41.137317  \n",
       "20214278              504 -8.635464  41.133564  \n",
       "...                   ...       ...        ...  \n",
       "67580730              502 -8.582418  41.178528  \n",
       "67580731              502 -8.582535  41.178600  \n",
       "67580732              502 -8.582202  41.179617  \n",
       "67580733              502 -8.581860  41.180283  \n",
       "67580734              502 -8.582607  41.180859  \n",
       "\n",
       "[1006 rows x 7 columns]"
      ],
      "text/html": [
       "<div>\n",
       "<style scoped>\n",
       "    .dataframe tbody tr th:only-of-type {\n",
       "        vertical-align: middle;\n",
       "    }\n",
       "\n",
       "    .dataframe tbody tr th {\n",
       "        vertical-align: top;\n",
       "    }\n",
       "\n",
       "    .dataframe thead th {\n",
       "        text-align: right;\n",
       "    }\n",
       "</style>\n",
       "<table border=\"1\" class=\"dataframe\">\n",
       "  <thead>\n",
       "    <tr style=\"text-align: right;\">\n",
       "      <th></th>\n",
       "      <th>TRIP_ID</th>\n",
       "      <th>ORIGIN_CALL</th>\n",
       "      <th>TAXI_ID</th>\n",
       "      <th>TIMESTAMP</th>\n",
       "      <th>POLYLINE_LENGTH</th>\n",
       "      <th>LON</th>\n",
       "      <th>LAT</th>\n",
       "    </tr>\n",
       "    <tr>\n",
       "      <th>index</th>\n",
       "      <th></th>\n",
       "      <th></th>\n",
       "      <th></th>\n",
       "      <th></th>\n",
       "      <th></th>\n",
       "      <th></th>\n",
       "      <th></th>\n",
       "    </tr>\n",
       "  </thead>\n",
       "  <tbody>\n",
       "    <tr>\n",
       "      <th>20214274</th>\n",
       "      <td>1380694967620000451</td>\n",
       "      <td>19967.0</td>\n",
       "      <td>20000451</td>\n",
       "      <td>1380694967</td>\n",
       "      <td>504</td>\n",
       "      <td>-8.640432</td>\n",
       "      <td>41.147676</td>\n",
       "    </tr>\n",
       "    <tr>\n",
       "      <th>20214275</th>\n",
       "      <td>1380694967620000451</td>\n",
       "      <td>19967.0</td>\n",
       "      <td>20000451</td>\n",
       "      <td>1380694982</td>\n",
       "      <td>504</td>\n",
       "      <td>-8.639622</td>\n",
       "      <td>41.144274</td>\n",
       "    </tr>\n",
       "    <tr>\n",
       "      <th>20214276</th>\n",
       "      <td>1380694967620000451</td>\n",
       "      <td>19967.0</td>\n",
       "      <td>20000451</td>\n",
       "      <td>1380694997</td>\n",
       "      <td>504</td>\n",
       "      <td>-8.638362</td>\n",
       "      <td>41.140755</td>\n",
       "    </tr>\n",
       "    <tr>\n",
       "      <th>20214277</th>\n",
       "      <td>1380694967620000451</td>\n",
       "      <td>19967.0</td>\n",
       "      <td>20000451</td>\n",
       "      <td>1380695012</td>\n",
       "      <td>504</td>\n",
       "      <td>-8.635878</td>\n",
       "      <td>41.137317</td>\n",
       "    </tr>\n",
       "    <tr>\n",
       "      <th>20214278</th>\n",
       "      <td>1380694967620000451</td>\n",
       "      <td>19967.0</td>\n",
       "      <td>20000451</td>\n",
       "      <td>1380695027</td>\n",
       "      <td>504</td>\n",
       "      <td>-8.635464</td>\n",
       "      <td>41.133564</td>\n",
       "    </tr>\n",
       "    <tr>\n",
       "      <th>...</th>\n",
       "      <td>...</td>\n",
       "      <td>...</td>\n",
       "      <td>...</td>\n",
       "      <td>...</td>\n",
       "      <td>...</td>\n",
       "      <td>...</td>\n",
       "      <td>...</td>\n",
       "    </tr>\n",
       "    <tr>\n",
       "      <th>67580730</th>\n",
       "      <td>1398764351620000197</td>\n",
       "      <td>63882.0</td>\n",
       "      <td>20000197</td>\n",
       "      <td>1398771806</td>\n",
       "      <td>502</td>\n",
       "      <td>-8.582418</td>\n",
       "      <td>41.178528</td>\n",
       "    </tr>\n",
       "    <tr>\n",
       "      <th>67580731</th>\n",
       "      <td>1398764351620000197</td>\n",
       "      <td>63882.0</td>\n",
       "      <td>20000197</td>\n",
       "      <td>1398771821</td>\n",
       "      <td>502</td>\n",
       "      <td>-8.582535</td>\n",
       "      <td>41.178600</td>\n",
       "    </tr>\n",
       "    <tr>\n",
       "      <th>67580732</th>\n",
       "      <td>1398764351620000197</td>\n",
       "      <td>63882.0</td>\n",
       "      <td>20000197</td>\n",
       "      <td>1398771836</td>\n",
       "      <td>502</td>\n",
       "      <td>-8.582202</td>\n",
       "      <td>41.179617</td>\n",
       "    </tr>\n",
       "    <tr>\n",
       "      <th>67580733</th>\n",
       "      <td>1398764351620000197</td>\n",
       "      <td>63882.0</td>\n",
       "      <td>20000197</td>\n",
       "      <td>1398771851</td>\n",
       "      <td>502</td>\n",
       "      <td>-8.581860</td>\n",
       "      <td>41.180283</td>\n",
       "    </tr>\n",
       "    <tr>\n",
       "      <th>67580734</th>\n",
       "      <td>1398764351620000197</td>\n",
       "      <td>63882.0</td>\n",
       "      <td>20000197</td>\n",
       "      <td>1398771866</td>\n",
       "      <td>502</td>\n",
       "      <td>-8.582607</td>\n",
       "      <td>41.180859</td>\n",
       "    </tr>\n",
       "  </tbody>\n",
       "</table>\n",
       "<p>1006 rows × 7 columns</p>\n",
       "</div>"
      ]
     },
     "execution_count": 2,
     "metadata": {},
     "output_type": "execute_result"
    }
   ],
   "execution_count": 2
  },
  {
   "cell_type": "code",
   "id": "ac9990d577976560",
   "metadata": {
    "ExecuteTime": {
     "end_time": "2025-09-21T18:08:15.173222Z",
     "start_time": "2025-09-21T18:08:12.251402Z"
    }
   },
   "source": [
    "import timesfm"
   ],
   "outputs": [
    {
     "name": "stdout",
     "output_type": "stream",
     "text": [
      " See https://github.com/google-research/timesfm/blob/master/README.md for updated APIs.\n",
      "Loaded PyTorch TimesFM, likely because python version is 3.11.13 | packaged by Anaconda, Inc. | (main, Jun  5 2025, 13:03:15) [MSC v.1929 64 bit (AMD64)].\n"
     ]
    }
   ],
   "execution_count": 3
  },
  {
   "cell_type": "code",
   "id": "6d8fdf0c81a15ef0",
   "metadata": {
    "ExecuteTime": {
     "end_time": "2025-09-21T18:08:15.211643Z",
     "start_time": "2025-09-21T18:08:15.206212Z"
    }
   },
   "source": [
    "df_lon = df.drop(columns=['ORIGIN_CALL', 'TAXI_ID', 'POLYLINE_LENGTH', 'LAT'])\n",
    "df_lat = df.drop(columns=['ORIGIN_CALL', 'TAXI_ID', 'POLYLINE_LENGTH', 'LON'])"
   ],
   "outputs": [],
   "execution_count": 4
  },
  {
   "cell_type": "code",
   "id": "aaf2ef79835988e8",
   "metadata": {
    "ExecuteTime": {
     "end_time": "2025-09-21T18:08:28.588863Z",
     "start_time": "2025-09-21T18:08:15.228823Z"
    }
   },
   "source": [
    "tfm_lat = timesfm.TimesFm(\n",
    "      hparams=timesfm.TimesFmHparams(\n",
    "          backend=\"gpu\",\n",
    "          per_core_batch_size=32,\n",
    "          horizon_len=20,\n",
    "          num_layers=50,\n",
    "          use_positional_embedding=False,\n",
    "          context_len=128,\n",
    "      ),\n",
    "      checkpoint=timesfm.TimesFmCheckpoint(\n",
    "          huggingface_repo_id=\"google/timesfm-2.0-500m-pytorch\"),\n",
    "  )"
   ],
   "outputs": [
    {
     "data": {
      "text/plain": [
       "Fetching 5 files:   0%|          | 0/5 [00:00<?, ?it/s]"
      ],
      "application/vnd.jupyter.widget-view+json": {
       "version_major": 2,
       "version_minor": 0,
       "model_id": "0cdf2e7a9fd045d5ad13d73734bd31b9"
      }
     },
     "metadata": {},
     "output_type": "display_data"
    }
   ],
   "execution_count": 5
  },
  {
   "cell_type": "code",
   "id": "f2bf8bd6ea976c66",
   "metadata": {
    "ExecuteTime": {
     "end_time": "2025-09-21T18:08:38.666633Z",
     "start_time": "2025-09-21T18:08:28.686935Z"
    }
   },
   "source": [
    "tfm_lon = timesfm.TimesFm(\n",
    "      hparams=timesfm.TimesFmHparams(\n",
    "          backend=\"gpu\",\n",
    "          per_core_batch_size=32,\n",
    "          horizon_len=20,\n",
    "          num_layers=50,\n",
    "          use_positional_embedding=False,\n",
    "          context_len=128,\n",
    "      ),\n",
    "      checkpoint=timesfm.TimesFmCheckpoint(\n",
    "          huggingface_repo_id=\"google/timesfm-2.0-500m-pytorch\"),\n",
    "  )"
   ],
   "outputs": [
    {
     "data": {
      "text/plain": [
       "Fetching 5 files:   0%|          | 0/5 [00:00<?, ?it/s]"
      ],
      "application/vnd.jupyter.widget-view+json": {
       "version_major": 2,
       "version_minor": 0,
       "model_id": "e73cff2788eb44d49eaa96fa90e8bbd4"
      }
     },
     "metadata": {},
     "output_type": "display_data"
    }
   ],
   "execution_count": 6
  },
  {
   "cell_type": "code",
   "id": "6544a51e861c3cfb",
   "metadata": {
    "ExecuteTime": {
     "end_time": "2025-09-21T18:08:38.918312Z",
     "start_time": "2025-09-21T18:08:38.810688Z"
    }
   },
   "source": [
    "df_lat = df_lat.sort_values(by=['TRIP_ID', 'TIMESTAMP'])\n",
    "df_lat_test = df_lat.groupby('TRIP_ID', group_keys=False).tail(20)\n",
    "df_lat_train = df_lat.drop(df_lat_test.index)"
   ],
   "outputs": [],
   "execution_count": 7
  },
  {
   "cell_type": "code",
   "id": "feca5a661cf1a0d8",
   "metadata": {
    "ExecuteTime": {
     "end_time": "2025-09-21T18:08:38.942406Z",
     "start_time": "2025-09-21T18:08:38.934016Z"
    }
   },
   "source": [
    "df_lon = df_lon.sort_values(by=['TRIP_ID', 'TIMESTAMP'])\n",
    "df_lon_test = df_lon.groupby('TRIP_ID', group_keys=False).tail(20)\n",
    "df_lon_train = df_lon.drop(df_lat_test.index)"
   ],
   "outputs": [],
   "execution_count": 8
  },
  {
   "cell_type": "code",
   "id": "ed9138b5a1f1ef4c",
   "metadata": {
    "ExecuteTime": {
     "end_time": "2025-09-21T18:08:41.211394Z",
     "start_time": "2025-09-21T18:08:38.961481Z"
    }
   },
   "source": [
    "from sklearn.preprocessing import MinMaxScaler\n",
    "scaler_lat = MinMaxScaler()\n",
    "df_lat_train['LAT'] = scaler_lat.fit_transform(df_lat_train[['LAT']])\n",
    "\n",
    "scaler_lon = MinMaxScaler()\n",
    "df_lon_train['LON'] = scaler_lon.fit_transform(df_lon_train[['LON']])"
   ],
   "outputs": [],
   "execution_count": 9
  },
  {
   "cell_type": "code",
   "id": "debca559b45a7aa7",
   "metadata": {
    "ExecuteTime": {
     "end_time": "2025-09-21T18:08:41.264399Z",
     "start_time": "2025-09-21T18:08:41.229296Z"
    }
   },
   "source": [
    "df_lat_train['TIMESTAMP'] = pd.to_datetime(df_lat_train['TIMESTAMP'], unit='s')\n",
    "df_lon_train['TIMESTAMP'] = pd.to_datetime(df_lon_train['TIMESTAMP'], unit='s')"
   ],
   "outputs": [],
   "execution_count": 10
  },
  {
   "cell_type": "code",
   "id": "ac9f39dfe4f0f960",
   "metadata": {
    "ExecuteTime": {
     "end_time": "2025-09-21T18:08:41.291085Z",
     "start_time": "2025-09-21T18:08:41.283137Z"
    }
   },
   "source": [
    "df_lon_train = df_lon_train.rename(columns={'TIMESTAMP': 'ds', 'LON': 'y', 'TRIP_ID': 'unique_id'})\n",
    "df_lat_train = df_lat_train.rename(columns={'TIMESTAMP': 'ds', 'LAT': 'y', 'TRIP_ID': 'unique_id'})"
   ],
   "outputs": [],
   "execution_count": 11
  },
  {
   "cell_type": "code",
   "id": "ed3ada5fe1a7ca0e",
   "metadata": {
    "ExecuteTime": {
     "end_time": "2025-09-21T18:08:48.485866Z",
     "start_time": "2025-09-21T18:08:41.305915Z"
    }
   },
   "source": [
    "forecast_df_lon = tfm_lon.forecast_on_df(\n",
    "    inputs=df_lon_train,\n",
    "    freq=\"15s\",\n",
    "    value_name=\"y\",\n",
    "    num_jobs=-1,\n",
    ")"
   ],
   "outputs": [
    {
     "name": "stdout",
     "output_type": "stream",
     "text": [
      "Processing dataframe with multiple processes.\n",
      "Finished preprocessing dataframe.\n",
      "Finished forecasting.\n"
     ]
    }
   ],
   "execution_count": 12
  },
  {
   "cell_type": "code",
   "id": "8a832bbf399e88c5",
   "metadata": {
    "ExecuteTime": {
     "end_time": "2025-09-21T18:08:51.989852Z",
     "start_time": "2025-09-21T18:08:48.505621Z"
    }
   },
   "source": [
    "forecast_df_lat = tfm_lon.forecast_on_df(\n",
    "    inputs=df_lat_train,\n",
    "    freq=\"15s\",\n",
    "    value_name=\"y\",\n",
    "    num_jobs=-1,\n",
    ")"
   ],
   "outputs": [
    {
     "name": "stdout",
     "output_type": "stream",
     "text": [
      "Processing dataframe with multiple processes.\n",
      "Finished preprocessing dataframe.\n",
      "Finished forecasting.\n"
     ]
    }
   ],
   "execution_count": 13
  },
  {
   "cell_type": "code",
   "id": "e90b98dd91419fa4",
   "metadata": {
    "ExecuteTime": {
     "end_time": "2025-09-21T18:08:52.014306Z",
     "start_time": "2025-09-21T18:08:52.009164Z"
    }
   },
   "source": [
    "forecast_df_lon_keep = forecast_df_lon[['unique_id', 'ds', 'timesfm-q-0.9']]"
   ],
   "outputs": [],
   "execution_count": 14
  },
  {
   "cell_type": "code",
   "id": "8b5c3019c028bff6",
   "metadata": {
    "ExecuteTime": {
     "end_time": "2025-09-21T18:08:52.037867Z",
     "start_time": "2025-09-21T18:08:52.033956Z"
    }
   },
   "source": [
    "forecast_df_lat_keep = forecast_df_lat[['unique_id', 'ds', 'timesfm-q-0.9']]"
   ],
   "outputs": [],
   "execution_count": 15
  },
  {
   "cell_type": "code",
   "id": "28cea87086d776a8",
   "metadata": {
    "ExecuteTime": {
     "end_time": "2025-09-21T18:08:52.068802Z",
     "start_time": "2025-09-21T18:08:52.061060Z"
    }
   },
   "source": [
    "forecast_df_lat_keep['timesfm-q-0.9'] = scaler_lat.inverse_transform(forecast_df_lat_keep[['timesfm-q-0.9']])\n",
    "forecast_df_lon_keep['timesfm-q-0.9'] = scaler_lon.inverse_transform(forecast_df_lon_keep[['timesfm-q-0.9']])"
   ],
   "outputs": [
    {
     "name": "stderr",
     "output_type": "stream",
     "text": [
      "C:\\Users\\Nikola\\AppData\\Local\\Temp\\ipykernel_10896\\3587103272.py:1: SettingWithCopyWarning: \n",
      "A value is trying to be set on a copy of a slice from a DataFrame.\n",
      "Try using .loc[row_indexer,col_indexer] = value instead\n",
      "\n",
      "See the caveats in the documentation: https://pandas.pydata.org/pandas-docs/stable/user_guide/indexing.html#returning-a-view-versus-a-copy\n",
      "  forecast_df_lat_keep['timesfm-q-0.9'] = scaler_lat.inverse_transform(forecast_df_lat_keep[['timesfm-q-0.9']])\n",
      "C:\\Users\\Nikola\\AppData\\Local\\Temp\\ipykernel_10896\\3587103272.py:2: SettingWithCopyWarning: \n",
      "A value is trying to be set on a copy of a slice from a DataFrame.\n",
      "Try using .loc[row_indexer,col_indexer] = value instead\n",
      "\n",
      "See the caveats in the documentation: https://pandas.pydata.org/pandas-docs/stable/user_guide/indexing.html#returning-a-view-versus-a-copy\n",
      "  forecast_df_lon_keep['timesfm-q-0.9'] = scaler_lon.inverse_transform(forecast_df_lon_keep[['timesfm-q-0.9']])\n"
     ]
    }
   ],
   "execution_count": 16
  },
  {
   "cell_type": "code",
   "id": "9fb0429524f5d23b",
   "metadata": {
    "ExecuteTime": {
     "end_time": "2025-09-21T18:08:52.096601Z",
     "start_time": "2025-09-21T18:08:52.091041Z"
    }
   },
   "source": [
    "forecast_df_lat_keep = forecast_df_lat_keep.rename(columns={'timesfm-q-0.9': 'LAT_PREDICTED'})\n",
    "forecast_df_lon_keep = forecast_df_lon_keep.rename(columns={'timesfm-q-0.9': 'LON_PREDICTED'})"
   ],
   "outputs": [],
   "execution_count": 17
  },
  {
   "cell_type": "code",
   "id": "6c129c2e025cb7ae",
   "metadata": {
    "ExecuteTime": {
     "end_time": "2025-09-21T18:08:52.127213Z",
     "start_time": "2025-09-21T18:08:52.118221Z"
    }
   },
   "source": [
    "forecast_df_lat_keep = forecast_df_lat_keep.sort_values(['unique_id', 'ds'])\n",
    "forecast_df_lat_keep = forecast_df_lat_keep.groupby('unique_id').tail(1)\n",
    "\n",
    "forecast_df_lon_keep = forecast_df_lon_keep.sort_values(['unique_id', 'ds'])\n",
    "forecast_df_lon_keep = forecast_df_lon_keep.groupby('unique_id').tail(1)"
   ],
   "outputs": [],
   "execution_count": 18
  },
  {
   "cell_type": "code",
   "id": "46f75c22597f8364",
   "metadata": {
    "ExecuteTime": {
     "end_time": "2025-09-21T18:08:52.159046Z",
     "start_time": "2025-09-21T18:08:52.151580Z"
    }
   },
   "source": [
    "df_lon_test = df_lon_test.rename(columns={'TIMESTAMP': 'ds', 'TRIP_ID': 'unique_id'})\n",
    "df_lon_test = df_lon_test.sort_values(['unique_id', 'ds'])\n",
    "df_lon_test = df_lon_test.groupby('unique_id').tail(1)\n",
    "\n",
    "df_lat_test = df_lat_test.rename(columns={'TIMESTAMP': 'ds', 'TRIP_ID': 'unique_id'})\n",
    "df_lat_test = df_lat_test.sort_values(['unique_id', 'ds'])\n",
    "df_lat_test = df_lat_test.groupby('unique_id').tail(1)"
   ],
   "outputs": [],
   "execution_count": 19
  },
  {
   "cell_type": "code",
   "id": "46b58aacaf850616",
   "metadata": {
    "ExecuteTime": {
     "end_time": "2025-09-21T18:08:52.195108Z",
     "start_time": "2025-09-21T18:08:52.180911Z"
    }
   },
   "source": [
    "result_lat = df_lat_test.merge(forecast_df_lat_keep, how='left', on=['unique_id'])\n",
    "result_lon = df_lon_test.merge(forecast_df_lon_keep, how='left', on=['unique_id'])\n",
    "result = result_lat.merge(result_lon, how='left', on=['unique_id'])"
   ],
   "outputs": [],
   "execution_count": 20
  },
  {
   "cell_type": "code",
   "id": "968067708a9b0d80",
   "metadata": {
    "ExecuteTime": {
     "end_time": "2025-09-21T18:08:52.223390Z",
     "start_time": "2025-09-21T18:08:52.217834Z"
    }
   },
   "source": [
    "from evaluation_script import haversine_distance"
   ],
   "outputs": [],
   "execution_count": 21
  },
  {
   "cell_type": "code",
   "id": "185c32d8ae39f423",
   "metadata": {
    "ExecuteTime": {
     "end_time": "2025-09-21T18:08:52.255666Z",
     "start_time": "2025-09-21T18:08:52.247364Z"
    }
   },
   "source": [
    "result['DISTANCE_DELTA_SEPARATED'] = result.apply(lambda row: haversine_distance(\n",
    "    row['LAT'], row['LON'], row['LAT_PREDICTED'], row['LON_PREDICTED']), axis=1)"
   ],
   "outputs": [],
   "execution_count": 22
  },
  {
   "cell_type": "code",
   "id": "cac3d9e02fc41412",
   "metadata": {
    "ExecuteTime": {
     "end_time": "2025-09-21T18:08:52.284879Z",
     "start_time": "2025-09-21T18:08:52.277401Z"
    }
   },
   "source": [
    "result['DISTANCE_DELTA_SEPARATED'].mean()"
   ],
   "outputs": [
    {
     "data": {
      "text/plain": [
       "np.float64(0.664810625685872)"
      ]
     },
     "execution_count": 23,
     "metadata": {},
     "output_type": "execute_result"
    }
   ],
   "execution_count": 23
  },
  {
   "cell_type": "code",
   "id": "6d6de9b483deb9fa",
   "metadata": {
    "ExecuteTime": {
     "end_time": "2025-09-21T18:08:52.313805Z",
     "start_time": "2025-09-21T18:08:52.307564Z"
    }
   },
   "source": [
    "result['DISTANCE_DELTA_SEPARATED'].median()"
   ],
   "outputs": [
    {
     "data": {
      "text/plain": [
       "0.664810625685872"
      ]
     },
     "execution_count": 24,
     "metadata": {},
     "output_type": "execute_result"
    }
   ],
   "execution_count": 24
  },
  {
   "metadata": {
    "ExecuteTime": {
     "end_time": "2025-09-21T18:08:52.349055Z",
     "start_time": "2025-09-21T18:08:52.337551Z"
    }
   },
   "cell_type": "code",
   "source": "result.to_csv(\"result.csv\", index=False)",
   "id": "7c8457a4b2a692da",
   "outputs": [],
   "execution_count": 25
  },
  {
   "metadata": {
    "ExecuteTime": {
     "end_time": "2025-09-21T18:08:52.391575Z",
     "start_time": "2025-09-21T18:08:52.372977Z"
    }
   },
   "cell_type": "code",
   "source": "forecast_df_lat",
   "id": "45393fbae5424c2f",
   "outputs": [
    {
     "data": {
      "text/plain": [
       "              unique_id                  ds   timesfm  timesfm-q-0.1  \\\n",
       "0   1380694967620000451 2013-10-02 08:23:47  0.999903       0.999631   \n",
       "1   1380694967620000451 2013-10-02 08:24:02  0.999912       0.999305   \n",
       "2   1380694967620000451 2013-10-02 08:24:17  0.999902       0.998933   \n",
       "3   1380694967620000451 2013-10-02 08:24:32  0.999972       0.998826   \n",
       "4   1380694967620000451 2013-10-02 08:24:47  0.999866       0.998227   \n",
       "5   1380694967620000451 2013-10-02 08:25:02  0.999854       0.997857   \n",
       "6   1380694967620000451 2013-10-02 08:25:17  0.999810       0.997409   \n",
       "7   1380694967620000451 2013-10-02 08:25:32  0.999811       0.997010   \n",
       "8   1380694967620000451 2013-10-02 08:25:47  0.999742       0.996340   \n",
       "9   1380694967620000451 2013-10-02 08:26:02  0.999641       0.995830   \n",
       "10  1380694967620000451 2013-10-02 08:26:17  0.999624       0.995452   \n",
       "11  1380694967620000451 2013-10-02 08:26:32  0.999528       0.994963   \n",
       "12  1380694967620000451 2013-10-02 08:26:47  0.999553       0.994572   \n",
       "13  1380694967620000451 2013-10-02 08:27:02  0.999474       0.994048   \n",
       "14  1380694967620000451 2013-10-02 08:27:17  0.999424       0.993547   \n",
       "15  1380694967620000451 2013-10-02 08:27:32  0.999419       0.993246   \n",
       "16  1380694967620000451 2013-10-02 08:27:47  0.999422       0.992894   \n",
       "17  1380694967620000451 2013-10-02 08:28:02  0.999289       0.992377   \n",
       "18  1380694967620000451 2013-10-02 08:28:17  0.999212       0.991992   \n",
       "19  1380694967620000451 2013-10-02 08:28:32  0.999117       0.991645   \n",
       "20  1398764351620000197 2014-04-29 11:39:41  0.980085       0.980016   \n",
       "21  1398764351620000197 2014-04-29 11:39:56  0.980127       0.979987   \n",
       "22  1398764351620000197 2014-04-29 11:40:11  0.980182       0.979752   \n",
       "23  1398764351620000197 2014-04-29 11:40:26  0.980192       0.979230   \n",
       "24  1398764351620000197 2014-04-29 11:40:41  0.980315       0.978583   \n",
       "25  1398764351620000197 2014-04-29 11:40:56  0.980249       0.977736   \n",
       "26  1398764351620000197 2014-04-29 11:41:11  0.980258       0.976952   \n",
       "27  1398764351620000197 2014-04-29 11:41:26  0.980178       0.975915   \n",
       "28  1398764351620000197 2014-04-29 11:41:41  0.980220       0.975024   \n",
       "29  1398764351620000197 2014-04-29 11:41:56  0.980140       0.974037   \n",
       "30  1398764351620000197 2014-04-29 11:42:11  0.980128       0.973016   \n",
       "31  1398764351620000197 2014-04-29 11:42:26  0.980032       0.972102   \n",
       "32  1398764351620000197 2014-04-29 11:42:41  0.979813       0.970951   \n",
       "33  1398764351620000197 2014-04-29 11:42:56  0.979617       0.969890   \n",
       "34  1398764351620000197 2014-04-29 11:43:11  0.979291       0.968764   \n",
       "35  1398764351620000197 2014-04-29 11:43:26  0.979077       0.967726   \n",
       "36  1398764351620000197 2014-04-29 11:43:41  0.978839       0.966738   \n",
       "37  1398764351620000197 2014-04-29 11:43:56  0.978673       0.965858   \n",
       "38  1398764351620000197 2014-04-29 11:44:11  0.978462       0.965121   \n",
       "39  1398764351620000197 2014-04-29 11:44:26  0.978169       0.964350   \n",
       "\n",
       "    timesfm-q-0.2  timesfm-q-0.3  timesfm-q-0.4  timesfm-q-0.5  timesfm-q-0.6  \\\n",
       "0        0.999822       0.999900       0.999908       0.999903       0.999908   \n",
       "1        0.999668       0.999833       0.999901       0.999912       0.999925   \n",
       "2        0.999488       0.999734       0.999862       0.999902       0.999911   \n",
       "3        0.999518       0.999847       0.999958       0.999972       0.999985   \n",
       "4        0.999170       0.999592       0.999819       0.999866       0.999906   \n",
       "5        0.998994       0.999511       0.999756       0.999854       0.999912   \n",
       "6        0.998741       0.999353       0.999671       0.999810       0.999872   \n",
       "7        0.998513       0.999232       0.999637       0.999811       0.999894   \n",
       "8        0.998117       0.999007       0.999509       0.999742       0.999881   \n",
       "9        0.997814       0.998818       0.999376       0.999641       0.999795   \n",
       "10       0.997616       0.998694       0.999311       0.999624       0.999798   \n",
       "11       0.997298       0.998461       0.999171       0.999528       0.999727   \n",
       "12       0.997087       0.998399       0.999145       0.999553       0.999777   \n",
       "13       0.996771       0.998182       0.999021       0.999474       0.999746   \n",
       "14       0.996471       0.997984       0.998906       0.999424       0.999748   \n",
       "15       0.996329       0.997916       0.998887       0.999419       0.999744   \n",
       "16       0.996113       0.997805       0.998834       0.999422       0.999805   \n",
       "17       0.995784       0.997570       0.998650       0.999289       0.999700   \n",
       "18       0.995512       0.997393       0.998528       0.999212       0.999650   \n",
       "19       0.995301       0.997231       0.998412       0.999117       0.999575   \n",
       "20       0.980045       0.980050       0.980044       0.980085       0.980103   \n",
       "21       0.980084       0.980099       0.980105       0.980127       0.980160   \n",
       "22       0.980177       0.980161       0.980149       0.980182       0.980193   \n",
       "23       0.980131       0.980199       0.980166       0.980192       0.980227   \n",
       "24       0.980088       0.980301       0.980302       0.980315       0.980341   \n",
       "25       0.979746       0.980147       0.980196       0.980249       0.980269   \n",
       "26       0.979479       0.980099       0.980221       0.980258       0.980266   \n",
       "27       0.979010       0.979925       0.980142       0.980178       0.980192   \n",
       "28       0.978644       0.979818       0.980162       0.980220       0.980235   \n",
       "29       0.978103       0.979537       0.980024       0.980140       0.980155   \n",
       "30       0.977540       0.979277       0.979921       0.980128       0.980142   \n",
       "31       0.976917       0.978915       0.979733       0.980032       0.980104   \n",
       "32       0.976133       0.978414       0.979390       0.979813       0.979949   \n",
       "33       0.975422       0.977888       0.979081       0.979617       0.979823   \n",
       "34       0.974533       0.977222       0.978576       0.979291       0.979604   \n",
       "35       0.973807       0.976679       0.978221       0.979077       0.979495   \n",
       "36       0.973035       0.976126       0.977818       0.978839       0.979366   \n",
       "37       0.972363       0.975586       0.977504       0.978673       0.979310   \n",
       "38       0.971712       0.975077       0.977157       0.978462       0.979217   \n",
       "39       0.971067       0.974534       0.976718       0.978169       0.979036   \n",
       "\n",
       "    timesfm-q-0.7  timesfm-q-0.8  timesfm-q-0.9  \n",
       "0        0.999897       0.999928       1.000054  \n",
       "1        0.999922       0.999987       1.000165  \n",
       "2        0.999916       1.000006       1.000217  \n",
       "3        0.999955       1.000016       1.000217  \n",
       "4        0.999928       0.999991       1.000233  \n",
       "5        0.999931       1.000011       1.000256  \n",
       "6        0.999905       0.999996       1.000226  \n",
       "7        0.999930       1.000002       1.000233  \n",
       "8        0.999958       1.000104       1.000386  \n",
       "9        0.999908       1.000031       1.000342  \n",
       "10       0.999937       1.000093       1.000389  \n",
       "11       0.999858       1.000041       1.000330  \n",
       "12       0.999934       1.000102       1.000397  \n",
       "13       0.999909       1.000105       1.000428  \n",
       "14       0.999936       1.000132       1.000458  \n",
       "15       0.999964       1.000148       1.000455  \n",
       "16       1.000030       1.000244       1.000593  \n",
       "17       0.999954       1.000193       1.000543  \n",
       "18       0.999927       1.000169       1.000524  \n",
       "19       0.999875       1.000114       1.000473  \n",
       "20       0.980129       0.980167       0.980254  \n",
       "21       0.980188       0.980241       0.980379  \n",
       "22       0.980236       0.980327       0.980586  \n",
       "23       0.980249       0.980349       0.980696  \n",
       "24       0.980372       0.980516       0.980944  \n",
       "25       0.980309       0.980466       0.980966  \n",
       "26       0.980327       0.980519       0.981057  \n",
       "27       0.980277       0.980499       0.981112  \n",
       "28       0.980319       0.980558       0.981266  \n",
       "29       0.980263       0.980532       0.981311  \n",
       "30       0.980239       0.980522       0.981354  \n",
       "31       0.980261       0.980583       0.981496  \n",
       "32       0.980131       0.980525       0.981512  \n",
       "33       0.980052       0.980488       0.981546  \n",
       "34       0.979879       0.980361       0.981499  \n",
       "35       0.979819       0.980335       0.981556  \n",
       "36       0.979747       0.980347       0.981660  \n",
       "37       0.979780       0.980436       0.981773  \n",
       "38       0.979719       0.980431       0.981791  \n",
       "39       0.979650       0.980388       0.981798  "
      ],
      "text/html": [
       "<div>\n",
       "<style scoped>\n",
       "    .dataframe tbody tr th:only-of-type {\n",
       "        vertical-align: middle;\n",
       "    }\n",
       "\n",
       "    .dataframe tbody tr th {\n",
       "        vertical-align: top;\n",
       "    }\n",
       "\n",
       "    .dataframe thead th {\n",
       "        text-align: right;\n",
       "    }\n",
       "</style>\n",
       "<table border=\"1\" class=\"dataframe\">\n",
       "  <thead>\n",
       "    <tr style=\"text-align: right;\">\n",
       "      <th></th>\n",
       "      <th>unique_id</th>\n",
       "      <th>ds</th>\n",
       "      <th>timesfm</th>\n",
       "      <th>timesfm-q-0.1</th>\n",
       "      <th>timesfm-q-0.2</th>\n",
       "      <th>timesfm-q-0.3</th>\n",
       "      <th>timesfm-q-0.4</th>\n",
       "      <th>timesfm-q-0.5</th>\n",
       "      <th>timesfm-q-0.6</th>\n",
       "      <th>timesfm-q-0.7</th>\n",
       "      <th>timesfm-q-0.8</th>\n",
       "      <th>timesfm-q-0.9</th>\n",
       "    </tr>\n",
       "  </thead>\n",
       "  <tbody>\n",
       "    <tr>\n",
       "      <th>0</th>\n",
       "      <td>1380694967620000451</td>\n",
       "      <td>2013-10-02 08:23:47</td>\n",
       "      <td>0.999903</td>\n",
       "      <td>0.999631</td>\n",
       "      <td>0.999822</td>\n",
       "      <td>0.999900</td>\n",
       "      <td>0.999908</td>\n",
       "      <td>0.999903</td>\n",
       "      <td>0.999908</td>\n",
       "      <td>0.999897</td>\n",
       "      <td>0.999928</td>\n",
       "      <td>1.000054</td>\n",
       "    </tr>\n",
       "    <tr>\n",
       "      <th>1</th>\n",
       "      <td>1380694967620000451</td>\n",
       "      <td>2013-10-02 08:24:02</td>\n",
       "      <td>0.999912</td>\n",
       "      <td>0.999305</td>\n",
       "      <td>0.999668</td>\n",
       "      <td>0.999833</td>\n",
       "      <td>0.999901</td>\n",
       "      <td>0.999912</td>\n",
       "      <td>0.999925</td>\n",
       "      <td>0.999922</td>\n",
       "      <td>0.999987</td>\n",
       "      <td>1.000165</td>\n",
       "    </tr>\n",
       "    <tr>\n",
       "      <th>2</th>\n",
       "      <td>1380694967620000451</td>\n",
       "      <td>2013-10-02 08:24:17</td>\n",
       "      <td>0.999902</td>\n",
       "      <td>0.998933</td>\n",
       "      <td>0.999488</td>\n",
       "      <td>0.999734</td>\n",
       "      <td>0.999862</td>\n",
       "      <td>0.999902</td>\n",
       "      <td>0.999911</td>\n",
       "      <td>0.999916</td>\n",
       "      <td>1.000006</td>\n",
       "      <td>1.000217</td>\n",
       "    </tr>\n",
       "    <tr>\n",
       "      <th>3</th>\n",
       "      <td>1380694967620000451</td>\n",
       "      <td>2013-10-02 08:24:32</td>\n",
       "      <td>0.999972</td>\n",
       "      <td>0.998826</td>\n",
       "      <td>0.999518</td>\n",
       "      <td>0.999847</td>\n",
       "      <td>0.999958</td>\n",
       "      <td>0.999972</td>\n",
       "      <td>0.999985</td>\n",
       "      <td>0.999955</td>\n",
       "      <td>1.000016</td>\n",
       "      <td>1.000217</td>\n",
       "    </tr>\n",
       "    <tr>\n",
       "      <th>4</th>\n",
       "      <td>1380694967620000451</td>\n",
       "      <td>2013-10-02 08:24:47</td>\n",
       "      <td>0.999866</td>\n",
       "      <td>0.998227</td>\n",
       "      <td>0.999170</td>\n",
       "      <td>0.999592</td>\n",
       "      <td>0.999819</td>\n",
       "      <td>0.999866</td>\n",
       "      <td>0.999906</td>\n",
       "      <td>0.999928</td>\n",
       "      <td>0.999991</td>\n",
       "      <td>1.000233</td>\n",
       "    </tr>\n",
       "    <tr>\n",
       "      <th>5</th>\n",
       "      <td>1380694967620000451</td>\n",
       "      <td>2013-10-02 08:25:02</td>\n",
       "      <td>0.999854</td>\n",
       "      <td>0.997857</td>\n",
       "      <td>0.998994</td>\n",
       "      <td>0.999511</td>\n",
       "      <td>0.999756</td>\n",
       "      <td>0.999854</td>\n",
       "      <td>0.999912</td>\n",
       "      <td>0.999931</td>\n",
       "      <td>1.000011</td>\n",
       "      <td>1.000256</td>\n",
       "    </tr>\n",
       "    <tr>\n",
       "      <th>6</th>\n",
       "      <td>1380694967620000451</td>\n",
       "      <td>2013-10-02 08:25:17</td>\n",
       "      <td>0.999810</td>\n",
       "      <td>0.997409</td>\n",
       "      <td>0.998741</td>\n",
       "      <td>0.999353</td>\n",
       "      <td>0.999671</td>\n",
       "      <td>0.999810</td>\n",
       "      <td>0.999872</td>\n",
       "      <td>0.999905</td>\n",
       "      <td>0.999996</td>\n",
       "      <td>1.000226</td>\n",
       "    </tr>\n",
       "    <tr>\n",
       "      <th>7</th>\n",
       "      <td>1380694967620000451</td>\n",
       "      <td>2013-10-02 08:25:32</td>\n",
       "      <td>0.999811</td>\n",
       "      <td>0.997010</td>\n",
       "      <td>0.998513</td>\n",
       "      <td>0.999232</td>\n",
       "      <td>0.999637</td>\n",
       "      <td>0.999811</td>\n",
       "      <td>0.999894</td>\n",
       "      <td>0.999930</td>\n",
       "      <td>1.000002</td>\n",
       "      <td>1.000233</td>\n",
       "    </tr>\n",
       "    <tr>\n",
       "      <th>8</th>\n",
       "      <td>1380694967620000451</td>\n",
       "      <td>2013-10-02 08:25:47</td>\n",
       "      <td>0.999742</td>\n",
       "      <td>0.996340</td>\n",
       "      <td>0.998117</td>\n",
       "      <td>0.999007</td>\n",
       "      <td>0.999509</td>\n",
       "      <td>0.999742</td>\n",
       "      <td>0.999881</td>\n",
       "      <td>0.999958</td>\n",
       "      <td>1.000104</td>\n",
       "      <td>1.000386</td>\n",
       "    </tr>\n",
       "    <tr>\n",
       "      <th>9</th>\n",
       "      <td>1380694967620000451</td>\n",
       "      <td>2013-10-02 08:26:02</td>\n",
       "      <td>0.999641</td>\n",
       "      <td>0.995830</td>\n",
       "      <td>0.997814</td>\n",
       "      <td>0.998818</td>\n",
       "      <td>0.999376</td>\n",
       "      <td>0.999641</td>\n",
       "      <td>0.999795</td>\n",
       "      <td>0.999908</td>\n",
       "      <td>1.000031</td>\n",
       "      <td>1.000342</td>\n",
       "    </tr>\n",
       "    <tr>\n",
       "      <th>10</th>\n",
       "      <td>1380694967620000451</td>\n",
       "      <td>2013-10-02 08:26:17</td>\n",
       "      <td>0.999624</td>\n",
       "      <td>0.995452</td>\n",
       "      <td>0.997616</td>\n",
       "      <td>0.998694</td>\n",
       "      <td>0.999311</td>\n",
       "      <td>0.999624</td>\n",
       "      <td>0.999798</td>\n",
       "      <td>0.999937</td>\n",
       "      <td>1.000093</td>\n",
       "      <td>1.000389</td>\n",
       "    </tr>\n",
       "    <tr>\n",
       "      <th>11</th>\n",
       "      <td>1380694967620000451</td>\n",
       "      <td>2013-10-02 08:26:32</td>\n",
       "      <td>0.999528</td>\n",
       "      <td>0.994963</td>\n",
       "      <td>0.997298</td>\n",
       "      <td>0.998461</td>\n",
       "      <td>0.999171</td>\n",
       "      <td>0.999528</td>\n",
       "      <td>0.999727</td>\n",
       "      <td>0.999858</td>\n",
       "      <td>1.000041</td>\n",
       "      <td>1.000330</td>\n",
       "    </tr>\n",
       "    <tr>\n",
       "      <th>12</th>\n",
       "      <td>1380694967620000451</td>\n",
       "      <td>2013-10-02 08:26:47</td>\n",
       "      <td>0.999553</td>\n",
       "      <td>0.994572</td>\n",
       "      <td>0.997087</td>\n",
       "      <td>0.998399</td>\n",
       "      <td>0.999145</td>\n",
       "      <td>0.999553</td>\n",
       "      <td>0.999777</td>\n",
       "      <td>0.999934</td>\n",
       "      <td>1.000102</td>\n",
       "      <td>1.000397</td>\n",
       "    </tr>\n",
       "    <tr>\n",
       "      <th>13</th>\n",
       "      <td>1380694967620000451</td>\n",
       "      <td>2013-10-02 08:27:02</td>\n",
       "      <td>0.999474</td>\n",
       "      <td>0.994048</td>\n",
       "      <td>0.996771</td>\n",
       "      <td>0.998182</td>\n",
       "      <td>0.999021</td>\n",
       "      <td>0.999474</td>\n",
       "      <td>0.999746</td>\n",
       "      <td>0.999909</td>\n",
       "      <td>1.000105</td>\n",
       "      <td>1.000428</td>\n",
       "    </tr>\n",
       "    <tr>\n",
       "      <th>14</th>\n",
       "      <td>1380694967620000451</td>\n",
       "      <td>2013-10-02 08:27:17</td>\n",
       "      <td>0.999424</td>\n",
       "      <td>0.993547</td>\n",
       "      <td>0.996471</td>\n",
       "      <td>0.997984</td>\n",
       "      <td>0.998906</td>\n",
       "      <td>0.999424</td>\n",
       "      <td>0.999748</td>\n",
       "      <td>0.999936</td>\n",
       "      <td>1.000132</td>\n",
       "      <td>1.000458</td>\n",
       "    </tr>\n",
       "    <tr>\n",
       "      <th>15</th>\n",
       "      <td>1380694967620000451</td>\n",
       "      <td>2013-10-02 08:27:32</td>\n",
       "      <td>0.999419</td>\n",
       "      <td>0.993246</td>\n",
       "      <td>0.996329</td>\n",
       "      <td>0.997916</td>\n",
       "      <td>0.998887</td>\n",
       "      <td>0.999419</td>\n",
       "      <td>0.999744</td>\n",
       "      <td>0.999964</td>\n",
       "      <td>1.000148</td>\n",
       "      <td>1.000455</td>\n",
       "    </tr>\n",
       "    <tr>\n",
       "      <th>16</th>\n",
       "      <td>1380694967620000451</td>\n",
       "      <td>2013-10-02 08:27:47</td>\n",
       "      <td>0.999422</td>\n",
       "      <td>0.992894</td>\n",
       "      <td>0.996113</td>\n",
       "      <td>0.997805</td>\n",
       "      <td>0.998834</td>\n",
       "      <td>0.999422</td>\n",
       "      <td>0.999805</td>\n",
       "      <td>1.000030</td>\n",
       "      <td>1.000244</td>\n",
       "      <td>1.000593</td>\n",
       "    </tr>\n",
       "    <tr>\n",
       "      <th>17</th>\n",
       "      <td>1380694967620000451</td>\n",
       "      <td>2013-10-02 08:28:02</td>\n",
       "      <td>0.999289</td>\n",
       "      <td>0.992377</td>\n",
       "      <td>0.995784</td>\n",
       "      <td>0.997570</td>\n",
       "      <td>0.998650</td>\n",
       "      <td>0.999289</td>\n",
       "      <td>0.999700</td>\n",
       "      <td>0.999954</td>\n",
       "      <td>1.000193</td>\n",
       "      <td>1.000543</td>\n",
       "    </tr>\n",
       "    <tr>\n",
       "      <th>18</th>\n",
       "      <td>1380694967620000451</td>\n",
       "      <td>2013-10-02 08:28:17</td>\n",
       "      <td>0.999212</td>\n",
       "      <td>0.991992</td>\n",
       "      <td>0.995512</td>\n",
       "      <td>0.997393</td>\n",
       "      <td>0.998528</td>\n",
       "      <td>0.999212</td>\n",
       "      <td>0.999650</td>\n",
       "      <td>0.999927</td>\n",
       "      <td>1.000169</td>\n",
       "      <td>1.000524</td>\n",
       "    </tr>\n",
       "    <tr>\n",
       "      <th>19</th>\n",
       "      <td>1380694967620000451</td>\n",
       "      <td>2013-10-02 08:28:32</td>\n",
       "      <td>0.999117</td>\n",
       "      <td>0.991645</td>\n",
       "      <td>0.995301</td>\n",
       "      <td>0.997231</td>\n",
       "      <td>0.998412</td>\n",
       "      <td>0.999117</td>\n",
       "      <td>0.999575</td>\n",
       "      <td>0.999875</td>\n",
       "      <td>1.000114</td>\n",
       "      <td>1.000473</td>\n",
       "    </tr>\n",
       "    <tr>\n",
       "      <th>20</th>\n",
       "      <td>1398764351620000197</td>\n",
       "      <td>2014-04-29 11:39:41</td>\n",
       "      <td>0.980085</td>\n",
       "      <td>0.980016</td>\n",
       "      <td>0.980045</td>\n",
       "      <td>0.980050</td>\n",
       "      <td>0.980044</td>\n",
       "      <td>0.980085</td>\n",
       "      <td>0.980103</td>\n",
       "      <td>0.980129</td>\n",
       "      <td>0.980167</td>\n",
       "      <td>0.980254</td>\n",
       "    </tr>\n",
       "    <tr>\n",
       "      <th>21</th>\n",
       "      <td>1398764351620000197</td>\n",
       "      <td>2014-04-29 11:39:56</td>\n",
       "      <td>0.980127</td>\n",
       "      <td>0.979987</td>\n",
       "      <td>0.980084</td>\n",
       "      <td>0.980099</td>\n",
       "      <td>0.980105</td>\n",
       "      <td>0.980127</td>\n",
       "      <td>0.980160</td>\n",
       "      <td>0.980188</td>\n",
       "      <td>0.980241</td>\n",
       "      <td>0.980379</td>\n",
       "    </tr>\n",
       "    <tr>\n",
       "      <th>22</th>\n",
       "      <td>1398764351620000197</td>\n",
       "      <td>2014-04-29 11:40:11</td>\n",
       "      <td>0.980182</td>\n",
       "      <td>0.979752</td>\n",
       "      <td>0.980177</td>\n",
       "      <td>0.980161</td>\n",
       "      <td>0.980149</td>\n",
       "      <td>0.980182</td>\n",
       "      <td>0.980193</td>\n",
       "      <td>0.980236</td>\n",
       "      <td>0.980327</td>\n",
       "      <td>0.980586</td>\n",
       "    </tr>\n",
       "    <tr>\n",
       "      <th>23</th>\n",
       "      <td>1398764351620000197</td>\n",
       "      <td>2014-04-29 11:40:26</td>\n",
       "      <td>0.980192</td>\n",
       "      <td>0.979230</td>\n",
       "      <td>0.980131</td>\n",
       "      <td>0.980199</td>\n",
       "      <td>0.980166</td>\n",
       "      <td>0.980192</td>\n",
       "      <td>0.980227</td>\n",
       "      <td>0.980249</td>\n",
       "      <td>0.980349</td>\n",
       "      <td>0.980696</td>\n",
       "    </tr>\n",
       "    <tr>\n",
       "      <th>24</th>\n",
       "      <td>1398764351620000197</td>\n",
       "      <td>2014-04-29 11:40:41</td>\n",
       "      <td>0.980315</td>\n",
       "      <td>0.978583</td>\n",
       "      <td>0.980088</td>\n",
       "      <td>0.980301</td>\n",
       "      <td>0.980302</td>\n",
       "      <td>0.980315</td>\n",
       "      <td>0.980341</td>\n",
       "      <td>0.980372</td>\n",
       "      <td>0.980516</td>\n",
       "      <td>0.980944</td>\n",
       "    </tr>\n",
       "    <tr>\n",
       "      <th>25</th>\n",
       "      <td>1398764351620000197</td>\n",
       "      <td>2014-04-29 11:40:56</td>\n",
       "      <td>0.980249</td>\n",
       "      <td>0.977736</td>\n",
       "      <td>0.979746</td>\n",
       "      <td>0.980147</td>\n",
       "      <td>0.980196</td>\n",
       "      <td>0.980249</td>\n",
       "      <td>0.980269</td>\n",
       "      <td>0.980309</td>\n",
       "      <td>0.980466</td>\n",
       "      <td>0.980966</td>\n",
       "    </tr>\n",
       "    <tr>\n",
       "      <th>26</th>\n",
       "      <td>1398764351620000197</td>\n",
       "      <td>2014-04-29 11:41:11</td>\n",
       "      <td>0.980258</td>\n",
       "      <td>0.976952</td>\n",
       "      <td>0.979479</td>\n",
       "      <td>0.980099</td>\n",
       "      <td>0.980221</td>\n",
       "      <td>0.980258</td>\n",
       "      <td>0.980266</td>\n",
       "      <td>0.980327</td>\n",
       "      <td>0.980519</td>\n",
       "      <td>0.981057</td>\n",
       "    </tr>\n",
       "    <tr>\n",
       "      <th>27</th>\n",
       "      <td>1398764351620000197</td>\n",
       "      <td>2014-04-29 11:41:26</td>\n",
       "      <td>0.980178</td>\n",
       "      <td>0.975915</td>\n",
       "      <td>0.979010</td>\n",
       "      <td>0.979925</td>\n",
       "      <td>0.980142</td>\n",
       "      <td>0.980178</td>\n",
       "      <td>0.980192</td>\n",
       "      <td>0.980277</td>\n",
       "      <td>0.980499</td>\n",
       "      <td>0.981112</td>\n",
       "    </tr>\n",
       "    <tr>\n",
       "      <th>28</th>\n",
       "      <td>1398764351620000197</td>\n",
       "      <td>2014-04-29 11:41:41</td>\n",
       "      <td>0.980220</td>\n",
       "      <td>0.975024</td>\n",
       "      <td>0.978644</td>\n",
       "      <td>0.979818</td>\n",
       "      <td>0.980162</td>\n",
       "      <td>0.980220</td>\n",
       "      <td>0.980235</td>\n",
       "      <td>0.980319</td>\n",
       "      <td>0.980558</td>\n",
       "      <td>0.981266</td>\n",
       "    </tr>\n",
       "    <tr>\n",
       "      <th>29</th>\n",
       "      <td>1398764351620000197</td>\n",
       "      <td>2014-04-29 11:41:56</td>\n",
       "      <td>0.980140</td>\n",
       "      <td>0.974037</td>\n",
       "      <td>0.978103</td>\n",
       "      <td>0.979537</td>\n",
       "      <td>0.980024</td>\n",
       "      <td>0.980140</td>\n",
       "      <td>0.980155</td>\n",
       "      <td>0.980263</td>\n",
       "      <td>0.980532</td>\n",
       "      <td>0.981311</td>\n",
       "    </tr>\n",
       "    <tr>\n",
       "      <th>30</th>\n",
       "      <td>1398764351620000197</td>\n",
       "      <td>2014-04-29 11:42:11</td>\n",
       "      <td>0.980128</td>\n",
       "      <td>0.973016</td>\n",
       "      <td>0.977540</td>\n",
       "      <td>0.979277</td>\n",
       "      <td>0.979921</td>\n",
       "      <td>0.980128</td>\n",
       "      <td>0.980142</td>\n",
       "      <td>0.980239</td>\n",
       "      <td>0.980522</td>\n",
       "      <td>0.981354</td>\n",
       "    </tr>\n",
       "    <tr>\n",
       "      <th>31</th>\n",
       "      <td>1398764351620000197</td>\n",
       "      <td>2014-04-29 11:42:26</td>\n",
       "      <td>0.980032</td>\n",
       "      <td>0.972102</td>\n",
       "      <td>0.976917</td>\n",
       "      <td>0.978915</td>\n",
       "      <td>0.979733</td>\n",
       "      <td>0.980032</td>\n",
       "      <td>0.980104</td>\n",
       "      <td>0.980261</td>\n",
       "      <td>0.980583</td>\n",
       "      <td>0.981496</td>\n",
       "    </tr>\n",
       "    <tr>\n",
       "      <th>32</th>\n",
       "      <td>1398764351620000197</td>\n",
       "      <td>2014-04-29 11:42:41</td>\n",
       "      <td>0.979813</td>\n",
       "      <td>0.970951</td>\n",
       "      <td>0.976133</td>\n",
       "      <td>0.978414</td>\n",
       "      <td>0.979390</td>\n",
       "      <td>0.979813</td>\n",
       "      <td>0.979949</td>\n",
       "      <td>0.980131</td>\n",
       "      <td>0.980525</td>\n",
       "      <td>0.981512</td>\n",
       "    </tr>\n",
       "    <tr>\n",
       "      <th>33</th>\n",
       "      <td>1398764351620000197</td>\n",
       "      <td>2014-04-29 11:42:56</td>\n",
       "      <td>0.979617</td>\n",
       "      <td>0.969890</td>\n",
       "      <td>0.975422</td>\n",
       "      <td>0.977888</td>\n",
       "      <td>0.979081</td>\n",
       "      <td>0.979617</td>\n",
       "      <td>0.979823</td>\n",
       "      <td>0.980052</td>\n",
       "      <td>0.980488</td>\n",
       "      <td>0.981546</td>\n",
       "    </tr>\n",
       "    <tr>\n",
       "      <th>34</th>\n",
       "      <td>1398764351620000197</td>\n",
       "      <td>2014-04-29 11:43:11</td>\n",
       "      <td>0.979291</td>\n",
       "      <td>0.968764</td>\n",
       "      <td>0.974533</td>\n",
       "      <td>0.977222</td>\n",
       "      <td>0.978576</td>\n",
       "      <td>0.979291</td>\n",
       "      <td>0.979604</td>\n",
       "      <td>0.979879</td>\n",
       "      <td>0.980361</td>\n",
       "      <td>0.981499</td>\n",
       "    </tr>\n",
       "    <tr>\n",
       "      <th>35</th>\n",
       "      <td>1398764351620000197</td>\n",
       "      <td>2014-04-29 11:43:26</td>\n",
       "      <td>0.979077</td>\n",
       "      <td>0.967726</td>\n",
       "      <td>0.973807</td>\n",
       "      <td>0.976679</td>\n",
       "      <td>0.978221</td>\n",
       "      <td>0.979077</td>\n",
       "      <td>0.979495</td>\n",
       "      <td>0.979819</td>\n",
       "      <td>0.980335</td>\n",
       "      <td>0.981556</td>\n",
       "    </tr>\n",
       "    <tr>\n",
       "      <th>36</th>\n",
       "      <td>1398764351620000197</td>\n",
       "      <td>2014-04-29 11:43:41</td>\n",
       "      <td>0.978839</td>\n",
       "      <td>0.966738</td>\n",
       "      <td>0.973035</td>\n",
       "      <td>0.976126</td>\n",
       "      <td>0.977818</td>\n",
       "      <td>0.978839</td>\n",
       "      <td>0.979366</td>\n",
       "      <td>0.979747</td>\n",
       "      <td>0.980347</td>\n",
       "      <td>0.981660</td>\n",
       "    </tr>\n",
       "    <tr>\n",
       "      <th>37</th>\n",
       "      <td>1398764351620000197</td>\n",
       "      <td>2014-04-29 11:43:56</td>\n",
       "      <td>0.978673</td>\n",
       "      <td>0.965858</td>\n",
       "      <td>0.972363</td>\n",
       "      <td>0.975586</td>\n",
       "      <td>0.977504</td>\n",
       "      <td>0.978673</td>\n",
       "      <td>0.979310</td>\n",
       "      <td>0.979780</td>\n",
       "      <td>0.980436</td>\n",
       "      <td>0.981773</td>\n",
       "    </tr>\n",
       "    <tr>\n",
       "      <th>38</th>\n",
       "      <td>1398764351620000197</td>\n",
       "      <td>2014-04-29 11:44:11</td>\n",
       "      <td>0.978462</td>\n",
       "      <td>0.965121</td>\n",
       "      <td>0.971712</td>\n",
       "      <td>0.975077</td>\n",
       "      <td>0.977157</td>\n",
       "      <td>0.978462</td>\n",
       "      <td>0.979217</td>\n",
       "      <td>0.979719</td>\n",
       "      <td>0.980431</td>\n",
       "      <td>0.981791</td>\n",
       "    </tr>\n",
       "    <tr>\n",
       "      <th>39</th>\n",
       "      <td>1398764351620000197</td>\n",
       "      <td>2014-04-29 11:44:26</td>\n",
       "      <td>0.978169</td>\n",
       "      <td>0.964350</td>\n",
       "      <td>0.971067</td>\n",
       "      <td>0.974534</td>\n",
       "      <td>0.976718</td>\n",
       "      <td>0.978169</td>\n",
       "      <td>0.979036</td>\n",
       "      <td>0.979650</td>\n",
       "      <td>0.980388</td>\n",
       "      <td>0.981798</td>\n",
       "    </tr>\n",
       "  </tbody>\n",
       "</table>\n",
       "</div>"
      ]
     },
     "execution_count": 26,
     "metadata": {},
     "output_type": "execute_result"
    }
   ],
   "execution_count": 26
  },
  {
   "metadata": {
    "ExecuteTime": {
     "end_time": "2025-09-21T18:08:52.452354Z",
     "start_time": "2025-09-21T18:08:52.448582Z"
    }
   },
   "cell_type": "code",
   "source": "columns = ['timesfm-q-0.1', 'timesfm-q-0.2', 'timesfm-q-0.3', 'timesfm-q-0.4', 'timesfm-q-0.5', 'timesfm-q-0.6', 'timesfm-q-0.7', 'timesfm-q-0.8', 'timesfm-q-0.9']",
   "id": "ddc759e5de2c638d",
   "outputs": [],
   "execution_count": 27
  },
  {
   "metadata": {
    "ExecuteTime": {
     "end_time": "2025-09-21T18:08:52.524508Z",
     "start_time": "2025-09-21T18:08:52.503415Z"
    }
   },
   "cell_type": "code",
   "source": [
    "for column in columns:\n",
    "    forecast_df_lat[column] = scaler_lat.inverse_transform(forecast_df_lat[[column]])\n",
    "    forecast_df_lon[column] = scaler_lon.inverse_transform(forecast_df_lon[[column]])"
   ],
   "id": "82dd7cbf5aa99617",
   "outputs": [],
   "execution_count": 28
  },
  {
   "metadata": {
    "ExecuteTime": {
     "end_time": "2025-09-21T18:08:52.556390Z",
     "start_time": "2025-09-21T18:08:52.548287Z"
    }
   },
   "cell_type": "code",
   "source": [
    "forecast_df_lat = forecast_df_lat.sort_values(['unique_id', 'ds'])\n",
    "forecast_df_lat = forecast_df_lat.groupby('unique_id').tail(1)\n",
    "\n",
    "forecast_df_lon = forecast_df_lon.sort_values(['unique_id', 'ds'])\n",
    "forecast_df_lon = forecast_df_lon.groupby('unique_id').tail(1)"
   ],
   "id": "b2fda8e739fb7d89",
   "outputs": [],
   "execution_count": 29
  },
  {
   "metadata": {
    "ExecuteTime": {
     "end_time": "2025-09-21T18:08:52.614013Z",
     "start_time": "2025-09-21T18:08:52.605542Z"
    }
   },
   "cell_type": "code",
   "source": [
    "result_lat = df_lat_test.merge(forecast_df_lat, how='left', on=['unique_id'])\n",
    "result_lon = df_lon_test.merge(forecast_df_lon, how='left', on=['unique_id'])\n",
    "result = result_lat.merge(result_lon, how='left', on=['unique_id'])"
   ],
   "id": "3fa6cd2f9dc4851c",
   "outputs": [],
   "execution_count": 30
  },
  {
   "metadata": {
    "ExecuteTime": {
     "end_time": "2025-09-21T18:08:52.633464Z",
     "start_time": "2025-09-21T18:08:52.614013Z"
    }
   },
   "cell_type": "code",
   "source": "result",
   "id": "f2225daebef6cedd",
   "outputs": [
    {
     "data": {
      "text/plain": [
       "             unique_id      ds_x_x        LAT              ds_y_x  timesfm_x  \\\n",
       "0  1380694967620000451  1380702512  41.186565 2013-10-02 08:28:32   0.999117   \n",
       "1  1398764351620000197  1398771866  41.180859 2014-04-29 11:44:26   0.978169   \n",
       "\n",
       "   timesfm-q-0.1_x  timesfm-q-0.2_x  timesfm-q-0.3_x  timesfm-q-0.4_x  \\\n",
       "0        41.183311        41.184792        41.185570        41.186050   \n",
       "1        41.172264        41.174984        41.176388        41.177269   \n",
       "\n",
       "   timesfm-q-0.5_x  ...  timesfm_y  timesfm-q-0.1_y  timesfm-q-0.2_y  \\\n",
       "0        41.186333  ...   0.069606        -8.633243        -8.632535   \n",
       "1        41.177856  ...   0.390395        -8.591884        -8.587381   \n",
       "\n",
       "   timesfm-q-0.3_y  timesfm-q-0.4_y  timesfm-q-0.5_y timesfm-q-0.6_y  \\\n",
       "0        -8.632134        -8.631845        -8.631528       -8.631247   \n",
       "1        -8.585114        -8.582741        -8.581743       -8.580139   \n",
       "\n",
       "   timesfm-q-0.7_y  timesfm-q-0.8_y  timesfm-q-0.9_y  \n",
       "0        -8.630832        -8.629958        -8.627694  \n",
       "1        -8.578160        -8.576476        -8.571435  \n",
       "\n",
       "[2 rows x 27 columns]"
      ],
      "text/html": [
       "<div>\n",
       "<style scoped>\n",
       "    .dataframe tbody tr th:only-of-type {\n",
       "        vertical-align: middle;\n",
       "    }\n",
       "\n",
       "    .dataframe tbody tr th {\n",
       "        vertical-align: top;\n",
       "    }\n",
       "\n",
       "    .dataframe thead th {\n",
       "        text-align: right;\n",
       "    }\n",
       "</style>\n",
       "<table border=\"1\" class=\"dataframe\">\n",
       "  <thead>\n",
       "    <tr style=\"text-align: right;\">\n",
       "      <th></th>\n",
       "      <th>unique_id</th>\n",
       "      <th>ds_x_x</th>\n",
       "      <th>LAT</th>\n",
       "      <th>ds_y_x</th>\n",
       "      <th>timesfm_x</th>\n",
       "      <th>timesfm-q-0.1_x</th>\n",
       "      <th>timesfm-q-0.2_x</th>\n",
       "      <th>timesfm-q-0.3_x</th>\n",
       "      <th>timesfm-q-0.4_x</th>\n",
       "      <th>timesfm-q-0.5_x</th>\n",
       "      <th>...</th>\n",
       "      <th>timesfm_y</th>\n",
       "      <th>timesfm-q-0.1_y</th>\n",
       "      <th>timesfm-q-0.2_y</th>\n",
       "      <th>timesfm-q-0.3_y</th>\n",
       "      <th>timesfm-q-0.4_y</th>\n",
       "      <th>timesfm-q-0.5_y</th>\n",
       "      <th>timesfm-q-0.6_y</th>\n",
       "      <th>timesfm-q-0.7_y</th>\n",
       "      <th>timesfm-q-0.8_y</th>\n",
       "      <th>timesfm-q-0.9_y</th>\n",
       "    </tr>\n",
       "  </thead>\n",
       "  <tbody>\n",
       "    <tr>\n",
       "      <th>0</th>\n",
       "      <td>1380694967620000451</td>\n",
       "      <td>1380702512</td>\n",
       "      <td>41.186565</td>\n",
       "      <td>2013-10-02 08:28:32</td>\n",
       "      <td>0.999117</td>\n",
       "      <td>41.183311</td>\n",
       "      <td>41.184792</td>\n",
       "      <td>41.185570</td>\n",
       "      <td>41.186050</td>\n",
       "      <td>41.186333</td>\n",
       "      <td>...</td>\n",
       "      <td>0.069606</td>\n",
       "      <td>-8.633243</td>\n",
       "      <td>-8.632535</td>\n",
       "      <td>-8.632134</td>\n",
       "      <td>-8.631845</td>\n",
       "      <td>-8.631528</td>\n",
       "      <td>-8.631247</td>\n",
       "      <td>-8.630832</td>\n",
       "      <td>-8.629958</td>\n",
       "      <td>-8.627694</td>\n",
       "    </tr>\n",
       "    <tr>\n",
       "      <th>1</th>\n",
       "      <td>1398764351620000197</td>\n",
       "      <td>1398771866</td>\n",
       "      <td>41.180859</td>\n",
       "      <td>2014-04-29 11:44:26</td>\n",
       "      <td>0.978169</td>\n",
       "      <td>41.172264</td>\n",
       "      <td>41.174984</td>\n",
       "      <td>41.176388</td>\n",
       "      <td>41.177269</td>\n",
       "      <td>41.177856</td>\n",
       "      <td>...</td>\n",
       "      <td>0.390395</td>\n",
       "      <td>-8.591884</td>\n",
       "      <td>-8.587381</td>\n",
       "      <td>-8.585114</td>\n",
       "      <td>-8.582741</td>\n",
       "      <td>-8.581743</td>\n",
       "      <td>-8.580139</td>\n",
       "      <td>-8.578160</td>\n",
       "      <td>-8.576476</td>\n",
       "      <td>-8.571435</td>\n",
       "    </tr>\n",
       "  </tbody>\n",
       "</table>\n",
       "<p>2 rows × 27 columns</p>\n",
       "</div>"
      ]
     },
     "execution_count": 31,
     "metadata": {},
     "output_type": "execute_result"
    }
   ],
   "execution_count": 31
  },
  {
   "metadata": {
    "ExecuteTime": {
     "end_time": "2025-09-21T18:08:52.702233Z",
     "start_time": "2025-09-21T18:08:52.695027Z"
    }
   },
   "cell_type": "code",
   "source": "df_lat_test",
   "id": "49054dc6e70aea13",
   "outputs": [
    {
     "data": {
      "text/plain": [
       "                    unique_id          ds        LAT\n",
       "index                                               \n",
       "20214777  1380694967620000451  1380702512  41.186565\n",
       "67580734  1398764351620000197  1398771866  41.180859"
      ],
      "text/html": [
       "<div>\n",
       "<style scoped>\n",
       "    .dataframe tbody tr th:only-of-type {\n",
       "        vertical-align: middle;\n",
       "    }\n",
       "\n",
       "    .dataframe tbody tr th {\n",
       "        vertical-align: top;\n",
       "    }\n",
       "\n",
       "    .dataframe thead th {\n",
       "        text-align: right;\n",
       "    }\n",
       "</style>\n",
       "<table border=\"1\" class=\"dataframe\">\n",
       "  <thead>\n",
       "    <tr style=\"text-align: right;\">\n",
       "      <th></th>\n",
       "      <th>unique_id</th>\n",
       "      <th>ds</th>\n",
       "      <th>LAT</th>\n",
       "    </tr>\n",
       "    <tr>\n",
       "      <th>index</th>\n",
       "      <th></th>\n",
       "      <th></th>\n",
       "      <th></th>\n",
       "    </tr>\n",
       "  </thead>\n",
       "  <tbody>\n",
       "    <tr>\n",
       "      <th>20214777</th>\n",
       "      <td>1380694967620000451</td>\n",
       "      <td>1380702512</td>\n",
       "      <td>41.186565</td>\n",
       "    </tr>\n",
       "    <tr>\n",
       "      <th>67580734</th>\n",
       "      <td>1398764351620000197</td>\n",
       "      <td>1398771866</td>\n",
       "      <td>41.180859</td>\n",
       "    </tr>\n",
       "  </tbody>\n",
       "</table>\n",
       "</div>"
      ]
     },
     "execution_count": 32,
     "metadata": {},
     "output_type": "execute_result"
    }
   ],
   "execution_count": 32
  },
  {
   "metadata": {
    "ExecuteTime": {
     "end_time": "2025-09-21T18:08:52.760829Z",
     "start_time": "2025-09-21T18:08:52.751003Z"
    }
   },
   "cell_type": "code",
   "source": [
    "for col in columns:\n",
    "    result[f'DISTANCE_DELTA_SEPARATED_{col}'] = result.apply(lambda row: haversine_distance(\n",
    "    row['LAT'], row['LON'], row[f'{col}_x'], row[f'{col}_y']), axis=1)"
   ],
   "id": "e6c4b64c066ba7f4",
   "outputs": [],
   "execution_count": 33
  },
  {
   "metadata": {
    "ExecuteTime": {
     "end_time": "2025-09-21T18:08:52.923160Z",
     "start_time": "2025-09-21T18:08:52.916752Z"
    }
   },
   "cell_type": "code",
   "source": [
    "for col in columns:\n",
    "    print(f\"Column: {col}   Mean: {result[f'DISTANCE_DELTA_SEPARATED_{col}'].mean()}    Median: {result[f'DISTANCE_DELTA_SEPARATED_{col}'].median()}\")"
   ],
   "id": "5b99a14cdb92b324",
   "outputs": [
    {
     "name": "stdout",
     "output_type": "stream",
     "text": [
      "Column: timesfm-q-0.1   Mean: 0.8016838476705829    Median: 0.8016838476705829\n",
      "Column: timesfm-q-0.2   Mean: 0.48244817666120887    Median: 0.48244817666120887\n",
      "Column: timesfm-q-0.3   Mean: 0.3252393518537869    Median: 0.3252393518537869\n",
      "Column: timesfm-q-0.4   Mean: 0.23203589530400925    Median: 0.23203589530400925\n",
      "Column: timesfm-q-0.5   Mean: 0.20197617679939922    Median: 0.20197617679939922\n",
      "Column: timesfm-q-0.6   Mean: 0.22021614945826257    Median: 0.22021614945826257\n",
      "Column: timesfm-q-0.7   Mean: 0.2866258636338012    Median: 0.2866258636338012\n",
      "Column: timesfm-q-0.8   Mean: 0.3765451386861819    Median: 0.3765451386861819\n",
      "Column: timesfm-q-0.9   Mean: 0.664810625685872    Median: 0.664810625685872\n"
     ]
    }
   ],
   "execution_count": 34
  },
  {
   "metadata": {
    "ExecuteTime": {
     "end_time": "2025-09-21T18:08:53.772750Z",
     "start_time": "2025-09-21T18:08:52.983595Z"
    }
   },
   "cell_type": "code",
   "source": "import matplotlib.pyplot as plt",
   "id": "bf4d1aafe871993c",
   "outputs": [],
   "execution_count": 35
  },
  {
   "metadata": {
    "ExecuteTime": {
     "end_time": "2025-09-21T18:08:53.781595Z",
     "start_time": "2025-09-21T18:08:53.772750Z"
    }
   },
   "cell_type": "code",
   "source": [
    "stats = []\n",
    "for col in columns:\n",
    "    mean_val = result[f'DISTANCE_DELTA_SEPARATED_{col}'].mean()\n",
    "    median_val = result[f'DISTANCE_DELTA_SEPARATED_{col}'].median()\n",
    "    label = col.replace(\"timesfm-\", \"\")\n",
    "    stats.append({\"quantile\": label, \"mean\": mean_val, \"median\": median_val})\n",
    "\n",
    "df_stats = pd.DataFrame(stats)"
   ],
   "id": "c4c47ecb39d1e546",
   "outputs": [],
   "execution_count": 36
  },
  {
   "metadata": {
    "ExecuteTime": {
     "end_time": "2025-09-21T18:08:53.966613Z",
     "start_time": "2025-09-21T18:08:53.811352Z"
    }
   },
   "cell_type": "code",
   "source": [
    "plt.figure(figsize=(8,5))\n",
    "plt.plot(df_stats[\"quantile\"], df_stats[\"mean\"], marker=\"o\", label=\"Mean\")\n",
    "plt.plot(df_stats[\"quantile\"], df_stats[\"median\"], marker=\"o\", label=\"Median\")\n",
    "plt.xlabel(\"Quantile\")\n",
    "plt.ylabel(\"Haversine distance error\")\n",
    "plt.title(\"Prediction error vs. quantile\")\n",
    "plt.legend()\n",
    "plt.grid(True)\n",
    "plt.show()"
   ],
   "id": "6ce332bbda0bcf56",
   "outputs": [
    {
     "data": {
      "text/plain": [
       "<Figure size 800x500 with 1 Axes>"
      ],
      "image/png": "[encoded data removed]"
     },
     "metadata": {},
     "output_type": "display_data"
    }
   ],
   "execution_count": 37
  }
 ],
 "metadata": {
  "kernelspec": {
   "display_name": "Python 3",
   "language": "python",
   "name": "python3"
  },
  "language_info": {
   "codemirror_mode": {
    "name": "ipython",
    "version": 2
   },
   "file_extension": ".py",
   "mimetype": "text/x-python",
   "name": "python",
   "nbconvert_exporter": "python",
   "pygments_lexer": "ipython2",
   "version": "2.7.6"
  }
 },
 "nbformat": 4,
 "nbformat_minor": 5
}
