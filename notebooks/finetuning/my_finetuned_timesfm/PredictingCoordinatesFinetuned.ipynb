{
 "cells": [
  {
   "cell_type": "code",
   "id": "initial_id",
   "metadata": {
    "collapsed": true,
    "ExecuteTime": {
     "end_time": "2025-09-21T18:56:28.313175Z",
     "start_time": "2025-09-21T18:56:27.916577Z"
    }
   },
   "source": [
    "import pandas as pd"
   ],
   "outputs": [],
   "execution_count": 1
  },
  {
   "cell_type": "code",
   "id": "31235c077b90ad65",
   "metadata": {
    "ExecuteTime": {
     "end_time": "2025-09-21T18:56:29.395549Z",
     "start_time": "2025-09-21T18:56:28.319189Z"
    }
   },
   "source": [
    "df = pd.read_parquet(\"../../../data/data_taxi_central_based.parquet\")\n",
    "trip_ids_to_keep = [1398764351620000197, 1380694967620000451]\n",
    "df = df[df['TRIP_ID'].isin(trip_ids_to_keep)]\n",
    "df"
   ],
   "outputs": [
    {
     "data": {
      "text/plain": [
       "                      TRIP_ID  ORIGIN_CALL   TAXI_ID   TIMESTAMP  \\\n",
       "index                                                              \n",
       "20214274  1380694967620000451      19967.0  20000451  1380694967   \n",
       "20214275  1380694967620000451      19967.0  20000451  1380694982   \n",
       "20214276  1380694967620000451      19967.0  20000451  1380694997   \n",
       "20214277  1380694967620000451      19967.0  20000451  1380695012   \n",
       "20214278  1380694967620000451      19967.0  20000451  1380695027   \n",
       "...                       ...          ...       ...         ...   \n",
       "67580730  1398764351620000197      63882.0  20000197  1398771806   \n",
       "67580731  1398764351620000197      63882.0  20000197  1398771821   \n",
       "67580732  1398764351620000197      63882.0  20000197  1398771836   \n",
       "67580733  1398764351620000197      63882.0  20000197  1398771851   \n",
       "67580734  1398764351620000197      63882.0  20000197  1398771866   \n",
       "\n",
       "          POLYLINE_LENGTH       LON        LAT  \n",
       "index                                           \n",
       "20214274              504 -8.640432  41.147676  \n",
       "20214275              504 -8.639622  41.144274  \n",
       "20214276              504 -8.638362  41.140755  \n",
       "20214277              504 -8.635878  41.137317  \n",
       "20214278              504 -8.635464  41.133564  \n",
       "...                   ...       ...        ...  \n",
       "67580730              502 -8.582418  41.178528  \n",
       "67580731              502 -8.582535  41.178600  \n",
       "67580732              502 -8.582202  41.179617  \n",
       "67580733              502 -8.581860  41.180283  \n",
       "67580734              502 -8.582607  41.180859  \n",
       "\n",
       "[1006 rows x 7 columns]"
      ],
      "text/html": [
       "<div>\n",
       "<style scoped>\n",
       "    .dataframe tbody tr th:only-of-type {\n",
       "        vertical-align: middle;\n",
       "    }\n",
       "\n",
       "    .dataframe tbody tr th {\n",
       "        vertical-align: top;\n",
       "    }\n",
       "\n",
       "    .dataframe thead th {\n",
       "        text-align: right;\n",
       "    }\n",
       "</style>\n",
       "<table border=\"1\" class=\"dataframe\">\n",
       "  <thead>\n",
       "    <tr style=\"text-align: right;\">\n",
       "      <th></th>\n",
       "      <th>TRIP_ID</th>\n",
       "      <th>ORIGIN_CALL</th>\n",
       "      <th>TAXI_ID</th>\n",
       "      <th>TIMESTAMP</th>\n",
       "      <th>POLYLINE_LENGTH</th>\n",
       "      <th>LON</th>\n",
       "      <th>LAT</th>\n",
       "    </tr>\n",
       "    <tr>\n",
       "      <th>index</th>\n",
       "      <th></th>\n",
       "      <th></th>\n",
       "      <th></th>\n",
       "      <th></th>\n",
       "      <th></th>\n",
       "      <th></th>\n",
       "      <th></th>\n",
       "    </tr>\n",
       "  </thead>\n",
       "  <tbody>\n",
       "    <tr>\n",
       "      <th>20214274</th>\n",
       "      <td>1380694967620000451</td>\n",
       "      <td>19967.0</td>\n",
       "      <td>20000451</td>\n",
       "      <td>1380694967</td>\n",
       "      <td>504</td>\n",
       "      <td>-8.640432</td>\n",
       "      <td>41.147676</td>\n",
       "    </tr>\n",
       "    <tr>\n",
       "      <th>20214275</th>\n",
       "      <td>1380694967620000451</td>\n",
       "      <td>19967.0</td>\n",
       "      <td>20000451</td>\n",
       "      <td>1380694982</td>\n",
       "      <td>504</td>\n",
       "      <td>-8.639622</td>\n",
       "      <td>41.144274</td>\n",
       "    </tr>\n",
       "    <tr>\n",
       "      <th>20214276</th>\n",
       "      <td>1380694967620000451</td>\n",
       "      <td>19967.0</td>\n",
       "      <td>20000451</td>\n",
       "      <td>1380694997</td>\n",
       "      <td>504</td>\n",
       "      <td>-8.638362</td>\n",
       "      <td>41.140755</td>\n",
       "    </tr>\n",
       "    <tr>\n",
       "      <th>20214277</th>\n",
       "      <td>1380694967620000451</td>\n",
       "      <td>19967.0</td>\n",
       "      <td>20000451</td>\n",
       "      <td>1380695012</td>\n",
       "      <td>504</td>\n",
       "      <td>-8.635878</td>\n",
       "      <td>41.137317</td>\n",
       "    </tr>\n",
       "    <tr>\n",
       "      <th>20214278</th>\n",
       "      <td>1380694967620000451</td>\n",
       "      <td>19967.0</td>\n",
       "      <td>20000451</td>\n",
       "      <td>1380695027</td>\n",
       "      <td>504</td>\n",
       "      <td>-8.635464</td>\n",
       "      <td>41.133564</td>\n",
       "    </tr>\n",
       "    <tr>\n",
       "      <th>...</th>\n",
       "      <td>...</td>\n",
       "      <td>...</td>\n",
       "      <td>...</td>\n",
       "      <td>...</td>\n",
       "      <td>...</td>\n",
       "      <td>...</td>\n",
       "      <td>...</td>\n",
       "    </tr>\n",
       "    <tr>\n",
       "      <th>67580730</th>\n",
       "      <td>1398764351620000197</td>\n",
       "      <td>63882.0</td>\n",
       "      <td>20000197</td>\n",
       "      <td>1398771806</td>\n",
       "      <td>502</td>\n",
       "      <td>-8.582418</td>\n",
       "      <td>41.178528</td>\n",
       "    </tr>\n",
       "    <tr>\n",
       "      <th>67580731</th>\n",
       "      <td>1398764351620000197</td>\n",
       "      <td>63882.0</td>\n",
       "      <td>20000197</td>\n",
       "      <td>1398771821</td>\n",
       "      <td>502</td>\n",
       "      <td>-8.582535</td>\n",
       "      <td>41.178600</td>\n",
       "    </tr>\n",
       "    <tr>\n",
       "      <th>67580732</th>\n",
       "      <td>1398764351620000197</td>\n",
       "      <td>63882.0</td>\n",
       "      <td>20000197</td>\n",
       "      <td>1398771836</td>\n",
       "      <td>502</td>\n",
       "      <td>-8.582202</td>\n",
       "      <td>41.179617</td>\n",
       "    </tr>\n",
       "    <tr>\n",
       "      <th>67580733</th>\n",
       "      <td>1398764351620000197</td>\n",
       "      <td>63882.0</td>\n",
       "      <td>20000197</td>\n",
       "      <td>1398771851</td>\n",
       "      <td>502</td>\n",
       "      <td>-8.581860</td>\n",
       "      <td>41.180283</td>\n",
       "    </tr>\n",
       "    <tr>\n",
       "      <th>67580734</th>\n",
       "      <td>1398764351620000197</td>\n",
       "      <td>63882.0</td>\n",
       "      <td>20000197</td>\n",
       "      <td>1398771866</td>\n",
       "      <td>502</td>\n",
       "      <td>-8.582607</td>\n",
       "      <td>41.180859</td>\n",
       "    </tr>\n",
       "  </tbody>\n",
       "</table>\n",
       "<p>1006 rows × 7 columns</p>\n",
       "</div>"
      ]
     },
     "execution_count": 2,
     "metadata": {},
     "output_type": "execute_result"
    }
   ],
   "execution_count": 2
  },
  {
   "cell_type": "code",
   "id": "ac9990d577976560",
   "metadata": {
    "ExecuteTime": {
     "end_time": "2025-09-21T18:56:31.932696Z",
     "start_time": "2025-09-21T18:56:29.611622Z"
    }
   },
   "source": [
    "import timesfm"
   ],
   "outputs": [
    {
     "name": "stdout",
     "output_type": "stream",
     "text": [
      " See https://github.com/google-research/timesfm/blob/master/README.md for updated APIs.\n",
      "Loaded PyTorch TimesFM, likely because python version is 3.11.13 | packaged by Anaconda, Inc. | (main, Jun  5 2025, 13:03:15) [MSC v.1929 64 bit (AMD64)].\n"
     ]
    }
   ],
   "execution_count": 3
  },
  {
   "cell_type": "code",
   "id": "6d8fdf0c81a15ef0",
   "metadata": {
    "ExecuteTime": {
     "end_time": "2025-09-21T18:56:31.969730Z",
     "start_time": "2025-09-21T18:56:31.965610Z"
    }
   },
   "source": [
    "df_lon = df.drop(columns=['ORIGIN_CALL', 'TAXI_ID', 'POLYLINE_LENGTH', 'LAT'])\n",
    "df_lat = df.drop(columns=['ORIGIN_CALL', 'TAXI_ID', 'POLYLINE_LENGTH', 'LON'])"
   ],
   "outputs": [],
   "execution_count": 4
  },
  {
   "metadata": {
    "ExecuteTime": {
     "end_time": "2025-09-21T18:56:31.997738Z",
     "start_time": "2025-09-21T18:56:31.993896Z"
    }
   },
   "cell_type": "code",
   "source": "import torch",
   "id": "c8806de3b4fec2b9",
   "outputs": [],
   "execution_count": 5
  },
  {
   "cell_type": "code",
   "id": "aaf2ef79835988e8",
   "metadata": {
    "ExecuteTime": {
     "end_time": "2025-09-21T18:56:36.010586Z",
     "start_time": "2025-09-21T18:56:32.022160Z"
    }
   },
   "source": [
    "tfm_lat = timesfm.TimesFm(\n",
    "      hparams=timesfm.TimesFmHparams(\n",
    "          backend=\"gpu\",\n",
    "          per_core_batch_size=32,\n",
    "          horizon_len=20,\n",
    "          num_layers=50,\n",
    "          use_positional_embedding=False,\n",
    "          context_len=256,\n",
    "      ),\n",
    "      checkpoint=timesfm.TimesFmCheckpoint(path=\"timesfm_predictions_LAT.ckpt\", type=\"torch\"),\n",
    "  )"
   ],
   "outputs": [],
   "execution_count": 6
  },
  {
   "cell_type": "code",
   "id": "f2bf8bd6ea976c66",
   "metadata": {
    "ExecuteTime": {
     "end_time": "2025-09-21T18:56:39.599194Z",
     "start_time": "2025-09-21T18:56:36.016721Z"
    }
   },
   "source": [
    "tfm_lon = timesfm.TimesFm(\n",
    "      hparams=timesfm.TimesFmHparams(\n",
    "          backend=\"gpu\",\n",
    "          per_core_batch_size=32,\n",
    "          horizon_len=20,\n",
    "          num_layers=50,\n",
    "          use_positional_embedding=False,\n",
    "          context_len=256,\n",
    "      ),\n",
    "    checkpoint=timesfm.TimesFmCheckpoint(path=\"timesfm_predictions_LON.ckpt\", type=\"torch\"),\n",
    "  )"
   ],
   "outputs": [],
   "execution_count": 7
  },
  {
   "cell_type": "code",
   "id": "6544a51e861c3cfb",
   "metadata": {
    "ExecuteTime": {
     "end_time": "2025-09-21T18:56:39.633473Z",
     "start_time": "2025-09-21T18:56:39.611156Z"
    }
   },
   "source": [
    "df_lat = df_lat.sort_values(by=['TRIP_ID', 'TIMESTAMP'])\n",
    "df_lat_test = df_lat.groupby('TRIP_ID', group_keys=False).tail(20)\n",
    "df_lat_train = df_lat.drop(df_lat_test.index)"
   ],
   "outputs": [],
   "execution_count": 8
  },
  {
   "cell_type": "code",
   "id": "feca5a661cf1a0d8",
   "metadata": {
    "ExecuteTime": {
     "end_time": "2025-09-21T18:56:39.652699Z",
     "start_time": "2025-09-21T18:56:39.646265Z"
    }
   },
   "source": [
    "df_lon = df_lon.sort_values(by=['TRIP_ID', 'TIMESTAMP'])\n",
    "df_lon_test = df_lon.groupby('TRIP_ID', group_keys=False).tail(20)\n",
    "df_lon_train = df_lon.drop(df_lat_test.index)"
   ],
   "outputs": [],
   "execution_count": 9
  },
  {
   "cell_type": "code",
   "id": "ed9138b5a1f1ef4c",
   "metadata": {
    "ExecuteTime": {
     "end_time": "2025-09-21T18:56:40.716129Z",
     "start_time": "2025-09-21T18:56:39.667403Z"
    }
   },
   "source": [
    "import joblib\n",
    "scaler_lat = joblib.load(\"scaler_LAT.pkl\")\n",
    "scaler_lon = joblib.load(\"scaler_LON.pkl\")\n",
    "\n",
    "df_lat_train['LAT'] = scaler_lat.fit_transform(df_lat_train[['LAT']])\n",
    "df_lon_train['LON'] = scaler_lon.fit_transform(df_lon_train[['LON']])"
   ],
   "outputs": [],
   "execution_count": 10
  },
  {
   "cell_type": "code",
   "id": "debca559b45a7aa7",
   "metadata": {
    "ExecuteTime": {
     "end_time": "2025-09-21T18:56:40.741400Z",
     "start_time": "2025-09-21T18:56:40.732879Z"
    }
   },
   "source": [
    "df_lat_train['TIMESTAMP'] = pd.to_datetime(df_lat_train['TIMESTAMP'], unit='s')\n",
    "df_lon_train['TIMESTAMP'] = pd.to_datetime(df_lon_train['TIMESTAMP'], unit='s')"
   ],
   "outputs": [],
   "execution_count": 11
  },
  {
   "cell_type": "code",
   "id": "ac9f39dfe4f0f960",
   "metadata": {
    "ExecuteTime": {
     "end_time": "2025-09-21T18:56:40.761122Z",
     "start_time": "2025-09-21T18:56:40.755396Z"
    }
   },
   "source": [
    "df_lon_train = df_lon_train.rename(columns={'TIMESTAMP': 'ds', 'LON': 'y', 'TRIP_ID': 'unique_id'})\n",
    "df_lat_train = df_lat_train.rename(columns={'TIMESTAMP': 'ds', 'LAT': 'y', 'TRIP_ID': 'unique_id'})"
   ],
   "outputs": [],
   "execution_count": 12
  },
  {
   "cell_type": "code",
   "id": "ed3ada5fe1a7ca0e",
   "metadata": {
    "ExecuteTime": {
     "end_time": "2025-09-21T18:56:45.500641Z",
     "start_time": "2025-09-21T18:56:40.774961Z"
    }
   },
   "source": [
    "forecast_df_lon = tfm_lon.forecast_on_df(\n",
    "    inputs=df_lon_train,\n",
    "    freq=\"15s\",\n",
    "    value_name=\"y\",\n",
    "    num_jobs=-1,\n",
    ")"
   ],
   "outputs": [
    {
     "name": "stdout",
     "output_type": "stream",
     "text": [
      "Processing dataframe with multiple processes.\n",
      "Finished preprocessing dataframe.\n",
      "Finished forecasting.\n"
     ]
    }
   ],
   "execution_count": 13
  },
  {
   "cell_type": "code",
   "id": "8a832bbf399e88c5",
   "metadata": {
    "ExecuteTime": {
     "end_time": "2025-09-21T18:56:49.452968Z",
     "start_time": "2025-09-21T18:56:45.519362Z"
    }
   },
   "source": [
    "forecast_df_lat = tfm_lon.forecast_on_df(\n",
    "    inputs=df_lat_train,\n",
    "    freq=\"15s\",\n",
    "    value_name=\"y\",\n",
    "    num_jobs=-1,\n",
    ")"
   ],
   "outputs": [
    {
     "name": "stdout",
     "output_type": "stream",
     "text": [
      "Processing dataframe with multiple processes.\n",
      "Finished preprocessing dataframe.\n",
      "Finished forecasting.\n"
     ]
    }
   ],
   "execution_count": 14
  },
  {
   "cell_type": "code",
   "id": "e90b98dd91419fa4",
   "metadata": {
    "ExecuteTime": {
     "end_time": "2025-09-21T18:56:49.487167Z",
     "start_time": "2025-09-21T18:56:49.475794Z"
    }
   },
   "source": [
    "forecast_df_lon_keep = forecast_df_lon[['unique_id', 'ds', 'timesfm-q-0.9']]"
   ],
   "outputs": [],
   "execution_count": 15
  },
  {
   "cell_type": "code",
   "id": "8b5c3019c028bff6",
   "metadata": {
    "ExecuteTime": {
     "end_time": "2025-09-21T18:56:49.538839Z",
     "start_time": "2025-09-21T18:56:49.533802Z"
    }
   },
   "source": [
    "forecast_df_lat_keep = forecast_df_lat[['unique_id', 'ds', 'timesfm-q-0.9']]"
   ],
   "outputs": [],
   "execution_count": 16
  },
  {
   "cell_type": "code",
   "id": "28cea87086d776a8",
   "metadata": {
    "ExecuteTime": {
     "end_time": "2025-09-21T18:56:49.549970Z",
     "start_time": "2025-09-21T18:56:49.540878Z"
    }
   },
   "source": [
    "forecast_df_lat_keep['timesfm-q-0.9'] = scaler_lat.inverse_transform(forecast_df_lat_keep[['timesfm-q-0.9']])\n",
    "forecast_df_lon_keep['timesfm-q-0.9'] = scaler_lon.inverse_transform(forecast_df_lon_keep[['timesfm-q-0.9']])"
   ],
   "outputs": [
    {
     "name": "stderr",
     "output_type": "stream",
     "text": [
      "C:\\Users\\Nikola\\AppData\\Local\\Temp\\ipykernel_492\\3587103272.py:1: SettingWithCopyWarning: \n",
      "A value is trying to be set on a copy of a slice from a DataFrame.\n",
      "Try using .loc[row_indexer,col_indexer] = value instead\n",
      "\n",
      "See the caveats in the documentation: https://pandas.pydata.org/pandas-docs/stable/user_guide/indexing.html#returning-a-view-versus-a-copy\n",
      "  forecast_df_lat_keep['timesfm-q-0.9'] = scaler_lat.inverse_transform(forecast_df_lat_keep[['timesfm-q-0.9']])\n",
      "C:\\Users\\Nikola\\AppData\\Local\\Temp\\ipykernel_492\\3587103272.py:2: SettingWithCopyWarning: \n",
      "A value is trying to be set on a copy of a slice from a DataFrame.\n",
      "Try using .loc[row_indexer,col_indexer] = value instead\n",
      "\n",
      "See the caveats in the documentation: https://pandas.pydata.org/pandas-docs/stable/user_guide/indexing.html#returning-a-view-versus-a-copy\n",
      "  forecast_df_lon_keep['timesfm-q-0.9'] = scaler_lon.inverse_transform(forecast_df_lon_keep[['timesfm-q-0.9']])\n"
     ]
    }
   ],
   "execution_count": 17
  },
  {
   "cell_type": "code",
   "id": "9fb0429524f5d23b",
   "metadata": {
    "ExecuteTime": {
     "end_time": "2025-09-21T18:56:49.596225Z",
     "start_time": "2025-09-21T18:56:49.591122Z"
    }
   },
   "source": [
    "forecast_df_lat_keep = forecast_df_lat_keep.rename(columns={'timesfm-q-0.9': 'LAT_PREDICTED'})\n",
    "forecast_df_lon_keep = forecast_df_lon_keep.rename(columns={'timesfm-q-0.9': 'LON_PREDICTED'})"
   ],
   "outputs": [],
   "execution_count": 18
  },
  {
   "cell_type": "code",
   "id": "6c129c2e025cb7ae",
   "metadata": {
    "ExecuteTime": {
     "end_time": "2025-09-21T18:56:49.638290Z",
     "start_time": "2025-09-21T18:56:49.629804Z"
    }
   },
   "source": [
    "forecast_df_lat_keep = forecast_df_lat_keep.sort_values(['unique_id', 'ds'])\n",
    "forecast_df_lat_keep = forecast_df_lat_keep.groupby('unique_id').tail(1)\n",
    "\n",
    "forecast_df_lon_keep = forecast_df_lon_keep.sort_values(['unique_id', 'ds'])\n",
    "forecast_df_lon_keep = forecast_df_lon_keep.groupby('unique_id').tail(1)"
   ],
   "outputs": [],
   "execution_count": 19
  },
  {
   "cell_type": "code",
   "id": "46f75c22597f8364",
   "metadata": {
    "ExecuteTime": {
     "end_time": "2025-09-21T18:56:49.659357Z",
     "start_time": "2025-09-21T18:56:49.651299Z"
    }
   },
   "source": [
    "df_lon_test = df_lon_test.rename(columns={'TIMESTAMP': 'ds', 'TRIP_ID': 'unique_id'})\n",
    "df_lon_test = df_lon_test.sort_values(['unique_id', 'ds'])\n",
    "df_lon_test = df_lon_test.groupby('unique_id').tail(1)\n",
    "\n",
    "df_lat_test = df_lat_test.rename(columns={'TIMESTAMP': 'ds', 'TRIP_ID': 'unique_id'})\n",
    "df_lat_test = df_lat_test.sort_values(['unique_id', 'ds'])\n",
    "df_lat_test = df_lat_test.groupby('unique_id').tail(1)"
   ],
   "outputs": [],
   "execution_count": 20
  },
  {
   "cell_type": "code",
   "id": "46b58aacaf850616",
   "metadata": {
    "ExecuteTime": {
     "end_time": "2025-09-21T18:56:49.687948Z",
     "start_time": "2025-09-21T18:56:49.677592Z"
    }
   },
   "source": [
    "result_lat = df_lat_test.merge(forecast_df_lat_keep, how='left', on=['unique_id'])\n",
    "result_lon = df_lon_test.merge(forecast_df_lon_keep, how='left', on=['unique_id'])\n",
    "result = result_lat.merge(result_lon, how='left', on=['unique_id'])"
   ],
   "outputs": [],
   "execution_count": 21
  },
  {
   "cell_type": "code",
   "id": "968067708a9b0d80",
   "metadata": {
    "ExecuteTime": {
     "end_time": "2025-09-21T18:56:49.714224Z",
     "start_time": "2025-09-21T18:56:49.709623Z"
    }
   },
   "source": [
    "from evaluation_script import haversine_distance"
   ],
   "outputs": [],
   "execution_count": 22
  },
  {
   "cell_type": "code",
   "id": "185c32d8ae39f423",
   "metadata": {
    "ExecuteTime": {
     "end_time": "2025-09-21T18:56:49.742614Z",
     "start_time": "2025-09-21T18:56:49.736298Z"
    }
   },
   "source": [
    "result['DISTANCE_DELTA_SEPARATED'] = result.apply(lambda row: haversine_distance(\n",
    "    row['LAT'], row['LON'], row['LAT_PREDICTED'], row['LON_PREDICTED']), axis=1)"
   ],
   "outputs": [],
   "execution_count": 23
  },
  {
   "cell_type": "code",
   "id": "cac3d9e02fc41412",
   "metadata": {
    "ExecuteTime": {
     "end_time": "2025-09-21T18:56:49.769855Z",
     "start_time": "2025-09-21T18:56:49.764414Z"
    }
   },
   "source": [
    "result['DISTANCE_DELTA_SEPARATED'].mean()"
   ],
   "outputs": [
    {
     "data": {
      "text/plain": [
       "np.float64(3.995974982669308)"
      ]
     },
     "execution_count": 24,
     "metadata": {},
     "output_type": "execute_result"
    }
   ],
   "execution_count": 24
  },
  {
   "cell_type": "code",
   "id": "6d6de9b483deb9fa",
   "metadata": {
    "ExecuteTime": {
     "end_time": "2025-09-21T18:56:49.797710Z",
     "start_time": "2025-09-21T18:56:49.793294Z"
    }
   },
   "source": [
    "result['DISTANCE_DELTA_SEPARATED'].median()"
   ],
   "outputs": [
    {
     "data": {
      "text/plain": [
       "3.995974982669308"
      ]
     },
     "execution_count": 25,
     "metadata": {},
     "output_type": "execute_result"
    }
   ],
   "execution_count": 25
  },
  {
   "metadata": {
    "ExecuteTime": {
     "end_time": "2025-09-21T18:56:49.832563Z",
     "start_time": "2025-09-21T18:56:49.822044Z"
    }
   },
   "cell_type": "code",
   "source": "result.to_csv(\"result.csv\", index=False)",
   "id": "7c8457a4b2a692da",
   "outputs": [],
   "execution_count": 26
  },
  {
   "metadata": {
    "ExecuteTime": {
     "end_time": "2025-09-21T18:56:49.873182Z",
     "start_time": "2025-09-21T18:56:49.856112Z"
    }
   },
   "cell_type": "code",
   "source": "forecast_df_lat",
   "id": "45393fbae5424c2f",
   "outputs": [
    {
     "data": {
      "text/plain": [
       "              unique_id                  ds   timesfm  timesfm-q-0.1  \\\n",
       "0   1380694967620000451 2013-10-02 08:23:47  0.998914       0.946386   \n",
       "1   1380694967620000451 2013-10-02 08:24:02  0.996003       0.943106   \n",
       "2   1380694967620000451 2013-10-02 08:24:17  0.993021       0.938234   \n",
       "3   1380694967620000451 2013-10-02 08:24:32  0.984666       0.923246   \n",
       "4   1380694967620000451 2013-10-02 08:24:47  0.990050       0.926535   \n",
       "5   1380694967620000451 2013-10-02 08:25:02  0.992239       0.923594   \n",
       "6   1380694967620000451 2013-10-02 08:25:17  0.992179       0.920083   \n",
       "7   1380694967620000451 2013-10-02 08:25:32  0.988927       0.916469   \n",
       "8   1380694967620000451 2013-10-02 08:25:47  0.989752       0.919373   \n",
       "9   1380694967620000451 2013-10-02 08:26:02  0.996802       0.931073   \n",
       "10  1380694967620000451 2013-10-02 08:26:17  0.995134       0.928910   \n",
       "11  1380694967620000451 2013-10-02 08:26:32  0.989810       0.915228   \n",
       "12  1380694967620000451 2013-10-02 08:26:47  0.994190       0.916635   \n",
       "13  1380694967620000451 2013-10-02 08:27:02  1.000766       0.918674   \n",
       "14  1380694967620000451 2013-10-02 08:27:17  0.998779       0.910771   \n",
       "15  1380694967620000451 2013-10-02 08:27:32  0.999136       0.905656   \n",
       "16  1380694967620000451 2013-10-02 08:27:47  1.002302       0.912224   \n",
       "17  1380694967620000451 2013-10-02 08:28:02  1.006738       0.913824   \n",
       "18  1380694967620000451 2013-10-02 08:28:17  1.005319       0.905502   \n",
       "19  1380694967620000451 2013-10-02 08:28:32  1.002987       0.900858   \n",
       "20  1398764351620000197 2014-04-29 11:39:41  0.953714       0.936971   \n",
       "21  1398764351620000197 2014-04-29 11:39:56  0.955154       0.937704   \n",
       "22  1398764351620000197 2014-04-29 11:40:11  0.956710       0.938487   \n",
       "23  1398764351620000197 2014-04-29 11:40:26  0.955950       0.937007   \n",
       "24  1398764351620000197 2014-04-29 11:40:41  0.957962       0.938064   \n",
       "25  1398764351620000197 2014-04-29 11:40:56  0.960433       0.938926   \n",
       "26  1398764351620000197 2014-04-29 11:41:11  0.961887       0.939556   \n",
       "27  1398764351620000197 2014-04-29 11:41:26  0.959546       0.937376   \n",
       "28  1398764351620000197 2014-04-29 11:41:41  0.959473       0.937326   \n",
       "29  1398764351620000197 2014-04-29 11:41:56  0.960527       0.939363   \n",
       "30  1398764351620000197 2014-04-29 11:42:11  0.958737       0.937009   \n",
       "31  1398764351620000197 2014-04-29 11:42:26  0.955959       0.932685   \n",
       "32  1398764351620000197 2014-04-29 11:42:41  0.956542       0.932334   \n",
       "33  1398764351620000197 2014-04-29 11:42:56  0.957652       0.932819   \n",
       "34  1398764351620000197 2014-04-29 11:43:11  0.958293       0.932393   \n",
       "35  1398764351620000197 2014-04-29 11:43:26  0.958976       0.932656   \n",
       "36  1398764351620000197 2014-04-29 11:43:41  0.960272       0.933736   \n",
       "37  1398764351620000197 2014-04-29 11:43:56  0.962718       0.935765   \n",
       "38  1398764351620000197 2014-04-29 11:44:11  0.962982       0.935064   \n",
       "39  1398764351620000197 2014-04-29 11:44:26  0.962633       0.934515   \n",
       "\n",
       "    timesfm-q-0.2  timesfm-q-0.3  timesfm-q-0.4  timesfm-q-0.5  timesfm-q-0.6  \\\n",
       "0        0.964347       0.978765       0.988690       0.998914       1.009061   \n",
       "1        0.960447       0.975573       0.986214       0.996003       1.006366   \n",
       "2        0.956622       0.969495       0.984043       0.993021       1.004656   \n",
       "3        0.945050       0.959399       0.974025       0.984666       0.996360   \n",
       "4        0.948714       0.964204       0.980451       0.990050       1.001885   \n",
       "5        0.949260       0.966661       0.979852       0.992239       1.003255   \n",
       "6        0.949945       0.966371       0.979785       0.992179       1.003312   \n",
       "7        0.944839       0.962627       0.976882       0.988927       1.000719   \n",
       "8        0.946910       0.965094       0.978577       0.989752       1.001783   \n",
       "9        0.954064       0.972371       0.985977       0.996802       1.008888   \n",
       "10       0.953801       0.970535       0.984211       0.995134       1.006019   \n",
       "11       0.946184       0.962540       0.977516       0.989810       1.003149   \n",
       "12       0.948729       0.962856       0.980638       0.994190       1.006587   \n",
       "13       0.949870       0.967937       0.984271       1.000766       1.013462   \n",
       "14       0.942950       0.964094       0.979805       0.998779       1.012339   \n",
       "15       0.940954       0.966777       0.980520       0.999136       1.011596   \n",
       "16       0.945154       0.968774       0.987809       1.002302       1.015280   \n",
       "17       0.947988       0.975027       0.992663       1.006738       1.020296   \n",
       "18       0.942786       0.966601       0.989426       1.005319       1.018633   \n",
       "19       0.936532       0.967672       0.987559       1.002987       1.017067   \n",
       "20       0.943254       0.947383       0.950748       0.953714       0.956700   \n",
       "21       0.944494       0.949191       0.952464       0.955154       0.958163   \n",
       "22       0.945498       0.949762       0.953655       0.956710       0.959795   \n",
       "23       0.944420       0.948744       0.952819       0.955950       0.959014   \n",
       "24       0.945782       0.950710       0.954913       0.957962       0.961149   \n",
       "25       0.947305       0.952836       0.956888       0.960433       0.963600   \n",
       "26       0.949063       0.954110       0.958302       0.961887       0.965393   \n",
       "27       0.946383       0.951645       0.956045       0.959546       0.963132   \n",
       "28       0.946395       0.951609       0.955751       0.959473       0.962770   \n",
       "29       0.947760       0.953094       0.957215       0.960527       0.964063   \n",
       "30       0.945541       0.950689       0.955243       0.958737       0.962184   \n",
       "31       0.942430       0.947642       0.952265       0.955959       0.959847   \n",
       "32       0.942245       0.947434       0.952489       0.956542       0.960310   \n",
       "33       0.942218       0.948092       0.952988       0.957652       0.961461   \n",
       "34       0.941985       0.948249       0.953213       0.958293       0.962468   \n",
       "35       0.942452       0.949433       0.953957       0.958976       0.962995   \n",
       "36       0.943115       0.949578       0.955609       0.960272       0.964361   \n",
       "37       0.945175       0.952620       0.958119       0.962718       0.967141   \n",
       "38       0.944931       0.951556       0.957961       0.962982       0.967398   \n",
       "39       0.943927       0.951712       0.957726       0.962633       0.967568   \n",
       "\n",
       "    timesfm-q-0.7  timesfm-q-0.8  timesfm-q-0.9  \n",
       "0        1.018444       1.029821       1.042801  \n",
       "1        1.016114       1.031343       1.046354  \n",
       "2        1.014598       1.030685       1.047885  \n",
       "3        1.007991       1.021940       1.042002  \n",
       "4        1.013303       1.028020       1.048539  \n",
       "5        1.015772       1.030406       1.050239  \n",
       "6        1.016482       1.031377       1.049616  \n",
       "7        1.014271       1.029978       1.047752  \n",
       "8        1.015340       1.031757       1.050162  \n",
       "9        1.022527       1.036656       1.055976  \n",
       "10       1.019066       1.033435       1.051104  \n",
       "11       1.014490       1.031401       1.049531  \n",
       "12       1.019000       1.034557       1.053989  \n",
       "13       1.026801       1.041148       1.062207  \n",
       "14       1.026570       1.042307       1.063121  \n",
       "15       1.026702       1.042226       1.063157  \n",
       "16       1.029642       1.045447       1.066446  \n",
       "17       1.033658       1.050756       1.071840  \n",
       "18       1.031777       1.048966       1.070303  \n",
       "19       1.031373       1.048425       1.069807  \n",
       "20       0.959467       0.962130       0.965721  \n",
       "21       0.960909       0.964865       0.969327  \n",
       "22       0.962806       0.966695       0.971716  \n",
       "23       0.962106       0.965972       0.971858  \n",
       "24       0.964425       0.968588       0.974539  \n",
       "25       0.967056       0.971302       0.977067  \n",
       "26       0.968939       0.973385       0.979435  \n",
       "27       0.966857       0.971298       0.977025  \n",
       "28       0.966738       0.971323       0.977060  \n",
       "29       0.967558       0.971800       0.977583  \n",
       "30       0.965779       0.970156       0.975600  \n",
       "31       0.963188       0.967929       0.973707  \n",
       "32       0.964185       0.968784       0.974883  \n",
       "33       0.965538       0.969848       0.976547  \n",
       "34       0.966842       0.971483       0.978191  \n",
       "35       0.967809       0.972622       0.979496  \n",
       "36       0.969024       0.974304       0.981332  \n",
       "37       0.971661       0.977435       0.985089  \n",
       "38       0.972245       0.978345       0.986414  \n",
       "39       0.972461       0.978637       0.986986  "
      ],
      "text/html": [
       "<div>\n",
       "<style scoped>\n",
       "    .dataframe tbody tr th:only-of-type {\n",
       "        vertical-align: middle;\n",
       "    }\n",
       "\n",
       "    .dataframe tbody tr th {\n",
       "        vertical-align: top;\n",
       "    }\n",
       "\n",
       "    .dataframe thead th {\n",
       "        text-align: right;\n",
       "    }\n",
       "</style>\n",
       "<table border=\"1\" class=\"dataframe\">\n",
       "  <thead>\n",
       "    <tr style=\"text-align: right;\">\n",
       "      <th></th>\n",
       "      <th>unique_id</th>\n",
       "      <th>ds</th>\n",
       "      <th>timesfm</th>\n",
       "      <th>timesfm-q-0.1</th>\n",
       "      <th>timesfm-q-0.2</th>\n",
       "      <th>timesfm-q-0.3</th>\n",
       "      <th>timesfm-q-0.4</th>\n",
       "      <th>timesfm-q-0.5</th>\n",
       "      <th>timesfm-q-0.6</th>\n",
       "      <th>timesfm-q-0.7</th>\n",
       "      <th>timesfm-q-0.8</th>\n",
       "      <th>timesfm-q-0.9</th>\n",
       "    </tr>\n",
       "  </thead>\n",
       "  <tbody>\n",
       "    <tr>\n",
       "      <th>0</th>\n",
       "      <td>1380694967620000451</td>\n",
       "      <td>2013-10-02 08:23:47</td>\n",
       "      <td>0.998914</td>\n",
       "      <td>0.946386</td>\n",
       "      <td>0.964347</td>\n",
       "      <td>0.978765</td>\n",
       "      <td>0.988690</td>\n",
       "      <td>0.998914</td>\n",
       "      <td>1.009061</td>\n",
       "      <td>1.018444</td>\n",
       "      <td>1.029821</td>\n",
       "      <td>1.042801</td>\n",
       "    </tr>\n",
       "    <tr>\n",
       "      <th>1</th>\n",
       "      <td>1380694967620000451</td>\n",
       "      <td>2013-10-02 08:24:02</td>\n",
       "      <td>0.996003</td>\n",
       "      <td>0.943106</td>\n",
       "      <td>0.960447</td>\n",
       "      <td>0.975573</td>\n",
       "      <td>0.986214</td>\n",
       "      <td>0.996003</td>\n",
       "      <td>1.006366</td>\n",
       "      <td>1.016114</td>\n",
       "      <td>1.031343</td>\n",
       "      <td>1.046354</td>\n",
       "    </tr>\n",
       "    <tr>\n",
       "      <th>2</th>\n",
       "      <td>1380694967620000451</td>\n",
       "      <td>2013-10-02 08:24:17</td>\n",
       "      <td>0.993021</td>\n",
       "      <td>0.938234</td>\n",
       "      <td>0.956622</td>\n",
       "      <td>0.969495</td>\n",
       "      <td>0.984043</td>\n",
       "      <td>0.993021</td>\n",
       "      <td>1.004656</td>\n",
       "      <td>1.014598</td>\n",
       "      <td>1.030685</td>\n",
       "      <td>1.047885</td>\n",
       "    </tr>\n",
       "    <tr>\n",
       "      <th>3</th>\n",
       "      <td>1380694967620000451</td>\n",
       "      <td>2013-10-02 08:24:32</td>\n",
       "      <td>0.984666</td>\n",
       "      <td>0.923246</td>\n",
       "      <td>0.945050</td>\n",
       "      <td>0.959399</td>\n",
       "      <td>0.974025</td>\n",
       "      <td>0.984666</td>\n",
       "      <td>0.996360</td>\n",
       "      <td>1.007991</td>\n",
       "      <td>1.021940</td>\n",
       "      <td>1.042002</td>\n",
       "    </tr>\n",
       "    <tr>\n",
       "      <th>4</th>\n",
       "      <td>1380694967620000451</td>\n",
       "      <td>2013-10-02 08:24:47</td>\n",
       "      <td>0.990050</td>\n",
       "      <td>0.926535</td>\n",
       "      <td>0.948714</td>\n",
       "      <td>0.964204</td>\n",
       "      <td>0.980451</td>\n",
       "      <td>0.990050</td>\n",
       "      <td>1.001885</td>\n",
       "      <td>1.013303</td>\n",
       "      <td>1.028020</td>\n",
       "      <td>1.048539</td>\n",
       "    </tr>\n",
       "    <tr>\n",
       "      <th>5</th>\n",
       "      <td>1380694967620000451</td>\n",
       "      <td>2013-10-02 08:25:02</td>\n",
       "      <td>0.992239</td>\n",
       "      <td>0.923594</td>\n",
       "      <td>0.949260</td>\n",
       "      <td>0.966661</td>\n",
       "      <td>0.979852</td>\n",
       "      <td>0.992239</td>\n",
       "      <td>1.003255</td>\n",
       "      <td>1.015772</td>\n",
       "      <td>1.030406</td>\n",
       "      <td>1.050239</td>\n",
       "    </tr>\n",
       "    <tr>\n",
       "      <th>6</th>\n",
       "      <td>1380694967620000451</td>\n",
       "      <td>2013-10-02 08:25:17</td>\n",
       "      <td>0.992179</td>\n",
       "      <td>0.920083</td>\n",
       "      <td>0.949945</td>\n",
       "      <td>0.966371</td>\n",
       "      <td>0.979785</td>\n",
       "      <td>0.992179</td>\n",
       "      <td>1.003312</td>\n",
       "      <td>1.016482</td>\n",
       "      <td>1.031377</td>\n",
       "      <td>1.049616</td>\n",
       "    </tr>\n",
       "    <tr>\n",
       "      <th>7</th>\n",
       "      <td>1380694967620000451</td>\n",
       "      <td>2013-10-02 08:25:32</td>\n",
       "      <td>0.988927</td>\n",
       "      <td>0.916469</td>\n",
       "      <td>0.944839</td>\n",
       "      <td>0.962627</td>\n",
       "      <td>0.976882</td>\n",
       "      <td>0.988927</td>\n",
       "      <td>1.000719</td>\n",
       "      <td>1.014271</td>\n",
       "      <td>1.029978</td>\n",
       "      <td>1.047752</td>\n",
       "    </tr>\n",
       "    <tr>\n",
       "      <th>8</th>\n",
       "      <td>1380694967620000451</td>\n",
       "      <td>2013-10-02 08:25:47</td>\n",
       "      <td>0.989752</td>\n",
       "      <td>0.919373</td>\n",
       "      <td>0.946910</td>\n",
       "      <td>0.965094</td>\n",
       "      <td>0.978577</td>\n",
       "      <td>0.989752</td>\n",
       "      <td>1.001783</td>\n",
       "      <td>1.015340</td>\n",
       "      <td>1.031757</td>\n",
       "      <td>1.050162</td>\n",
       "    </tr>\n",
       "    <tr>\n",
       "      <th>9</th>\n",
       "      <td>1380694967620000451</td>\n",
       "      <td>2013-10-02 08:26:02</td>\n",
       "      <td>0.996802</td>\n",
       "      <td>0.931073</td>\n",
       "      <td>0.954064</td>\n",
       "      <td>0.972371</td>\n",
       "      <td>0.985977</td>\n",
       "      <td>0.996802</td>\n",
       "      <td>1.008888</td>\n",
       "      <td>1.022527</td>\n",
       "      <td>1.036656</td>\n",
       "      <td>1.055976</td>\n",
       "    </tr>\n",
       "    <tr>\n",
       "      <th>10</th>\n",
       "      <td>1380694967620000451</td>\n",
       "      <td>2013-10-02 08:26:17</td>\n",
       "      <td>0.995134</td>\n",
       "      <td>0.928910</td>\n",
       "      <td>0.953801</td>\n",
       "      <td>0.970535</td>\n",
       "      <td>0.984211</td>\n",
       "      <td>0.995134</td>\n",
       "      <td>1.006019</td>\n",
       "      <td>1.019066</td>\n",
       "      <td>1.033435</td>\n",
       "      <td>1.051104</td>\n",
       "    </tr>\n",
       "    <tr>\n",
       "      <th>11</th>\n",
       "      <td>1380694967620000451</td>\n",
       "      <td>2013-10-02 08:26:32</td>\n",
       "      <td>0.989810</td>\n",
       "      <td>0.915228</td>\n",
       "      <td>0.946184</td>\n",
       "      <td>0.962540</td>\n",
       "      <td>0.977516</td>\n",
       "      <td>0.989810</td>\n",
       "      <td>1.003149</td>\n",
       "      <td>1.014490</td>\n",
       "      <td>1.031401</td>\n",
       "      <td>1.049531</td>\n",
       "    </tr>\n",
       "    <tr>\n",
       "      <th>12</th>\n",
       "      <td>1380694967620000451</td>\n",
       "      <td>2013-10-02 08:26:47</td>\n",
       "      <td>0.994190</td>\n",
       "      <td>0.916635</td>\n",
       "      <td>0.948729</td>\n",
       "      <td>0.962856</td>\n",
       "      <td>0.980638</td>\n",
       "      <td>0.994190</td>\n",
       "      <td>1.006587</td>\n",
       "      <td>1.019000</td>\n",
       "      <td>1.034557</td>\n",
       "      <td>1.053989</td>\n",
       "    </tr>\n",
       "    <tr>\n",
       "      <th>13</th>\n",
       "      <td>1380694967620000451</td>\n",
       "      <td>2013-10-02 08:27:02</td>\n",
       "      <td>1.000766</td>\n",
       "      <td>0.918674</td>\n",
       "      <td>0.949870</td>\n",
       "      <td>0.967937</td>\n",
       "      <td>0.984271</td>\n",
       "      <td>1.000766</td>\n",
       "      <td>1.013462</td>\n",
       "      <td>1.026801</td>\n",
       "      <td>1.041148</td>\n",
       "      <td>1.062207</td>\n",
       "    </tr>\n",
       "    <tr>\n",
       "      <th>14</th>\n",
       "      <td>1380694967620000451</td>\n",
       "      <td>2013-10-02 08:27:17</td>\n",
       "      <td>0.998779</td>\n",
       "      <td>0.910771</td>\n",
       "      <td>0.942950</td>\n",
       "      <td>0.964094</td>\n",
       "      <td>0.979805</td>\n",
       "      <td>0.998779</td>\n",
       "      <td>1.012339</td>\n",
       "      <td>1.026570</td>\n",
       "      <td>1.042307</td>\n",
       "      <td>1.063121</td>\n",
       "    </tr>\n",
       "    <tr>\n",
       "      <th>15</th>\n",
       "      <td>1380694967620000451</td>\n",
       "      <td>2013-10-02 08:27:32</td>\n",
       "      <td>0.999136</td>\n",
       "      <td>0.905656</td>\n",
       "      <td>0.940954</td>\n",
       "      <td>0.966777</td>\n",
       "      <td>0.980520</td>\n",
       "      <td>0.999136</td>\n",
       "      <td>1.011596</td>\n",
       "      <td>1.026702</td>\n",
       "      <td>1.042226</td>\n",
       "      <td>1.063157</td>\n",
       "    </tr>\n",
       "    <tr>\n",
       "      <th>16</th>\n",
       "      <td>1380694967620000451</td>\n",
       "      <td>2013-10-02 08:27:47</td>\n",
       "      <td>1.002302</td>\n",
       "      <td>0.912224</td>\n",
       "      <td>0.945154</td>\n",
       "      <td>0.968774</td>\n",
       "      <td>0.987809</td>\n",
       "      <td>1.002302</td>\n",
       "      <td>1.015280</td>\n",
       "      <td>1.029642</td>\n",
       "      <td>1.045447</td>\n",
       "      <td>1.066446</td>\n",
       "    </tr>\n",
       "    <tr>\n",
       "      <th>17</th>\n",
       "      <td>1380694967620000451</td>\n",
       "      <td>2013-10-02 08:28:02</td>\n",
       "      <td>1.006738</td>\n",
       "      <td>0.913824</td>\n",
       "      <td>0.947988</td>\n",
       "      <td>0.975027</td>\n",
       "      <td>0.992663</td>\n",
       "      <td>1.006738</td>\n",
       "      <td>1.020296</td>\n",
       "      <td>1.033658</td>\n",
       "      <td>1.050756</td>\n",
       "      <td>1.071840</td>\n",
       "    </tr>\n",
       "    <tr>\n",
       "      <th>18</th>\n",
       "      <td>1380694967620000451</td>\n",
       "      <td>2013-10-02 08:28:17</td>\n",
       "      <td>1.005319</td>\n",
       "      <td>0.905502</td>\n",
       "      <td>0.942786</td>\n",
       "      <td>0.966601</td>\n",
       "      <td>0.989426</td>\n",
       "      <td>1.005319</td>\n",
       "      <td>1.018633</td>\n",
       "      <td>1.031777</td>\n",
       "      <td>1.048966</td>\n",
       "      <td>1.070303</td>\n",
       "    </tr>\n",
       "    <tr>\n",
       "      <th>19</th>\n",
       "      <td>1380694967620000451</td>\n",
       "      <td>2013-10-02 08:28:32</td>\n",
       "      <td>1.002987</td>\n",
       "      <td>0.900858</td>\n",
       "      <td>0.936532</td>\n",
       "      <td>0.967672</td>\n",
       "      <td>0.987559</td>\n",
       "      <td>1.002987</td>\n",
       "      <td>1.017067</td>\n",
       "      <td>1.031373</td>\n",
       "      <td>1.048425</td>\n",
       "      <td>1.069807</td>\n",
       "    </tr>\n",
       "    <tr>\n",
       "      <th>20</th>\n",
       "      <td>1398764351620000197</td>\n",
       "      <td>2014-04-29 11:39:41</td>\n",
       "      <td>0.953714</td>\n",
       "      <td>0.936971</td>\n",
       "      <td>0.943254</td>\n",
       "      <td>0.947383</td>\n",
       "      <td>0.950748</td>\n",
       "      <td>0.953714</td>\n",
       "      <td>0.956700</td>\n",
       "      <td>0.959467</td>\n",
       "      <td>0.962130</td>\n",
       "      <td>0.965721</td>\n",
       "    </tr>\n",
       "    <tr>\n",
       "      <th>21</th>\n",
       "      <td>1398764351620000197</td>\n",
       "      <td>2014-04-29 11:39:56</td>\n",
       "      <td>0.955154</td>\n",
       "      <td>0.937704</td>\n",
       "      <td>0.944494</td>\n",
       "      <td>0.949191</td>\n",
       "      <td>0.952464</td>\n",
       "      <td>0.955154</td>\n",
       "      <td>0.958163</td>\n",
       "      <td>0.960909</td>\n",
       "      <td>0.964865</td>\n",
       "      <td>0.969327</td>\n",
       "    </tr>\n",
       "    <tr>\n",
       "      <th>22</th>\n",
       "      <td>1398764351620000197</td>\n",
       "      <td>2014-04-29 11:40:11</td>\n",
       "      <td>0.956710</td>\n",
       "      <td>0.938487</td>\n",
       "      <td>0.945498</td>\n",
       "      <td>0.949762</td>\n",
       "      <td>0.953655</td>\n",
       "      <td>0.956710</td>\n",
       "      <td>0.959795</td>\n",
       "      <td>0.962806</td>\n",
       "      <td>0.966695</td>\n",
       "      <td>0.971716</td>\n",
       "    </tr>\n",
       "    <tr>\n",
       "      <th>23</th>\n",
       "      <td>1398764351620000197</td>\n",
       "      <td>2014-04-29 11:40:26</td>\n",
       "      <td>0.955950</td>\n",
       "      <td>0.937007</td>\n",
       "      <td>0.944420</td>\n",
       "      <td>0.948744</td>\n",
       "      <td>0.952819</td>\n",
       "      <td>0.955950</td>\n",
       "      <td>0.959014</td>\n",
       "      <td>0.962106</td>\n",
       "      <td>0.965972</td>\n",
       "      <td>0.971858</td>\n",
       "    </tr>\n",
       "    <tr>\n",
       "      <th>24</th>\n",
       "      <td>1398764351620000197</td>\n",
       "      <td>2014-04-29 11:40:41</td>\n",
       "      <td>0.957962</td>\n",
       "      <td>0.938064</td>\n",
       "      <td>0.945782</td>\n",
       "      <td>0.950710</td>\n",
       "      <td>0.954913</td>\n",
       "      <td>0.957962</td>\n",
       "      <td>0.961149</td>\n",
       "      <td>0.964425</td>\n",
       "      <td>0.968588</td>\n",
       "      <td>0.974539</td>\n",
       "    </tr>\n",
       "    <tr>\n",
       "      <th>25</th>\n",
       "      <td>1398764351620000197</td>\n",
       "      <td>2014-04-29 11:40:56</td>\n",
       "      <td>0.960433</td>\n",
       "      <td>0.938926</td>\n",
       "      <td>0.947305</td>\n",
       "      <td>0.952836</td>\n",
       "      <td>0.956888</td>\n",
       "      <td>0.960433</td>\n",
       "      <td>0.963600</td>\n",
       "      <td>0.967056</td>\n",
       "      <td>0.971302</td>\n",
       "      <td>0.977067</td>\n",
       "    </tr>\n",
       "    <tr>\n",
       "      <th>26</th>\n",
       "      <td>1398764351620000197</td>\n",
       "      <td>2014-04-29 11:41:11</td>\n",
       "      <td>0.961887</td>\n",
       "      <td>0.939556</td>\n",
       "      <td>0.949063</td>\n",
       "      <td>0.954110</td>\n",
       "      <td>0.958302</td>\n",
       "      <td>0.961887</td>\n",
       "      <td>0.965393</td>\n",
       "      <td>0.968939</td>\n",
       "      <td>0.973385</td>\n",
       "      <td>0.979435</td>\n",
       "    </tr>\n",
       "    <tr>\n",
       "      <th>27</th>\n",
       "      <td>1398764351620000197</td>\n",
       "      <td>2014-04-29 11:41:26</td>\n",
       "      <td>0.959546</td>\n",
       "      <td>0.937376</td>\n",
       "      <td>0.946383</td>\n",
       "      <td>0.951645</td>\n",
       "      <td>0.956045</td>\n",
       "      <td>0.959546</td>\n",
       "      <td>0.963132</td>\n",
       "      <td>0.966857</td>\n",
       "      <td>0.971298</td>\n",
       "      <td>0.977025</td>\n",
       "    </tr>\n",
       "    <tr>\n",
       "      <th>28</th>\n",
       "      <td>1398764351620000197</td>\n",
       "      <td>2014-04-29 11:41:41</td>\n",
       "      <td>0.959473</td>\n",
       "      <td>0.937326</td>\n",
       "      <td>0.946395</td>\n",
       "      <td>0.951609</td>\n",
       "      <td>0.955751</td>\n",
       "      <td>0.959473</td>\n",
       "      <td>0.962770</td>\n",
       "      <td>0.966738</td>\n",
       "      <td>0.971323</td>\n",
       "      <td>0.977060</td>\n",
       "    </tr>\n",
       "    <tr>\n",
       "      <th>29</th>\n",
       "      <td>1398764351620000197</td>\n",
       "      <td>2014-04-29 11:41:56</td>\n",
       "      <td>0.960527</td>\n",
       "      <td>0.939363</td>\n",
       "      <td>0.947760</td>\n",
       "      <td>0.953094</td>\n",
       "      <td>0.957215</td>\n",
       "      <td>0.960527</td>\n",
       "      <td>0.964063</td>\n",
       "      <td>0.967558</td>\n",
       "      <td>0.971800</td>\n",
       "      <td>0.977583</td>\n",
       "    </tr>\n",
       "    <tr>\n",
       "      <th>30</th>\n",
       "      <td>1398764351620000197</td>\n",
       "      <td>2014-04-29 11:42:11</td>\n",
       "      <td>0.958737</td>\n",
       "      <td>0.937009</td>\n",
       "      <td>0.945541</td>\n",
       "      <td>0.950689</td>\n",
       "      <td>0.955243</td>\n",
       "      <td>0.958737</td>\n",
       "      <td>0.962184</td>\n",
       "      <td>0.965779</td>\n",
       "      <td>0.970156</td>\n",
       "      <td>0.975600</td>\n",
       "    </tr>\n",
       "    <tr>\n",
       "      <th>31</th>\n",
       "      <td>1398764351620000197</td>\n",
       "      <td>2014-04-29 11:42:26</td>\n",
       "      <td>0.955959</td>\n",
       "      <td>0.932685</td>\n",
       "      <td>0.942430</td>\n",
       "      <td>0.947642</td>\n",
       "      <td>0.952265</td>\n",
       "      <td>0.955959</td>\n",
       "      <td>0.959847</td>\n",
       "      <td>0.963188</td>\n",
       "      <td>0.967929</td>\n",
       "      <td>0.973707</td>\n",
       "    </tr>\n",
       "    <tr>\n",
       "      <th>32</th>\n",
       "      <td>1398764351620000197</td>\n",
       "      <td>2014-04-29 11:42:41</td>\n",
       "      <td>0.956542</td>\n",
       "      <td>0.932334</td>\n",
       "      <td>0.942245</td>\n",
       "      <td>0.947434</td>\n",
       "      <td>0.952489</td>\n",
       "      <td>0.956542</td>\n",
       "      <td>0.960310</td>\n",
       "      <td>0.964185</td>\n",
       "      <td>0.968784</td>\n",
       "      <td>0.974883</td>\n",
       "    </tr>\n",
       "    <tr>\n",
       "      <th>33</th>\n",
       "      <td>1398764351620000197</td>\n",
       "      <td>2014-04-29 11:42:56</td>\n",
       "      <td>0.957652</td>\n",
       "      <td>0.932819</td>\n",
       "      <td>0.942218</td>\n",
       "      <td>0.948092</td>\n",
       "      <td>0.952988</td>\n",
       "      <td>0.957652</td>\n",
       "      <td>0.961461</td>\n",
       "      <td>0.965538</td>\n",
       "      <td>0.969848</td>\n",
       "      <td>0.976547</td>\n",
       "    </tr>\n",
       "    <tr>\n",
       "      <th>34</th>\n",
       "      <td>1398764351620000197</td>\n",
       "      <td>2014-04-29 11:43:11</td>\n",
       "      <td>0.958293</td>\n",
       "      <td>0.932393</td>\n",
       "      <td>0.941985</td>\n",
       "      <td>0.948249</td>\n",
       "      <td>0.953213</td>\n",
       "      <td>0.958293</td>\n",
       "      <td>0.962468</td>\n",
       "      <td>0.966842</td>\n",
       "      <td>0.971483</td>\n",
       "      <td>0.978191</td>\n",
       "    </tr>\n",
       "    <tr>\n",
       "      <th>35</th>\n",
       "      <td>1398764351620000197</td>\n",
       "      <td>2014-04-29 11:43:26</td>\n",
       "      <td>0.958976</td>\n",
       "      <td>0.932656</td>\n",
       "      <td>0.942452</td>\n",
       "      <td>0.949433</td>\n",
       "      <td>0.953957</td>\n",
       "      <td>0.958976</td>\n",
       "      <td>0.962995</td>\n",
       "      <td>0.967809</td>\n",
       "      <td>0.972622</td>\n",
       "      <td>0.979496</td>\n",
       "    </tr>\n",
       "    <tr>\n",
       "      <th>36</th>\n",
       "      <td>1398764351620000197</td>\n",
       "      <td>2014-04-29 11:43:41</td>\n",
       "      <td>0.960272</td>\n",
       "      <td>0.933736</td>\n",
       "      <td>0.943115</td>\n",
       "      <td>0.949578</td>\n",
       "      <td>0.955609</td>\n",
       "      <td>0.960272</td>\n",
       "      <td>0.964361</td>\n",
       "      <td>0.969024</td>\n",
       "      <td>0.974304</td>\n",
       "      <td>0.981332</td>\n",
       "    </tr>\n",
       "    <tr>\n",
       "      <th>37</th>\n",
       "      <td>1398764351620000197</td>\n",
       "      <td>2014-04-29 11:43:56</td>\n",
       "      <td>0.962718</td>\n",
       "      <td>0.935765</td>\n",
       "      <td>0.945175</td>\n",
       "      <td>0.952620</td>\n",
       "      <td>0.958119</td>\n",
       "      <td>0.962718</td>\n",
       "      <td>0.967141</td>\n",
       "      <td>0.971661</td>\n",
       "      <td>0.977435</td>\n",
       "      <td>0.985089</td>\n",
       "    </tr>\n",
       "    <tr>\n",
       "      <th>38</th>\n",
       "      <td>1398764351620000197</td>\n",
       "      <td>2014-04-29 11:44:11</td>\n",
       "      <td>0.962982</td>\n",
       "      <td>0.935064</td>\n",
       "      <td>0.944931</td>\n",
       "      <td>0.951556</td>\n",
       "      <td>0.957961</td>\n",
       "      <td>0.962982</td>\n",
       "      <td>0.967398</td>\n",
       "      <td>0.972245</td>\n",
       "      <td>0.978345</td>\n",
       "      <td>0.986414</td>\n",
       "    </tr>\n",
       "    <tr>\n",
       "      <th>39</th>\n",
       "      <td>1398764351620000197</td>\n",
       "      <td>2014-04-29 11:44:26</td>\n",
       "      <td>0.962633</td>\n",
       "      <td>0.934515</td>\n",
       "      <td>0.943927</td>\n",
       "      <td>0.951712</td>\n",
       "      <td>0.957726</td>\n",
       "      <td>0.962633</td>\n",
       "      <td>0.967568</td>\n",
       "      <td>0.972461</td>\n",
       "      <td>0.978637</td>\n",
       "      <td>0.986986</td>\n",
       "    </tr>\n",
       "  </tbody>\n",
       "</table>\n",
       "</div>"
      ]
     },
     "execution_count": 27,
     "metadata": {},
     "output_type": "execute_result"
    }
   ],
   "execution_count": 27
  },
  {
   "metadata": {
    "ExecuteTime": {
     "end_time": "2025-09-21T18:56:49.928656Z",
     "start_time": "2025-09-21T18:56:49.924784Z"
    }
   },
   "cell_type": "code",
   "source": "columns = ['timesfm-q-0.1', 'timesfm-q-0.2', 'timesfm-q-0.3', 'timesfm-q-0.4', 'timesfm-q-0.5', 'timesfm-q-0.6', 'timesfm-q-0.7', 'timesfm-q-0.8', 'timesfm-q-0.9']",
   "id": "ddc759e5de2c638d",
   "outputs": [],
   "execution_count": 28
  },
  {
   "metadata": {
    "ExecuteTime": {
     "end_time": "2025-09-21T18:56:49.995838Z",
     "start_time": "2025-09-21T18:56:49.977652Z"
    }
   },
   "cell_type": "code",
   "source": [
    "for column in columns:\n",
    "    forecast_df_lat[column] = scaler_lat.inverse_transform(forecast_df_lat[[column]])\n",
    "    forecast_df_lon[column] = scaler_lon.inverse_transform(forecast_df_lon[[column]])"
   ],
   "id": "82dd7cbf5aa99617",
   "outputs": [],
   "execution_count": 29
  },
  {
   "metadata": {
    "ExecuteTime": {
     "end_time": "2025-09-21T18:56:50.014165Z",
     "start_time": "2025-09-21T18:56:50.004834Z"
    }
   },
   "cell_type": "code",
   "source": [
    "forecast_df_lat = forecast_df_lat.sort_values(['unique_id', 'ds'])\n",
    "forecast_df_lat = forecast_df_lat.groupby('unique_id').tail(1)\n",
    "\n",
    "forecast_df_lon = forecast_df_lon.sort_values(['unique_id', 'ds'])\n",
    "forecast_df_lon = forecast_df_lon.groupby('unique_id').tail(1)"
   ],
   "id": "b2fda8e739fb7d89",
   "outputs": [],
   "execution_count": 30
  },
  {
   "metadata": {
    "ExecuteTime": {
     "end_time": "2025-09-21T18:56:50.051044Z",
     "start_time": "2025-09-21T18:56:50.036945Z"
    }
   },
   "cell_type": "code",
   "source": [
    "result_lat = df_lat_test.merge(forecast_df_lat, how='left', on=['unique_id'])\n",
    "result_lon = df_lon_test.merge(forecast_df_lon, how='left', on=['unique_id'])\n",
    "result = result_lat.merge(result_lon, how='left', on=['unique_id'])"
   ],
   "id": "3fa6cd2f9dc4851c",
   "outputs": [],
   "execution_count": 31
  },
  {
   "metadata": {
    "ExecuteTime": {
     "end_time": "2025-09-21T18:56:50.092986Z",
     "start_time": "2025-09-21T18:56:50.079608Z"
    }
   },
   "cell_type": "code",
   "source": "result",
   "id": "f2225daebef6cedd",
   "outputs": [
    {
     "data": {
      "text/plain": [
       "             unique_id      ds_x_x        LAT              ds_y_x  timesfm_x  \\\n",
       "0  1380694967620000451  1380702512  41.186565 2013-10-02 08:28:32   1.002987   \n",
       "1  1398764351620000197  1398771866  41.180859 2014-04-29 11:44:26   0.962633   \n",
       "\n",
       "   timesfm-q-0.1_x  timesfm-q-0.2_x  timesfm-q-0.3_x  timesfm-q-0.4_x  \\\n",
       "0        41.146572        41.161011        41.173611        41.181656   \n",
       "1        41.160194        41.164001        41.167152        41.169586   \n",
       "\n",
       "   timesfm-q-0.5_x  ...  timesfm_y  timesfm-q-0.1_y  timesfm-q-0.2_y  \\\n",
       "0        41.187897  ...   0.225146        -8.630990        -8.624654   \n",
       "1        41.171570  ...   0.425940        -8.594622        -8.589516   \n",
       "\n",
       "   timesfm-q-0.3_y  timesfm-q-0.4_y  timesfm-q-0.5_y timesfm-q-0.6_y  \\\n",
       "0        -8.618237        -8.612755        -8.607389       -8.601967   \n",
       "1        -8.584134        -8.580080        -8.576226       -8.572293   \n",
       "\n",
       "   timesfm-q-0.7_y  timesfm-q-0.8_y  timesfm-q-0.9_y  \n",
       "0        -8.595673        -8.587844        -8.576858  \n",
       "1        -8.567959        -8.562303        -8.554075  \n",
       "\n",
       "[2 rows x 27 columns]"
      ],
      "text/html": [
       "<div>\n",
       "<style scoped>\n",
       "    .dataframe tbody tr th:only-of-type {\n",
       "        vertical-align: middle;\n",
       "    }\n",
       "\n",
       "    .dataframe tbody tr th {\n",
       "        vertical-align: top;\n",
       "    }\n",
       "\n",
       "    .dataframe thead th {\n",
       "        text-align: right;\n",
       "    }\n",
       "</style>\n",
       "<table border=\"1\" class=\"dataframe\">\n",
       "  <thead>\n",
       "    <tr style=\"text-align: right;\">\n",
       "      <th></th>\n",
       "      <th>unique_id</th>\n",
       "      <th>ds_x_x</th>\n",
       "      <th>LAT</th>\n",
       "      <th>ds_y_x</th>\n",
       "      <th>timesfm_x</th>\n",
       "      <th>timesfm-q-0.1_x</th>\n",
       "      <th>timesfm-q-0.2_x</th>\n",
       "      <th>timesfm-q-0.3_x</th>\n",
       "      <th>timesfm-q-0.4_x</th>\n",
       "      <th>timesfm-q-0.5_x</th>\n",
       "      <th>...</th>\n",
       "      <th>timesfm_y</th>\n",
       "      <th>timesfm-q-0.1_y</th>\n",
       "      <th>timesfm-q-0.2_y</th>\n",
       "      <th>timesfm-q-0.3_y</th>\n",
       "      <th>timesfm-q-0.4_y</th>\n",
       "      <th>timesfm-q-0.5_y</th>\n",
       "      <th>timesfm-q-0.6_y</th>\n",
       "      <th>timesfm-q-0.7_y</th>\n",
       "      <th>timesfm-q-0.8_y</th>\n",
       "      <th>timesfm-q-0.9_y</th>\n",
       "    </tr>\n",
       "  </thead>\n",
       "  <tbody>\n",
       "    <tr>\n",
       "      <th>0</th>\n",
       "      <td>1380694967620000451</td>\n",
       "      <td>1380702512</td>\n",
       "      <td>41.186565</td>\n",
       "      <td>2013-10-02 08:28:32</td>\n",
       "      <td>1.002987</td>\n",
       "      <td>41.146572</td>\n",
       "      <td>41.161011</td>\n",
       "      <td>41.173611</td>\n",
       "      <td>41.181656</td>\n",
       "      <td>41.187897</td>\n",
       "      <td>...</td>\n",
       "      <td>0.225146</td>\n",
       "      <td>-8.630990</td>\n",
       "      <td>-8.624654</td>\n",
       "      <td>-8.618237</td>\n",
       "      <td>-8.612755</td>\n",
       "      <td>-8.607389</td>\n",
       "      <td>-8.601967</td>\n",
       "      <td>-8.595673</td>\n",
       "      <td>-8.587844</td>\n",
       "      <td>-8.576858</td>\n",
       "    </tr>\n",
       "    <tr>\n",
       "      <th>1</th>\n",
       "      <td>1398764351620000197</td>\n",
       "      <td>1398771866</td>\n",
       "      <td>41.180859</td>\n",
       "      <td>2014-04-29 11:44:26</td>\n",
       "      <td>0.962633</td>\n",
       "      <td>41.160194</td>\n",
       "      <td>41.164001</td>\n",
       "      <td>41.167152</td>\n",
       "      <td>41.169586</td>\n",
       "      <td>41.171570</td>\n",
       "      <td>...</td>\n",
       "      <td>0.425940</td>\n",
       "      <td>-8.594622</td>\n",
       "      <td>-8.589516</td>\n",
       "      <td>-8.584134</td>\n",
       "      <td>-8.580080</td>\n",
       "      <td>-8.576226</td>\n",
       "      <td>-8.572293</td>\n",
       "      <td>-8.567959</td>\n",
       "      <td>-8.562303</td>\n",
       "      <td>-8.554075</td>\n",
       "    </tr>\n",
       "  </tbody>\n",
       "</table>\n",
       "<p>2 rows × 27 columns</p>\n",
       "</div>"
      ]
     },
     "execution_count": 32,
     "metadata": {},
     "output_type": "execute_result"
    }
   ],
   "execution_count": 32
  },
  {
   "metadata": {
    "ExecuteTime": {
     "end_time": "2025-09-21T18:56:50.158609Z",
     "start_time": "2025-09-21T18:56:50.152406Z"
    }
   },
   "cell_type": "code",
   "source": "df_lat_test",
   "id": "49054dc6e70aea13",
   "outputs": [
    {
     "data": {
      "text/plain": [
       "                    unique_id          ds        LAT\n",
       "index                                               \n",
       "20214777  1380694967620000451  1380702512  41.186565\n",
       "67580734  1398764351620000197  1398771866  41.180859"
      ],
      "text/html": [
       "<div>\n",
       "<style scoped>\n",
       "    .dataframe tbody tr th:only-of-type {\n",
       "        vertical-align: middle;\n",
       "    }\n",
       "\n",
       "    .dataframe tbody tr th {\n",
       "        vertical-align: top;\n",
       "    }\n",
       "\n",
       "    .dataframe thead th {\n",
       "        text-align: right;\n",
       "    }\n",
       "</style>\n",
       "<table border=\"1\" class=\"dataframe\">\n",
       "  <thead>\n",
       "    <tr style=\"text-align: right;\">\n",
       "      <th></th>\n",
       "      <th>unique_id</th>\n",
       "      <th>ds</th>\n",
       "      <th>LAT</th>\n",
       "    </tr>\n",
       "    <tr>\n",
       "      <th>index</th>\n",
       "      <th></th>\n",
       "      <th></th>\n",
       "      <th></th>\n",
       "    </tr>\n",
       "  </thead>\n",
       "  <tbody>\n",
       "    <tr>\n",
       "      <th>20214777</th>\n",
       "      <td>1380694967620000451</td>\n",
       "      <td>1380702512</td>\n",
       "      <td>41.186565</td>\n",
       "    </tr>\n",
       "    <tr>\n",
       "      <th>67580734</th>\n",
       "      <td>1398764351620000197</td>\n",
       "      <td>1398771866</td>\n",
       "      <td>41.180859</td>\n",
       "    </tr>\n",
       "  </tbody>\n",
       "</table>\n",
       "</div>"
      ]
     },
     "execution_count": 33,
     "metadata": {},
     "output_type": "execute_result"
    }
   ],
   "execution_count": 33
  },
  {
   "metadata": {
    "ExecuteTime": {
     "end_time": "2025-09-21T18:56:50.213625Z",
     "start_time": "2025-09-21T18:56:50.205024Z"
    }
   },
   "cell_type": "code",
   "source": [
    "for col in columns:\n",
    "    result[f'DISTANCE_DELTA_SEPARATED_{col}'] = result.apply(lambda row: haversine_distance(\n",
    "    row['LAT'], row['LON'], row[f'{col}_x'], row[f'{col}_y']), axis=1)"
   ],
   "id": "e6c4b64c066ba7f4",
   "outputs": [],
   "execution_count": 34
  },
  {
   "metadata": {
    "ExecuteTime": {
     "end_time": "2025-09-21T18:56:50.333147Z",
     "start_time": "2025-09-21T18:56:50.327466Z"
    }
   },
   "cell_type": "code",
   "source": [
    "for col in columns:\n",
    "    print(f\"Column: {col}   Mean: {result[f'DISTANCE_DELTA_SEPARATED_{col}'].mean()}    Median: {result[f'DISTANCE_DELTA_SEPARATED_{col}'].median()}\")"
   ],
   "id": "5b99a14cdb92b324",
   "outputs": [
    {
     "name": "stdout",
     "output_type": "stream",
     "text": [
      "Column: timesfm-q-0.1   Mean: 3.4782009908424767    Median: 3.4782009908424767\n",
      "Column: timesfm-q-0.2   Mean: 2.4363005023455484    Median: 2.4363005023455484\n",
      "Column: timesfm-q-0.3   Mean: 1.6922950558114367    Median: 1.6922950558114367\n",
      "Column: timesfm-q-0.4   Mean: 1.4940300429447695    Median: 1.4940300429447695\n",
      "Column: timesfm-q-0.5   Mean: 1.6223728025074948    Median: 1.6223728025074948\n",
      "Column: timesfm-q-0.6   Mean: 1.916260458811819    Median: 1.916260458811819\n",
      "Column: timesfm-q-0.7   Mean: 2.366872849428714    Median: 2.366872849428714\n",
      "Column: timesfm-q-0.8   Mean: 3.0195094475718114    Median: 3.0195094475718114\n",
      "Column: timesfm-q-0.9   Mean: 3.995974982669308    Median: 3.995974982669308\n"
     ]
    }
   ],
   "execution_count": 35
  },
  {
   "metadata": {
    "ExecuteTime": {
     "end_time": "2025-09-21T18:56:50.928016Z",
     "start_time": "2025-09-21T18:56:50.383005Z"
    }
   },
   "cell_type": "code",
   "source": "import matplotlib.pyplot as plt",
   "id": "bf4d1aafe871993c",
   "outputs": [],
   "execution_count": 36
  },
  {
   "metadata": {
    "ExecuteTime": {
     "end_time": "2025-09-21T18:56:50.936518Z",
     "start_time": "2025-09-21T18:56:50.928016Z"
    }
   },
   "cell_type": "code",
   "source": [
    "stats = []\n",
    "for col in columns:\n",
    "    mean_val = result[f'DISTANCE_DELTA_SEPARATED_{col}'].mean()\n",
    "    median_val = result[f'DISTANCE_DELTA_SEPARATED_{col}'].median()\n",
    "    label = col.replace(\"timesfm-\", \"\")\n",
    "    stats.append({\"quantile\": label, \"mean\": mean_val, \"median\": median_val})\n",
    "\n",
    "df_stats = pd.DataFrame(stats)"
   ],
   "id": "c4c47ecb39d1e546",
   "outputs": [],
   "execution_count": 37
  },
  {
   "metadata": {
    "ExecuteTime": {
     "end_time": "2025-09-21T18:56:51.118677Z",
     "start_time": "2025-09-21T18:56:50.967832Z"
    }
   },
   "cell_type": "code",
   "source": [
    "plt.figure(figsize=(8,5))\n",
    "plt.plot(df_stats[\"quantile\"], df_stats[\"mean\"], marker=\"o\", label=\"Mean\")\n",
    "plt.plot(df_stats[\"quantile\"], df_stats[\"median\"], marker=\"o\", label=\"Median\")\n",
    "plt.xlabel(\"Quantile\")\n",
    "plt.ylabel(\"Haversine distance error\")\n",
    "plt.title(\"Prediction error vs. quantile\")\n",
    "plt.legend()\n",
    "plt.grid(True)\n",
    "plt.show()"
   ],
   "id": "6ce332bbda0bcf56",
   "outputs": [
    {
     "data": {
      "text/plain": [
       "<Figure size 800x500 with 1 Axes>"
      ],
      "image/png": "[encoded data removed]"
     },
     "metadata": {},
     "output_type": "display_data"
    }
   ],
   "execution_count": 38
  }
 ],
 "metadata": {
  "kernelspec": {
   "display_name": "Python 3",
   "language": "python",
   "name": "python3"
  },
  "language_info": {
   "codemirror_mode": {
    "name": "ipython",
    "version": 2
   },
   "file_extension": ".py",
   "mimetype": "text/x-python",
   "name": "python",
   "nbconvert_exporter": "python",
   "pygments_lexer": "ipython2",
   "version": "2.7.6"
  }
 },
 "nbformat": 4,
 "nbformat_minor": 5
}
