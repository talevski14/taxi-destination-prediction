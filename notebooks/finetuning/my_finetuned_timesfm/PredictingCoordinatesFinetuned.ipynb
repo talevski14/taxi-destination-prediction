{
 "cells": [
  {
   "cell_type": "code",
   "id": "initial_id",
   "metadata": {
    "collapsed": true,
    "ExecuteTime": {
     "end_time": "2025-09-21T18:16:47.543416Z",
     "start_time": "2025-09-21T18:16:47.102766Z"
    }
   },
   "source": [
    "import pandas as pd"
   ],
   "outputs": [],
   "execution_count": 1
  },
  {
   "cell_type": "code",
   "id": "31235c077b90ad65",
   "metadata": {
    "ExecuteTime": {
     "end_time": "2025-09-21T18:16:48.729525Z",
     "start_time": "2025-09-21T18:16:47.543416Z"
    }
   },
   "source": [
    "df = pd.read_parquet(\"../../../data/data_taxi_central_based.parquet\")\n",
    "trip_ids_to_keep = [1398764351620000197, 1380694967620000451]\n",
    "df = df[df['TRIP_ID'].isin(trip_ids_to_keep)]\n",
    "df"
   ],
   "outputs": [
    {
     "data": {
      "text/plain": [
       "                      TRIP_ID  ORIGIN_CALL   TAXI_ID   TIMESTAMP  \\\n",
       "index                                                              \n",
       "20214274  1380694967620000451      19967.0  20000451  1380694967   \n",
       "20214275  1380694967620000451      19967.0  20000451  1380694982   \n",
       "20214276  1380694967620000451      19967.0  20000451  1380694997   \n",
       "20214277  1380694967620000451      19967.0  20000451  1380695012   \n",
       "20214278  1380694967620000451      19967.0  20000451  1380695027   \n",
       "...                       ...          ...       ...         ...   \n",
       "67580730  1398764351620000197      63882.0  20000197  1398771806   \n",
       "67580731  1398764351620000197      63882.0  20000197  1398771821   \n",
       "67580732  1398764351620000197      63882.0  20000197  1398771836   \n",
       "67580733  1398764351620000197      63882.0  20000197  1398771851   \n",
       "67580734  1398764351620000197      63882.0  20000197  1398771866   \n",
       "\n",
       "          POLYLINE_LENGTH       LON        LAT  \n",
       "index                                           \n",
       "20214274              504 -8.640432  41.147676  \n",
       "20214275              504 -8.639622  41.144274  \n",
       "20214276              504 -8.638362  41.140755  \n",
       "20214277              504 -8.635878  41.137317  \n",
       "20214278              504 -8.635464  41.133564  \n",
       "...                   ...       ...        ...  \n",
       "67580730              502 -8.582418  41.178528  \n",
       "67580731              502 -8.582535  41.178600  \n",
       "67580732              502 -8.582202  41.179617  \n",
       "67580733              502 -8.581860  41.180283  \n",
       "67580734              502 -8.582607  41.180859  \n",
       "\n",
       "[1006 rows x 7 columns]"
      ],
      "text/html": [
       "<div>\n",
       "<style scoped>\n",
       "    .dataframe tbody tr th:only-of-type {\n",
       "        vertical-align: middle;\n",
       "    }\n",
       "\n",
       "    .dataframe tbody tr th {\n",
       "        vertical-align: top;\n",
       "    }\n",
       "\n",
       "    .dataframe thead th {\n",
       "        text-align: right;\n",
       "    }\n",
       "</style>\n",
       "<table border=\"1\" class=\"dataframe\">\n",
       "  <thead>\n",
       "    <tr style=\"text-align: right;\">\n",
       "      <th></th>\n",
       "      <th>TRIP_ID</th>\n",
       "      <th>ORIGIN_CALL</th>\n",
       "      <th>TAXI_ID</th>\n",
       "      <th>TIMESTAMP</th>\n",
       "      <th>POLYLINE_LENGTH</th>\n",
       "      <th>LON</th>\n",
       "      <th>LAT</th>\n",
       "    </tr>\n",
       "    <tr>\n",
       "      <th>index</th>\n",
       "      <th></th>\n",
       "      <th></th>\n",
       "      <th></th>\n",
       "      <th></th>\n",
       "      <th></th>\n",
       "      <th></th>\n",
       "      <th></th>\n",
       "    </tr>\n",
       "  </thead>\n",
       "  <tbody>\n",
       "    <tr>\n",
       "      <th>20214274</th>\n",
       "      <td>1380694967620000451</td>\n",
       "      <td>19967.0</td>\n",
       "      <td>20000451</td>\n",
       "      <td>1380694967</td>\n",
       "      <td>504</td>\n",
       "      <td>-8.640432</td>\n",
       "      <td>41.147676</td>\n",
       "    </tr>\n",
       "    <tr>\n",
       "      <th>20214275</th>\n",
       "      <td>1380694967620000451</td>\n",
       "      <td>19967.0</td>\n",
       "      <td>20000451</td>\n",
       "      <td>1380694982</td>\n",
       "      <td>504</td>\n",
       "      <td>-8.639622</td>\n",
       "      <td>41.144274</td>\n",
       "    </tr>\n",
       "    <tr>\n",
       "      <th>20214276</th>\n",
       "      <td>1380694967620000451</td>\n",
       "      <td>19967.0</td>\n",
       "      <td>20000451</td>\n",
       "      <td>1380694997</td>\n",
       "      <td>504</td>\n",
       "      <td>-8.638362</td>\n",
       "      <td>41.140755</td>\n",
       "    </tr>\n",
       "    <tr>\n",
       "      <th>20214277</th>\n",
       "      <td>1380694967620000451</td>\n",
       "      <td>19967.0</td>\n",
       "      <td>20000451</td>\n",
       "      <td>1380695012</td>\n",
       "      <td>504</td>\n",
       "      <td>-8.635878</td>\n",
       "      <td>41.137317</td>\n",
       "    </tr>\n",
       "    <tr>\n",
       "      <th>20214278</th>\n",
       "      <td>1380694967620000451</td>\n",
       "      <td>19967.0</td>\n",
       "      <td>20000451</td>\n",
       "      <td>1380695027</td>\n",
       "      <td>504</td>\n",
       "      <td>-8.635464</td>\n",
       "      <td>41.133564</td>\n",
       "    </tr>\n",
       "    <tr>\n",
       "      <th>...</th>\n",
       "      <td>...</td>\n",
       "      <td>...</td>\n",
       "      <td>...</td>\n",
       "      <td>...</td>\n",
       "      <td>...</td>\n",
       "      <td>...</td>\n",
       "      <td>...</td>\n",
       "    </tr>\n",
       "    <tr>\n",
       "      <th>67580730</th>\n",
       "      <td>1398764351620000197</td>\n",
       "      <td>63882.0</td>\n",
       "      <td>20000197</td>\n",
       "      <td>1398771806</td>\n",
       "      <td>502</td>\n",
       "      <td>-8.582418</td>\n",
       "      <td>41.178528</td>\n",
       "    </tr>\n",
       "    <tr>\n",
       "      <th>67580731</th>\n",
       "      <td>1398764351620000197</td>\n",
       "      <td>63882.0</td>\n",
       "      <td>20000197</td>\n",
       "      <td>1398771821</td>\n",
       "      <td>502</td>\n",
       "      <td>-8.582535</td>\n",
       "      <td>41.178600</td>\n",
       "    </tr>\n",
       "    <tr>\n",
       "      <th>67580732</th>\n",
       "      <td>1398764351620000197</td>\n",
       "      <td>63882.0</td>\n",
       "      <td>20000197</td>\n",
       "      <td>1398771836</td>\n",
       "      <td>502</td>\n",
       "      <td>-8.582202</td>\n",
       "      <td>41.179617</td>\n",
       "    </tr>\n",
       "    <tr>\n",
       "      <th>67580733</th>\n",
       "      <td>1398764351620000197</td>\n",
       "      <td>63882.0</td>\n",
       "      <td>20000197</td>\n",
       "      <td>1398771851</td>\n",
       "      <td>502</td>\n",
       "      <td>-8.581860</td>\n",
       "      <td>41.180283</td>\n",
       "    </tr>\n",
       "    <tr>\n",
       "      <th>67580734</th>\n",
       "      <td>1398764351620000197</td>\n",
       "      <td>63882.0</td>\n",
       "      <td>20000197</td>\n",
       "      <td>1398771866</td>\n",
       "      <td>502</td>\n",
       "      <td>-8.582607</td>\n",
       "      <td>41.180859</td>\n",
       "    </tr>\n",
       "  </tbody>\n",
       "</table>\n",
       "<p>1006 rows × 7 columns</p>\n",
       "</div>"
      ]
     },
     "execution_count": 2,
     "metadata": {},
     "output_type": "execute_result"
    }
   ],
   "execution_count": 2
  },
  {
   "cell_type": "code",
   "id": "ac9990d577976560",
   "metadata": {
    "ExecuteTime": {
     "end_time": "2025-09-21T18:16:51.339158Z",
     "start_time": "2025-09-21T18:16:48.958062Z"
    }
   },
   "source": [
    "import timesfm"
   ],
   "outputs": [
    {
     "name": "stdout",
     "output_type": "stream",
     "text": [
      " See https://github.com/google-research/timesfm/blob/master/README.md for updated APIs.\n",
      "Loaded PyTorch TimesFM, likely because python version is 3.11.13 | packaged by Anaconda, Inc. | (main, Jun  5 2025, 13:03:15) [MSC v.1929 64 bit (AMD64)].\n"
     ]
    }
   ],
   "execution_count": 3
  },
  {
   "cell_type": "code",
   "id": "6d8fdf0c81a15ef0",
   "metadata": {
    "ExecuteTime": {
     "end_time": "2025-09-21T18:16:51.377884Z",
     "start_time": "2025-09-21T18:16:51.373278Z"
    }
   },
   "source": [
    "df_lon = df.drop(columns=['ORIGIN_CALL', 'TAXI_ID', 'POLYLINE_LENGTH', 'LAT'])\n",
    "df_lat = df.drop(columns=['ORIGIN_CALL', 'TAXI_ID', 'POLYLINE_LENGTH', 'LON'])"
   ],
   "outputs": [],
   "execution_count": 4
  },
  {
   "metadata": {
    "ExecuteTime": {
     "end_time": "2025-09-21T18:16:51.394201Z",
     "start_time": "2025-09-21T18:16:51.377884Z"
    }
   },
   "cell_type": "code",
   "source": "import torch",
   "id": "c8806de3b4fec2b9",
   "outputs": [],
   "execution_count": 5
  },
  {
   "cell_type": "code",
   "id": "aaf2ef79835988e8",
   "metadata": {
    "ExecuteTime": {
     "end_time": "2025-09-21T18:16:59.556430Z",
     "start_time": "2025-09-21T18:16:51.415418Z"
    }
   },
   "source": [
    "tfm_lat = timesfm.TimesFm(\n",
    "      hparams=timesfm.TimesFmHparams(\n",
    "          backend=\"gpu\",\n",
    "          per_core_batch_size=32,\n",
    "          horizon_len=20,\n",
    "          num_layers=50,\n",
    "          use_positional_embedding=False,\n",
    "          context_len=128,\n",
    "      ),\n",
    "      checkpoint=timesfm.TimesFmCheckpoint(\n",
    "          huggingface_repo_id=\"google/timesfm-2.0-500m-pytorch\"),\n",
    "  )\n",
    "tfm_lat._model.load_state_dict(torch.load(\"timesfm_predictions_LAT.ckpt\"))"
   ],
   "outputs": [
    {
     "data": {
      "text/plain": [
       "Fetching 5 files:   0%|          | 0/5 [00:00<?, ?it/s]"
      ],
      "application/vnd.jupyter.widget-view+json": {
       "version_major": 2,
       "version_minor": 0,
       "model_id": "3439dd524fa044b9a545e672293e7b1b"
      }
     },
     "metadata": {},
     "output_type": "display_data"
    },
    {
     "data": {
      "text/plain": [
       "<All keys matched successfully>"
      ]
     },
     "execution_count": 6,
     "metadata": {},
     "output_type": "execute_result"
    }
   ],
   "execution_count": 6
  },
  {
   "cell_type": "code",
   "id": "f2bf8bd6ea976c66",
   "metadata": {
    "ExecuteTime": {
     "end_time": "2025-09-21T18:17:06.662721Z",
     "start_time": "2025-09-21T18:16:59.561787Z"
    }
   },
   "source": [
    "tfm_lon = timesfm.TimesFm(\n",
    "      hparams=timesfm.TimesFmHparams(\n",
    "          backend=\"gpu\",\n",
    "          per_core_batch_size=32,\n",
    "          horizon_len=20,\n",
    "          num_layers=50,\n",
    "          use_positional_embedding=False,\n",
    "          context_len=128,\n",
    "      ),\n",
    "      checkpoint=timesfm.TimesFmCheckpoint(\n",
    "          huggingface_repo_id=\"google/timesfm-2.0-500m-pytorch\"),\n",
    "  )\n",
    "tfm_lon._model.load_state_dict(torch.load(\"timesfm_predictions_LON.ckpt\"))"
   ],
   "outputs": [
    {
     "data": {
      "text/plain": [
       "Fetching 5 files:   0%|          | 0/5 [00:00<?, ?it/s]"
      ],
      "application/vnd.jupyter.widget-view+json": {
       "version_major": 2,
       "version_minor": 0,
       "model_id": "940c0dd8455a4234b23d5304161269fa"
      }
     },
     "metadata": {},
     "output_type": "display_data"
    },
    {
     "data": {
      "text/plain": [
       "<All keys matched successfully>"
      ]
     },
     "execution_count": 7,
     "metadata": {},
     "output_type": "execute_result"
    }
   ],
   "execution_count": 7
  },
  {
   "cell_type": "code",
   "id": "6544a51e861c3cfb",
   "metadata": {
    "ExecuteTime": {
     "end_time": "2025-09-21T18:17:06.684654Z",
     "start_time": "2025-09-21T18:17:06.676371Z"
    }
   },
   "source": [
    "df_lat = df_lat.sort_values(by=['TRIP_ID', 'TIMESTAMP'])\n",
    "df_lat_test = df_lat.groupby('TRIP_ID', group_keys=False).tail(20)\n",
    "df_lat_train = df_lat.drop(df_lat_test.index)"
   ],
   "outputs": [],
   "execution_count": 8
  },
  {
   "cell_type": "code",
   "id": "feca5a661cf1a0d8",
   "metadata": {
    "ExecuteTime": {
     "end_time": "2025-09-21T18:17:06.713564Z",
     "start_time": "2025-09-21T18:17:06.708287Z"
    }
   },
   "source": [
    "df_lon = df_lon.sort_values(by=['TRIP_ID', 'TIMESTAMP'])\n",
    "df_lon_test = df_lon.groupby('TRIP_ID', group_keys=False).tail(20)\n",
    "df_lon_train = df_lon.drop(df_lat_test.index)"
   ],
   "outputs": [],
   "execution_count": 9
  },
  {
   "cell_type": "code",
   "id": "ed9138b5a1f1ef4c",
   "metadata": {
    "ExecuteTime": {
     "end_time": "2025-09-21T18:17:07.685509Z",
     "start_time": "2025-09-21T18:17:06.716560Z"
    }
   },
   "source": [
    "import joblib\n",
    "scaler_lat = joblib.load(\"scaler_LAT.pkl\")\n",
    "scaler_lon = joblib.load(\"scaler_LON.pkl\")\n",
    "\n",
    "df_lat_train['LAT'] = scaler_lat.fit_transform(df_lat_train[['LAT']])\n",
    "df_lon_train['LON'] = scaler_lon.fit_transform(df_lon_train[['LON']])"
   ],
   "outputs": [],
   "execution_count": 10
  },
  {
   "cell_type": "code",
   "id": "debca559b45a7aa7",
   "metadata": {
    "ExecuteTime": {
     "end_time": "2025-09-21T18:17:07.706407Z",
     "start_time": "2025-09-21T18:17:07.698441Z"
    }
   },
   "source": [
    "df_lat_train['TIMESTAMP'] = pd.to_datetime(df_lat_train['TIMESTAMP'], unit='s')\n",
    "df_lon_train['TIMESTAMP'] = pd.to_datetime(df_lon_train['TIMESTAMP'], unit='s')"
   ],
   "outputs": [],
   "execution_count": 11
  },
  {
   "cell_type": "code",
   "id": "ac9f39dfe4f0f960",
   "metadata": {
    "ExecuteTime": {
     "end_time": "2025-09-21T18:17:07.723114Z",
     "start_time": "2025-09-21T18:17:07.718127Z"
    }
   },
   "source": [
    "df_lon_train = df_lon_train.rename(columns={'TIMESTAMP': 'ds', 'LON': 'y', 'TRIP_ID': 'unique_id'})\n",
    "df_lat_train = df_lat_train.rename(columns={'TIMESTAMP': 'ds', 'LAT': 'y', 'TRIP_ID': 'unique_id'})"
   ],
   "outputs": [],
   "execution_count": 12
  },
  {
   "cell_type": "code",
   "id": "ed3ada5fe1a7ca0e",
   "metadata": {
    "ExecuteTime": {
     "end_time": "2025-09-21T18:17:12.708249Z",
     "start_time": "2025-09-21T18:17:07.735376Z"
    }
   },
   "source": [
    "forecast_df_lon = tfm_lon.forecast_on_df(\n",
    "    inputs=df_lon_train,\n",
    "    freq=\"15s\",\n",
    "    value_name=\"y\",\n",
    "    num_jobs=-1,\n",
    ")"
   ],
   "outputs": [
    {
     "name": "stdout",
     "output_type": "stream",
     "text": [
      "Processing dataframe with multiple processes.\n",
      "Finished preprocessing dataframe.\n",
      "Finished forecasting.\n"
     ]
    }
   ],
   "execution_count": 13
  },
  {
   "cell_type": "code",
   "id": "8a832bbf399e88c5",
   "metadata": {
    "ExecuteTime": {
     "end_time": "2025-09-21T18:17:16.600671Z",
     "start_time": "2025-09-21T18:17:12.728015Z"
    }
   },
   "source": [
    "forecast_df_lat = tfm_lon.forecast_on_df(\n",
    "    inputs=df_lat_train,\n",
    "    freq=\"15s\",\n",
    "    value_name=\"y\",\n",
    "    num_jobs=-1,\n",
    ")"
   ],
   "outputs": [
    {
     "name": "stdout",
     "output_type": "stream",
     "text": [
      "Processing dataframe with multiple processes.\n",
      "Finished preprocessing dataframe.\n",
      "Finished forecasting.\n"
     ]
    }
   ],
   "execution_count": 14
  },
  {
   "cell_type": "code",
   "id": "e90b98dd91419fa4",
   "metadata": {
    "ExecuteTime": {
     "end_time": "2025-09-21T18:17:16.623077Z",
     "start_time": "2025-09-21T18:17:16.618029Z"
    }
   },
   "source": [
    "forecast_df_lon_keep = forecast_df_lon[['unique_id', 'ds', 'timesfm-q-0.9']]"
   ],
   "outputs": [],
   "execution_count": 15
  },
  {
   "cell_type": "code",
   "id": "8b5c3019c028bff6",
   "metadata": {
    "ExecuteTime": {
     "end_time": "2025-09-21T18:17:16.650085Z",
     "start_time": "2025-09-21T18:17:16.644713Z"
    }
   },
   "source": [
    "forecast_df_lat_keep = forecast_df_lat[['unique_id', 'ds', 'timesfm-q-0.9']]"
   ],
   "outputs": [],
   "execution_count": 16
  },
  {
   "cell_type": "code",
   "id": "28cea87086d776a8",
   "metadata": {
    "ExecuteTime": {
     "end_time": "2025-09-21T18:17:16.684637Z",
     "start_time": "2025-09-21T18:17:16.676601Z"
    }
   },
   "source": [
    "forecast_df_lat_keep['timesfm-q-0.9'] = scaler_lat.inverse_transform(forecast_df_lat_keep[['timesfm-q-0.9']])\n",
    "forecast_df_lon_keep['timesfm-q-0.9'] = scaler_lon.inverse_transform(forecast_df_lon_keep[['timesfm-q-0.9']])"
   ],
   "outputs": [
    {
     "name": "stderr",
     "output_type": "stream",
     "text": [
      "C:\\Users\\Nikola\\AppData\\Local\\Temp\\ipykernel_11244\\3587103272.py:1: SettingWithCopyWarning: \n",
      "A value is trying to be set on a copy of a slice from a DataFrame.\n",
      "Try using .loc[row_indexer,col_indexer] = value instead\n",
      "\n",
      "See the caveats in the documentation: https://pandas.pydata.org/pandas-docs/stable/user_guide/indexing.html#returning-a-view-versus-a-copy\n",
      "  forecast_df_lat_keep['timesfm-q-0.9'] = scaler_lat.inverse_transform(forecast_df_lat_keep[['timesfm-q-0.9']])\n",
      "C:\\Users\\Nikola\\AppData\\Local\\Temp\\ipykernel_11244\\3587103272.py:2: SettingWithCopyWarning: \n",
      "A value is trying to be set on a copy of a slice from a DataFrame.\n",
      "Try using .loc[row_indexer,col_indexer] = value instead\n",
      "\n",
      "See the caveats in the documentation: https://pandas.pydata.org/pandas-docs/stable/user_guide/indexing.html#returning-a-view-versus-a-copy\n",
      "  forecast_df_lon_keep['timesfm-q-0.9'] = scaler_lon.inverse_transform(forecast_df_lon_keep[['timesfm-q-0.9']])\n"
     ]
    }
   ],
   "execution_count": 17
  },
  {
   "cell_type": "code",
   "id": "9fb0429524f5d23b",
   "metadata": {
    "ExecuteTime": {
     "end_time": "2025-09-21T18:17:16.712104Z",
     "start_time": "2025-09-21T18:17:16.707125Z"
    }
   },
   "source": [
    "forecast_df_lat_keep = forecast_df_lat_keep.rename(columns={'timesfm-q-0.9': 'LAT_PREDICTED'})\n",
    "forecast_df_lon_keep = forecast_df_lon_keep.rename(columns={'timesfm-q-0.9': 'LON_PREDICTED'})"
   ],
   "outputs": [],
   "execution_count": 18
  },
  {
   "cell_type": "code",
   "id": "6c129c2e025cb7ae",
   "metadata": {
    "ExecuteTime": {
     "end_time": "2025-09-21T18:17:16.739084Z",
     "start_time": "2025-09-21T18:17:16.731188Z"
    }
   },
   "source": [
    "forecast_df_lat_keep = forecast_df_lat_keep.sort_values(['unique_id', 'ds'])\n",
    "forecast_df_lat_keep = forecast_df_lat_keep.groupby('unique_id').tail(1)\n",
    "\n",
    "forecast_df_lon_keep = forecast_df_lon_keep.sort_values(['unique_id', 'ds'])\n",
    "forecast_df_lon_keep = forecast_df_lon_keep.groupby('unique_id').tail(1)"
   ],
   "outputs": [],
   "execution_count": 19
  },
  {
   "cell_type": "code",
   "id": "46f75c22597f8364",
   "metadata": {
    "ExecuteTime": {
     "end_time": "2025-09-21T18:17:16.767284Z",
     "start_time": "2025-09-21T18:17:16.758840Z"
    }
   },
   "source": [
    "df_lon_test = df_lon_test.rename(columns={'TIMESTAMP': 'ds', 'TRIP_ID': 'unique_id'})\n",
    "df_lon_test = df_lon_test.sort_values(['unique_id', 'ds'])\n",
    "df_lon_test = df_lon_test.groupby('unique_id').tail(1)\n",
    "\n",
    "df_lat_test = df_lat_test.rename(columns={'TIMESTAMP': 'ds', 'TRIP_ID': 'unique_id'})\n",
    "df_lat_test = df_lat_test.sort_values(['unique_id', 'ds'])\n",
    "df_lat_test = df_lat_test.groupby('unique_id').tail(1)"
   ],
   "outputs": [],
   "execution_count": 20
  },
  {
   "cell_type": "code",
   "id": "46b58aacaf850616",
   "metadata": {
    "ExecuteTime": {
     "end_time": "2025-09-21T18:17:16.799465Z",
     "start_time": "2025-09-21T18:17:16.789064Z"
    }
   },
   "source": [
    "result_lat = df_lat_test.merge(forecast_df_lat_keep, how='left', on=['unique_id'])\n",
    "result_lon = df_lon_test.merge(forecast_df_lon_keep, how='left', on=['unique_id'])\n",
    "result = result_lat.merge(result_lon, how='left', on=['unique_id'])"
   ],
   "outputs": [],
   "execution_count": 21
  },
  {
   "cell_type": "code",
   "id": "968067708a9b0d80",
   "metadata": {
    "ExecuteTime": {
     "end_time": "2025-09-21T18:17:16.848685Z",
     "start_time": "2025-09-21T18:17:16.844242Z"
    }
   },
   "source": [
    "from evaluation_script import haversine_distance"
   ],
   "outputs": [],
   "execution_count": 22
  },
  {
   "cell_type": "code",
   "id": "185c32d8ae39f423",
   "metadata": {
    "ExecuteTime": {
     "end_time": "2025-09-21T18:17:16.856446Z",
     "start_time": "2025-09-21T18:17:16.851692Z"
    }
   },
   "source": [
    "result['DISTANCE_DELTA_SEPARATED'] = result.apply(lambda row: haversine_distance(\n",
    "    row['LAT'], row['LON'], row['LAT_PREDICTED'], row['LON_PREDICTED']), axis=1)"
   ],
   "outputs": [],
   "execution_count": 23
  },
  {
   "cell_type": "code",
   "id": "cac3d9e02fc41412",
   "metadata": {
    "ExecuteTime": {
     "end_time": "2025-09-21T18:17:16.884722Z",
     "start_time": "2025-09-21T18:17:16.879249Z"
    }
   },
   "source": [
    "result['DISTANCE_DELTA_SEPARATED'].mean()"
   ],
   "outputs": [
    {
     "data": {
      "text/plain": [
       "np.float64(2.9249007944019914)"
      ]
     },
     "execution_count": 24,
     "metadata": {},
     "output_type": "execute_result"
    }
   ],
   "execution_count": 24
  },
  {
   "cell_type": "code",
   "id": "6d6de9b483deb9fa",
   "metadata": {
    "ExecuteTime": {
     "end_time": "2025-09-21T18:17:16.912799Z",
     "start_time": "2025-09-21T18:17:16.907508Z"
    }
   },
   "source": [
    "result['DISTANCE_DELTA_SEPARATED'].median()"
   ],
   "outputs": [
    {
     "data": {
      "text/plain": [
       "2.9249007944019914"
      ]
     },
     "execution_count": 25,
     "metadata": {},
     "output_type": "execute_result"
    }
   ],
   "execution_count": 25
  },
  {
   "metadata": {
    "ExecuteTime": {
     "end_time": "2025-09-21T18:17:16.944159Z",
     "start_time": "2025-09-21T18:17:16.936096Z"
    }
   },
   "cell_type": "code",
   "source": "result.to_csv(\"result.csv\", index=False)",
   "id": "7c8457a4b2a692da",
   "outputs": [],
   "execution_count": 26
  },
  {
   "metadata": {
    "ExecuteTime": {
     "end_time": "2025-09-21T18:17:16.984927Z",
     "start_time": "2025-09-21T18:17:16.967931Z"
    }
   },
   "cell_type": "code",
   "source": "forecast_df_lat",
   "id": "45393fbae5424c2f",
   "outputs": [
    {
     "data": {
      "text/plain": [
       "              unique_id                  ds   timesfm  timesfm-q-0.1  \\\n",
       "0   1380694967620000451 2013-10-02 08:23:47  0.998301       0.997023   \n",
       "1   1380694967620000451 2013-10-02 08:24:02  0.998080       0.996257   \n",
       "2   1380694967620000451 2013-10-02 08:24:17  0.997776       0.995479   \n",
       "3   1380694967620000451 2013-10-02 08:24:32  0.997711       0.995046   \n",
       "4   1380694967620000451 2013-10-02 08:24:47  0.997546       0.994515   \n",
       "5   1380694967620000451 2013-10-02 08:25:02  0.997447       0.994072   \n",
       "6   1380694967620000451 2013-10-02 08:25:17  0.997329       0.993600   \n",
       "7   1380694967620000451 2013-10-02 08:25:32  0.997262       0.993215   \n",
       "8   1380694967620000451 2013-10-02 08:25:47  0.997130       0.992788   \n",
       "9   1380694967620000451 2013-10-02 08:26:02  0.996949       0.992444   \n",
       "10  1380694967620000451 2013-10-02 08:26:17  0.996796       0.992045   \n",
       "11  1380694967620000451 2013-10-02 08:26:32  0.996618       0.991679   \n",
       "12  1380694967620000451 2013-10-02 08:26:47  0.996545       0.991409   \n",
       "13  1380694967620000451 2013-10-02 08:27:02  0.996463       0.991164   \n",
       "14  1380694967620000451 2013-10-02 08:27:17  0.996252       0.990768   \n",
       "15  1380694967620000451 2013-10-02 08:27:32  0.996223       0.990610   \n",
       "16  1380694967620000451 2013-10-02 08:27:47  0.996119       0.990377   \n",
       "17  1380694967620000451 2013-10-02 08:28:02  0.995987       0.990175   \n",
       "18  1380694967620000451 2013-10-02 08:28:17  0.995876       0.990049   \n",
       "19  1380694967620000451 2013-10-02 08:28:32  0.995815       0.989969   \n",
       "20  1398764351620000197 2014-04-29 11:39:41  0.977713       0.976842   \n",
       "21  1398764351620000197 2014-04-29 11:39:56  0.977631       0.976533   \n",
       "22  1398764351620000197 2014-04-29 11:40:11  0.977746       0.976456   \n",
       "23  1398764351620000197 2014-04-29 11:40:26  0.977712       0.976260   \n",
       "24  1398764351620000197 2014-04-29 11:40:41  0.977709       0.976003   \n",
       "25  1398764351620000197 2014-04-29 11:40:56  0.977634       0.975656   \n",
       "26  1398764351620000197 2014-04-29 11:41:11  0.977738       0.975520   \n",
       "27  1398764351620000197 2014-04-29 11:41:26  0.977786       0.975205   \n",
       "28  1398764351620000197 2014-04-29 11:41:41  0.977862       0.974929   \n",
       "29  1398764351620000197 2014-04-29 11:41:56  0.977766       0.974417   \n",
       "30  1398764351620000197 2014-04-29 11:42:11  0.977704       0.973940   \n",
       "31  1398764351620000197 2014-04-29 11:42:26  0.977622       0.973429   \n",
       "32  1398764351620000197 2014-04-29 11:42:41  0.977642       0.972982   \n",
       "33  1398764351620000197 2014-04-29 11:42:56  0.977485       0.972362   \n",
       "34  1398764351620000197 2014-04-29 11:43:11  0.977508       0.971951   \n",
       "35  1398764351620000197 2014-04-29 11:43:26  0.977220       0.971280   \n",
       "36  1398764351620000197 2014-04-29 11:43:41  0.977154       0.970853   \n",
       "37  1398764351620000197 2014-04-29 11:43:56  0.976933       0.970360   \n",
       "38  1398764351620000197 2014-04-29 11:44:11  0.976867       0.970071   \n",
       "39  1398764351620000197 2014-04-29 11:44:26  0.976764       0.969776   \n",
       "\n",
       "    timesfm-q-0.2  timesfm-q-0.3  timesfm-q-0.4  timesfm-q-0.5  timesfm-q-0.6  \\\n",
       "0        0.997519       0.997813       0.998079       0.998301       0.998485   \n",
       "1        0.996970       0.997404       0.997740       0.998080       0.998307   \n",
       "2        0.996415       0.996974       0.997416       0.997776       0.998121   \n",
       "3        0.996133       0.996831       0.997311       0.997711       0.998046   \n",
       "4        0.995792       0.996532       0.997129       0.997546       0.997931   \n",
       "5        0.995485       0.996328       0.996946       0.997447       0.997857   \n",
       "6        0.995152       0.996097       0.996771       0.997329       0.997800   \n",
       "7        0.994900       0.995930       0.996678       0.997262       0.997806   \n",
       "8        0.994563       0.995664       0.996476       0.997130       0.997661   \n",
       "9        0.994318       0.995461       0.996298       0.996949       0.997533   \n",
       "10       0.994009       0.995230       0.996103       0.996796       0.997422   \n",
       "11       0.993720       0.994971       0.995902       0.996618       0.997284   \n",
       "12       0.993531       0.994837       0.995788       0.996545       0.997209   \n",
       "13       0.993350       0.994705       0.995677       0.996463       0.997145   \n",
       "14       0.993012       0.994426       0.995426       0.996252       0.996988   \n",
       "15       0.992901       0.994332       0.995374       0.996223       0.996934   \n",
       "16       0.992681       0.994170       0.995227       0.996119       0.996863   \n",
       "17       0.992552       0.994037       0.995118       0.995987       0.996786   \n",
       "18       0.992401       0.993894       0.994997       0.995876       0.996688   \n",
       "19       0.992344       0.993854       0.994948       0.995815       0.996617   \n",
       "20       0.977187       0.977369       0.977540       0.977713       0.977859   \n",
       "21       0.976973       0.977251       0.977466       0.977631       0.977811   \n",
       "22       0.977001       0.977279       0.977516       0.977746       0.977933   \n",
       "23       0.976871       0.977206       0.977472       0.977712       0.977938   \n",
       "24       0.976763       0.977142       0.977455       0.977709       0.977968   \n",
       "25       0.976550       0.976988       0.977323       0.977634       0.977916   \n",
       "26       0.976546       0.977012       0.977391       0.977738       0.978054   \n",
       "27       0.976435       0.976978       0.977395       0.977786       0.978120   \n",
       "28       0.976366       0.976977       0.977434       0.977862       0.978219   \n",
       "29       0.976100       0.976802       0.977308       0.977766       0.978145   \n",
       "30       0.975849       0.976623       0.977190       0.977704       0.978107   \n",
       "31       0.975532       0.976418       0.977065       0.977622       0.978059   \n",
       "32       0.975309       0.976326       0.977026       0.977642       0.978102   \n",
       "33       0.974904       0.976041       0.976826       0.977485       0.977995   \n",
       "34       0.974682       0.975953       0.976802       0.977508       0.978045   \n",
       "35       0.974209       0.975543       0.976477       0.977220       0.977786   \n",
       "36       0.973916       0.975388       0.976378       0.977154       0.977745   \n",
       "37       0.973556       0.975113       0.976137       0.976933       0.977549   \n",
       "38       0.973344       0.974959       0.976032       0.976867       0.977512   \n",
       "39       0.973142       0.974819       0.975928       0.976764       0.977413   \n",
       "\n",
       "    timesfm-q-0.7  timesfm-q-0.8  timesfm-q-0.9  \n",
       "0        0.998645       0.998848       0.999151  \n",
       "1        0.998513       0.998753       0.999127  \n",
       "2        0.998376       0.998659       0.999125  \n",
       "3        0.998361       0.998719       0.999229  \n",
       "4        0.998309       0.998697       0.999265  \n",
       "5        0.998245       0.998692       0.999292  \n",
       "6        0.998205       0.998699       0.999305  \n",
       "7        0.998215       0.998704       0.999369  \n",
       "8        0.998156       0.998688       0.999383  \n",
       "9        0.998056       0.998568       0.999303  \n",
       "10       0.997994       0.998541       0.999304  \n",
       "11       0.997851       0.998429       0.999201  \n",
       "12       0.997800       0.998384       0.999172  \n",
       "13       0.997767       0.998344       0.999202  \n",
       "14       0.997643       0.998259       0.999162  \n",
       "15       0.997615       0.998220       0.999199  \n",
       "16       0.997559       0.998213       0.999278  \n",
       "17       0.997484       0.998137       0.999225  \n",
       "18       0.997389       0.998098       0.999184  \n",
       "19       0.997371       0.998057       0.999176  \n",
       "20       0.978027       0.978234       0.978597  \n",
       "21       0.978021       0.978296       0.978757  \n",
       "22       0.978192       0.978493       0.978991  \n",
       "23       0.978185       0.978525       0.979031  \n",
       "24       0.978261       0.978621       0.979135  \n",
       "25       0.978248       0.978594       0.979118  \n",
       "26       0.978394       0.978760       0.979272  \n",
       "27       0.978482       0.978841       0.979351  \n",
       "28       0.978586       0.978956       0.979465  \n",
       "29       0.978526       0.978903       0.979417  \n",
       "30       0.978526       0.978920       0.979468  \n",
       "31       0.978486       0.978933       0.979543  \n",
       "32       0.978564       0.979023       0.979693  \n",
       "33       0.978498       0.978977       0.979701  \n",
       "34       0.978587       0.979109       0.979898  \n",
       "35       0.978359       0.978920       0.979770  \n",
       "36       0.978321       0.978928       0.979819  \n",
       "37       0.978155       0.978782       0.979738  \n",
       "38       0.978127       0.978790       0.979784  \n",
       "39       0.978060       0.978715       0.979747  "
      ],
      "text/html": [
       "<div>\n",
       "<style scoped>\n",
       "    .dataframe tbody tr th:only-of-type {\n",
       "        vertical-align: middle;\n",
       "    }\n",
       "\n",
       "    .dataframe tbody tr th {\n",
       "        vertical-align: top;\n",
       "    }\n",
       "\n",
       "    .dataframe thead th {\n",
       "        text-align: right;\n",
       "    }\n",
       "</style>\n",
       "<table border=\"1\" class=\"dataframe\">\n",
       "  <thead>\n",
       "    <tr style=\"text-align: right;\">\n",
       "      <th></th>\n",
       "      <th>unique_id</th>\n",
       "      <th>ds</th>\n",
       "      <th>timesfm</th>\n",
       "      <th>timesfm-q-0.1</th>\n",
       "      <th>timesfm-q-0.2</th>\n",
       "      <th>timesfm-q-0.3</th>\n",
       "      <th>timesfm-q-0.4</th>\n",
       "      <th>timesfm-q-0.5</th>\n",
       "      <th>timesfm-q-0.6</th>\n",
       "      <th>timesfm-q-0.7</th>\n",
       "      <th>timesfm-q-0.8</th>\n",
       "      <th>timesfm-q-0.9</th>\n",
       "    </tr>\n",
       "  </thead>\n",
       "  <tbody>\n",
       "    <tr>\n",
       "      <th>0</th>\n",
       "      <td>1380694967620000451</td>\n",
       "      <td>2013-10-02 08:23:47</td>\n",
       "      <td>0.998301</td>\n",
       "      <td>0.997023</td>\n",
       "      <td>0.997519</td>\n",
       "      <td>0.997813</td>\n",
       "      <td>0.998079</td>\n",
       "      <td>0.998301</td>\n",
       "      <td>0.998485</td>\n",
       "      <td>0.998645</td>\n",
       "      <td>0.998848</td>\n",
       "      <td>0.999151</td>\n",
       "    </tr>\n",
       "    <tr>\n",
       "      <th>1</th>\n",
       "      <td>1380694967620000451</td>\n",
       "      <td>2013-10-02 08:24:02</td>\n",
       "      <td>0.998080</td>\n",
       "      <td>0.996257</td>\n",
       "      <td>0.996970</td>\n",
       "      <td>0.997404</td>\n",
       "      <td>0.997740</td>\n",
       "      <td>0.998080</td>\n",
       "      <td>0.998307</td>\n",
       "      <td>0.998513</td>\n",
       "      <td>0.998753</td>\n",
       "      <td>0.999127</td>\n",
       "    </tr>\n",
       "    <tr>\n",
       "      <th>2</th>\n",
       "      <td>1380694967620000451</td>\n",
       "      <td>2013-10-02 08:24:17</td>\n",
       "      <td>0.997776</td>\n",
       "      <td>0.995479</td>\n",
       "      <td>0.996415</td>\n",
       "      <td>0.996974</td>\n",
       "      <td>0.997416</td>\n",
       "      <td>0.997776</td>\n",
       "      <td>0.998121</td>\n",
       "      <td>0.998376</td>\n",
       "      <td>0.998659</td>\n",
       "      <td>0.999125</td>\n",
       "    </tr>\n",
       "    <tr>\n",
       "      <th>3</th>\n",
       "      <td>1380694967620000451</td>\n",
       "      <td>2013-10-02 08:24:32</td>\n",
       "      <td>0.997711</td>\n",
       "      <td>0.995046</td>\n",
       "      <td>0.996133</td>\n",
       "      <td>0.996831</td>\n",
       "      <td>0.997311</td>\n",
       "      <td>0.997711</td>\n",
       "      <td>0.998046</td>\n",
       "      <td>0.998361</td>\n",
       "      <td>0.998719</td>\n",
       "      <td>0.999229</td>\n",
       "    </tr>\n",
       "    <tr>\n",
       "      <th>4</th>\n",
       "      <td>1380694967620000451</td>\n",
       "      <td>2013-10-02 08:24:47</td>\n",
       "      <td>0.997546</td>\n",
       "      <td>0.994515</td>\n",
       "      <td>0.995792</td>\n",
       "      <td>0.996532</td>\n",
       "      <td>0.997129</td>\n",
       "      <td>0.997546</td>\n",
       "      <td>0.997931</td>\n",
       "      <td>0.998309</td>\n",
       "      <td>0.998697</td>\n",
       "      <td>0.999265</td>\n",
       "    </tr>\n",
       "    <tr>\n",
       "      <th>5</th>\n",
       "      <td>1380694967620000451</td>\n",
       "      <td>2013-10-02 08:25:02</td>\n",
       "      <td>0.997447</td>\n",
       "      <td>0.994072</td>\n",
       "      <td>0.995485</td>\n",
       "      <td>0.996328</td>\n",
       "      <td>0.996946</td>\n",
       "      <td>0.997447</td>\n",
       "      <td>0.997857</td>\n",
       "      <td>0.998245</td>\n",
       "      <td>0.998692</td>\n",
       "      <td>0.999292</td>\n",
       "    </tr>\n",
       "    <tr>\n",
       "      <th>6</th>\n",
       "      <td>1380694967620000451</td>\n",
       "      <td>2013-10-02 08:25:17</td>\n",
       "      <td>0.997329</td>\n",
       "      <td>0.993600</td>\n",
       "      <td>0.995152</td>\n",
       "      <td>0.996097</td>\n",
       "      <td>0.996771</td>\n",
       "      <td>0.997329</td>\n",
       "      <td>0.997800</td>\n",
       "      <td>0.998205</td>\n",
       "      <td>0.998699</td>\n",
       "      <td>0.999305</td>\n",
       "    </tr>\n",
       "    <tr>\n",
       "      <th>7</th>\n",
       "      <td>1380694967620000451</td>\n",
       "      <td>2013-10-02 08:25:32</td>\n",
       "      <td>0.997262</td>\n",
       "      <td>0.993215</td>\n",
       "      <td>0.994900</td>\n",
       "      <td>0.995930</td>\n",
       "      <td>0.996678</td>\n",
       "      <td>0.997262</td>\n",
       "      <td>0.997806</td>\n",
       "      <td>0.998215</td>\n",
       "      <td>0.998704</td>\n",
       "      <td>0.999369</td>\n",
       "    </tr>\n",
       "    <tr>\n",
       "      <th>8</th>\n",
       "      <td>1380694967620000451</td>\n",
       "      <td>2013-10-02 08:25:47</td>\n",
       "      <td>0.997130</td>\n",
       "      <td>0.992788</td>\n",
       "      <td>0.994563</td>\n",
       "      <td>0.995664</td>\n",
       "      <td>0.996476</td>\n",
       "      <td>0.997130</td>\n",
       "      <td>0.997661</td>\n",
       "      <td>0.998156</td>\n",
       "      <td>0.998688</td>\n",
       "      <td>0.999383</td>\n",
       "    </tr>\n",
       "    <tr>\n",
       "      <th>9</th>\n",
       "      <td>1380694967620000451</td>\n",
       "      <td>2013-10-02 08:26:02</td>\n",
       "      <td>0.996949</td>\n",
       "      <td>0.992444</td>\n",
       "      <td>0.994318</td>\n",
       "      <td>0.995461</td>\n",
       "      <td>0.996298</td>\n",
       "      <td>0.996949</td>\n",
       "      <td>0.997533</td>\n",
       "      <td>0.998056</td>\n",
       "      <td>0.998568</td>\n",
       "      <td>0.999303</td>\n",
       "    </tr>\n",
       "    <tr>\n",
       "      <th>10</th>\n",
       "      <td>1380694967620000451</td>\n",
       "      <td>2013-10-02 08:26:17</td>\n",
       "      <td>0.996796</td>\n",
       "      <td>0.992045</td>\n",
       "      <td>0.994009</td>\n",
       "      <td>0.995230</td>\n",
       "      <td>0.996103</td>\n",
       "      <td>0.996796</td>\n",
       "      <td>0.997422</td>\n",
       "      <td>0.997994</td>\n",
       "      <td>0.998541</td>\n",
       "      <td>0.999304</td>\n",
       "    </tr>\n",
       "    <tr>\n",
       "      <th>11</th>\n",
       "      <td>1380694967620000451</td>\n",
       "      <td>2013-10-02 08:26:32</td>\n",
       "      <td>0.996618</td>\n",
       "      <td>0.991679</td>\n",
       "      <td>0.993720</td>\n",
       "      <td>0.994971</td>\n",
       "      <td>0.995902</td>\n",
       "      <td>0.996618</td>\n",
       "      <td>0.997284</td>\n",
       "      <td>0.997851</td>\n",
       "      <td>0.998429</td>\n",
       "      <td>0.999201</td>\n",
       "    </tr>\n",
       "    <tr>\n",
       "      <th>12</th>\n",
       "      <td>1380694967620000451</td>\n",
       "      <td>2013-10-02 08:26:47</td>\n",
       "      <td>0.996545</td>\n",
       "      <td>0.991409</td>\n",
       "      <td>0.993531</td>\n",
       "      <td>0.994837</td>\n",
       "      <td>0.995788</td>\n",
       "      <td>0.996545</td>\n",
       "      <td>0.997209</td>\n",
       "      <td>0.997800</td>\n",
       "      <td>0.998384</td>\n",
       "      <td>0.999172</td>\n",
       "    </tr>\n",
       "    <tr>\n",
       "      <th>13</th>\n",
       "      <td>1380694967620000451</td>\n",
       "      <td>2013-10-02 08:27:02</td>\n",
       "      <td>0.996463</td>\n",
       "      <td>0.991164</td>\n",
       "      <td>0.993350</td>\n",
       "      <td>0.994705</td>\n",
       "      <td>0.995677</td>\n",
       "      <td>0.996463</td>\n",
       "      <td>0.997145</td>\n",
       "      <td>0.997767</td>\n",
       "      <td>0.998344</td>\n",
       "      <td>0.999202</td>\n",
       "    </tr>\n",
       "    <tr>\n",
       "      <th>14</th>\n",
       "      <td>1380694967620000451</td>\n",
       "      <td>2013-10-02 08:27:17</td>\n",
       "      <td>0.996252</td>\n",
       "      <td>0.990768</td>\n",
       "      <td>0.993012</td>\n",
       "      <td>0.994426</td>\n",
       "      <td>0.995426</td>\n",
       "      <td>0.996252</td>\n",
       "      <td>0.996988</td>\n",
       "      <td>0.997643</td>\n",
       "      <td>0.998259</td>\n",
       "      <td>0.999162</td>\n",
       "    </tr>\n",
       "    <tr>\n",
       "      <th>15</th>\n",
       "      <td>1380694967620000451</td>\n",
       "      <td>2013-10-02 08:27:32</td>\n",
       "      <td>0.996223</td>\n",
       "      <td>0.990610</td>\n",
       "      <td>0.992901</td>\n",
       "      <td>0.994332</td>\n",
       "      <td>0.995374</td>\n",
       "      <td>0.996223</td>\n",
       "      <td>0.996934</td>\n",
       "      <td>0.997615</td>\n",
       "      <td>0.998220</td>\n",
       "      <td>0.999199</td>\n",
       "    </tr>\n",
       "    <tr>\n",
       "      <th>16</th>\n",
       "      <td>1380694967620000451</td>\n",
       "      <td>2013-10-02 08:27:47</td>\n",
       "      <td>0.996119</td>\n",
       "      <td>0.990377</td>\n",
       "      <td>0.992681</td>\n",
       "      <td>0.994170</td>\n",
       "      <td>0.995227</td>\n",
       "      <td>0.996119</td>\n",
       "      <td>0.996863</td>\n",
       "      <td>0.997559</td>\n",
       "      <td>0.998213</td>\n",
       "      <td>0.999278</td>\n",
       "    </tr>\n",
       "    <tr>\n",
       "      <th>17</th>\n",
       "      <td>1380694967620000451</td>\n",
       "      <td>2013-10-02 08:28:02</td>\n",
       "      <td>0.995987</td>\n",
       "      <td>0.990175</td>\n",
       "      <td>0.992552</td>\n",
       "      <td>0.994037</td>\n",
       "      <td>0.995118</td>\n",
       "      <td>0.995987</td>\n",
       "      <td>0.996786</td>\n",
       "      <td>0.997484</td>\n",
       "      <td>0.998137</td>\n",
       "      <td>0.999225</td>\n",
       "    </tr>\n",
       "    <tr>\n",
       "      <th>18</th>\n",
       "      <td>1380694967620000451</td>\n",
       "      <td>2013-10-02 08:28:17</td>\n",
       "      <td>0.995876</td>\n",
       "      <td>0.990049</td>\n",
       "      <td>0.992401</td>\n",
       "      <td>0.993894</td>\n",
       "      <td>0.994997</td>\n",
       "      <td>0.995876</td>\n",
       "      <td>0.996688</td>\n",
       "      <td>0.997389</td>\n",
       "      <td>0.998098</td>\n",
       "      <td>0.999184</td>\n",
       "    </tr>\n",
       "    <tr>\n",
       "      <th>19</th>\n",
       "      <td>1380694967620000451</td>\n",
       "      <td>2013-10-02 08:28:32</td>\n",
       "      <td>0.995815</td>\n",
       "      <td>0.989969</td>\n",
       "      <td>0.992344</td>\n",
       "      <td>0.993854</td>\n",
       "      <td>0.994948</td>\n",
       "      <td>0.995815</td>\n",
       "      <td>0.996617</td>\n",
       "      <td>0.997371</td>\n",
       "      <td>0.998057</td>\n",
       "      <td>0.999176</td>\n",
       "    </tr>\n",
       "    <tr>\n",
       "      <th>20</th>\n",
       "      <td>1398764351620000197</td>\n",
       "      <td>2014-04-29 11:39:41</td>\n",
       "      <td>0.977713</td>\n",
       "      <td>0.976842</td>\n",
       "      <td>0.977187</td>\n",
       "      <td>0.977369</td>\n",
       "      <td>0.977540</td>\n",
       "      <td>0.977713</td>\n",
       "      <td>0.977859</td>\n",
       "      <td>0.978027</td>\n",
       "      <td>0.978234</td>\n",
       "      <td>0.978597</td>\n",
       "    </tr>\n",
       "    <tr>\n",
       "      <th>21</th>\n",
       "      <td>1398764351620000197</td>\n",
       "      <td>2014-04-29 11:39:56</td>\n",
       "      <td>0.977631</td>\n",
       "      <td>0.976533</td>\n",
       "      <td>0.976973</td>\n",
       "      <td>0.977251</td>\n",
       "      <td>0.977466</td>\n",
       "      <td>0.977631</td>\n",
       "      <td>0.977811</td>\n",
       "      <td>0.978021</td>\n",
       "      <td>0.978296</td>\n",
       "      <td>0.978757</td>\n",
       "    </tr>\n",
       "    <tr>\n",
       "      <th>22</th>\n",
       "      <td>1398764351620000197</td>\n",
       "      <td>2014-04-29 11:40:11</td>\n",
       "      <td>0.977746</td>\n",
       "      <td>0.976456</td>\n",
       "      <td>0.977001</td>\n",
       "      <td>0.977279</td>\n",
       "      <td>0.977516</td>\n",
       "      <td>0.977746</td>\n",
       "      <td>0.977933</td>\n",
       "      <td>0.978192</td>\n",
       "      <td>0.978493</td>\n",
       "      <td>0.978991</td>\n",
       "    </tr>\n",
       "    <tr>\n",
       "      <th>23</th>\n",
       "      <td>1398764351620000197</td>\n",
       "      <td>2014-04-29 11:40:26</td>\n",
       "      <td>0.977712</td>\n",
       "      <td>0.976260</td>\n",
       "      <td>0.976871</td>\n",
       "      <td>0.977206</td>\n",
       "      <td>0.977472</td>\n",
       "      <td>0.977712</td>\n",
       "      <td>0.977938</td>\n",
       "      <td>0.978185</td>\n",
       "      <td>0.978525</td>\n",
       "      <td>0.979031</td>\n",
       "    </tr>\n",
       "    <tr>\n",
       "      <th>24</th>\n",
       "      <td>1398764351620000197</td>\n",
       "      <td>2014-04-29 11:40:41</td>\n",
       "      <td>0.977709</td>\n",
       "      <td>0.976003</td>\n",
       "      <td>0.976763</td>\n",
       "      <td>0.977142</td>\n",
       "      <td>0.977455</td>\n",
       "      <td>0.977709</td>\n",
       "      <td>0.977968</td>\n",
       "      <td>0.978261</td>\n",
       "      <td>0.978621</td>\n",
       "      <td>0.979135</td>\n",
       "    </tr>\n",
       "    <tr>\n",
       "      <th>25</th>\n",
       "      <td>1398764351620000197</td>\n",
       "      <td>2014-04-29 11:40:56</td>\n",
       "      <td>0.977634</td>\n",
       "      <td>0.975656</td>\n",
       "      <td>0.976550</td>\n",
       "      <td>0.976988</td>\n",
       "      <td>0.977323</td>\n",
       "      <td>0.977634</td>\n",
       "      <td>0.977916</td>\n",
       "      <td>0.978248</td>\n",
       "      <td>0.978594</td>\n",
       "      <td>0.979118</td>\n",
       "    </tr>\n",
       "    <tr>\n",
       "      <th>26</th>\n",
       "      <td>1398764351620000197</td>\n",
       "      <td>2014-04-29 11:41:11</td>\n",
       "      <td>0.977738</td>\n",
       "      <td>0.975520</td>\n",
       "      <td>0.976546</td>\n",
       "      <td>0.977012</td>\n",
       "      <td>0.977391</td>\n",
       "      <td>0.977738</td>\n",
       "      <td>0.978054</td>\n",
       "      <td>0.978394</td>\n",
       "      <td>0.978760</td>\n",
       "      <td>0.979272</td>\n",
       "    </tr>\n",
       "    <tr>\n",
       "      <th>27</th>\n",
       "      <td>1398764351620000197</td>\n",
       "      <td>2014-04-29 11:41:26</td>\n",
       "      <td>0.977786</td>\n",
       "      <td>0.975205</td>\n",
       "      <td>0.976435</td>\n",
       "      <td>0.976978</td>\n",
       "      <td>0.977395</td>\n",
       "      <td>0.977786</td>\n",
       "      <td>0.978120</td>\n",
       "      <td>0.978482</td>\n",
       "      <td>0.978841</td>\n",
       "      <td>0.979351</td>\n",
       "    </tr>\n",
       "    <tr>\n",
       "      <th>28</th>\n",
       "      <td>1398764351620000197</td>\n",
       "      <td>2014-04-29 11:41:41</td>\n",
       "      <td>0.977862</td>\n",
       "      <td>0.974929</td>\n",
       "      <td>0.976366</td>\n",
       "      <td>0.976977</td>\n",
       "      <td>0.977434</td>\n",
       "      <td>0.977862</td>\n",
       "      <td>0.978219</td>\n",
       "      <td>0.978586</td>\n",
       "      <td>0.978956</td>\n",
       "      <td>0.979465</td>\n",
       "    </tr>\n",
       "    <tr>\n",
       "      <th>29</th>\n",
       "      <td>1398764351620000197</td>\n",
       "      <td>2014-04-29 11:41:56</td>\n",
       "      <td>0.977766</td>\n",
       "      <td>0.974417</td>\n",
       "      <td>0.976100</td>\n",
       "      <td>0.976802</td>\n",
       "      <td>0.977308</td>\n",
       "      <td>0.977766</td>\n",
       "      <td>0.978145</td>\n",
       "      <td>0.978526</td>\n",
       "      <td>0.978903</td>\n",
       "      <td>0.979417</td>\n",
       "    </tr>\n",
       "    <tr>\n",
       "      <th>30</th>\n",
       "      <td>1398764351620000197</td>\n",
       "      <td>2014-04-29 11:42:11</td>\n",
       "      <td>0.977704</td>\n",
       "      <td>0.973940</td>\n",
       "      <td>0.975849</td>\n",
       "      <td>0.976623</td>\n",
       "      <td>0.977190</td>\n",
       "      <td>0.977704</td>\n",
       "      <td>0.978107</td>\n",
       "      <td>0.978526</td>\n",
       "      <td>0.978920</td>\n",
       "      <td>0.979468</td>\n",
       "    </tr>\n",
       "    <tr>\n",
       "      <th>31</th>\n",
       "      <td>1398764351620000197</td>\n",
       "      <td>2014-04-29 11:42:26</td>\n",
       "      <td>0.977622</td>\n",
       "      <td>0.973429</td>\n",
       "      <td>0.975532</td>\n",
       "      <td>0.976418</td>\n",
       "      <td>0.977065</td>\n",
       "      <td>0.977622</td>\n",
       "      <td>0.978059</td>\n",
       "      <td>0.978486</td>\n",
       "      <td>0.978933</td>\n",
       "      <td>0.979543</td>\n",
       "    </tr>\n",
       "    <tr>\n",
       "      <th>32</th>\n",
       "      <td>1398764351620000197</td>\n",
       "      <td>2014-04-29 11:42:41</td>\n",
       "      <td>0.977642</td>\n",
       "      <td>0.972982</td>\n",
       "      <td>0.975309</td>\n",
       "      <td>0.976326</td>\n",
       "      <td>0.977026</td>\n",
       "      <td>0.977642</td>\n",
       "      <td>0.978102</td>\n",
       "      <td>0.978564</td>\n",
       "      <td>0.979023</td>\n",
       "      <td>0.979693</td>\n",
       "    </tr>\n",
       "    <tr>\n",
       "      <th>33</th>\n",
       "      <td>1398764351620000197</td>\n",
       "      <td>2014-04-29 11:42:56</td>\n",
       "      <td>0.977485</td>\n",
       "      <td>0.972362</td>\n",
       "      <td>0.974904</td>\n",
       "      <td>0.976041</td>\n",
       "      <td>0.976826</td>\n",
       "      <td>0.977485</td>\n",
       "      <td>0.977995</td>\n",
       "      <td>0.978498</td>\n",
       "      <td>0.978977</td>\n",
       "      <td>0.979701</td>\n",
       "    </tr>\n",
       "    <tr>\n",
       "      <th>34</th>\n",
       "      <td>1398764351620000197</td>\n",
       "      <td>2014-04-29 11:43:11</td>\n",
       "      <td>0.977508</td>\n",
       "      <td>0.971951</td>\n",
       "      <td>0.974682</td>\n",
       "      <td>0.975953</td>\n",
       "      <td>0.976802</td>\n",
       "      <td>0.977508</td>\n",
       "      <td>0.978045</td>\n",
       "      <td>0.978587</td>\n",
       "      <td>0.979109</td>\n",
       "      <td>0.979898</td>\n",
       "    </tr>\n",
       "    <tr>\n",
       "      <th>35</th>\n",
       "      <td>1398764351620000197</td>\n",
       "      <td>2014-04-29 11:43:26</td>\n",
       "      <td>0.977220</td>\n",
       "      <td>0.971280</td>\n",
       "      <td>0.974209</td>\n",
       "      <td>0.975543</td>\n",
       "      <td>0.976477</td>\n",
       "      <td>0.977220</td>\n",
       "      <td>0.977786</td>\n",
       "      <td>0.978359</td>\n",
       "      <td>0.978920</td>\n",
       "      <td>0.979770</td>\n",
       "    </tr>\n",
       "    <tr>\n",
       "      <th>36</th>\n",
       "      <td>1398764351620000197</td>\n",
       "      <td>2014-04-29 11:43:41</td>\n",
       "      <td>0.977154</td>\n",
       "      <td>0.970853</td>\n",
       "      <td>0.973916</td>\n",
       "      <td>0.975388</td>\n",
       "      <td>0.976378</td>\n",
       "      <td>0.977154</td>\n",
       "      <td>0.977745</td>\n",
       "      <td>0.978321</td>\n",
       "      <td>0.978928</td>\n",
       "      <td>0.979819</td>\n",
       "    </tr>\n",
       "    <tr>\n",
       "      <th>37</th>\n",
       "      <td>1398764351620000197</td>\n",
       "      <td>2014-04-29 11:43:56</td>\n",
       "      <td>0.976933</td>\n",
       "      <td>0.970360</td>\n",
       "      <td>0.973556</td>\n",
       "      <td>0.975113</td>\n",
       "      <td>0.976137</td>\n",
       "      <td>0.976933</td>\n",
       "      <td>0.977549</td>\n",
       "      <td>0.978155</td>\n",
       "      <td>0.978782</td>\n",
       "      <td>0.979738</td>\n",
       "    </tr>\n",
       "    <tr>\n",
       "      <th>38</th>\n",
       "      <td>1398764351620000197</td>\n",
       "      <td>2014-04-29 11:44:11</td>\n",
       "      <td>0.976867</td>\n",
       "      <td>0.970071</td>\n",
       "      <td>0.973344</td>\n",
       "      <td>0.974959</td>\n",
       "      <td>0.976032</td>\n",
       "      <td>0.976867</td>\n",
       "      <td>0.977512</td>\n",
       "      <td>0.978127</td>\n",
       "      <td>0.978790</td>\n",
       "      <td>0.979784</td>\n",
       "    </tr>\n",
       "    <tr>\n",
       "      <th>39</th>\n",
       "      <td>1398764351620000197</td>\n",
       "      <td>2014-04-29 11:44:26</td>\n",
       "      <td>0.976764</td>\n",
       "      <td>0.969776</td>\n",
       "      <td>0.973142</td>\n",
       "      <td>0.974819</td>\n",
       "      <td>0.975928</td>\n",
       "      <td>0.976764</td>\n",
       "      <td>0.977413</td>\n",
       "      <td>0.978060</td>\n",
       "      <td>0.978715</td>\n",
       "      <td>0.979747</td>\n",
       "    </tr>\n",
       "  </tbody>\n",
       "</table>\n",
       "</div>"
      ]
     },
     "execution_count": 27,
     "metadata": {},
     "output_type": "execute_result"
    }
   ],
   "execution_count": 27
  },
  {
   "metadata": {
    "ExecuteTime": {
     "end_time": "2025-09-21T18:17:17.040234Z",
     "start_time": "2025-09-21T18:17:17.036386Z"
    }
   },
   "cell_type": "code",
   "source": "columns = ['timesfm-q-0.1', 'timesfm-q-0.2', 'timesfm-q-0.3', 'timesfm-q-0.4', 'timesfm-q-0.5', 'timesfm-q-0.6', 'timesfm-q-0.7', 'timesfm-q-0.8', 'timesfm-q-0.9']",
   "id": "ddc759e5de2c638d",
   "outputs": [],
   "execution_count": 28
  },
  {
   "metadata": {
    "ExecuteTime": {
     "end_time": "2025-09-21T18:17:17.107376Z",
     "start_time": "2025-09-21T18:17:17.088163Z"
    }
   },
   "cell_type": "code",
   "source": [
    "for column in columns:\n",
    "    forecast_df_lat[column] = scaler_lat.inverse_transform(forecast_df_lat[[column]])\n",
    "    forecast_df_lon[column] = scaler_lon.inverse_transform(forecast_df_lon[[column]])"
   ],
   "id": "82dd7cbf5aa99617",
   "outputs": [],
   "execution_count": 29
  },
  {
   "metadata": {
    "ExecuteTime": {
     "end_time": "2025-09-21T18:17:17.159275Z",
     "start_time": "2025-09-21T18:17:17.151519Z"
    }
   },
   "cell_type": "code",
   "source": [
    "forecast_df_lat = forecast_df_lat.sort_values(['unique_id', 'ds'])\n",
    "forecast_df_lat = forecast_df_lat.groupby('unique_id').tail(1)\n",
    "\n",
    "forecast_df_lon = forecast_df_lon.sort_values(['unique_id', 'ds'])\n",
    "forecast_df_lon = forecast_df_lon.groupby('unique_id').tail(1)"
   ],
   "id": "b2fda8e739fb7d89",
   "outputs": [],
   "execution_count": 30
  },
  {
   "metadata": {
    "ExecuteTime": {
     "end_time": "2025-09-21T18:17:17.168964Z",
     "start_time": "2025-09-21T18:17:17.159275Z"
    }
   },
   "cell_type": "code",
   "source": [
    "result_lat = df_lat_test.merge(forecast_df_lat, how='left', on=['unique_id'])\n",
    "result_lon = df_lon_test.merge(forecast_df_lon, how='left', on=['unique_id'])\n",
    "result = result_lat.merge(result_lon, how='left', on=['unique_id'])"
   ],
   "id": "3fa6cd2f9dc4851c",
   "outputs": [],
   "execution_count": 31
  },
  {
   "metadata": {
    "ExecuteTime": {
     "end_time": "2025-09-21T18:17:17.208940Z",
     "start_time": "2025-09-21T18:17:17.196045Z"
    }
   },
   "cell_type": "code",
   "source": "result",
   "id": "f2225daebef6cedd",
   "outputs": [
    {
     "data": {
      "text/plain": [
       "             unique_id      ds_x_x        LAT              ds_y_x  timesfm_x  \\\n",
       "0  1380694967620000451  1380702512  41.186565 2013-10-02 08:28:32   0.995815   \n",
       "1  1398764351620000197  1398771866  41.180859 2014-04-29 11:44:26   0.976764   \n",
       "\n",
       "   timesfm-q-0.1_x  timesfm-q-0.2_x  timesfm-q-0.3_x  timesfm-q-0.4_x  \\\n",
       "0        41.182632        41.183594        41.184204        41.184647   \n",
       "1        41.174461        41.175823        41.176502        41.176952   \n",
       "\n",
       "   timesfm-q-0.5_x  ...  timesfm_y  timesfm-q-0.1_y  timesfm-q-0.2_y  \\\n",
       "0        41.184998  ...   0.106433        -8.641941        -8.636947   \n",
       "1        41.177288  ...   0.273789        -8.652357        -8.634009   \n",
       "\n",
       "   timesfm-q-0.3_y  timesfm-q-0.4_y  timesfm-q-0.5_y timesfm-q-0.6_y  \\\n",
       "0        -8.632801        -8.629265        -8.625813       -8.622274   \n",
       "1        -8.620752        -8.610372        -8.599840       -8.582231   \n",
       "\n",
       "   timesfm-q-0.7_y  timesfm-q-0.8_y  timesfm-q-0.9_y  \n",
       "0        -8.617938        -8.613781        -8.607566  \n",
       "1        -8.568230        -8.558441        -8.537457  \n",
       "\n",
       "[2 rows x 27 columns]"
      ],
      "text/html": [
       "<div>\n",
       "<style scoped>\n",
       "    .dataframe tbody tr th:only-of-type {\n",
       "        vertical-align: middle;\n",
       "    }\n",
       "\n",
       "    .dataframe tbody tr th {\n",
       "        vertical-align: top;\n",
       "    }\n",
       "\n",
       "    .dataframe thead th {\n",
       "        text-align: right;\n",
       "    }\n",
       "</style>\n",
       "<table border=\"1\" class=\"dataframe\">\n",
       "  <thead>\n",
       "    <tr style=\"text-align: right;\">\n",
       "      <th></th>\n",
       "      <th>unique_id</th>\n",
       "      <th>ds_x_x</th>\n",
       "      <th>LAT</th>\n",
       "      <th>ds_y_x</th>\n",
       "      <th>timesfm_x</th>\n",
       "      <th>timesfm-q-0.1_x</th>\n",
       "      <th>timesfm-q-0.2_x</th>\n",
       "      <th>timesfm-q-0.3_x</th>\n",
       "      <th>timesfm-q-0.4_x</th>\n",
       "      <th>timesfm-q-0.5_x</th>\n",
       "      <th>...</th>\n",
       "      <th>timesfm_y</th>\n",
       "      <th>timesfm-q-0.1_y</th>\n",
       "      <th>timesfm-q-0.2_y</th>\n",
       "      <th>timesfm-q-0.3_y</th>\n",
       "      <th>timesfm-q-0.4_y</th>\n",
       "      <th>timesfm-q-0.5_y</th>\n",
       "      <th>timesfm-q-0.6_y</th>\n",
       "      <th>timesfm-q-0.7_y</th>\n",
       "      <th>timesfm-q-0.8_y</th>\n",
       "      <th>timesfm-q-0.9_y</th>\n",
       "    </tr>\n",
       "  </thead>\n",
       "  <tbody>\n",
       "    <tr>\n",
       "      <th>0</th>\n",
       "      <td>1380694967620000451</td>\n",
       "      <td>1380702512</td>\n",
       "      <td>41.186565</td>\n",
       "      <td>2013-10-02 08:28:32</td>\n",
       "      <td>0.995815</td>\n",
       "      <td>41.182632</td>\n",
       "      <td>41.183594</td>\n",
       "      <td>41.184204</td>\n",
       "      <td>41.184647</td>\n",
       "      <td>41.184998</td>\n",
       "      <td>...</td>\n",
       "      <td>0.106433</td>\n",
       "      <td>-8.641941</td>\n",
       "      <td>-8.636947</td>\n",
       "      <td>-8.632801</td>\n",
       "      <td>-8.629265</td>\n",
       "      <td>-8.625813</td>\n",
       "      <td>-8.622274</td>\n",
       "      <td>-8.617938</td>\n",
       "      <td>-8.613781</td>\n",
       "      <td>-8.607566</td>\n",
       "    </tr>\n",
       "    <tr>\n",
       "      <th>1</th>\n",
       "      <td>1398764351620000197</td>\n",
       "      <td>1398771866</td>\n",
       "      <td>41.180859</td>\n",
       "      <td>2014-04-29 11:44:26</td>\n",
       "      <td>0.976764</td>\n",
       "      <td>41.174461</td>\n",
       "      <td>41.175823</td>\n",
       "      <td>41.176502</td>\n",
       "      <td>41.176952</td>\n",
       "      <td>41.177288</td>\n",
       "      <td>...</td>\n",
       "      <td>0.273789</td>\n",
       "      <td>-8.652357</td>\n",
       "      <td>-8.634009</td>\n",
       "      <td>-8.620752</td>\n",
       "      <td>-8.610372</td>\n",
       "      <td>-8.599840</td>\n",
       "      <td>-8.582231</td>\n",
       "      <td>-8.568230</td>\n",
       "      <td>-8.558441</td>\n",
       "      <td>-8.537457</td>\n",
       "    </tr>\n",
       "  </tbody>\n",
       "</table>\n",
       "<p>2 rows × 27 columns</p>\n",
       "</div>"
      ]
     },
     "execution_count": 32,
     "metadata": {},
     "output_type": "execute_result"
    }
   ],
   "execution_count": 32
  },
  {
   "metadata": {
    "ExecuteTime": {
     "end_time": "2025-09-21T18:17:17.273879Z",
     "start_time": "2025-09-21T18:17:17.267913Z"
    }
   },
   "cell_type": "code",
   "source": "df_lat_test",
   "id": "49054dc6e70aea13",
   "outputs": [
    {
     "data": {
      "text/plain": [
       "                    unique_id          ds        LAT\n",
       "index                                               \n",
       "20214777  1380694967620000451  1380702512  41.186565\n",
       "67580734  1398764351620000197  1398771866  41.180859"
      ],
      "text/html": [
       "<div>\n",
       "<style scoped>\n",
       "    .dataframe tbody tr th:only-of-type {\n",
       "        vertical-align: middle;\n",
       "    }\n",
       "\n",
       "    .dataframe tbody tr th {\n",
       "        vertical-align: top;\n",
       "    }\n",
       "\n",
       "    .dataframe thead th {\n",
       "        text-align: right;\n",
       "    }\n",
       "</style>\n",
       "<table border=\"1\" class=\"dataframe\">\n",
       "  <thead>\n",
       "    <tr style=\"text-align: right;\">\n",
       "      <th></th>\n",
       "      <th>unique_id</th>\n",
       "      <th>ds</th>\n",
       "      <th>LAT</th>\n",
       "    </tr>\n",
       "    <tr>\n",
       "      <th>index</th>\n",
       "      <th></th>\n",
       "      <th></th>\n",
       "      <th></th>\n",
       "    </tr>\n",
       "  </thead>\n",
       "  <tbody>\n",
       "    <tr>\n",
       "      <th>20214777</th>\n",
       "      <td>1380694967620000451</td>\n",
       "      <td>1380702512</td>\n",
       "      <td>41.186565</td>\n",
       "    </tr>\n",
       "    <tr>\n",
       "      <th>67580734</th>\n",
       "      <td>1398764351620000197</td>\n",
       "      <td>1398771866</td>\n",
       "      <td>41.180859</td>\n",
       "    </tr>\n",
       "  </tbody>\n",
       "</table>\n",
       "</div>"
      ]
     },
     "execution_count": 33,
     "metadata": {},
     "output_type": "execute_result"
    }
   ],
   "execution_count": 33
  },
  {
   "metadata": {
    "ExecuteTime": {
     "end_time": "2025-09-21T18:17:17.328062Z",
     "start_time": "2025-09-21T18:17:17.318063Z"
    }
   },
   "cell_type": "code",
   "source": [
    "for col in columns:\n",
    "    result[f'DISTANCE_DELTA_SEPARATED_{col}'] = result.apply(lambda row: haversine_distance(\n",
    "    row['LAT'], row['LON'], row[f'{col}_x'], row[f'{col}_y']), axis=1)"
   ],
   "id": "e6c4b64c066ba7f4",
   "outputs": [],
   "execution_count": 34
  },
  {
   "metadata": {
    "ExecuteTime": {
     "end_time": "2025-09-21T18:17:17.467407Z",
     "start_time": "2025-09-21T18:17:17.460895Z"
    }
   },
   "cell_type": "code",
   "source": [
    "for col in columns:\n",
    "    print(f\"Column: {col}   Mean: {result[f'DISTANCE_DELTA_SEPARATED_{col}'].mean()}    Median: {result[f'DISTANCE_DELTA_SEPARATED_{col}'].median()}\")"
   ],
   "id": "5b99a14cdb92b324",
   "outputs": [
    {
     "name": "stdout",
     "output_type": "stream",
     "text": [
      "Column: timesfm-q-0.1   Mean: 3.4027057466802204    Median: 3.4027057466802204\n",
      "Column: timesfm-q-0.2   Mean: 2.4272763103836503    Median: 2.4272763103836503\n",
      "Column: timesfm-q-0.3   Mean: 1.7481036396517071    Median: 1.7481036396517071\n",
      "Column: timesfm-q-0.4   Mean: 1.344811292543116    Median: 1.344811292543116\n",
      "Column: timesfm-q-0.5   Mean: 1.0293133086536481    Median: 1.0293133086536481\n",
      "Column: timesfm-q-0.6   Mean: 0.6058353272199015    Median: 0.6058353272199015\n",
      "Column: timesfm-q-0.7   Mean: 1.2242481802287823    Median: 1.2242481802287823\n",
      "Column: timesfm-q-0.8   Mean: 1.794781667135438    Median: 1.794781667135438\n",
      "Column: timesfm-q-0.9   Mean: 2.9249007944019914    Median: 2.9249007944019914\n"
     ]
    }
   ],
   "execution_count": 35
  },
  {
   "metadata": {
    "ExecuteTime": {
     "end_time": "2025-09-21T18:17:18.048158Z",
     "start_time": "2025-09-21T18:17:17.518392Z"
    }
   },
   "cell_type": "code",
   "source": "import matplotlib.pyplot as plt",
   "id": "bf4d1aafe871993c",
   "outputs": [],
   "execution_count": 36
  },
  {
   "metadata": {
    "ExecuteTime": {
     "end_time": "2025-09-21T18:17:18.056006Z",
     "start_time": "2025-09-21T18:17:18.051457Z"
    }
   },
   "cell_type": "code",
   "source": [
    "stats = []\n",
    "for col in columns:\n",
    "    mean_val = result[f'DISTANCE_DELTA_SEPARATED_{col}'].mean()\n",
    "    median_val = result[f'DISTANCE_DELTA_SEPARATED_{col}'].median()\n",
    "    label = col.replace(\"timesfm-\", \"\")\n",
    "    stats.append({\"quantile\": label, \"mean\": mean_val, \"median\": median_val})\n",
    "\n",
    "df_stats = pd.DataFrame(stats)"
   ],
   "id": "c4c47ecb39d1e546",
   "outputs": [],
   "execution_count": 37
  },
  {
   "metadata": {
    "ExecuteTime": {
     "end_time": "2025-09-21T18:17:18.217065Z",
     "start_time": "2025-09-21T18:17:18.085042Z"
    }
   },
   "cell_type": "code",
   "source": [
    "plt.figure(figsize=(8,5))\n",
    "plt.plot(df_stats[\"quantile\"], df_stats[\"mean\"], marker=\"o\", label=\"Mean\")\n",
    "plt.plot(df_stats[\"quantile\"], df_stats[\"median\"], marker=\"o\", label=\"Median\")\n",
    "plt.xlabel(\"Quantile\")\n",
    "plt.ylabel(\"Haversine distance error\")\n",
    "plt.title(\"Prediction error vs. quantile\")\n",
    "plt.legend()\n",
    "plt.grid(True)\n",
    "plt.show()"
   ],
   "id": "6ce332bbda0bcf56",
   "outputs": [
    {
     "data": {
      "text/plain": [
       "<Figure size 800x500 with 1 Axes>"
      ],
      "image/png": "[encoded data removed]"
     },
     "metadata": {},
     "output_type": "display_data"
    }
   ],
   "execution_count": 38
  }
 ],
 "metadata": {
  "kernelspec": {
   "display_name": "Python 3",
   "language": "python",
   "name": "python3"
  },
  "language_info": {
   "codemirror_mode": {
    "name": "ipython",
    "version": 2
   },
   "file_extension": ".py",
   "mimetype": "text/x-python",
   "name": "python",
   "nbconvert_exporter": "python",
   "pygments_lexer": "ipython2",
   "version": "2.7.6"
  }
 },
 "nbformat": 4,
 "nbformat_minor": 5
}
