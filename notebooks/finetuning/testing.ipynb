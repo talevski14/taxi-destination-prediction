{
 "cells": [
  {
   "metadata": {
    "ExecuteTime": {
     "end_time": "2025-09-22T12:37:29.355834Z",
     "start_time": "2025-09-22T12:37:28.105245Z"
    }
   },
   "cell_type": "code",
   "source": "import pandas as pd",
   "id": "6ab884bcbf572dbd",
   "outputs": [],
   "execution_count": 1
  },
  {
   "metadata": {
    "ExecuteTime": {
     "end_time": "2025-09-22T12:37:30.813653Z",
     "start_time": "2025-09-22T12:37:29.363848Z"
    }
   },
   "cell_type": "code",
   "source": "df = pd.read_parquet(\"../../data/data_taxi_central_based.parquet\")",
   "id": "dcf4077a2973e75d",
   "outputs": [],
   "execution_count": 2
  },
  {
   "metadata": {
    "ExecuteTime": {
     "end_time": "2025-09-22T12:37:31.796025Z",
     "start_time": "2025-09-22T12:37:31.231368Z"
    }
   },
   "cell_type": "code",
   "source": "value_counts = df['TRIP_ID'].value_counts()",
   "id": "aef485f5e3e869e",
   "outputs": [],
   "execution_count": 3
  },
  {
   "metadata": {
    "ExecuteTime": {
     "end_time": "2025-09-22T12:37:31.825361Z",
     "start_time": "2025-09-22T12:37:31.813462Z"
    }
   },
   "cell_type": "code",
   "source": "value_counts",
   "id": "17bd218b51c70146",
   "outputs": [
    {
     "data": {
      "text/plain": [
       "TRIP_ID\n",
       "1389859963620000263    2324\n",
       "1399026949620000482    1775\n",
       "1402908062620000391    1682\n",
       "1392983546620000338    1670\n",
       "1404043802620000686    1585\n",
       "                       ... \n",
       "1396461573620000941       1\n",
       "1372671566620000685       1\n",
       "1373653545620000940       1\n",
       "1372672949620000108       1\n",
       "1396820390620000692       1\n",
       "Name: count, Length: 364344, dtype: int64"
      ]
     },
     "execution_count": 4,
     "metadata": {},
     "output_type": "execute_result"
    }
   ],
   "execution_count": 4
  },
  {
   "metadata": {
    "ExecuteTime": {
     "end_time": "2025-09-22T12:37:31.859641Z",
     "start_time": "2025-09-22T12:37:31.851808Z"
    }
   },
   "cell_type": "code",
   "source": "filtered_counts = value_counts[value_counts > 40]",
   "id": "3c2a92ed5d2c2866",
   "outputs": [],
   "execution_count": 5
  },
  {
   "metadata": {
    "ExecuteTime": {
     "end_time": "2025-09-22T12:37:31.938768Z",
     "start_time": "2025-09-22T12:37:31.923492Z"
    }
   },
   "cell_type": "code",
   "source": "least_frequent_but_gt_20 = filtered_counts.sort_values(ascending=True)",
   "id": "1598660fe22c8cd0",
   "outputs": [],
   "execution_count": 6
  },
  {
   "metadata": {
    "ExecuteTime": {
     "end_time": "2025-09-22T12:37:32.042265Z",
     "start_time": "2025-09-22T12:37:32.034315Z"
    }
   },
   "cell_type": "code",
   "source": "least_frequent_but_gt_20.head(5)",
   "id": "e1ecac1471a7ee9c",
   "outputs": [
    {
     "data": {
      "text/plain": [
       "TRIP_ID\n",
       "1398436642620000148    41\n",
       "1374931866620000224    41\n",
       "1381140659620000011    41\n",
       "1390232087620000184    41\n",
       "1401597093620000250    41\n",
       "Name: count, dtype: int64"
      ]
     },
     "execution_count": 7,
     "metadata": {},
     "output_type": "execute_result"
    }
   ],
   "execution_count": 7
  },
  {
   "metadata": {
    "ExecuteTime": {
     "end_time": "2025-09-22T12:37:32.106990Z",
     "start_time": "2025-09-22T12:37:32.103281Z"
    }
   },
   "cell_type": "code",
   "source": "",
   "id": "167466a695dfb806",
   "outputs": [],
   "execution_count": null
  }
 ],
 "metadata": {
  "kernelspec": {
   "display_name": "Python 3",
   "language": "python",
   "name": "python3"
  },
  "language_info": {
   "codemirror_mode": {
    "name": "ipython",
    "version": 2
   },
   "file_extension": ".py",
   "mimetype": "text/x-python",
   "name": "python",
   "nbconvert_exporter": "python",
   "pygments_lexer": "ipython2",
   "version": "2.7.6"
  }
 },
 "nbformat": 4,
 "nbformat_minor": 5
}
