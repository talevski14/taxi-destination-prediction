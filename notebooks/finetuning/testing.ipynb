{
 "cells": [
  {
   "metadata": {
    "ExecuteTime": {
     "end_time": "2025-09-21T17:41:07.692149Z",
     "start_time": "2025-09-21T17:41:07.003466Z"
    }
   },
   "cell_type": "code",
   "source": "import pandas as pd",
   "id": "6ab884bcbf572dbd",
   "outputs": [],
   "execution_count": 1
  },
  {
   "metadata": {
    "ExecuteTime": {
     "end_time": "2025-09-21T17:41:08.705654Z",
     "start_time": "2025-09-21T17:41:07.692149Z"
    }
   },
   "cell_type": "code",
   "source": "df = pd.read_parquet(\"../../data/data_taxi_central_based.parquet\")",
   "id": "c75938c70181d535",
   "outputs": [],
   "execution_count": 2
  },
  {
   "metadata": {
    "ExecuteTime": {
     "end_time": "2025-09-21T17:41:08.912410Z",
     "start_time": "2025-09-21T17:41:08.900660Z"
    }
   },
   "cell_type": "code",
   "source": "df.head()",
   "id": "3ead6b42d0bc782d",
   "outputs": [
    {
     "data": {
      "text/plain": [
       "                   TRIP_ID  ORIGIN_CALL   TAXI_ID   TIMESTAMP  \\\n",
       "index                                                           \n",
       "398    1372637343620000571      31508.0  20000571  1372637343   \n",
       "399    1372637343620000571      31508.0  20000571  1372637358   \n",
       "400    1372637343620000571      31508.0  20000571  1372637373   \n",
       "401    1372637343620000571      31508.0  20000571  1372637388   \n",
       "402    1372637343620000571      31508.0  20000571  1372637403   \n",
       "\n",
       "       POLYLINE_LENGTH       LON        LAT  \n",
       "index                                        \n",
       "398                 32 -8.618868  41.155101  \n",
       "399                 32 -8.617500  41.154912  \n",
       "400                 32 -8.615079  41.154525  \n",
       "401                 32 -8.613468  41.154228  \n",
       "402                 32 -8.613261  41.154102  "
      ],
      "text/html": [
       "<div>\n",
       "<style scoped>\n",
       "    .dataframe tbody tr th:only-of-type {\n",
       "        vertical-align: middle;\n",
       "    }\n",
       "\n",
       "    .dataframe tbody tr th {\n",
       "        vertical-align: top;\n",
       "    }\n",
       "\n",
       "    .dataframe thead th {\n",
       "        text-align: right;\n",
       "    }\n",
       "</style>\n",
       "<table border=\"1\" class=\"dataframe\">\n",
       "  <thead>\n",
       "    <tr style=\"text-align: right;\">\n",
       "      <th></th>\n",
       "      <th>TRIP_ID</th>\n",
       "      <th>ORIGIN_CALL</th>\n",
       "      <th>TAXI_ID</th>\n",
       "      <th>TIMESTAMP</th>\n",
       "      <th>POLYLINE_LENGTH</th>\n",
       "      <th>LON</th>\n",
       "      <th>LAT</th>\n",
       "    </tr>\n",
       "    <tr>\n",
       "      <th>index</th>\n",
       "      <th></th>\n",
       "      <th></th>\n",
       "      <th></th>\n",
       "      <th></th>\n",
       "      <th></th>\n",
       "      <th></th>\n",
       "      <th></th>\n",
       "    </tr>\n",
       "  </thead>\n",
       "  <tbody>\n",
       "    <tr>\n",
       "      <th>398</th>\n",
       "      <td>1372637343620000571</td>\n",
       "      <td>31508.0</td>\n",
       "      <td>20000571</td>\n",
       "      <td>1372637343</td>\n",
       "      <td>32</td>\n",
       "      <td>-8.618868</td>\n",
       "      <td>41.155101</td>\n",
       "    </tr>\n",
       "    <tr>\n",
       "      <th>399</th>\n",
       "      <td>1372637343620000571</td>\n",
       "      <td>31508.0</td>\n",
       "      <td>20000571</td>\n",
       "      <td>1372637358</td>\n",
       "      <td>32</td>\n",
       "      <td>-8.617500</td>\n",
       "      <td>41.154912</td>\n",
       "    </tr>\n",
       "    <tr>\n",
       "      <th>400</th>\n",
       "      <td>1372637343620000571</td>\n",
       "      <td>31508.0</td>\n",
       "      <td>20000571</td>\n",
       "      <td>1372637373</td>\n",
       "      <td>32</td>\n",
       "      <td>-8.615079</td>\n",
       "      <td>41.154525</td>\n",
       "    </tr>\n",
       "    <tr>\n",
       "      <th>401</th>\n",
       "      <td>1372637343620000571</td>\n",
       "      <td>31508.0</td>\n",
       "      <td>20000571</td>\n",
       "      <td>1372637388</td>\n",
       "      <td>32</td>\n",
       "      <td>-8.613468</td>\n",
       "      <td>41.154228</td>\n",
       "    </tr>\n",
       "    <tr>\n",
       "      <th>402</th>\n",
       "      <td>1372637343620000571</td>\n",
       "      <td>31508.0</td>\n",
       "      <td>20000571</td>\n",
       "      <td>1372637403</td>\n",
       "      <td>32</td>\n",
       "      <td>-8.613261</td>\n",
       "      <td>41.154102</td>\n",
       "    </tr>\n",
       "  </tbody>\n",
       "</table>\n",
       "</div>"
      ]
     },
     "execution_count": 3,
     "metadata": {},
     "output_type": "execute_result"
    }
   ],
   "execution_count": 3
  },
  {
   "metadata": {
    "ExecuteTime": {
     "end_time": "2025-09-21T17:41:09.485525Z",
     "start_time": "2025-09-21T17:41:08.951827Z"
    }
   },
   "cell_type": "code",
   "source": "value_counts = df['TRIP_ID'].value_counts()",
   "id": "aef485f5e3e869e",
   "outputs": [],
   "execution_count": 4
  },
  {
   "metadata": {
    "ExecuteTime": {
     "end_time": "2025-09-21T17:41:09.632480Z",
     "start_time": "2025-09-21T17:41:09.628481Z"
    }
   },
   "cell_type": "code",
   "source": "filtered_counts = value_counts[value_counts > 500]",
   "id": "3c2a92ed5d2c2866",
   "outputs": [],
   "execution_count": 5
  },
  {
   "metadata": {
    "ExecuteTime": {
     "end_time": "2025-09-21T17:41:09.669445Z",
     "start_time": "2025-09-21T17:41:09.666549Z"
    }
   },
   "cell_type": "code",
   "source": "least_frequent_but_gt_20 = filtered_counts.sort_values(ascending=True)",
   "id": "1598660fe22c8cd0",
   "outputs": [],
   "execution_count": 6
  },
  {
   "metadata": {
    "ExecuteTime": {
     "end_time": "2025-09-21T17:41:09.703526Z",
     "start_time": "2025-09-21T17:41:09.698341Z"
    }
   },
   "cell_type": "code",
   "source": "least_frequent_but_gt_20.head(5)",
   "id": "e1ecac1471a7ee9c",
   "outputs": [
    {
     "data": {
      "text/plain": [
       "TRIP_ID\n",
       "1398764351620000197    502\n",
       "1380694967620000451    504\n",
       "1387463310620000440    504\n",
       "1392043644620000158    506\n",
       "1383068053620000001    507\n",
       "Name: count, dtype: int64"
      ]
     },
     "execution_count": 7,
     "metadata": {},
     "output_type": "execute_result"
    }
   ],
   "execution_count": 7
  },
  {
   "metadata": {
    "ExecuteTime": {
     "end_time": "2025-09-21T17:41:09.759970Z",
     "start_time": "2025-09-21T17:41:09.757392Z"
    }
   },
   "cell_type": "code",
   "source": "",
   "id": "167466a695dfb806",
   "outputs": [],
   "execution_count": null
  }
 ],
 "metadata": {
  "kernelspec": {
   "display_name": "Python 3",
   "language": "python",
   "name": "python3"
  },
  "language_info": {
   "codemirror_mode": {
    "name": "ipython",
    "version": 2
   },
   "file_extension": ".py",
   "mimetype": "text/x-python",
   "name": "python",
   "nbconvert_exporter": "python",
   "pygments_lexer": "ipython2",
   "version": "2.7.6"
  }
 },
 "nbformat": 4,
 "nbformat_minor": 5
}
