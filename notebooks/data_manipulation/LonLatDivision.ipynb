{
 "cells": [
  {
   "cell_type": "code",
   "id": "initial_id",
   "metadata": {
    "collapsed": true,
    "ExecuteTime": {
     "end_time": "2025-08-03T12:31:57.077208Z",
     "start_time": "2025-08-03T12:31:55.877828Z"
    }
   },
   "source": [
    "import pandas as pd\n",
    "from tqdm import tqdm\n",
    "import warnings"
   ],
   "outputs": [],
   "execution_count": 1
  },
  {
   "metadata": {
    "ExecuteTime": {
     "end_time": "2025-08-03T12:31:57.095257Z",
     "start_time": "2025-08-03T12:31:57.088221Z"
    }
   },
   "cell_type": "code",
   "source": "warnings.filterwarnings(\"ignore\", category=pd.errors.SettingWithCopyWarning)",
   "id": "8dc189d09ce2c3ac",
   "outputs": [],
   "execution_count": 2
  },
  {
   "metadata": {
    "ExecuteTime": {
     "end_time": "2025-08-03T12:31:57.415Z",
     "start_time": "2025-08-03T12:31:57.398314Z"
    }
   },
   "cell_type": "code",
   "source": "df = pd.read_csv(\"../data/processed_train.csv\", chunksize=100_000)",
   "id": "eb5c6151b9fb5b5e",
   "outputs": [],
   "execution_count": 3
  },
  {
   "metadata": {
    "ExecuteTime": {
     "end_time": "2025-08-03T12:31:57.445477Z",
     "start_time": "2025-08-03T12:31:57.439146Z"
    }
   },
   "cell_type": "code",
   "source": "chunks = []",
   "id": "55843ac267d41690",
   "outputs": [],
   "execution_count": 4
  },
  {
   "metadata": {
    "ExecuteTime": {
     "end_time": "2025-08-03T12:39:02.817719Z",
     "start_time": "2025-08-03T12:31:57.459841Z"
    }
   },
   "cell_type": "code",
   "source": [
    "for i, chunk in tqdm(enumerate(df)):\n",
    "    chunk['LON'] = chunk['POLYLINE'].str.strip('[]').str.split(',').str[0].astype(float)\n",
    "    chunk['LAT'] = chunk['POLYLINE'].str.strip('[]').str.split(',').str[1].astype(float)\n",
    "    chunk = chunk.drop(columns=['POLYLINE'], errors='ignore')\n",
    "\n",
    "    chunks.append(chunk)"
   ],
   "id": "268587512b2b7a7a",
   "outputs": [
    {
     "name": "stderr",
     "output_type": "stream",
     "text": [
      "835it [07:05,  1.96it/s]\n"
     ]
    }
   ],
   "execution_count": 5
  },
  {
   "metadata": {
    "ExecuteTime": {
     "end_time": "2025-08-03T12:44:45.454703Z",
     "start_time": "2025-08-03T12:43:58.437460Z"
    }
   },
   "cell_type": "code",
   "source": [
    "for i, chunk in enumerate(chunks):\n",
    "    chunk.to_parquet(f'../data/lonlatchunks/chunk_{i}.parquet')"
   ],
   "id": "4df1ea65b707eb80",
   "outputs": [],
   "execution_count": 8
  }
 ],
 "metadata": {
  "kernelspec": {
   "display_name": "Python 3",
   "language": "python",
   "name": "python3"
  },
  "language_info": {
   "codemirror_mode": {
    "name": "ipython",
    "version": 2
   },
   "file_extension": ".py",
   "mimetype": "text/x-python",
   "name": "python",
   "nbconvert_exporter": "python",
   "pygments_lexer": "ipython2",
   "version": "2.7.6"
  }
 },
 "nbformat": 4,
 "nbformat_minor": 5
}
