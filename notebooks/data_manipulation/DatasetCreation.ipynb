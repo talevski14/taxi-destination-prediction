{
 "cells": [
  {
   "cell_type": "code",
   "id": "initial_id",
   "metadata": {
    "collapsed": true,
    "ExecuteTime": {
     "end_time": "2025-08-03T15:39:23.536493Z",
     "start_time": "2025-08-03T15:39:23.180123Z"
    }
   },
   "source": [
    "import pandas as pd\n",
    "import json\n",
    "from tqdm import tqdm"
   ],
   "outputs": [],
   "execution_count": 1
  },
  {
   "metadata": {
    "ExecuteTime": {
     "end_time": "2025-08-03T15:39:23.545991Z",
     "start_time": "2025-08-03T15:39:23.539505Z"
    }
   },
   "cell_type": "code",
   "source": "df = pd.read_csv(\"../../data/raw/train.csv\", chunksize=10_000)",
   "id": "f9efa9acb40d889c",
   "outputs": [],
   "execution_count": 2
  },
  {
   "metadata": {
    "ExecuteTime": {
     "end_time": "2025-08-03T15:39:23.700970Z",
     "start_time": "2025-08-03T15:39:23.698002Z"
    }
   },
   "cell_type": "code",
   "source": [
    "import warnings\n",
    "\n",
    "warnings.filterwarnings(\"ignore\", category=pd.errors.SettingWithCopyWarning)"
   ],
   "id": "7cbe0a544cb80e04",
   "outputs": [],
   "execution_count": 3
  },
  {
   "metadata": {
    "ExecuteTime": {
     "end_time": "2025-08-03T15:42:16.943742Z",
     "start_time": "2025-08-03T15:39:23.707322Z"
    }
   },
   "cell_type": "code",
   "source": [
    "for i, chunk in tqdm(enumerate(df)):\n",
    "    # Filter out the ones with missing data\n",
    "    chunk = chunk[chunk['MISSING_DATA'] != True]\n",
    "    # Turn polyline into list\n",
    "    chunk['POLYLINE'] = chunk['POLYLINE'].apply(json.loads)\n",
    "    # Find polyline length\n",
    "    chunk['POLYLINE_LENGTH'] = chunk['POLYLINE'].apply(lambda x: len(x))\n",
    "    # Filter only ones that have length bigger than 0\n",
    "    chunk = chunk[chunk['POLYLINE'].apply(lambda x: len(x) > 0)]\n",
    "    # Create an index for the list\n",
    "    chunk['point_index'] = chunk['POLYLINE'].apply(lambda x: list(range(len(x))))\n",
    "    # Explode the DF\n",
    "    chunk = chunk.explode(['POLYLINE', 'point_index'], ignore_index=True)\n",
    "    # Calculate timestamp for index (every call from the list is in a 15s interval)\n",
    "    chunk['TIMESTAMP'] = chunk['TIMESTAMP'] + chunk['point_index'] * 15\n",
    "    # Drop the index column\n",
    "    chunk = chunk.drop(columns=['point_index'], errors='ignore')\n",
    "    chunk['LON'] = chunk['POLYLINE'].apply(lambda x: float(x[0]))\n",
    "    chunk['LAT'] = chunk['POLYLINE'].apply(lambda x: float(x[1]))\n",
    "    chunk = chunk.drop(columns=['POLYLINE'], errors='ignore')\n",
    "\n",
    "    chunk.to_parquet(f'../../data/chunks/chunk_{i}.parquet', index=False)"
   ],
   "id": "70e1390b854117b0",
   "outputs": [
    {
     "name": "stderr",
     "output_type": "stream",
     "text": [
      "172it [02:53,  1.01s/it]\n"
     ]
    }
   ],
   "execution_count": 4
  }
 ],
 "metadata": {
  "kernelspec": {
   "display_name": "Python 3",
   "language": "python",
   "name": "python3"
  },
  "language_info": {
   "codemirror_mode": {
    "name": "ipython",
    "version": 2
   },
   "file_extension": ".py",
   "mimetype": "text/x-python",
   "name": "python",
   "nbconvert_exporter": "python",
   "pygments_lexer": "ipython2",
   "version": "2.7.6"
  }
 },
 "nbformat": 4,
 "nbformat_minor": 5
}
