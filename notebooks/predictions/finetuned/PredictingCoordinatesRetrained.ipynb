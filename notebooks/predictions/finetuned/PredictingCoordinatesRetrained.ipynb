{
 "cells": [
  {
   "cell_type": "code",
   "id": "initial_id",
   "metadata": {
    "collapsed": true,
    "ExecuteTime": {
     "end_time": "2025-10-14T19:23:07.861068Z",
     "start_time": "2025-10-14T19:23:07.467767Z"
    }
   },
   "source": [
    "import pandas as pd"
   ],
   "outputs": [],
   "execution_count": 1
  },
  {
   "cell_type": "code",
   "id": "31235c077b90ad65",
   "metadata": {
    "ExecuteTime": {
     "end_time": "2025-10-14T19:23:08.922189Z",
     "start_time": "2025-10-14T19:23:07.861068Z"
    }
   },
   "source": [
    "df = pd.read_parquet(\"../../../data/data_taxi_central_based.parquet\")\n",
    "df = df[(df['POLYLINE_LENGTH'] >= 30) & (df['POLYLINE_LENGTH'] < 276)]"
   ],
   "outputs": [],
   "execution_count": 2
  },
  {
   "cell_type": "code",
   "id": "ac9990d577976560",
   "metadata": {
    "ExecuteTime": {
     "end_time": "2025-10-14T19:23:11.363717Z",
     "start_time": "2025-10-14T19:23:09.076236Z"
    }
   },
   "source": [
    "import timesfm"
   ],
   "outputs": [
    {
     "name": "stdout",
     "output_type": "stream",
     "text": [
      " See https://github.com/google-research/timesfm/blob/master/README.md for updated APIs.\n",
      "Loaded PyTorch TimesFM, likely because python version is 3.11.13 | packaged by Anaconda, Inc. | (main, Jun  5 2025, 13:03:15) [MSC v.1929 64 bit (AMD64)].\n"
     ]
    }
   ],
   "execution_count": 3
  },
  {
   "cell_type": "code",
   "id": "6d8fdf0c81a15ef0",
   "metadata": {
    "ExecuteTime": {
     "end_time": "2025-10-14T19:23:11.517526Z",
     "start_time": "2025-10-14T19:23:11.370736Z"
    }
   },
   "source": [
    "df_lon = df.drop(columns=['ORIGIN_CALL', 'TAXI_ID', 'POLYLINE_LENGTH', 'LAT'])\n",
    "df_lat = df.drop(columns=['ORIGIN_CALL', 'TAXI_ID', 'POLYLINE_LENGTH', 'LON'])"
   ],
   "outputs": [],
   "execution_count": 4
  },
  {
   "cell_type": "code",
   "id": "aaf2ef79835988e8",
   "metadata": {
    "ExecuteTime": {
     "end_time": "2025-10-14T19:23:17.800240Z",
     "start_time": "2025-10-14T19:23:11.526685Z"
    }
   },
   "source": [
    "tfm_lat = timesfm.TimesFm(\n",
    "      hparams=timesfm.TimesFmHparams(\n",
    "          backend=\"cpu\",\n",
    "          per_core_batch_size=32,\n",
    "          horizon_len=20,\n",
    "          num_layers=50,\n",
    "          use_positional_embedding=False,\n",
    "          context_len=256,\n",
    "      ),\n",
    "      checkpoint=timesfm.TimesFmCheckpoint(\n",
    "          path=\"../../../models/TimesFMRetrained/TimesFM/timesfm_predictions_LAT.ckpt\"),\n",
    "  )"
   ],
   "outputs": [],
   "execution_count": 5
  },
  {
   "cell_type": "code",
   "id": "f2bf8bd6ea976c66",
   "metadata": {
    "ExecuteTime": {
     "end_time": "2025-10-14T19:23:23.133384Z",
     "start_time": "2025-10-14T19:23:17.808779Z"
    }
   },
   "source": [
    "tfm_lon = timesfm.TimesFm(\n",
    "      hparams=timesfm.TimesFmHparams(\n",
    "          backend=\"cpu\",\n",
    "          per_core_batch_size=32,\n",
    "          horizon_len=20,\n",
    "          num_layers=50,\n",
    "          use_positional_embedding=False,\n",
    "          context_len=256,\n",
    "      ),\n",
    "      checkpoint=timesfm.TimesFmCheckpoint(\n",
    "          path=\"../../../models/TimesFMRetrained/TimesFM/timesfm_predictions_LON.ckpt\"),\n",
    "  )"
   ],
   "outputs": [],
   "execution_count": 6
  },
  {
   "cell_type": "code",
   "id": "6544a51e861c3cfb",
   "metadata": {
    "ExecuteTime": {
     "end_time": "2025-10-14T19:23:32.540439Z",
     "start_time": "2025-10-14T19:23:23.146086Z"
    }
   },
   "source": [
    "df_lat = df_lat.sort_values(by=['TRIP_ID', 'TIMESTAMP'])\n",
    "df_lat_test = df_lat.groupby('TRIP_ID', group_keys=False).tail(20)\n",
    "df_lat_train = df_lat.drop(df_lat_test.index)"
   ],
   "outputs": [],
   "execution_count": 7
  },
  {
   "cell_type": "code",
   "id": "feca5a661cf1a0d8",
   "metadata": {
    "ExecuteTime": {
     "end_time": "2025-10-14T19:23:41.233084Z",
     "start_time": "2025-10-14T19:23:32.568141Z"
    }
   },
   "source": [
    "df_lon = df_lon.sort_values(by=['TRIP_ID', 'TIMESTAMP'])\n",
    "df_lon_test = df_lon.groupby('TRIP_ID', group_keys=False).tail(20)\n",
    "df_lon_train = df_lon.drop(df_lat_test.index)"
   ],
   "outputs": [],
   "execution_count": 8
  },
  {
   "cell_type": "code",
   "id": "ed9138b5a1f1ef4c",
   "metadata": {
    "ExecuteTime": {
     "end_time": "2025-10-14T19:23:46.874027Z",
     "start_time": "2025-10-14T19:23:41.253393Z"
    }
   },
   "source": [
    "from joblib import load\n",
    "scaler_lat = load(\"../../../models/TimesFMRetrained/TimesFM/scaler_LAT.pkl\")\n",
    "df_lat_train['LAT'] = scaler_lat.fit_transform(df_lat_train[['LAT']])\n",
    "\n",
    "scaler_lon = load(\"../../../models/TimesFMRetrained/TimesFM/scaler_LON.pkl\")\n",
    "df_lon_train['LON'] = scaler_lon.fit_transform(df_lon_train[['LON']])"
   ],
   "outputs": [],
   "execution_count": 9
  },
  {
   "cell_type": "code",
   "id": "debca559b45a7aa7",
   "metadata": {
    "ExecuteTime": {
     "end_time": "2025-10-14T19:23:48.057590Z",
     "start_time": "2025-10-14T19:23:46.897856Z"
    }
   },
   "source": [
    "df_lat_train['TIMESTAMP'] = pd.to_datetime(df_lat_train['TIMESTAMP'], unit='s')\n",
    "df_lon_train['TIMESTAMP'] = pd.to_datetime(df_lon_train['TIMESTAMP'], unit='s')"
   ],
   "outputs": [],
   "execution_count": 10
  },
  {
   "cell_type": "code",
   "id": "ac9f39dfe4f0f960",
   "metadata": {
    "ExecuteTime": {
     "end_time": "2025-10-14T19:23:48.362801Z",
     "start_time": "2025-10-14T19:23:48.077873Z"
    }
   },
   "source": [
    "df_lon_train = df_lon_train.rename(columns={'TIMESTAMP': 'ds', 'LON': 'y', 'TRIP_ID': 'unique_id'})\n",
    "df_lat_train = df_lat_train.rename(columns={'TIMESTAMP': 'ds', 'LAT': 'y', 'TRIP_ID': 'unique_id'})"
   ],
   "outputs": [],
   "execution_count": 11
  },
  {
   "cell_type": "code",
   "id": "ed3ada5fe1a7ca0e",
   "metadata": {
    "ExecuteTime": {
     "end_time": "2025-10-14T21:45:38.230531Z",
     "start_time": "2025-10-14T19:23:48.374659Z"
    }
   },
   "source": [
    "forecast_df_lon = tfm_lon.forecast_on_df(\n",
    "    inputs=df_lon_train,\n",
    "    freq=\"15s\",\n",
    "    value_name=\"y\",\n",
    "    num_jobs=1,\n",
    ")"
   ],
   "outputs": [
    {
     "name": "stdout",
     "output_type": "stream",
     "text": [
      "Processing dataframe with single process.\n",
      "Finished preprocessing dataframe.\n",
      "Finished forecasting.\n"
     ]
    }
   ],
   "execution_count": 12
  },
  {
   "cell_type": "code",
   "id": "8a832bbf399e88c5",
   "metadata": {
    "ExecuteTime": {
     "end_time": "2025-10-15T00:07:15.639198Z",
     "start_time": "2025-10-14T21:45:38.313213Z"
    }
   },
   "source": [
    "forecast_df_lat = tfm_lon.forecast_on_df(\n",
    "    inputs=df_lat_train,\n",
    "    freq=\"15s\",\n",
    "    value_name=\"y\",\n",
    "    num_jobs=1,\n",
    ")"
   ],
   "outputs": [
    {
     "name": "stdout",
     "output_type": "stream",
     "text": [
      "Processing dataframe with single process.\n",
      "Finished preprocessing dataframe.\n",
      "Finished forecasting.\n"
     ]
    }
   ],
   "execution_count": 13
  },
  {
   "cell_type": "code",
   "id": "e90b98dd91419fa4",
   "metadata": {
    "ExecuteTime": {
     "end_time": "2025-10-15T00:07:15.738566Z",
     "start_time": "2025-10-15T00:07:15.674655Z"
    }
   },
   "source": [
    "forecast_df_lon_keep = forecast_df_lon[['unique_id', 'ds', 'timesfm-q-0.9']]"
   ],
   "outputs": [],
   "execution_count": 14
  },
  {
   "cell_type": "code",
   "id": "8b5c3019c028bff6",
   "metadata": {
    "ExecuteTime": {
     "end_time": "2025-10-15T00:07:15.780853Z",
     "start_time": "2025-10-15T00:07:15.738566Z"
    }
   },
   "source": [
    "forecast_df_lat_keep = forecast_df_lat[['unique_id', 'ds', 'timesfm-q-0.9']]"
   ],
   "outputs": [],
   "execution_count": 15
  },
  {
   "cell_type": "code",
   "id": "28cea87086d776a8",
   "metadata": {
    "ExecuteTime": {
     "end_time": "2025-10-15T00:07:15.883011Z",
     "start_time": "2025-10-15T00:07:15.804930Z"
    }
   },
   "source": [
    "forecast_df_lat_keep['timesfm-q-0.9'] = scaler_lat.inverse_transform(forecast_df_lat_keep[['timesfm-q-0.9']])\n",
    "forecast_df_lon_keep['timesfm-q-0.9'] = scaler_lon.inverse_transform(forecast_df_lon_keep[['timesfm-q-0.9']])"
   ],
   "outputs": [
    {
     "name": "stderr",
     "output_type": "stream",
     "text": [
      "C:\\Users\\Nikola\\AppData\\Local\\Temp\\ipykernel_8324\\3587103272.py:1: SettingWithCopyWarning: \n",
      "A value is trying to be set on a copy of a slice from a DataFrame.\n",
      "Try using .loc[row_indexer,col_indexer] = value instead\n",
      "\n",
      "See the caveats in the documentation: https://pandas.pydata.org/pandas-docs/stable/user_guide/indexing.html#returning-a-view-versus-a-copy\n",
      "  forecast_df_lat_keep['timesfm-q-0.9'] = scaler_lat.inverse_transform(forecast_df_lat_keep[['timesfm-q-0.9']])\n",
      "C:\\Users\\Nikola\\AppData\\Local\\Temp\\ipykernel_8324\\3587103272.py:2: SettingWithCopyWarning: \n",
      "A value is trying to be set on a copy of a slice from a DataFrame.\n",
      "Try using .loc[row_indexer,col_indexer] = value instead\n",
      "\n",
      "See the caveats in the documentation: https://pandas.pydata.org/pandas-docs/stable/user_guide/indexing.html#returning-a-view-versus-a-copy\n",
      "  forecast_df_lon_keep['timesfm-q-0.9'] = scaler_lon.inverse_transform(forecast_df_lon_keep[['timesfm-q-0.9']])\n"
     ]
    }
   ],
   "execution_count": 16
  },
  {
   "cell_type": "code",
   "id": "9fb0429524f5d23b",
   "metadata": {
    "ExecuteTime": {
     "end_time": "2025-10-15T00:07:15.951464Z",
     "start_time": "2025-10-15T00:07:15.900320Z"
    }
   },
   "source": [
    "forecast_df_lat_keep = forecast_df_lat_keep.rename(columns={'timesfm-q-0.9': 'LAT_PREDICTED'})\n",
    "forecast_df_lon_keep = forecast_df_lon_keep.rename(columns={'timesfm-q-0.9': 'LON_PREDICTED'})"
   ],
   "outputs": [],
   "execution_count": 17
  },
  {
   "cell_type": "code",
   "id": "6c129c2e025cb7ae",
   "metadata": {
    "ExecuteTime": {
     "end_time": "2025-10-15T00:07:20.325792Z",
     "start_time": "2025-10-15T00:07:15.975271Z"
    }
   },
   "source": [
    "forecast_df_lat_keep = forecast_df_lat_keep.sort_values(['unique_id', 'ds'])\n",
    "forecast_df_lat_keep = forecast_df_lat_keep.groupby('unique_id').tail(1)\n",
    "\n",
    "forecast_df_lon_keep = forecast_df_lon_keep.sort_values(['unique_id', 'ds'])\n",
    "forecast_df_lon_keep = forecast_df_lon_keep.groupby('unique_id').tail(1)"
   ],
   "outputs": [],
   "execution_count": 18
  },
  {
   "cell_type": "code",
   "id": "46f75c22597f8364",
   "metadata": {
    "ExecuteTime": {
     "end_time": "2025-10-15T00:08:08.991965Z",
     "start_time": "2025-10-15T00:07:20.342896Z"
    }
   },
   "source": [
    "df_lon_test = df_lon_test.rename(columns={'TIMESTAMP': 'ds', 'TRIP_ID': 'unique_id'})\n",
    "df_lon_test = df_lon_test.sort_values(['unique_id', 'ds'])\n",
    "df_lon_test = df_lon_test.groupby('unique_id').tail(1)\n",
    "\n",
    "df_lat_test = df_lat_test.rename(columns={'TIMESTAMP': 'ds', 'TRIP_ID': 'unique_id'})\n",
    "df_lat_test = df_lat_test.sort_values(['unique_id', 'ds'])\n",
    "df_lat_test = df_lat_test.groupby('unique_id').tail(1)"
   ],
   "outputs": [],
   "execution_count": 19
  },
  {
   "cell_type": "code",
   "id": "46b58aacaf850616",
   "metadata": {
    "ExecuteTime": {
     "end_time": "2025-10-15T00:08:09.043398Z",
     "start_time": "2025-10-15T00:08:09.015238Z"
    }
   },
   "source": [
    "result_lat = df_lat_test.merge(forecast_df_lat_keep, how='left', on=['unique_id'])\n",
    "result_lon = df_lon_test.merge(forecast_df_lon_keep, how='left', on=['unique_id'])\n",
    "result = result_lat.merge(result_lon, how='left', on=['unique_id'])"
   ],
   "outputs": [],
   "execution_count": 20
  },
  {
   "cell_type": "code",
   "id": "968067708a9b0d80",
   "metadata": {
    "ExecuteTime": {
     "end_time": "2025-10-15T00:08:09.081354Z",
     "start_time": "2025-10-15T00:08:09.063597Z"
    }
   },
   "source": [
    "from evaluation_script import haversine_distance"
   ],
   "outputs": [],
   "execution_count": 21
  },
  {
   "cell_type": "code",
   "id": "185c32d8ae39f423",
   "metadata": {
    "ExecuteTime": {
     "end_time": "2025-10-15T00:08:12.661095Z",
     "start_time": "2025-10-15T00:08:09.102233Z"
    }
   },
   "source": [
    "result['DISTANCE_DELTA_SEPARATED'] = result.apply(lambda row: haversine_distance(\n",
    "    row['LAT'], row['LON'], row['LAT_PREDICTED'], row['LON_PREDICTED']), axis=1)"
   ],
   "outputs": [],
   "execution_count": 22
  },
  {
   "cell_type": "code",
   "id": "cac3d9e02fc41412",
   "metadata": {
    "ExecuteTime": {
     "end_time": "2025-10-15T00:08:12.691721Z",
     "start_time": "2025-10-15T00:08:12.682663Z"
    }
   },
   "source": [
    "result['DISTANCE_DELTA_SEPARATED'].mean()"
   ],
   "outputs": [
    {
     "data": {
      "text/plain": [
       "np.float64(3.438096341106451)"
      ]
     },
     "execution_count": 23,
     "metadata": {},
     "output_type": "execute_result"
    }
   ],
   "execution_count": 23
  },
  {
   "cell_type": "code",
   "id": "6d6de9b483deb9fa",
   "metadata": {
    "ExecuteTime": {
     "end_time": "2025-10-15T00:08:12.721709Z",
     "start_time": "2025-10-15T00:08:12.712580Z"
    }
   },
   "source": [
    "result['DISTANCE_DELTA_SEPARATED'].median()"
   ],
   "outputs": [
    {
     "data": {
      "text/plain": [
       "2.740550350265932"
      ]
     },
     "execution_count": 24,
     "metadata": {},
     "output_type": "execute_result"
    }
   ],
   "execution_count": 24
  },
  {
   "metadata": {
    "ExecuteTime": {
     "end_time": "2025-10-15T00:08:12.746658Z",
     "start_time": "2025-10-15T00:08:12.742790Z"
    }
   },
   "cell_type": "code",
   "source": "columns = ['timesfm-q-0.1', 'timesfm-q-0.2', 'timesfm-q-0.3', 'timesfm-q-0.4', 'timesfm-q-0.5', 'timesfm-q-0.6', 'timesfm-q-0.7', 'timesfm-q-0.8', 'timesfm-q-0.9']",
   "id": "ddc759e5de2c638d",
   "outputs": [],
   "execution_count": 25
  },
  {
   "metadata": {
    "ExecuteTime": {
     "end_time": "2025-10-15T00:08:13.412978Z",
     "start_time": "2025-10-15T00:08:12.769549Z"
    }
   },
   "cell_type": "code",
   "source": [
    "for column in columns:\n",
    "    forecast_df_lat[column] = scaler_lat.inverse_transform(forecast_df_lat[[column]])\n",
    "    forecast_df_lon[column] = scaler_lon.inverse_transform(forecast_df_lon[[column]])"
   ],
   "id": "82dd7cbf5aa99617",
   "outputs": [],
   "execution_count": 26
  },
  {
   "metadata": {
    "ExecuteTime": {
     "end_time": "2025-10-15T00:08:17.986865Z",
     "start_time": "2025-10-15T00:08:13.433697Z"
    }
   },
   "cell_type": "code",
   "source": [
    "forecast_df_lat = forecast_df_lat.sort_values(['unique_id', 'ds'])\n",
    "forecast_df_lat = forecast_df_lat.groupby('unique_id').tail(1)\n",
    "\n",
    "forecast_df_lon = forecast_df_lon.sort_values(['unique_id', 'ds'])\n",
    "forecast_df_lon = forecast_df_lon.groupby('unique_id').tail(1)"
   ],
   "id": "b2fda8e739fb7d89",
   "outputs": [],
   "execution_count": 27
  },
  {
   "metadata": {
    "ExecuteTime": {
     "end_time": "2025-10-15T00:08:18.038868Z",
     "start_time": "2025-10-15T00:08:18.008101Z"
    }
   },
   "cell_type": "code",
   "source": [
    "result_lat = df_lat_test.merge(forecast_df_lat, how='left', on=['unique_id'])\n",
    "result_lon = df_lon_test.merge(forecast_df_lon, how='left', on=['unique_id'])\n",
    "result = result_lat.merge(result_lon, how='left', on=['unique_id'])"
   ],
   "id": "3fa6cd2f9dc4851c",
   "outputs": [],
   "execution_count": 28
  },
  {
   "metadata": {
    "ExecuteTime": {
     "end_time": "2025-10-15T00:08:51.635502Z",
     "start_time": "2025-10-15T00:08:18.064222Z"
    }
   },
   "cell_type": "code",
   "source": [
    "for col in columns:\n",
    "    result[f'DISTANCE_DELTA_SEPARATED_{col}'] = result.apply(lambda row: haversine_distance(\n",
    "    row['LAT'], row['LON'], row[f'{col}_x'], row[f'{col}_y']), axis=1)"
   ],
   "id": "e6c4b64c066ba7f4",
   "outputs": [],
   "execution_count": 29
  },
  {
   "metadata": {
    "ExecuteTime": {
     "end_time": "2025-10-15T00:08:51.702169Z",
     "start_time": "2025-10-15T00:08:51.663622Z"
    }
   },
   "cell_type": "code",
   "source": [
    "for col in columns:\n",
    "    print(f\"Column: {col}   Mean: {result[f'DISTANCE_DELTA_SEPARATED_{col}'].mean()}    Median: {result[f'DISTANCE_DELTA_SEPARATED_{col}'].median()}\")"
   ],
   "id": "5b99a14cdb92b324",
   "outputs": [
    {
     "name": "stdout",
     "output_type": "stream",
     "text": [
      "Column: timesfm-q-0.1   Mean: 3.4438793840424964    Median: 2.7409579982486796\n",
      "Column: timesfm-q-0.2   Mean: 3.4365757892985576    Median: 2.73975062490549\n",
      "Column: timesfm-q-0.3   Mean: 3.435139544363958    Median: 2.7395024163907578\n",
      "Column: timesfm-q-0.4   Mean: 3.435009717042736    Median: 2.739439083344971\n",
      "Column: timesfm-q-0.5   Mean: 3.4334943221813017    Median: 2.738979238175299\n",
      "Column: timesfm-q-0.6   Mean: 3.432999102883989    Median: 2.739430474606164\n",
      "Column: timesfm-q-0.7   Mean: 3.433270097374106    Median: 2.7393190949489057\n",
      "Column: timesfm-q-0.8   Mean: 3.433123430312954    Median: 2.740379214574675\n",
      "Column: timesfm-q-0.9   Mean: 3.438096341106451    Median: 2.740550350265932\n"
     ]
    }
   ],
   "execution_count": 30
  },
  {
   "metadata": {
    "ExecuteTime": {
     "end_time": "2025-10-15T00:08:59.402217Z",
     "start_time": "2025-10-15T00:08:51.728582Z"
    }
   },
   "cell_type": "code",
   "source": "result.to_csv(\"result_retrained.csv\", index=False)",
   "id": "7c8457a4b2a692da",
   "outputs": [],
   "execution_count": 31
  },
  {
   "metadata": {
    "ExecuteTime": {
     "end_time": "2025-10-15T00:09:00.419586Z",
     "start_time": "2025-10-15T00:08:59.427900Z"
    }
   },
   "cell_type": "code",
   "source": "import matplotlib.pyplot as plt",
   "id": "bf4d1aafe871993c",
   "outputs": [],
   "execution_count": 32
  },
  {
   "metadata": {
    "ExecuteTime": {
     "end_time": "2025-10-15T00:09:00.481430Z",
     "start_time": "2025-10-15T00:09:00.445494Z"
    }
   },
   "cell_type": "code",
   "source": [
    "stats = []\n",
    "for col in columns:\n",
    "    mean_val = result[f'DISTANCE_DELTA_SEPARATED_{col}'].mean()\n",
    "    median_val = result[f'DISTANCE_DELTA_SEPARATED_{col}'].median()\n",
    "    label = col.replace(\"timesfm-\", \"\")\n",
    "    stats.append({\"quantile\": label, \"mean\": mean_val, \"median\": median_val})\n",
    "\n",
    "df_stats = pd.DataFrame(stats)"
   ],
   "id": "c4c47ecb39d1e546",
   "outputs": [],
   "execution_count": 33
  },
  {
   "metadata": {
    "ExecuteTime": {
     "end_time": "2025-10-15T00:09:00.720062Z",
     "start_time": "2025-10-15T00:09:00.508592Z"
    }
   },
   "cell_type": "code",
   "source": [
    "plt.figure(figsize=(8,5))\n",
    "plt.plot(df_stats[\"quantile\"], df_stats[\"mean\"], marker=\"o\", label=\"Mean\")\n",
    "plt.plot(df_stats[\"quantile\"], df_stats[\"median\"], marker=\"o\", label=\"Median\")\n",
    "plt.xlabel(\"Quantile\")\n",
    "plt.ylabel(\"Haversine distance error\")\n",
    "plt.title(\"Prediction error vs. quantile\")\n",
    "plt.legend()\n",
    "plt.grid(True)\n",
    "plt.show()"
   ],
   "id": "6ce332bbda0bcf56",
   "outputs": [
    {
     "data": {
      "text/plain": [
       "<Figure size 800x500 with 1 Axes>"
      ],
      "image/png": "[encoded data removed]"
     },
     "metadata": {},
     "output_type": "display_data"
    }
   ],
   "execution_count": 34
  }
 ],
 "metadata": {
  "kernelspec": {
   "display_name": "Python 3",
   "language": "python",
   "name": "python3"
  },
  "language_info": {
   "codemirror_mode": {
    "name": "ipython",
    "version": 2
   },
   "file_extension": ".py",
   "mimetype": "text/x-python",
   "name": "python",
   "nbconvert_exporter": "python",
   "pygments_lexer": "ipython2",
   "version": "2.7.6"
  }
 },
 "nbformat": 4,
 "nbformat_minor": 5
}
