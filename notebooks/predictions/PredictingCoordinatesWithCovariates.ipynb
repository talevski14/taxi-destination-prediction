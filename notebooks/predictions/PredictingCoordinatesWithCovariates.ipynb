{
 "cells": [
  {
   "cell_type": "code",
   "id": "initial_id",
   "metadata": {
    "collapsed": true,
    "ExecuteTime": {
     "end_time": "2025-09-12T10:19:15.878299Z",
     "start_time": "2025-09-12T10:19:13.765659Z"
    }
   },
   "source": "import pandas as pd",
   "outputs": [],
   "execution_count": 1
  },
  {
   "metadata": {
    "ExecuteTime": {
     "end_time": "2025-09-12T10:19:17.767756Z",
     "start_time": "2025-09-12T10:19:15.884380Z"
    }
   },
   "cell_type": "code",
   "source": "df = pd.read_parquet(\"../../data/data_taxi_central_based.parquet\")",
   "id": "31235c077b90ad65",
   "outputs": [],
   "execution_count": 2
  },
  {
   "metadata": {
    "ExecuteTime": {
     "end_time": "2025-09-12T10:19:19.120820Z",
     "start_time": "2025-09-12T10:19:18.359034Z"
    }
   },
   "cell_type": "code",
   "source": "first_rows = df.groupby('TRIP_ID').first().reset_index()",
   "id": "22dd695da02d51a5",
   "outputs": [],
   "execution_count": 3
  },
  {
   "metadata": {
    "ExecuteTime": {
     "end_time": "2025-09-12T10:19:19.765564Z",
     "start_time": "2025-09-12T10:19:19.132317Z"
    }
   },
   "cell_type": "code",
   "source": "df = df[(df['POLYLINE_LENGTH'] >= 30) & (df['POLYLINE_LENGTH'] < 276)]",
   "id": "892f786d632f4d10",
   "outputs": [],
   "execution_count": 4
  },
  {
   "metadata": {
    "ExecuteTime": {
     "end_time": "2025-09-12T10:19:26.281341Z",
     "start_time": "2025-09-12T10:19:19.777180Z"
    }
   },
   "cell_type": "code",
   "source": "import timesfm",
   "id": "ac9990d577976560",
   "outputs": [
    {
     "name": "stdout",
     "output_type": "stream",
     "text": [
      " See https://github.com/google-research/timesfm/blob/master/README.md for updated APIs.\n",
      "Loaded PyTorch TimesFM, likely because python version is 3.11.13 | packaged by Anaconda, Inc. | (main, Jun  5 2025, 13:03:15) [MSC v.1929 64 bit (AMD64)].\n"
     ]
    }
   ],
   "execution_count": 5
  },
  {
   "metadata": {
    "ExecuteTime": {
     "end_time": "2025-09-12T10:19:26.618430Z",
     "start_time": "2025-09-12T10:19:26.294251Z"
    }
   },
   "cell_type": "code",
   "source": [
    "df_lon = df.drop(columns=['POLYLINE_LENGTH', 'LAT'])\n",
    "df_lat = df.drop(columns=['POLYLINE_LENGTH', 'LON'])"
   ],
   "id": "6d8fdf0c81a15ef0",
   "outputs": [],
   "execution_count": 6
  },
  {
   "metadata": {
    "ExecuteTime": {
     "end_time": "2025-09-12T10:19:33.805377Z",
     "start_time": "2025-09-12T10:19:26.632566Z"
    }
   },
   "cell_type": "code",
   "source": [
    "tfm_lat = timesfm.TimesFm(\n",
    "      hparams=timesfm.TimesFmHparams(\n",
    "          backend=\"cpu\",\n",
    "          per_core_batch_size=32,\n",
    "          horizon_len=20,\n",
    "          num_layers=50,\n",
    "          use_positional_embedding=False,\n",
    "          context_len=256,\n",
    "      ),\n",
    "      checkpoint=timesfm.TimesFmCheckpoint(\n",
    "          huggingface_repo_id=\"google/timesfm-2.0-500m-pytorch\"),\n",
    "  )"
   ],
   "id": "aaf2ef79835988e8",
   "outputs": [
    {
     "data": {
      "text/plain": [
       "Fetching 5 files:   0%|          | 0/5 [00:00<?, ?it/s]"
      ],
      "application/vnd.jupyter.widget-view+json": {
       "version_major": 2,
       "version_minor": 0,
       "model_id": "bb57caf1fe6e4a1fb3d720e95bf8b0f2"
      }
     },
     "metadata": {},
     "output_type": "display_data"
    }
   ],
   "execution_count": 7
  },
  {
   "metadata": {
    "ExecuteTime": {
     "end_time": "2025-09-12T10:19:39.544792Z",
     "start_time": "2025-09-12T10:19:33.820354Z"
    }
   },
   "cell_type": "code",
   "source": [
    "tfm_lon = timesfm.TimesFm(\n",
    "      hparams=timesfm.TimesFmHparams(\n",
    "          backend=\"gpu\",\n",
    "          per_core_batch_size=32,\n",
    "          horizon_len=20,\n",
    "          num_layers=50,\n",
    "          use_positional_embedding=False,\n",
    "          context_len=256,\n",
    "      ),\n",
    "      checkpoint=timesfm.TimesFmCheckpoint(\n",
    "          huggingface_repo_id=\"google/timesfm-2.0-500m-pytorch\"),\n",
    "  )"
   ],
   "id": "f2bf8bd6ea976c66",
   "outputs": [
    {
     "data": {
      "text/plain": [
       "Fetching 5 files:   0%|          | 0/5 [00:00<?, ?it/s]"
      ],
      "application/vnd.jupyter.widget-view+json": {
       "version_major": 2,
       "version_minor": 0,
       "model_id": "306dd49a603041e7bd31181d213911e5"
      }
     },
     "metadata": {},
     "output_type": "display_data"
    }
   ],
   "execution_count": 8
  },
  {
   "metadata": {
    "ExecuteTime": {
     "end_time": "2025-09-12T10:19:45.764890Z",
     "start_time": "2025-09-12T10:19:39.560222Z"
    }
   },
   "cell_type": "code",
   "source": "df_lat = df_lat.sort_values(by=['TRIP_ID', 'TIMESTAMP'])",
   "id": "6544a51e861c3cfb",
   "outputs": [],
   "execution_count": 9
  },
  {
   "metadata": {
    "ExecuteTime": {
     "end_time": "2025-09-12T10:19:52.340416Z",
     "start_time": "2025-09-12T10:19:45.780041Z"
    }
   },
   "cell_type": "code",
   "source": "df_lon = df_lon.sort_values(by=['TRIP_ID', 'TIMESTAMP'])",
   "id": "feca5a661cf1a0d8",
   "outputs": [],
   "execution_count": 10
  },
  {
   "metadata": {
    "ExecuteTime": {
     "end_time": "2025-09-12T10:20:00.257721Z",
     "start_time": "2025-09-12T10:19:52.359329Z"
    }
   },
   "cell_type": "code",
   "source": [
    "from sklearn.preprocessing import MinMaxScaler\n",
    "scaler_lat = MinMaxScaler()\n",
    "df_lat['LAT'] = scaler_lat.fit_transform(df_lat[['LAT']])\n",
    "\n",
    "scaler_lon = MinMaxScaler()\n",
    "df_lon['LON'] = scaler_lon.fit_transform(df_lon[['LON']])"
   ],
   "id": "ed9138b5a1f1ef4c",
   "outputs": [],
   "execution_count": 11
  },
  {
   "metadata": {
    "ExecuteTime": {
     "end_time": "2025-09-12T10:20:02.434721Z",
     "start_time": "2025-09-12T10:20:00.274627Z"
    }
   },
   "cell_type": "code",
   "source": [
    "df_lat['TIMESTAMP'] = pd.to_datetime(df_lat['TIMESTAMP'], unit='s')\n",
    "df_lon['TIMESTAMP'] = pd.to_datetime(df_lon['TIMESTAMP'], unit='s')"
   ],
   "id": "debca559b45a7aa7",
   "outputs": [],
   "execution_count": 12
  },
  {
   "metadata": {
    "ExecuteTime": {
     "end_time": "2025-09-12T10:20:03.308049Z",
     "start_time": "2025-09-12T10:20:02.448421Z"
    }
   },
   "cell_type": "code",
   "source": [
    "df_lon = df_lon.rename(columns={'TIMESTAMP': 'ds', 'LON': 'y', 'TRIP_ID': 'unique_id', 'ORIGIN_CALL': 'origin_call', 'TAXI_ID': 'taxi_id'})\n",
    "df_lat = df_lat.rename(columns={'TIMESTAMP': 'ds', 'LAT': 'y', 'TRIP_ID': 'unique_id', 'ORIGIN_CALL': 'origin_call', 'TAXI_ID': 'taxi_id'})"
   ],
   "id": "ac9f39dfe4f0f960",
   "outputs": [],
   "execution_count": 13
  },
  {
   "metadata": {
    "ExecuteTime": {
     "end_time": "2025-09-12T10:20:03.333095Z",
     "start_time": "2025-09-12T10:20:03.323344Z"
    }
   },
   "cell_type": "code",
   "source": [
    "from collections import defaultdict\n",
    "\n",
    "\n",
    "def get_taxi_data_fn(df, batch_size: int = 256, horizon_len: int = 20):\n",
    "    examples = defaultdict(list)\n",
    "    num_examples = 0\n",
    "\n",
    "    for ride_id, sub_df in df.groupby(\"unique_id\"):\n",
    "        if len(sub_df) <= horizon_len:\n",
    "            continue\n",
    "\n",
    "        context_df = sub_df.iloc[:-horizon_len]\n",
    "        horizon_df = sub_df.iloc[-horizon_len:]\n",
    "\n",
    "        num_examples += 1\n",
    "        examples[\"unique_id\"].append(ride_id)\n",
    "        examples[\"origin_call\"].append(sub_df[\"origin_call\"].iloc[0])\n",
    "        examples[\"taxi_id\"].append(sub_df[\"taxi_id\"].iloc[0])\n",
    "\n",
    "        examples[\"inputs\"].append(context_df[\"y\"].tolist())\n",
    "        examples[\"outputs\"].append(horizon_df[\"y\"].tolist())\n",
    "        examples[\"ds\"].append(sub_df[\"ds\"].tolist())\n",
    "\n",
    "    def data_fn():\n",
    "        for i in range(1 + (num_examples - 1) // batch_size):\n",
    "            yield {\n",
    "                k: v[i * batch_size : (i + 1) * batch_size]\n",
    "                for k, v in examples.items()\n",
    "            }\n",
    "\n",
    "    return data_fn"
   ],
   "id": "b29a0fecce66b0f8",
   "outputs": [],
   "execution_count": 14
  },
  {
   "metadata": {
    "ExecuteTime": {
     "end_time": "2025-09-12T12:45:55.642360Z",
     "start_time": "2025-09-12T10:20:03.346253Z"
    }
   },
   "cell_type": "code",
   "source": [
    "import time\n",
    "\n",
    "input_data = get_taxi_data_fn(df_lat)\n",
    "forecast_df_lat = []\n",
    "\n",
    "for i, example in enumerate(input_data()):\n",
    "  start_time = time.time()\n",
    "  cov_forecast, _ = tfm_lat.forecast_with_covariates(\n",
    "      inputs=example[\"inputs\"],\n",
    "      static_numerical_covariates={\n",
    "          \"origin_call\": example[\"origin_call\"],\n",
    "          \"taxi_id\": example[\"taxi_id\"],\n",
    "      },\n",
    "      freq=[0] * len(example[\"inputs\"]),\n",
    "      xreg_mode=\"xreg + timesfm\",\n",
    "      ridge=0.0,\n",
    "      force_on_cpu=False,\n",
    "      normalize_xreg_target_per_input=True,\n",
    "  )\n",
    "  print(\n",
    "      f\"\\rFinished batch {i} linear in {time.time() - start_time} seconds\",\n",
    "      end=\"\",\n",
    "  )\n",
    "  forecast_df_lat.append(cov_forecast)\n",
    "\n",
    "print()"
   ],
   "id": "c9e4685014972b81",
   "outputs": [
    {
     "name": "stdout",
     "output_type": "stream",
     "text": [
      "Finished batch 1114 linear in 2.8383007049560547 seconds\n"
     ]
    }
   ],
   "execution_count": 15
  },
  {
   "metadata": {
    "ExecuteTime": {
     "end_time": "2025-09-12T15:12:12.703520Z",
     "start_time": "2025-09-12T12:45:55.858282Z"
    }
   },
   "cell_type": "code",
   "source": [
    "import time\n",
    "\n",
    "input_data = get_taxi_data_fn(df_lon)\n",
    "forecast_df_lon = []\n",
    "\n",
    "for i, example in enumerate(input_data()):\n",
    "  start_time = time.time()\n",
    "  cov_forecast, _ = tfm_lon.forecast_with_covariates(\n",
    "      inputs=example[\"inputs\"],\n",
    "      static_numerical_covariates={\n",
    "          \"origin_call\": example[\"origin_call\"],\n",
    "          \"taxi_id\": example[\"taxi_id\"],\n",
    "      },\n",
    "      freq=[0] * len(example[\"inputs\"]),\n",
    "      xreg_mode=\"xreg + timesfm\",\n",
    "      ridge=0.0,\n",
    "      force_on_cpu=False,\n",
    "      normalize_xreg_target_per_input=True,\n",
    "  )\n",
    "  print(\n",
    "      f\"\\rFinished batch {i} linear in {time.time() - start_time} seconds\",\n",
    "      end=\"\",\n",
    "  )\n",
    "  forecast_df_lon.append(cov_forecast)\n",
    "\n",
    "print()"
   ],
   "id": "34e588a8224d0e0e",
   "outputs": [
    {
     "name": "stdout",
     "output_type": "stream",
     "text": [
      "Finished batch 1114 linear in 1.9477241039276123 seconds\n"
     ]
    }
   ],
   "execution_count": 16
  },
  {
   "metadata": {
    "ExecuteTime": {
     "end_time": "2025-09-12T15:12:12.789739Z",
     "start_time": "2025-09-12T15:12:12.771485Z"
    }
   },
   "cell_type": "code",
   "source": [
    "def forecasts_to_df(forecasts, examples, coord_name):\n",
    "    records = []\n",
    "    for arr, uid, call, taxi, coor in zip(forecasts,\n",
    "                                    examples[\"unique_id\"],\n",
    "                                    examples[\"origin_call\"],\n",
    "                                    examples[\"taxi_id\"],\n",
    "                                    examples[\"inputs\"]):\n",
    "        for step, value in enumerate(arr):\n",
    "            records.append({\n",
    "                \"unique_id\": uid,\n",
    "                \"origin_call\": call,\n",
    "                \"taxi_id\": taxi,\n",
    "                \"horizon_step\": step + 1,\n",
    "                f\"yhat_{coord_name}\": value,\n",
    "            })\n",
    "    return pd.DataFrame(records)"
   ],
   "id": "66bdaed8984114a5",
   "outputs": [],
   "execution_count": 17
  },
  {
   "metadata": {
    "ExecuteTime": {
     "end_time": "2025-09-12T15:21:26.674043Z",
     "start_time": "2025-09-12T15:12:12.789739Z"
    }
   },
   "cell_type": "code",
   "source": [
    "input_data = get_taxi_data_fn(df_lat)\n",
    "df_lat_forecast = []\n",
    "for example, forecast in zip(input_data(), forecast_df_lat):\n",
    "    df_lat_temp = forecasts_to_df(forecast, example, coord_name=\"lat\")\n",
    "    df_lat_forecast.append(df_lat_temp)\n",
    "df_lat_forecast = pd.concat(df_lat_forecast, ignore_index=True)\n",
    "df_lat_forecast"
   ],
   "id": "b906647575ae2712",
   "outputs": [
    {
     "data": {
      "text/plain": [
       "                   unique_id  origin_call   taxi_id  horizon_step  yhat_lat\n",
       "0        1372637254620000657      39233.0  20000657             1  0.585462\n",
       "1        1372637254620000657      39233.0  20000657             2  0.585471\n",
       "2        1372637254620000657      39233.0  20000657             3  0.585486\n",
       "3        1372637254620000657      39233.0  20000657             4  0.585513\n",
       "4        1372637254620000657      39233.0  20000657             5  0.585509\n",
       "...                      ...          ...       ...           ...       ...\n",
       "5704575  1404172319620000571       4650.0  20000571            16  0.575430\n",
       "5704576  1404172319620000571       4650.0  20000571            17  0.575442\n",
       "5704577  1404172319620000571       4650.0  20000571            18  0.575414\n",
       "5704578  1404172319620000571       4650.0  20000571            19  0.575407\n",
       "5704579  1404172319620000571       4650.0  20000571            20  0.575430\n",
       "\n",
       "[5704580 rows x 5 columns]"
      ],
      "text/html": [
       "<div>\n",
       "<style scoped>\n",
       "    .dataframe tbody tr th:only-of-type {\n",
       "        vertical-align: middle;\n",
       "    }\n",
       "\n",
       "    .dataframe tbody tr th {\n",
       "        vertical-align: top;\n",
       "    }\n",
       "\n",
       "    .dataframe thead th {\n",
       "        text-align: right;\n",
       "    }\n",
       "</style>\n",
       "<table border=\"1\" class=\"dataframe\">\n",
       "  <thead>\n",
       "    <tr style=\"text-align: right;\">\n",
       "      <th></th>\n",
       "      <th>unique_id</th>\n",
       "      <th>origin_call</th>\n",
       "      <th>taxi_id</th>\n",
       "      <th>horizon_step</th>\n",
       "      <th>yhat_lat</th>\n",
       "    </tr>\n",
       "  </thead>\n",
       "  <tbody>\n",
       "    <tr>\n",
       "      <th>0</th>\n",
       "      <td>1372637254620000657</td>\n",
       "      <td>39233.0</td>\n",
       "      <td>20000657</td>\n",
       "      <td>1</td>\n",
       "      <td>0.585462</td>\n",
       "    </tr>\n",
       "    <tr>\n",
       "      <th>1</th>\n",
       "      <td>1372637254620000657</td>\n",
       "      <td>39233.0</td>\n",
       "      <td>20000657</td>\n",
       "      <td>2</td>\n",
       "      <td>0.585471</td>\n",
       "    </tr>\n",
       "    <tr>\n",
       "      <th>2</th>\n",
       "      <td>1372637254620000657</td>\n",
       "      <td>39233.0</td>\n",
       "      <td>20000657</td>\n",
       "      <td>3</td>\n",
       "      <td>0.585486</td>\n",
       "    </tr>\n",
       "    <tr>\n",
       "      <th>3</th>\n",
       "      <td>1372637254620000657</td>\n",
       "      <td>39233.0</td>\n",
       "      <td>20000657</td>\n",
       "      <td>4</td>\n",
       "      <td>0.585513</td>\n",
       "    </tr>\n",
       "    <tr>\n",
       "      <th>4</th>\n",
       "      <td>1372637254620000657</td>\n",
       "      <td>39233.0</td>\n",
       "      <td>20000657</td>\n",
       "      <td>5</td>\n",
       "      <td>0.585509</td>\n",
       "    </tr>\n",
       "    <tr>\n",
       "      <th>...</th>\n",
       "      <td>...</td>\n",
       "      <td>...</td>\n",
       "      <td>...</td>\n",
       "      <td>...</td>\n",
       "      <td>...</td>\n",
       "    </tr>\n",
       "    <tr>\n",
       "      <th>5704575</th>\n",
       "      <td>1404172319620000571</td>\n",
       "      <td>4650.0</td>\n",
       "      <td>20000571</td>\n",
       "      <td>16</td>\n",
       "      <td>0.575430</td>\n",
       "    </tr>\n",
       "    <tr>\n",
       "      <th>5704576</th>\n",
       "      <td>1404172319620000571</td>\n",
       "      <td>4650.0</td>\n",
       "      <td>20000571</td>\n",
       "      <td>17</td>\n",
       "      <td>0.575442</td>\n",
       "    </tr>\n",
       "    <tr>\n",
       "      <th>5704577</th>\n",
       "      <td>1404172319620000571</td>\n",
       "      <td>4650.0</td>\n",
       "      <td>20000571</td>\n",
       "      <td>18</td>\n",
       "      <td>0.575414</td>\n",
       "    </tr>\n",
       "    <tr>\n",
       "      <th>5704578</th>\n",
       "      <td>1404172319620000571</td>\n",
       "      <td>4650.0</td>\n",
       "      <td>20000571</td>\n",
       "      <td>19</td>\n",
       "      <td>0.575407</td>\n",
       "    </tr>\n",
       "    <tr>\n",
       "      <th>5704579</th>\n",
       "      <td>1404172319620000571</td>\n",
       "      <td>4650.0</td>\n",
       "      <td>20000571</td>\n",
       "      <td>20</td>\n",
       "      <td>0.575430</td>\n",
       "    </tr>\n",
       "  </tbody>\n",
       "</table>\n",
       "<p>5704580 rows × 5 columns</p>\n",
       "</div>"
      ]
     },
     "execution_count": 18,
     "metadata": {},
     "output_type": "execute_result"
    }
   ],
   "execution_count": 18
  },
  {
   "metadata": {
    "ExecuteTime": {
     "end_time": "2025-09-12T15:23:44.814302Z",
     "start_time": "2025-09-12T15:21:26.714311Z"
    }
   },
   "cell_type": "code",
   "source": [
    "input_data = get_taxi_data_fn(df_lon)\n",
    "df_lon_forecast = []\n",
    "for example, forecast in zip(input_data(), forecast_df_lon):\n",
    "    df_lon_temp = forecasts_to_df(forecast, example, coord_name=\"lon\")\n",
    "    df_lon_forecast.append(df_lon_temp)\n",
    "df_lon_forecast = pd.concat(df_lon_forecast, ignore_index=True)\n",
    "df_lon_forecast"
   ],
   "id": "b71bd824f1b813dd",
   "outputs": [
    {
     "data": {
      "text/plain": [
       "                   unique_id  origin_call   taxi_id  horizon_step  yhat_lon\n",
       "0        1372637254620000657      39233.0  20000657             1  0.638454\n",
       "1        1372637254620000657      39233.0  20000657             2  0.638667\n",
       "2        1372637254620000657      39233.0  20000657             3  0.638778\n",
       "3        1372637254620000657      39233.0  20000657             4  0.638917\n",
       "4        1372637254620000657      39233.0  20000657             5  0.639057\n",
       "...                      ...          ...       ...           ...       ...\n",
       "5704575  1404172319620000571       4650.0  20000571            16  0.640514\n",
       "5704576  1404172319620000571       4650.0  20000571            17  0.640549\n",
       "5704577  1404172319620000571       4650.0  20000571            18  0.640562\n",
       "5704578  1404172319620000571       4650.0  20000571            19  0.640543\n",
       "5704579  1404172319620000571       4650.0  20000571            20  0.640484\n",
       "\n",
       "[5704580 rows x 5 columns]"
      ],
      "text/html": [
       "<div>\n",
       "<style scoped>\n",
       "    .dataframe tbody tr th:only-of-type {\n",
       "        vertical-align: middle;\n",
       "    }\n",
       "\n",
       "    .dataframe tbody tr th {\n",
       "        vertical-align: top;\n",
       "    }\n",
       "\n",
       "    .dataframe thead th {\n",
       "        text-align: right;\n",
       "    }\n",
       "</style>\n",
       "<table border=\"1\" class=\"dataframe\">\n",
       "  <thead>\n",
       "    <tr style=\"text-align: right;\">\n",
       "      <th></th>\n",
       "      <th>unique_id</th>\n",
       "      <th>origin_call</th>\n",
       "      <th>taxi_id</th>\n",
       "      <th>horizon_step</th>\n",
       "      <th>yhat_lon</th>\n",
       "    </tr>\n",
       "  </thead>\n",
       "  <tbody>\n",
       "    <tr>\n",
       "      <th>0</th>\n",
       "      <td>1372637254620000657</td>\n",
       "      <td>39233.0</td>\n",
       "      <td>20000657</td>\n",
       "      <td>1</td>\n",
       "      <td>0.638454</td>\n",
       "    </tr>\n",
       "    <tr>\n",
       "      <th>1</th>\n",
       "      <td>1372637254620000657</td>\n",
       "      <td>39233.0</td>\n",
       "      <td>20000657</td>\n",
       "      <td>2</td>\n",
       "      <td>0.638667</td>\n",
       "    </tr>\n",
       "    <tr>\n",
       "      <th>2</th>\n",
       "      <td>1372637254620000657</td>\n",
       "      <td>39233.0</td>\n",
       "      <td>20000657</td>\n",
       "      <td>3</td>\n",
       "      <td>0.638778</td>\n",
       "    </tr>\n",
       "    <tr>\n",
       "      <th>3</th>\n",
       "      <td>1372637254620000657</td>\n",
       "      <td>39233.0</td>\n",
       "      <td>20000657</td>\n",
       "      <td>4</td>\n",
       "      <td>0.638917</td>\n",
       "    </tr>\n",
       "    <tr>\n",
       "      <th>4</th>\n",
       "      <td>1372637254620000657</td>\n",
       "      <td>39233.0</td>\n",
       "      <td>20000657</td>\n",
       "      <td>5</td>\n",
       "      <td>0.639057</td>\n",
       "    </tr>\n",
       "    <tr>\n",
       "      <th>...</th>\n",
       "      <td>...</td>\n",
       "      <td>...</td>\n",
       "      <td>...</td>\n",
       "      <td>...</td>\n",
       "      <td>...</td>\n",
       "    </tr>\n",
       "    <tr>\n",
       "      <th>5704575</th>\n",
       "      <td>1404172319620000571</td>\n",
       "      <td>4650.0</td>\n",
       "      <td>20000571</td>\n",
       "      <td>16</td>\n",
       "      <td>0.640514</td>\n",
       "    </tr>\n",
       "    <tr>\n",
       "      <th>5704576</th>\n",
       "      <td>1404172319620000571</td>\n",
       "      <td>4650.0</td>\n",
       "      <td>20000571</td>\n",
       "      <td>17</td>\n",
       "      <td>0.640549</td>\n",
       "    </tr>\n",
       "    <tr>\n",
       "      <th>5704577</th>\n",
       "      <td>1404172319620000571</td>\n",
       "      <td>4650.0</td>\n",
       "      <td>20000571</td>\n",
       "      <td>18</td>\n",
       "      <td>0.640562</td>\n",
       "    </tr>\n",
       "    <tr>\n",
       "      <th>5704578</th>\n",
       "      <td>1404172319620000571</td>\n",
       "      <td>4650.0</td>\n",
       "      <td>20000571</td>\n",
       "      <td>19</td>\n",
       "      <td>0.640543</td>\n",
       "    </tr>\n",
       "    <tr>\n",
       "      <th>5704579</th>\n",
       "      <td>1404172319620000571</td>\n",
       "      <td>4650.0</td>\n",
       "      <td>20000571</td>\n",
       "      <td>20</td>\n",
       "      <td>0.640484</td>\n",
       "    </tr>\n",
       "  </tbody>\n",
       "</table>\n",
       "<p>5704580 rows × 5 columns</p>\n",
       "</div>"
      ]
     },
     "execution_count": 19,
     "metadata": {},
     "output_type": "execute_result"
    }
   ],
   "execution_count": 19
  },
  {
   "metadata": {
    "ExecuteTime": {
     "end_time": "2025-09-12T15:23:45.808615Z",
     "start_time": "2025-09-12T15:23:44.907867Z"
    }
   },
   "cell_type": "code",
   "source": [
    "df_lat_forecast[\"yhat_lat\"] = scaler_lat.inverse_transform(df_lat_forecast[[\"yhat_lat\"]])\n",
    "df_lon_forecast[\"yhat_lon\"] = scaler_lon.inverse_transform(df_lon_forecast[[\"yhat_lon\"]])\n",
    "predictions = pd.merge(df_lat_forecast, df_lon_forecast, on=['unique_id', 'origin_call', 'taxi_id', 'horizon_step'], how='left')\n",
    "predictions"
   ],
   "id": "80f59f4c2de97002",
   "outputs": [
    {
     "data": {
      "text/plain": [
       "                   unique_id  origin_call   taxi_id  horizon_step   yhat_lat  \\\n",
       "0        1372637254620000657      39233.0  20000657             1  41.180661   \n",
       "1        1372637254620000657      39233.0  20000657             2  41.180692   \n",
       "2        1372637254620000657      39233.0  20000657             3  41.180740   \n",
       "3        1372637254620000657      39233.0  20000657             4  41.180828   \n",
       "4        1372637254620000657      39233.0  20000657             5  41.180816   \n",
       "...                      ...          ...       ...           ...        ...   \n",
       "5704575  1404172319620000571       4650.0  20000571            16  41.147688   \n",
       "5704576  1404172319620000571       4650.0  20000571            17  41.147728   \n",
       "5704577  1404172319620000571       4650.0  20000571            18  41.147634   \n",
       "5704578  1404172319620000571       4650.0  20000571            19  41.147612   \n",
       "5704579  1404172319620000571       4650.0  20000571            20  41.147689   \n",
       "\n",
       "         yhat_lon  \n",
       "0       -8.628694  \n",
       "1       -8.627177  \n",
       "2       -8.626384  \n",
       "3       -8.625398  \n",
       "4       -8.624404  \n",
       "...           ...  \n",
       "5704575 -8.614034  \n",
       "5704576 -8.613786  \n",
       "5704577 -8.613692  \n",
       "5704578 -8.613827  \n",
       "5704579 -8.614249  \n",
       "\n",
       "[5704580 rows x 6 columns]"
      ],
      "text/html": [
       "<div>\n",
       "<style scoped>\n",
       "    .dataframe tbody tr th:only-of-type {\n",
       "        vertical-align: middle;\n",
       "    }\n",
       "\n",
       "    .dataframe tbody tr th {\n",
       "        vertical-align: top;\n",
       "    }\n",
       "\n",
       "    .dataframe thead th {\n",
       "        text-align: right;\n",
       "    }\n",
       "</style>\n",
       "<table border=\"1\" class=\"dataframe\">\n",
       "  <thead>\n",
       "    <tr style=\"text-align: right;\">\n",
       "      <th></th>\n",
       "      <th>unique_id</th>\n",
       "      <th>origin_call</th>\n",
       "      <th>taxi_id</th>\n",
       "      <th>horizon_step</th>\n",
       "      <th>yhat_lat</th>\n",
       "      <th>yhat_lon</th>\n",
       "    </tr>\n",
       "  </thead>\n",
       "  <tbody>\n",
       "    <tr>\n",
       "      <th>0</th>\n",
       "      <td>1372637254620000657</td>\n",
       "      <td>39233.0</td>\n",
       "      <td>20000657</td>\n",
       "      <td>1</td>\n",
       "      <td>41.180661</td>\n",
       "      <td>-8.628694</td>\n",
       "    </tr>\n",
       "    <tr>\n",
       "      <th>1</th>\n",
       "      <td>1372637254620000657</td>\n",
       "      <td>39233.0</td>\n",
       "      <td>20000657</td>\n",
       "      <td>2</td>\n",
       "      <td>41.180692</td>\n",
       "      <td>-8.627177</td>\n",
       "    </tr>\n",
       "    <tr>\n",
       "      <th>2</th>\n",
       "      <td>1372637254620000657</td>\n",
       "      <td>39233.0</td>\n",
       "      <td>20000657</td>\n",
       "      <td>3</td>\n",
       "      <td>41.180740</td>\n",
       "      <td>-8.626384</td>\n",
       "    </tr>\n",
       "    <tr>\n",
       "      <th>3</th>\n",
       "      <td>1372637254620000657</td>\n",
       "      <td>39233.0</td>\n",
       "      <td>20000657</td>\n",
       "      <td>4</td>\n",
       "      <td>41.180828</td>\n",
       "      <td>-8.625398</td>\n",
       "    </tr>\n",
       "    <tr>\n",
       "      <th>4</th>\n",
       "      <td>1372637254620000657</td>\n",
       "      <td>39233.0</td>\n",
       "      <td>20000657</td>\n",
       "      <td>5</td>\n",
       "      <td>41.180816</td>\n",
       "      <td>-8.624404</td>\n",
       "    </tr>\n",
       "    <tr>\n",
       "      <th>...</th>\n",
       "      <td>...</td>\n",
       "      <td>...</td>\n",
       "      <td>...</td>\n",
       "      <td>...</td>\n",
       "      <td>...</td>\n",
       "      <td>...</td>\n",
       "    </tr>\n",
       "    <tr>\n",
       "      <th>5704575</th>\n",
       "      <td>1404172319620000571</td>\n",
       "      <td>4650.0</td>\n",
       "      <td>20000571</td>\n",
       "      <td>16</td>\n",
       "      <td>41.147688</td>\n",
       "      <td>-8.614034</td>\n",
       "    </tr>\n",
       "    <tr>\n",
       "      <th>5704576</th>\n",
       "      <td>1404172319620000571</td>\n",
       "      <td>4650.0</td>\n",
       "      <td>20000571</td>\n",
       "      <td>17</td>\n",
       "      <td>41.147728</td>\n",
       "      <td>-8.613786</td>\n",
       "    </tr>\n",
       "    <tr>\n",
       "      <th>5704577</th>\n",
       "      <td>1404172319620000571</td>\n",
       "      <td>4650.0</td>\n",
       "      <td>20000571</td>\n",
       "      <td>18</td>\n",
       "      <td>41.147634</td>\n",
       "      <td>-8.613692</td>\n",
       "    </tr>\n",
       "    <tr>\n",
       "      <th>5704578</th>\n",
       "      <td>1404172319620000571</td>\n",
       "      <td>4650.0</td>\n",
       "      <td>20000571</td>\n",
       "      <td>19</td>\n",
       "      <td>41.147612</td>\n",
       "      <td>-8.613827</td>\n",
       "    </tr>\n",
       "    <tr>\n",
       "      <th>5704579</th>\n",
       "      <td>1404172319620000571</td>\n",
       "      <td>4650.0</td>\n",
       "      <td>20000571</td>\n",
       "      <td>20</td>\n",
       "      <td>41.147689</td>\n",
       "      <td>-8.614249</td>\n",
       "    </tr>\n",
       "  </tbody>\n",
       "</table>\n",
       "<p>5704580 rows × 6 columns</p>\n",
       "</div>"
      ]
     },
     "execution_count": 20,
     "metadata": {},
     "output_type": "execute_result"
    }
   ],
   "execution_count": 20
  },
  {
   "metadata": {
    "ExecuteTime": {
     "end_time": "2025-09-12T15:23:47.104826Z",
     "start_time": "2025-09-12T15:23:45.851177Z"
    }
   },
   "cell_type": "code",
   "source": [
    "df_lat = df_lat.rename(columns={\"y\": \"lat\"})\n",
    "df_lon = df_lon.rename(columns={\"y\": \"lon\"})"
   ],
   "id": "7618edfeca520a6d",
   "outputs": [],
   "execution_count": 21
  },
  {
   "metadata": {
    "ExecuteTime": {
     "end_time": "2025-09-12T15:23:50.192712Z",
     "start_time": "2025-09-12T15:23:47.147549Z"
    }
   },
   "cell_type": "code",
   "source": [
    "df_lon_test = df_lon.groupby('unique_id', group_keys=False).tail(1)\n",
    "df_lat_test = df_lat.groupby('unique_id', group_keys=False).tail(1)\n",
    "test = pd.merge(df_lat_test, df_lon_test, on=['unique_id', 'origin_call', 'taxi_id', 'ds'], how='left')\n",
    "test"
   ],
   "id": "96dbc2d2416456dc",
   "outputs": [
    {
     "data": {
      "text/plain": [
       "                  unique_id  origin_call   taxi_id                  ds  \\\n",
       "0       1372637254620000657      39233.0  20000657 2013-07-01 00:18:04   \n",
       "1       1372637343620000571      31508.0  20000571 2013-07-01 00:16:48   \n",
       "2       1372637397620000190       2002.0  20000190 2013-07-01 00:23:42   \n",
       "3       1372638303620000112      63882.0  20000112 2013-07-01 00:53:48   \n",
       "4       1372638451620000621      59594.0  20000621 2013-07-01 00:36:01   \n",
       "...                     ...          ...       ...                 ...   \n",
       "285224  1404170795620000242      35193.0  20000242 2014-06-30 23:34:50   \n",
       "285225  1404171078620000455      58509.0  20000455 2014-06-30 23:44:18   \n",
       "285226  1404171293620000565      46207.0  20000565 2014-06-30 23:43:23   \n",
       "285227  1404172208620000196      30020.0  20000196 2014-06-30 23:59:23   \n",
       "285228  1404172319620000571       4650.0  20000571 2014-06-30 23:59:14   \n",
       "\n",
       "             lat       lon  \n",
       "0       0.585812  0.642220  \n",
       "1       0.579865  0.645989  \n",
       "2       0.584413  0.648225  \n",
       "3       0.579917  0.644292  \n",
       "4       0.589312  0.646904  \n",
       "...          ...       ...  \n",
       "285224  0.584167  0.636203  \n",
       "285225  0.576346  0.641099  \n",
       "285226  0.573403  0.640410  \n",
       "285227  0.584315  0.643616  \n",
       "285228  0.577817  0.636845  \n",
       "\n",
       "[285229 rows x 6 columns]"
      ],
      "text/html": [
       "<div>\n",
       "<style scoped>\n",
       "    .dataframe tbody tr th:only-of-type {\n",
       "        vertical-align: middle;\n",
       "    }\n",
       "\n",
       "    .dataframe tbody tr th {\n",
       "        vertical-align: top;\n",
       "    }\n",
       "\n",
       "    .dataframe thead th {\n",
       "        text-align: right;\n",
       "    }\n",
       "</style>\n",
       "<table border=\"1\" class=\"dataframe\">\n",
       "  <thead>\n",
       "    <tr style=\"text-align: right;\">\n",
       "      <th></th>\n",
       "      <th>unique_id</th>\n",
       "      <th>origin_call</th>\n",
       "      <th>taxi_id</th>\n",
       "      <th>ds</th>\n",
       "      <th>lat</th>\n",
       "      <th>lon</th>\n",
       "    </tr>\n",
       "  </thead>\n",
       "  <tbody>\n",
       "    <tr>\n",
       "      <th>0</th>\n",
       "      <td>1372637254620000657</td>\n",
       "      <td>39233.0</td>\n",
       "      <td>20000657</td>\n",
       "      <td>2013-07-01 00:18:04</td>\n",
       "      <td>0.585812</td>\n",
       "      <td>0.642220</td>\n",
       "    </tr>\n",
       "    <tr>\n",
       "      <th>1</th>\n",
       "      <td>1372637343620000571</td>\n",
       "      <td>31508.0</td>\n",
       "      <td>20000571</td>\n",
       "      <td>2013-07-01 00:16:48</td>\n",
       "      <td>0.579865</td>\n",
       "      <td>0.645989</td>\n",
       "    </tr>\n",
       "    <tr>\n",
       "      <th>2</th>\n",
       "      <td>1372637397620000190</td>\n",
       "      <td>2002.0</td>\n",
       "      <td>20000190</td>\n",
       "      <td>2013-07-01 00:23:42</td>\n",
       "      <td>0.584413</td>\n",
       "      <td>0.648225</td>\n",
       "    </tr>\n",
       "    <tr>\n",
       "      <th>3</th>\n",
       "      <td>1372638303620000112</td>\n",
       "      <td>63882.0</td>\n",
       "      <td>20000112</td>\n",
       "      <td>2013-07-01 00:53:48</td>\n",
       "      <td>0.579917</td>\n",
       "      <td>0.644292</td>\n",
       "    </tr>\n",
       "    <tr>\n",
       "      <th>4</th>\n",
       "      <td>1372638451620000621</td>\n",
       "      <td>59594.0</td>\n",
       "      <td>20000621</td>\n",
       "      <td>2013-07-01 00:36:01</td>\n",
       "      <td>0.589312</td>\n",
       "      <td>0.646904</td>\n",
       "    </tr>\n",
       "    <tr>\n",
       "      <th>...</th>\n",
       "      <td>...</td>\n",
       "      <td>...</td>\n",
       "      <td>...</td>\n",
       "      <td>...</td>\n",
       "      <td>...</td>\n",
       "      <td>...</td>\n",
       "    </tr>\n",
       "    <tr>\n",
       "      <th>285224</th>\n",
       "      <td>1404170795620000242</td>\n",
       "      <td>35193.0</td>\n",
       "      <td>20000242</td>\n",
       "      <td>2014-06-30 23:34:50</td>\n",
       "      <td>0.584167</td>\n",
       "      <td>0.636203</td>\n",
       "    </tr>\n",
       "    <tr>\n",
       "      <th>285225</th>\n",
       "      <td>1404171078620000455</td>\n",
       "      <td>58509.0</td>\n",
       "      <td>20000455</td>\n",
       "      <td>2014-06-30 23:44:18</td>\n",
       "      <td>0.576346</td>\n",
       "      <td>0.641099</td>\n",
       "    </tr>\n",
       "    <tr>\n",
       "      <th>285226</th>\n",
       "      <td>1404171293620000565</td>\n",
       "      <td>46207.0</td>\n",
       "      <td>20000565</td>\n",
       "      <td>2014-06-30 23:43:23</td>\n",
       "      <td>0.573403</td>\n",
       "      <td>0.640410</td>\n",
       "    </tr>\n",
       "    <tr>\n",
       "      <th>285227</th>\n",
       "      <td>1404172208620000196</td>\n",
       "      <td>30020.0</td>\n",
       "      <td>20000196</td>\n",
       "      <td>2014-06-30 23:59:23</td>\n",
       "      <td>0.584315</td>\n",
       "      <td>0.643616</td>\n",
       "    </tr>\n",
       "    <tr>\n",
       "      <th>285228</th>\n",
       "      <td>1404172319620000571</td>\n",
       "      <td>4650.0</td>\n",
       "      <td>20000571</td>\n",
       "      <td>2014-06-30 23:59:14</td>\n",
       "      <td>0.577817</td>\n",
       "      <td>0.636845</td>\n",
       "    </tr>\n",
       "  </tbody>\n",
       "</table>\n",
       "<p>285229 rows × 6 columns</p>\n",
       "</div>"
      ]
     },
     "execution_count": 22,
     "metadata": {},
     "output_type": "execute_result"
    }
   ],
   "execution_count": 22
  },
  {
   "metadata": {
    "ExecuteTime": {
     "end_time": "2025-09-12T15:23:50.253658Z",
     "start_time": "2025-09-12T15:23:50.231296Z"
    }
   },
   "cell_type": "code",
   "source": [
    "test[\"lat\"] = scaler_lat.inverse_transform(test[[\"lat\"]])\n",
    "test[\"lon\"] = scaler_lon.inverse_transform(test[[\"lon\"]])\n",
    "test"
   ],
   "id": "7f9e057ae657ff90",
   "outputs": [
    {
     "data": {
      "text/plain": [
       "                  unique_id  origin_call   taxi_id                  ds  \\\n",
       "0       1372637254620000657      39233.0  20000657 2013-07-01 00:18:04   \n",
       "1       1372637343620000571      31508.0  20000571 2013-07-01 00:16:48   \n",
       "2       1372637397620000190       2002.0  20000190 2013-07-01 00:23:42   \n",
       "3       1372638303620000112      63882.0  20000112 2013-07-01 00:53:48   \n",
       "4       1372638451620000621      59594.0  20000621 2013-07-01 00:36:01   \n",
       "...                     ...          ...       ...                 ...   \n",
       "285224  1404170795620000242      35193.0  20000242 2014-06-30 23:34:50   \n",
       "285225  1404171078620000455      58509.0  20000455 2014-06-30 23:44:18   \n",
       "285226  1404171293620000565      46207.0  20000565 2014-06-30 23:43:23   \n",
       "285227  1404172208620000196      30020.0  20000196 2014-06-30 23:59:23   \n",
       "285228  1404172319620000571       4650.0  20000571 2014-06-30 23:59:14   \n",
       "\n",
       "              lat       lon  \n",
       "0       41.181813 -8.601894  \n",
       "1       41.162265 -8.575065  \n",
       "2       41.177214 -8.559153  \n",
       "3       41.162436 -8.587143  \n",
       "4       41.193315 -8.568558  \n",
       "...           ...       ...  \n",
       "285224  41.176404 -8.644716  \n",
       "285225  41.150700 -8.609868  \n",
       "285226  41.141025 -8.614773  \n",
       "285227  41.176890 -8.591958  \n",
       "285228  41.155533 -8.640144  \n",
       "\n",
       "[285229 rows x 6 columns]"
      ],
      "text/html": [
       "<div>\n",
       "<style scoped>\n",
       "    .dataframe tbody tr th:only-of-type {\n",
       "        vertical-align: middle;\n",
       "    }\n",
       "\n",
       "    .dataframe tbody tr th {\n",
       "        vertical-align: top;\n",
       "    }\n",
       "\n",
       "    .dataframe thead th {\n",
       "        text-align: right;\n",
       "    }\n",
       "</style>\n",
       "<table border=\"1\" class=\"dataframe\">\n",
       "  <thead>\n",
       "    <tr style=\"text-align: right;\">\n",
       "      <th></th>\n",
       "      <th>unique_id</th>\n",
       "      <th>origin_call</th>\n",
       "      <th>taxi_id</th>\n",
       "      <th>ds</th>\n",
       "      <th>lat</th>\n",
       "      <th>lon</th>\n",
       "    </tr>\n",
       "  </thead>\n",
       "  <tbody>\n",
       "    <tr>\n",
       "      <th>0</th>\n",
       "      <td>1372637254620000657</td>\n",
       "      <td>39233.0</td>\n",
       "      <td>20000657</td>\n",
       "      <td>2013-07-01 00:18:04</td>\n",
       "      <td>41.181813</td>\n",
       "      <td>-8.601894</td>\n",
       "    </tr>\n",
       "    <tr>\n",
       "      <th>1</th>\n",
       "      <td>1372637343620000571</td>\n",
       "      <td>31508.0</td>\n",
       "      <td>20000571</td>\n",
       "      <td>2013-07-01 00:16:48</td>\n",
       "      <td>41.162265</td>\n",
       "      <td>-8.575065</td>\n",
       "    </tr>\n",
       "    <tr>\n",
       "      <th>2</th>\n",
       "      <td>1372637397620000190</td>\n",
       "      <td>2002.0</td>\n",
       "      <td>20000190</td>\n",
       "      <td>2013-07-01 00:23:42</td>\n",
       "      <td>41.177214</td>\n",
       "      <td>-8.559153</td>\n",
       "    </tr>\n",
       "    <tr>\n",
       "      <th>3</th>\n",
       "      <td>1372638303620000112</td>\n",
       "      <td>63882.0</td>\n",
       "      <td>20000112</td>\n",
       "      <td>2013-07-01 00:53:48</td>\n",
       "      <td>41.162436</td>\n",
       "      <td>-8.587143</td>\n",
       "    </tr>\n",
       "    <tr>\n",
       "      <th>4</th>\n",
       "      <td>1372638451620000621</td>\n",
       "      <td>59594.0</td>\n",
       "      <td>20000621</td>\n",
       "      <td>2013-07-01 00:36:01</td>\n",
       "      <td>41.193315</td>\n",
       "      <td>-8.568558</td>\n",
       "    </tr>\n",
       "    <tr>\n",
       "      <th>...</th>\n",
       "      <td>...</td>\n",
       "      <td>...</td>\n",
       "      <td>...</td>\n",
       "      <td>...</td>\n",
       "      <td>...</td>\n",
       "      <td>...</td>\n",
       "    </tr>\n",
       "    <tr>\n",
       "      <th>285224</th>\n",
       "      <td>1404170795620000242</td>\n",
       "      <td>35193.0</td>\n",
       "      <td>20000242</td>\n",
       "      <td>2014-06-30 23:34:50</td>\n",
       "      <td>41.176404</td>\n",
       "      <td>-8.644716</td>\n",
       "    </tr>\n",
       "    <tr>\n",
       "      <th>285225</th>\n",
       "      <td>1404171078620000455</td>\n",
       "      <td>58509.0</td>\n",
       "      <td>20000455</td>\n",
       "      <td>2014-06-30 23:44:18</td>\n",
       "      <td>41.150700</td>\n",
       "      <td>-8.609868</td>\n",
       "    </tr>\n",
       "    <tr>\n",
       "      <th>285226</th>\n",
       "      <td>1404171293620000565</td>\n",
       "      <td>46207.0</td>\n",
       "      <td>20000565</td>\n",
       "      <td>2014-06-30 23:43:23</td>\n",
       "      <td>41.141025</td>\n",
       "      <td>-8.614773</td>\n",
       "    </tr>\n",
       "    <tr>\n",
       "      <th>285227</th>\n",
       "      <td>1404172208620000196</td>\n",
       "      <td>30020.0</td>\n",
       "      <td>20000196</td>\n",
       "      <td>2014-06-30 23:59:23</td>\n",
       "      <td>41.176890</td>\n",
       "      <td>-8.591958</td>\n",
       "    </tr>\n",
       "    <tr>\n",
       "      <th>285228</th>\n",
       "      <td>1404172319620000571</td>\n",
       "      <td>4650.0</td>\n",
       "      <td>20000571</td>\n",
       "      <td>2014-06-30 23:59:14</td>\n",
       "      <td>41.155533</td>\n",
       "      <td>-8.640144</td>\n",
       "    </tr>\n",
       "  </tbody>\n",
       "</table>\n",
       "<p>285229 rows × 6 columns</p>\n",
       "</div>"
      ]
     },
     "execution_count": 23,
     "metadata": {},
     "output_type": "execute_result"
    }
   ],
   "execution_count": 23
  },
  {
   "metadata": {
    "ExecuteTime": {
     "end_time": "2025-09-12T15:23:50.919407Z",
     "start_time": "2025-09-12T15:23:50.395396Z"
    }
   },
   "cell_type": "code",
   "source": [
    "predictions = predictions.groupby('unique_id', group_keys=False).tail(1)\n",
    "predictions"
   ],
   "id": "18fae3f2b7dfefce",
   "outputs": [
    {
     "data": {
      "text/plain": [
       "                   unique_id  origin_call   taxi_id  horizon_step   yhat_lat  \\\n",
       "19       1372637254620000657      39233.0  20000657            20  41.178299   \n",
       "39       1372637343620000571      31508.0  20000571            20  41.156000   \n",
       "59       1372637397620000190       2002.0  20000190            20  41.152702   \n",
       "79       1372638303620000112      63882.0  20000112            20  41.163426   \n",
       "99       1372638451620000621      59594.0  20000621            20  41.183778   \n",
       "...                      ...          ...       ...           ...        ...   \n",
       "5704499  1404170795620000242      35193.0  20000242            20  41.162703   \n",
       "5704519  1404171078620000455      58509.0  20000455            20  41.160104   \n",
       "5704539  1404171293620000565      46207.0  20000565            20  41.152473   \n",
       "5704559  1404172208620000196      30020.0  20000196            20  41.183136   \n",
       "5704579  1404172319620000571       4650.0  20000571            20  41.147689   \n",
       "\n",
       "         yhat_lon  \n",
       "19      -8.616890  \n",
       "39      -8.610107  \n",
       "59      -8.620771  \n",
       "79      -8.588996  \n",
       "99      -8.587079  \n",
       "...           ...  \n",
       "5704499 -8.627589  \n",
       "5704519 -8.603283  \n",
       "5704539 -8.613018  \n",
       "5704559 -8.600233  \n",
       "5704579 -8.614249  \n",
       "\n",
       "[285229 rows x 6 columns]"
      ],
      "text/html": [
       "<div>\n",
       "<style scoped>\n",
       "    .dataframe tbody tr th:only-of-type {\n",
       "        vertical-align: middle;\n",
       "    }\n",
       "\n",
       "    .dataframe tbody tr th {\n",
       "        vertical-align: top;\n",
       "    }\n",
       "\n",
       "    .dataframe thead th {\n",
       "        text-align: right;\n",
       "    }\n",
       "</style>\n",
       "<table border=\"1\" class=\"dataframe\">\n",
       "  <thead>\n",
       "    <tr style=\"text-align: right;\">\n",
       "      <th></th>\n",
       "      <th>unique_id</th>\n",
       "      <th>origin_call</th>\n",
       "      <th>taxi_id</th>\n",
       "      <th>horizon_step</th>\n",
       "      <th>yhat_lat</th>\n",
       "      <th>yhat_lon</th>\n",
       "    </tr>\n",
       "  </thead>\n",
       "  <tbody>\n",
       "    <tr>\n",
       "      <th>19</th>\n",
       "      <td>1372637254620000657</td>\n",
       "      <td>39233.0</td>\n",
       "      <td>20000657</td>\n",
       "      <td>20</td>\n",
       "      <td>41.178299</td>\n",
       "      <td>-8.616890</td>\n",
       "    </tr>\n",
       "    <tr>\n",
       "      <th>39</th>\n",
       "      <td>1372637343620000571</td>\n",
       "      <td>31508.0</td>\n",
       "      <td>20000571</td>\n",
       "      <td>20</td>\n",
       "      <td>41.156000</td>\n",
       "      <td>-8.610107</td>\n",
       "    </tr>\n",
       "    <tr>\n",
       "      <th>59</th>\n",
       "      <td>1372637397620000190</td>\n",
       "      <td>2002.0</td>\n",
       "      <td>20000190</td>\n",
       "      <td>20</td>\n",
       "      <td>41.152702</td>\n",
       "      <td>-8.620771</td>\n",
       "    </tr>\n",
       "    <tr>\n",
       "      <th>79</th>\n",
       "      <td>1372638303620000112</td>\n",
       "      <td>63882.0</td>\n",
       "      <td>20000112</td>\n",
       "      <td>20</td>\n",
       "      <td>41.163426</td>\n",
       "      <td>-8.588996</td>\n",
       "    </tr>\n",
       "    <tr>\n",
       "      <th>99</th>\n",
       "      <td>1372638451620000621</td>\n",
       "      <td>59594.0</td>\n",
       "      <td>20000621</td>\n",
       "      <td>20</td>\n",
       "      <td>41.183778</td>\n",
       "      <td>-8.587079</td>\n",
       "    </tr>\n",
       "    <tr>\n",
       "      <th>...</th>\n",
       "      <td>...</td>\n",
       "      <td>...</td>\n",
       "      <td>...</td>\n",
       "      <td>...</td>\n",
       "      <td>...</td>\n",
       "      <td>...</td>\n",
       "    </tr>\n",
       "    <tr>\n",
       "      <th>5704499</th>\n",
       "      <td>1404170795620000242</td>\n",
       "      <td>35193.0</td>\n",
       "      <td>20000242</td>\n",
       "      <td>20</td>\n",
       "      <td>41.162703</td>\n",
       "      <td>-8.627589</td>\n",
       "    </tr>\n",
       "    <tr>\n",
       "      <th>5704519</th>\n",
       "      <td>1404171078620000455</td>\n",
       "      <td>58509.0</td>\n",
       "      <td>20000455</td>\n",
       "      <td>20</td>\n",
       "      <td>41.160104</td>\n",
       "      <td>-8.603283</td>\n",
       "    </tr>\n",
       "    <tr>\n",
       "      <th>5704539</th>\n",
       "      <td>1404171293620000565</td>\n",
       "      <td>46207.0</td>\n",
       "      <td>20000565</td>\n",
       "      <td>20</td>\n",
       "      <td>41.152473</td>\n",
       "      <td>-8.613018</td>\n",
       "    </tr>\n",
       "    <tr>\n",
       "      <th>5704559</th>\n",
       "      <td>1404172208620000196</td>\n",
       "      <td>30020.0</td>\n",
       "      <td>20000196</td>\n",
       "      <td>20</td>\n",
       "      <td>41.183136</td>\n",
       "      <td>-8.600233</td>\n",
       "    </tr>\n",
       "    <tr>\n",
       "      <th>5704579</th>\n",
       "      <td>1404172319620000571</td>\n",
       "      <td>4650.0</td>\n",
       "      <td>20000571</td>\n",
       "      <td>20</td>\n",
       "      <td>41.147689</td>\n",
       "      <td>-8.614249</td>\n",
       "    </tr>\n",
       "  </tbody>\n",
       "</table>\n",
       "<p>285229 rows × 6 columns</p>\n",
       "</div>"
      ]
     },
     "execution_count": 24,
     "metadata": {},
     "output_type": "execute_result"
    }
   ],
   "execution_count": 24
  },
  {
   "metadata": {
    "ExecuteTime": {
     "end_time": "2025-09-12T15:23:51.053054Z",
     "start_time": "2025-09-12T15:23:50.995737Z"
    }
   },
   "cell_type": "code",
   "source": [
    "predictions = predictions.drop(['origin_call', 'taxi_id', 'horizon_step'], axis=1)\n",
    "test = test.drop(['origin_call', 'taxi_id', 'ds'], axis=1)\n",
    "df = pd.merge(test, predictions, on='unique_id', how='left')\n",
    "df"
   ],
   "id": "f0a3867af8c0e166",
   "outputs": [
    {
     "data": {
      "text/plain": [
       "                  unique_id        lat       lon   yhat_lat  yhat_lon\n",
       "0       1372637254620000657  41.181813 -8.601894  41.178299 -8.616890\n",
       "1       1372637343620000571  41.162265 -8.575065  41.156000 -8.610107\n",
       "2       1372637397620000190  41.177214 -8.559153  41.152702 -8.620771\n",
       "3       1372638303620000112  41.162436 -8.587143  41.163426 -8.588996\n",
       "4       1372638451620000621  41.193315 -8.568558  41.183778 -8.587079\n",
       "...                     ...        ...       ...        ...       ...\n",
       "285224  1404170795620000242  41.176404 -8.644716  41.162703 -8.627589\n",
       "285225  1404171078620000455  41.150700 -8.609868  41.160104 -8.603283\n",
       "285226  1404171293620000565  41.141025 -8.614773  41.152473 -8.613018\n",
       "285227  1404172208620000196  41.176890 -8.591958  41.183136 -8.600233\n",
       "285228  1404172319620000571  41.155533 -8.640144  41.147689 -8.614249\n",
       "\n",
       "[285229 rows x 5 columns]"
      ],
      "text/html": [
       "<div>\n",
       "<style scoped>\n",
       "    .dataframe tbody tr th:only-of-type {\n",
       "        vertical-align: middle;\n",
       "    }\n",
       "\n",
       "    .dataframe tbody tr th {\n",
       "        vertical-align: top;\n",
       "    }\n",
       "\n",
       "    .dataframe thead th {\n",
       "        text-align: right;\n",
       "    }\n",
       "</style>\n",
       "<table border=\"1\" class=\"dataframe\">\n",
       "  <thead>\n",
       "    <tr style=\"text-align: right;\">\n",
       "      <th></th>\n",
       "      <th>unique_id</th>\n",
       "      <th>lat</th>\n",
       "      <th>lon</th>\n",
       "      <th>yhat_lat</th>\n",
       "      <th>yhat_lon</th>\n",
       "    </tr>\n",
       "  </thead>\n",
       "  <tbody>\n",
       "    <tr>\n",
       "      <th>0</th>\n",
       "      <td>1372637254620000657</td>\n",
       "      <td>41.181813</td>\n",
       "      <td>-8.601894</td>\n",
       "      <td>41.178299</td>\n",
       "      <td>-8.616890</td>\n",
       "    </tr>\n",
       "    <tr>\n",
       "      <th>1</th>\n",
       "      <td>1372637343620000571</td>\n",
       "      <td>41.162265</td>\n",
       "      <td>-8.575065</td>\n",
       "      <td>41.156000</td>\n",
       "      <td>-8.610107</td>\n",
       "    </tr>\n",
       "    <tr>\n",
       "      <th>2</th>\n",
       "      <td>1372637397620000190</td>\n",
       "      <td>41.177214</td>\n",
       "      <td>-8.559153</td>\n",
       "      <td>41.152702</td>\n",
       "      <td>-8.620771</td>\n",
       "    </tr>\n",
       "    <tr>\n",
       "      <th>3</th>\n",
       "      <td>1372638303620000112</td>\n",
       "      <td>41.162436</td>\n",
       "      <td>-8.587143</td>\n",
       "      <td>41.163426</td>\n",
       "      <td>-8.588996</td>\n",
       "    </tr>\n",
       "    <tr>\n",
       "      <th>4</th>\n",
       "      <td>1372638451620000621</td>\n",
       "      <td>41.193315</td>\n",
       "      <td>-8.568558</td>\n",
       "      <td>41.183778</td>\n",
       "      <td>-8.587079</td>\n",
       "    </tr>\n",
       "    <tr>\n",
       "      <th>...</th>\n",
       "      <td>...</td>\n",
       "      <td>...</td>\n",
       "      <td>...</td>\n",
       "      <td>...</td>\n",
       "      <td>...</td>\n",
       "    </tr>\n",
       "    <tr>\n",
       "      <th>285224</th>\n",
       "      <td>1404170795620000242</td>\n",
       "      <td>41.176404</td>\n",
       "      <td>-8.644716</td>\n",
       "      <td>41.162703</td>\n",
       "      <td>-8.627589</td>\n",
       "    </tr>\n",
       "    <tr>\n",
       "      <th>285225</th>\n",
       "      <td>1404171078620000455</td>\n",
       "      <td>41.150700</td>\n",
       "      <td>-8.609868</td>\n",
       "      <td>41.160104</td>\n",
       "      <td>-8.603283</td>\n",
       "    </tr>\n",
       "    <tr>\n",
       "      <th>285226</th>\n",
       "      <td>1404171293620000565</td>\n",
       "      <td>41.141025</td>\n",
       "      <td>-8.614773</td>\n",
       "      <td>41.152473</td>\n",
       "      <td>-8.613018</td>\n",
       "    </tr>\n",
       "    <tr>\n",
       "      <th>285227</th>\n",
       "      <td>1404172208620000196</td>\n",
       "      <td>41.176890</td>\n",
       "      <td>-8.591958</td>\n",
       "      <td>41.183136</td>\n",
       "      <td>-8.600233</td>\n",
       "    </tr>\n",
       "    <tr>\n",
       "      <th>285228</th>\n",
       "      <td>1404172319620000571</td>\n",
       "      <td>41.155533</td>\n",
       "      <td>-8.640144</td>\n",
       "      <td>41.147689</td>\n",
       "      <td>-8.614249</td>\n",
       "    </tr>\n",
       "  </tbody>\n",
       "</table>\n",
       "<p>285229 rows × 5 columns</p>\n",
       "</div>"
      ]
     },
     "execution_count": 25,
     "metadata": {},
     "output_type": "execute_result"
    }
   ],
   "execution_count": 25
  },
  {
   "metadata": {
    "ExecuteTime": {
     "end_time": "2025-09-12T15:23:53.966116Z",
     "start_time": "2025-09-12T15:23:51.155873Z"
    }
   },
   "cell_type": "code",
   "source": [
    "from evaluation_script import haversine_distance\n",
    "df['distance_delta'] = df.apply(lambda row: haversine_distance(\n",
    "    row['lat'], row['lon'], row['yhat_lat'], row['yhat_lon']), axis=1)\n",
    "df['distance_delta'].mean()"
   ],
   "id": "b5c153cbf8edb43c",
   "outputs": [
    {
     "data": {
      "text/plain": [
       "np.float64(1.5993295468439943)"
      ]
     },
     "execution_count": 26,
     "metadata": {},
     "output_type": "execute_result"
    }
   ],
   "execution_count": 26
  },
  {
   "metadata": {
    "ExecuteTime": {
     "end_time": "2025-09-12T15:23:54.054609Z",
     "start_time": "2025-09-12T15:23:54.039587Z"
    }
   },
   "cell_type": "code",
   "source": "df['distance_delta'].median()",
   "id": "595aee3c809a1b94",
   "outputs": [
    {
     "data": {
      "text/plain": [
       "np.float64(1.2971063862604717)"
      ]
     },
     "execution_count": 27,
     "metadata": {},
     "output_type": "execute_result"
    }
   ],
   "execution_count": 27
  },
  {
   "metadata": {
    "ExecuteTime": {
     "end_time": "2025-09-12T15:23:54.092006Z",
     "start_time": "2025-09-12T15:23:54.085874Z"
    }
   },
   "cell_type": "code",
   "source": "df['distance_delta']",
   "id": "4e6306e717ca37fd",
   "outputs": [
    {
     "data": {
      "text/plain": [
       "0         1.314440\n",
       "1         3.015171\n",
       "2         5.833915\n",
       "3         0.190241\n",
       "4         1.877892\n",
       "            ...   \n",
       "285224    2.091943\n",
       "285225    1.182103\n",
       "285226    1.281413\n",
       "285227    0.980836\n",
       "285228    2.336978\n",
       "Name: distance_delta, Length: 285229, dtype: float64"
      ]
     },
     "execution_count": 28,
     "metadata": {},
     "output_type": "execute_result"
    }
   ],
   "execution_count": 28
  },
  {
   "metadata": {
    "ExecuteTime": {
     "end_time": "2025-09-12T15:23:54.236219Z",
     "start_time": "2025-09-12T15:23:54.177800Z"
    }
   },
   "cell_type": "code",
   "source": "df.to_parquet(\"results.parquet\")",
   "id": "cb26b26a0613ce5b",
   "outputs": [],
   "execution_count": 29
  },
  {
   "metadata": {
    "ExecuteTime": {
     "end_time": "2025-09-12T15:33:00.188737Z",
     "start_time": "2025-09-12T15:33:00.180055Z"
    }
   },
   "cell_type": "code",
   "source": "len(forecast_df_lon)",
   "id": "105820213f2dda15",
   "outputs": [
    {
     "data": {
      "text/plain": [
       "1115"
      ]
     },
     "execution_count": 30,
     "metadata": {},
     "output_type": "execute_result"
    }
   ],
   "execution_count": 30
  },
  {
   "metadata": {
    "ExecuteTime": {
     "end_time": "2025-09-12T15:50:25.500261Z",
     "start_time": "2025-09-12T15:50:25.415280Z"
    }
   },
   "cell_type": "code",
   "source": [
    "# 1114 batches\n",
    "last_lon_coord = []\n",
    "for batch in forecast_df_lon:\n",
    "    # 256 rides\n",
    "    for ride in batch:\n",
    "        # 20 predicted coordinates\n",
    "        # 1 last coordinate\n",
    "        last_coord = ride[-1]\n",
    "        last_lon_coord.append(last_coord)"
   ],
   "id": "5e6bb543119b98dd",
   "outputs": [],
   "execution_count": 49
  },
  {
   "metadata": {
    "ExecuteTime": {
     "end_time": "2025-09-12T15:50:27.947593Z",
     "start_time": "2025-09-12T15:50:27.875028Z"
    }
   },
   "cell_type": "code",
   "source": [
    "# 1114 batches\n",
    "last_lat_coord = []\n",
    "for batch in forecast_df_lat:\n",
    "    # 256 rides\n",
    "    for ride in batch:\n",
    "        # 20 predicted coordinates\n",
    "        # 1 last coordinate\n",
    "        last_coord = ride[-1]\n",
    "        last_lat_coord.append(last_coord)"
   ],
   "id": "c75e2dcbf26b5186",
   "outputs": [],
   "execution_count": 50
  },
  {
   "metadata": {
    "ExecuteTime": {
     "end_time": "2025-09-12T15:43:07.454035Z",
     "start_time": "2025-09-12T15:43:07.441086Z"
    }
   },
   "cell_type": "code",
   "source": "test",
   "id": "be8d70d97193e780",
   "outputs": [
    {
     "data": {
      "text/plain": [
       "                  unique_id        lat       lon\n",
       "0       1372637254620000657  41.181813 -8.601894\n",
       "1       1372637343620000571  41.162265 -8.575065\n",
       "2       1372637397620000190  41.177214 -8.559153\n",
       "3       1372638303620000112  41.162436 -8.587143\n",
       "4       1372638451620000621  41.193315 -8.568558\n",
       "...                     ...        ...       ...\n",
       "285224  1404170795620000242  41.176404 -8.644716\n",
       "285225  1404171078620000455  41.150700 -8.609868\n",
       "285226  1404171293620000565  41.141025 -8.614773\n",
       "285227  1404172208620000196  41.176890 -8.591958\n",
       "285228  1404172319620000571  41.155533 -8.640144\n",
       "\n",
       "[285229 rows x 3 columns]"
      ],
      "text/html": [
       "<div>\n",
       "<style scoped>\n",
       "    .dataframe tbody tr th:only-of-type {\n",
       "        vertical-align: middle;\n",
       "    }\n",
       "\n",
       "    .dataframe tbody tr th {\n",
       "        vertical-align: top;\n",
       "    }\n",
       "\n",
       "    .dataframe thead th {\n",
       "        text-align: right;\n",
       "    }\n",
       "</style>\n",
       "<table border=\"1\" class=\"dataframe\">\n",
       "  <thead>\n",
       "    <tr style=\"text-align: right;\">\n",
       "      <th></th>\n",
       "      <th>unique_id</th>\n",
       "      <th>lat</th>\n",
       "      <th>lon</th>\n",
       "    </tr>\n",
       "  </thead>\n",
       "  <tbody>\n",
       "    <tr>\n",
       "      <th>0</th>\n",
       "      <td>1372637254620000657</td>\n",
       "      <td>41.181813</td>\n",
       "      <td>-8.601894</td>\n",
       "    </tr>\n",
       "    <tr>\n",
       "      <th>1</th>\n",
       "      <td>1372637343620000571</td>\n",
       "      <td>41.162265</td>\n",
       "      <td>-8.575065</td>\n",
       "    </tr>\n",
       "    <tr>\n",
       "      <th>2</th>\n",
       "      <td>1372637397620000190</td>\n",
       "      <td>41.177214</td>\n",
       "      <td>-8.559153</td>\n",
       "    </tr>\n",
       "    <tr>\n",
       "      <th>3</th>\n",
       "      <td>1372638303620000112</td>\n",
       "      <td>41.162436</td>\n",
       "      <td>-8.587143</td>\n",
       "    </tr>\n",
       "    <tr>\n",
       "      <th>4</th>\n",
       "      <td>1372638451620000621</td>\n",
       "      <td>41.193315</td>\n",
       "      <td>-8.568558</td>\n",
       "    </tr>\n",
       "    <tr>\n",
       "      <th>...</th>\n",
       "      <td>...</td>\n",
       "      <td>...</td>\n",
       "      <td>...</td>\n",
       "    </tr>\n",
       "    <tr>\n",
       "      <th>285224</th>\n",
       "      <td>1404170795620000242</td>\n",
       "      <td>41.176404</td>\n",
       "      <td>-8.644716</td>\n",
       "    </tr>\n",
       "    <tr>\n",
       "      <th>285225</th>\n",
       "      <td>1404171078620000455</td>\n",
       "      <td>41.150700</td>\n",
       "      <td>-8.609868</td>\n",
       "    </tr>\n",
       "    <tr>\n",
       "      <th>285226</th>\n",
       "      <td>1404171293620000565</td>\n",
       "      <td>41.141025</td>\n",
       "      <td>-8.614773</td>\n",
       "    </tr>\n",
       "    <tr>\n",
       "      <th>285227</th>\n",
       "      <td>1404172208620000196</td>\n",
       "      <td>41.176890</td>\n",
       "      <td>-8.591958</td>\n",
       "    </tr>\n",
       "    <tr>\n",
       "      <th>285228</th>\n",
       "      <td>1404172319620000571</td>\n",
       "      <td>41.155533</td>\n",
       "      <td>-8.640144</td>\n",
       "    </tr>\n",
       "  </tbody>\n",
       "</table>\n",
       "<p>285229 rows × 3 columns</p>\n",
       "</div>"
      ]
     },
     "execution_count": 41,
     "metadata": {},
     "output_type": "execute_result"
    }
   ],
   "execution_count": 41
  },
  {
   "metadata": {
    "ExecuteTime": {
     "end_time": "2025-09-12T15:50:32.744594Z",
     "start_time": "2025-09-12T15:50:32.740094Z"
    }
   },
   "cell_type": "code",
   "source": "len(last_lon_coord)",
   "id": "6fb24eabe4f77352",
   "outputs": [
    {
     "data": {
      "text/plain": [
       "285229"
      ]
     },
     "execution_count": 51,
     "metadata": {},
     "output_type": "execute_result"
    }
   ],
   "execution_count": 51
  },
  {
   "metadata": {
    "ExecuteTime": {
     "end_time": "2025-09-12T15:50:37.688118Z",
     "start_time": "2025-09-12T15:50:37.670431Z"
    }
   },
   "cell_type": "code",
   "source": "double_check_df = test.copy()",
   "id": "569ce26630406a51",
   "outputs": [],
   "execution_count": 52
  },
  {
   "metadata": {
    "ExecuteTime": {
     "end_time": "2025-09-12T15:50:48.364858Z",
     "start_time": "2025-09-12T15:50:48.335898Z"
    }
   },
   "cell_type": "code",
   "source": [
    "import numpy as np\n",
    "last_lon_coord_np = np.array(last_lon_coord)\n",
    "last_lat_coord_np = np.array(last_lat_coord)"
   ],
   "id": "abd18b1249eed19a",
   "outputs": [],
   "execution_count": 53
  },
  {
   "metadata": {
    "ExecuteTime": {
     "end_time": "2025-09-12T15:50:52.512637Z",
     "start_time": "2025-09-12T15:50:52.496494Z"
    }
   },
   "cell_type": "code",
   "source": "last_lon_coord_np",
   "id": "cd7f4c647c959038",
   "outputs": [
    {
     "data": {
      "text/plain": [
       "array([0.64011253, 0.64106561, 0.63956716, ..., 0.64065662, 0.64245299,\n",
       "       0.64048363], shape=(285229,))"
      ]
     },
     "execution_count": 54,
     "metadata": {},
     "output_type": "execute_result"
    }
   ],
   "execution_count": 54
  },
  {
   "metadata": {
    "ExecuteTime": {
     "end_time": "2025-09-12T15:51:12.839712Z",
     "start_time": "2025-09-12T15:51:12.819448Z"
    }
   },
   "cell_type": "code",
   "source": [
    "double_check_df[\"yhat_lon\"] = last_lon_coord_np\n",
    "double_check_df[\"yhat_lat\"] = last_lat_coord_np"
   ],
   "id": "6e5f9cda609232fe",
   "outputs": [],
   "execution_count": 55
  },
  {
   "metadata": {
    "ExecuteTime": {
     "end_time": "2025-09-12T15:51:15.148012Z",
     "start_time": "2025-09-12T15:51:15.128286Z"
    }
   },
   "cell_type": "code",
   "source": "double_check_df",
   "id": "f5f427702421fdac",
   "outputs": [
    {
     "data": {
      "text/plain": [
       "                  unique_id        lat       lon  yhat_lon  yhat_lat\n",
       "0       1372637254620000657  41.181813 -8.601894  0.640113  0.584743\n",
       "1       1372637343620000571  41.162265 -8.575065  0.641066  0.577959\n",
       "2       1372637397620000190  41.177214 -8.559153  0.639567  0.576955\n",
       "3       1372638303620000112  41.162436 -8.587143  0.644032  0.580218\n",
       "4       1372638451620000621  41.193315 -8.568558  0.644301  0.586410\n",
       "...                     ...        ...       ...       ...       ...\n",
       "285224  1404170795620000242  41.176404 -8.644716  0.638609  0.579998\n",
       "285225  1404171078620000455  41.150700 -8.609868  0.642024  0.579208\n",
       "285226  1404171293620000565  41.141025 -8.614773  0.640657  0.576886\n",
       "285227  1404172208620000196  41.176890 -8.591958  0.642453  0.586215\n",
       "285228  1404172319620000571  41.155533 -8.640144  0.640484  0.575430\n",
       "\n",
       "[285229 rows x 5 columns]"
      ],
      "text/html": [
       "<div>\n",
       "<style scoped>\n",
       "    .dataframe tbody tr th:only-of-type {\n",
       "        vertical-align: middle;\n",
       "    }\n",
       "\n",
       "    .dataframe tbody tr th {\n",
       "        vertical-align: top;\n",
       "    }\n",
       "\n",
       "    .dataframe thead th {\n",
       "        text-align: right;\n",
       "    }\n",
       "</style>\n",
       "<table border=\"1\" class=\"dataframe\">\n",
       "  <thead>\n",
       "    <tr style=\"text-align: right;\">\n",
       "      <th></th>\n",
       "      <th>unique_id</th>\n",
       "      <th>lat</th>\n",
       "      <th>lon</th>\n",
       "      <th>yhat_lon</th>\n",
       "      <th>yhat_lat</th>\n",
       "    </tr>\n",
       "  </thead>\n",
       "  <tbody>\n",
       "    <tr>\n",
       "      <th>0</th>\n",
       "      <td>1372637254620000657</td>\n",
       "      <td>41.181813</td>\n",
       "      <td>-8.601894</td>\n",
       "      <td>0.640113</td>\n",
       "      <td>0.584743</td>\n",
       "    </tr>\n",
       "    <tr>\n",
       "      <th>1</th>\n",
       "      <td>1372637343620000571</td>\n",
       "      <td>41.162265</td>\n",
       "      <td>-8.575065</td>\n",
       "      <td>0.641066</td>\n",
       "      <td>0.577959</td>\n",
       "    </tr>\n",
       "    <tr>\n",
       "      <th>2</th>\n",
       "      <td>1372637397620000190</td>\n",
       "      <td>41.177214</td>\n",
       "      <td>-8.559153</td>\n",
       "      <td>0.639567</td>\n",
       "      <td>0.576955</td>\n",
       "    </tr>\n",
       "    <tr>\n",
       "      <th>3</th>\n",
       "      <td>1372638303620000112</td>\n",
       "      <td>41.162436</td>\n",
       "      <td>-8.587143</td>\n",
       "      <td>0.644032</td>\n",
       "      <td>0.580218</td>\n",
       "    </tr>\n",
       "    <tr>\n",
       "      <th>4</th>\n",
       "      <td>1372638451620000621</td>\n",
       "      <td>41.193315</td>\n",
       "      <td>-8.568558</td>\n",
       "      <td>0.644301</td>\n",
       "      <td>0.586410</td>\n",
       "    </tr>\n",
       "    <tr>\n",
       "      <th>...</th>\n",
       "      <td>...</td>\n",
       "      <td>...</td>\n",
       "      <td>...</td>\n",
       "      <td>...</td>\n",
       "      <td>...</td>\n",
       "    </tr>\n",
       "    <tr>\n",
       "      <th>285224</th>\n",
       "      <td>1404170795620000242</td>\n",
       "      <td>41.176404</td>\n",
       "      <td>-8.644716</td>\n",
       "      <td>0.638609</td>\n",
       "      <td>0.579998</td>\n",
       "    </tr>\n",
       "    <tr>\n",
       "      <th>285225</th>\n",
       "      <td>1404171078620000455</td>\n",
       "      <td>41.150700</td>\n",
       "      <td>-8.609868</td>\n",
       "      <td>0.642024</td>\n",
       "      <td>0.579208</td>\n",
       "    </tr>\n",
       "    <tr>\n",
       "      <th>285226</th>\n",
       "      <td>1404171293620000565</td>\n",
       "      <td>41.141025</td>\n",
       "      <td>-8.614773</td>\n",
       "      <td>0.640657</td>\n",
       "      <td>0.576886</td>\n",
       "    </tr>\n",
       "    <tr>\n",
       "      <th>285227</th>\n",
       "      <td>1404172208620000196</td>\n",
       "      <td>41.176890</td>\n",
       "      <td>-8.591958</td>\n",
       "      <td>0.642453</td>\n",
       "      <td>0.586215</td>\n",
       "    </tr>\n",
       "    <tr>\n",
       "      <th>285228</th>\n",
       "      <td>1404172319620000571</td>\n",
       "      <td>41.155533</td>\n",
       "      <td>-8.640144</td>\n",
       "      <td>0.640484</td>\n",
       "      <td>0.575430</td>\n",
       "    </tr>\n",
       "  </tbody>\n",
       "</table>\n",
       "<p>285229 rows × 5 columns</p>\n",
       "</div>"
      ]
     },
     "execution_count": 56,
     "metadata": {},
     "output_type": "execute_result"
    }
   ],
   "execution_count": 56
  },
  {
   "metadata": {
    "ExecuteTime": {
     "end_time": "2025-09-12T15:53:05.642804Z",
     "start_time": "2025-09-12T15:53:05.624816Z"
    }
   },
   "cell_type": "code",
   "source": [
    "double_check_df[\"yhat_lat\"] = scaler_lat.inverse_transform(double_check_df[[\"yhat_lat\"]])\n",
    "double_check_df[\"yhat_lon\"] = scaler_lon.inverse_transform(double_check_df[[\"yhat_lon\"]])\n",
    "double_check_df"
   ],
   "id": "6a32195bacd6eff3",
   "outputs": [
    {
     "data": {
      "text/plain": [
       "                  unique_id        lat       lon  yhat_lon   yhat_lat\n",
       "0       1372637254620000657  41.181813 -8.601894 -8.616890  41.178299\n",
       "1       1372637343620000571  41.162265 -8.575065 -8.610107  41.156000\n",
       "2       1372637397620000190  41.177214 -8.559153 -8.620771  41.152702\n",
       "3       1372638303620000112  41.162436 -8.587143 -8.588996  41.163426\n",
       "4       1372638451620000621  41.193315 -8.568558 -8.587079  41.183778\n",
       "...                     ...        ...       ...       ...        ...\n",
       "285224  1404170795620000242  41.176404 -8.644716 -8.627589  41.162703\n",
       "285225  1404171078620000455  41.150700 -8.609868 -8.603283  41.160104\n",
       "285226  1404171293620000565  41.141025 -8.614773 -8.613018  41.152473\n",
       "285227  1404172208620000196  41.176890 -8.591958 -8.600233  41.183136\n",
       "285228  1404172319620000571  41.155533 -8.640144 -8.614249  41.147689\n",
       "\n",
       "[285229 rows x 5 columns]"
      ],
      "text/html": [
       "<div>\n",
       "<style scoped>\n",
       "    .dataframe tbody tr th:only-of-type {\n",
       "        vertical-align: middle;\n",
       "    }\n",
       "\n",
       "    .dataframe tbody tr th {\n",
       "        vertical-align: top;\n",
       "    }\n",
       "\n",
       "    .dataframe thead th {\n",
       "        text-align: right;\n",
       "    }\n",
       "</style>\n",
       "<table border=\"1\" class=\"dataframe\">\n",
       "  <thead>\n",
       "    <tr style=\"text-align: right;\">\n",
       "      <th></th>\n",
       "      <th>unique_id</th>\n",
       "      <th>lat</th>\n",
       "      <th>lon</th>\n",
       "      <th>yhat_lon</th>\n",
       "      <th>yhat_lat</th>\n",
       "    </tr>\n",
       "  </thead>\n",
       "  <tbody>\n",
       "    <tr>\n",
       "      <th>0</th>\n",
       "      <td>1372637254620000657</td>\n",
       "      <td>41.181813</td>\n",
       "      <td>-8.601894</td>\n",
       "      <td>-8.616890</td>\n",
       "      <td>41.178299</td>\n",
       "    </tr>\n",
       "    <tr>\n",
       "      <th>1</th>\n",
       "      <td>1372637343620000571</td>\n",
       "      <td>41.162265</td>\n",
       "      <td>-8.575065</td>\n",
       "      <td>-8.610107</td>\n",
       "      <td>41.156000</td>\n",
       "    </tr>\n",
       "    <tr>\n",
       "      <th>2</th>\n",
       "      <td>1372637397620000190</td>\n",
       "      <td>41.177214</td>\n",
       "      <td>-8.559153</td>\n",
       "      <td>-8.620771</td>\n",
       "      <td>41.152702</td>\n",
       "    </tr>\n",
       "    <tr>\n",
       "      <th>3</th>\n",
       "      <td>1372638303620000112</td>\n",
       "      <td>41.162436</td>\n",
       "      <td>-8.587143</td>\n",
       "      <td>-8.588996</td>\n",
       "      <td>41.163426</td>\n",
       "    </tr>\n",
       "    <tr>\n",
       "      <th>4</th>\n",
       "      <td>1372638451620000621</td>\n",
       "      <td>41.193315</td>\n",
       "      <td>-8.568558</td>\n",
       "      <td>-8.587079</td>\n",
       "      <td>41.183778</td>\n",
       "    </tr>\n",
       "    <tr>\n",
       "      <th>...</th>\n",
       "      <td>...</td>\n",
       "      <td>...</td>\n",
       "      <td>...</td>\n",
       "      <td>...</td>\n",
       "      <td>...</td>\n",
       "    </tr>\n",
       "    <tr>\n",
       "      <th>285224</th>\n",
       "      <td>1404170795620000242</td>\n",
       "      <td>41.176404</td>\n",
       "      <td>-8.644716</td>\n",
       "      <td>-8.627589</td>\n",
       "      <td>41.162703</td>\n",
       "    </tr>\n",
       "    <tr>\n",
       "      <th>285225</th>\n",
       "      <td>1404171078620000455</td>\n",
       "      <td>41.150700</td>\n",
       "      <td>-8.609868</td>\n",
       "      <td>-8.603283</td>\n",
       "      <td>41.160104</td>\n",
       "    </tr>\n",
       "    <tr>\n",
       "      <th>285226</th>\n",
       "      <td>1404171293620000565</td>\n",
       "      <td>41.141025</td>\n",
       "      <td>-8.614773</td>\n",
       "      <td>-8.613018</td>\n",
       "      <td>41.152473</td>\n",
       "    </tr>\n",
       "    <tr>\n",
       "      <th>285227</th>\n",
       "      <td>1404172208620000196</td>\n",
       "      <td>41.176890</td>\n",
       "      <td>-8.591958</td>\n",
       "      <td>-8.600233</td>\n",
       "      <td>41.183136</td>\n",
       "    </tr>\n",
       "    <tr>\n",
       "      <th>285228</th>\n",
       "      <td>1404172319620000571</td>\n",
       "      <td>41.155533</td>\n",
       "      <td>-8.640144</td>\n",
       "      <td>-8.614249</td>\n",
       "      <td>41.147689</td>\n",
       "    </tr>\n",
       "  </tbody>\n",
       "</table>\n",
       "<p>285229 rows × 5 columns</p>\n",
       "</div>"
      ]
     },
     "execution_count": 57,
     "metadata": {},
     "output_type": "execute_result"
    }
   ],
   "execution_count": 57
  },
  {
   "metadata": {
    "ExecuteTime": {
     "end_time": "2025-09-12T15:53:25.085084Z",
     "start_time": "2025-09-12T15:53:22.191101Z"
    }
   },
   "cell_type": "code",
   "source": [
    "double_check_df['distance_delta'] = double_check_df.apply(lambda row: haversine_distance(\n",
    "    row['lat'], row['lon'], row['yhat_lat'], row['yhat_lon']), axis=1)"
   ],
   "id": "d148714c406273bc",
   "outputs": [],
   "execution_count": 58
  },
  {
   "metadata": {
    "ExecuteTime": {
     "end_time": "2025-09-12T15:53:27.561026Z",
     "start_time": "2025-09-12T15:53:27.538697Z"
    }
   },
   "cell_type": "code",
   "source": "double_check_df['distance_delta'].mean()",
   "id": "8502c7bff4ded4d3",
   "outputs": [
    {
     "data": {
      "text/plain": [
       "np.float64(1.5993295468439943)"
      ]
     },
     "execution_count": 59,
     "metadata": {},
     "output_type": "execute_result"
    }
   ],
   "execution_count": 59
  },
  {
   "metadata": {
    "ExecuteTime": {
     "end_time": "2025-09-12T15:53:29.092142Z",
     "start_time": "2025-09-12T15:53:29.068900Z"
    }
   },
   "cell_type": "code",
   "source": "double_check_df['distance_delta'].median()",
   "id": "f94533cba878b7c3",
   "outputs": [
    {
     "data": {
      "text/plain": [
       "np.float64(1.2971063862604717)"
      ]
     },
     "execution_count": 60,
     "metadata": {},
     "output_type": "execute_result"
    }
   ],
   "execution_count": 60
  }
 ],
 "metadata": {
  "kernelspec": {
   "display_name": "Python 3",
   "language": "python",
   "name": "python3"
  },
  "language_info": {
   "codemirror_mode": {
    "name": "ipython",
    "version": 2
   },
   "file_extension": ".py",
   "mimetype": "text/x-python",
   "name": "python",
   "nbconvert_exporter": "python",
   "pygments_lexer": "ipython2",
   "version": "2.7.6"
  }
 },
 "nbformat": 4,
 "nbformat_minor": 5
}
