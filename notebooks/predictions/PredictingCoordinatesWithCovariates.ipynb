{
 "cells": [
  {
   "cell_type": "code",
   "id": "initial_id",
   "metadata": {
    "collapsed": true,
    "ExecuteTime": {
     "end_time": "2025-09-10T15:27:39.237242Z",
     "start_time": "2025-09-10T15:27:38.659083Z"
    }
   },
   "source": "import pandas as pd",
   "outputs": [],
   "execution_count": 1
  },
  {
   "metadata": {
    "ExecuteTime": {
     "end_time": "2025-09-10T15:27:40.566793Z",
     "start_time": "2025-09-10T15:27:39.237242Z"
    }
   },
   "cell_type": "code",
   "source": "df = pd.read_parquet(\"../../data/data_taxi_central_based.parquet\")",
   "id": "31235c077b90ad65",
   "outputs": [],
   "execution_count": 2
  },
  {
   "metadata": {
    "ExecuteTime": {
     "end_time": "2025-09-10T15:27:41.229168Z",
     "start_time": "2025-09-10T15:27:40.751428Z"
    }
   },
   "cell_type": "code",
   "source": "first_rows = df.groupby('TRIP_ID').first().reset_index()",
   "id": "22dd695da02d51a5",
   "outputs": [],
   "execution_count": 3
  },
  {
   "metadata": {
    "ExecuteTime": {
     "end_time": "2025-09-10T15:27:41.728832Z",
     "start_time": "2025-09-10T15:27:41.237970Z"
    }
   },
   "cell_type": "code",
   "source": "df = df[(df['POLYLINE_LENGTH'] >= 30) & (df['POLYLINE_LENGTH'] < 276)]",
   "id": "892f786d632f4d10",
   "outputs": [],
   "execution_count": 4
  },
  {
   "metadata": {
    "ExecuteTime": {
     "end_time": "2025-09-10T15:27:45.168280Z",
     "start_time": "2025-09-10T15:27:41.737112Z"
    }
   },
   "cell_type": "code",
   "source": "import timesfm",
   "id": "ac9990d577976560",
   "outputs": [
    {
     "name": "stdout",
     "output_type": "stream",
     "text": [
      " See https://github.com/google-research/timesfm/blob/master/README.md for updated APIs.\n",
      "Loaded PyTorch TimesFM, likely because python version is 3.11.13 | packaged by Anaconda, Inc. | (main, Jun  5 2025, 13:03:15) [MSC v.1929 64 bit (AMD64)].\n"
     ]
    }
   ],
   "execution_count": 5
  },
  {
   "metadata": {
    "ExecuteTime": {
     "end_time": "2025-09-10T15:27:45.421883Z",
     "start_time": "2025-09-10T15:27:45.176918Z"
    }
   },
   "cell_type": "code",
   "source": [
    "df_lon = df.drop(columns=['POLYLINE_LENGTH', 'LAT'])\n",
    "df_lat = df.drop(columns=['POLYLINE_LENGTH', 'LON'])"
   ],
   "id": "6d8fdf0c81a15ef0",
   "outputs": [],
   "execution_count": 6
  },
  {
   "metadata": {
    "ExecuteTime": {
     "end_time": "2025-09-10T15:27:51.001534Z",
     "start_time": "2025-09-10T15:27:45.432142Z"
    }
   },
   "cell_type": "code",
   "source": [
    "tfm_lat = timesfm.TimesFm(\n",
    "      hparams=timesfm.TimesFmHparams(\n",
    "          backend=\"cpu\",\n",
    "          per_core_batch_size=32,\n",
    "          horizon_len=20,\n",
    "          num_layers=50,\n",
    "          use_positional_embedding=False,\n",
    "          context_len=256,\n",
    "      ),\n",
    "      checkpoint=timesfm.TimesFmCheckpoint(\n",
    "          huggingface_repo_id=\"google/timesfm-2.0-500m-pytorch\"),\n",
    "  )"
   ],
   "id": "aaf2ef79835988e8",
   "outputs": [
    {
     "data": {
      "text/plain": [
       "Fetching 5 files:   0%|          | 0/5 [00:00<?, ?it/s]"
      ],
      "application/vnd.jupyter.widget-view+json": {
       "version_major": 2,
       "version_minor": 0,
       "model_id": "1db9389b54aa4181a4917801d557554e"
      }
     },
     "metadata": {},
     "output_type": "display_data"
    }
   ],
   "execution_count": 7
  },
  {
   "metadata": {
    "ExecuteTime": {
     "end_time": "2025-09-10T15:27:55.657037Z",
     "start_time": "2025-09-10T15:27:51.014699Z"
    }
   },
   "cell_type": "code",
   "source": [
    "tfm_lon = timesfm.TimesFm(\n",
    "      hparams=timesfm.TimesFmHparams(\n",
    "          backend=\"gpu\",\n",
    "          per_core_batch_size=32,\n",
    "          horizon_len=20,\n",
    "          num_layers=50,\n",
    "          use_positional_embedding=False,\n",
    "          context_len=256,\n",
    "      ),\n",
    "      checkpoint=timesfm.TimesFmCheckpoint(\n",
    "          huggingface_repo_id=\"google/timesfm-2.0-500m-pytorch\"),\n",
    "  )"
   ],
   "id": "f2bf8bd6ea976c66",
   "outputs": [
    {
     "data": {
      "text/plain": [
       "Fetching 5 files:   0%|          | 0/5 [00:00<?, ?it/s]"
      ],
      "application/vnd.jupyter.widget-view+json": {
       "version_major": 2,
       "version_minor": 0,
       "model_id": "e5e07d9dcdde4147970aff71bcc098cc"
      }
     },
     "metadata": {},
     "output_type": "display_data"
    }
   ],
   "execution_count": 8
  },
  {
   "metadata": {
    "ExecuteTime": {
     "end_time": "2025-09-10T15:28:01.892458Z",
     "start_time": "2025-09-10T15:27:55.669243Z"
    }
   },
   "cell_type": "code",
   "source": "df_lat = df_lat.sort_values(by=['TRIP_ID', 'TIMESTAMP'])",
   "id": "6544a51e861c3cfb",
   "outputs": [],
   "execution_count": 9
  },
  {
   "metadata": {
    "ExecuteTime": {
     "end_time": "2025-09-10T15:28:07.031351Z",
     "start_time": "2025-09-10T15:28:01.903538Z"
    }
   },
   "cell_type": "code",
   "source": "df_lon = df_lon.sort_values(by=['TRIP_ID', 'TIMESTAMP'])",
   "id": "feca5a661cf1a0d8",
   "outputs": [],
   "execution_count": 10
  },
  {
   "metadata": {
    "ExecuteTime": {
     "end_time": "2025-09-10T15:28:08.825773Z",
     "start_time": "2025-09-10T15:28:07.042787Z"
    }
   },
   "cell_type": "code",
   "source": [
    "from sklearn.preprocessing import MinMaxScaler\n",
    "scaler_lat = MinMaxScaler()\n",
    "df_lat['LAT'] = scaler_lat.fit_transform(df_lat[['LAT']])\n",
    "\n",
    "scaler_lon = MinMaxScaler()\n",
    "df_lon['LON'] = scaler_lon.fit_transform(df_lon[['LON']])"
   ],
   "id": "ed9138b5a1f1ef4c",
   "outputs": [],
   "execution_count": 11
  },
  {
   "metadata": {
    "ExecuteTime": {
     "end_time": "2025-09-10T15:28:10.664801Z",
     "start_time": "2025-09-10T15:28:08.844150Z"
    }
   },
   "cell_type": "code",
   "source": [
    "df_lat['TIMESTAMP'] = pd.to_datetime(df_lat['TIMESTAMP'], unit='s')\n",
    "df_lon['TIMESTAMP'] = pd.to_datetime(df_lon['TIMESTAMP'], unit='s')"
   ],
   "id": "debca559b45a7aa7",
   "outputs": [],
   "execution_count": 12
  },
  {
   "metadata": {
    "ExecuteTime": {
     "end_time": "2025-09-10T15:28:11.356722Z",
     "start_time": "2025-09-10T15:28:10.686235Z"
    }
   },
   "cell_type": "code",
   "source": [
    "df_lon = df_lon.rename(columns={'TIMESTAMP': 'ds', 'LON': 'y', 'TRIP_ID': 'unique_id', 'ORIGIN_CALL': 'origin_call', 'TAXI_ID': 'taxi_id'})\n",
    "df_lat = df_lat.rename(columns={'TIMESTAMP': 'ds', 'LAT': 'y', 'TRIP_ID': 'unique_id', 'ORIGIN_CALL': 'origin_call', 'TAXI_ID': 'taxi_id'})"
   ],
   "id": "ac9f39dfe4f0f960",
   "outputs": [],
   "execution_count": 13
  },
  {
   "metadata": {
    "ExecuteTime": {
     "end_time": "2025-09-10T15:28:11.391710Z",
     "start_time": "2025-09-10T15:28:11.367182Z"
    }
   },
   "cell_type": "code",
   "source": [
    "from collections import defaultdict\n",
    "\n",
    "\n",
    "def get_taxi_data_fn(df, batch_size: int = 256, horizon_len: int = 20):\n",
    "    examples = defaultdict(list)\n",
    "    num_examples = 0\n",
    "\n",
    "    for ride_id, sub_df in df.groupby(\"unique_id\"):\n",
    "        if len(sub_df) <= horizon_len:\n",
    "            continue\n",
    "\n",
    "        context_df = sub_df.iloc[:-horizon_len]\n",
    "        horizon_df = sub_df.iloc[-horizon_len:]\n",
    "\n",
    "        num_examples += 1\n",
    "        examples[\"unique_id\"].append(ride_id)\n",
    "        examples[\"origin_call\"].append(sub_df[\"origin_call\"].iloc[0])\n",
    "        examples[\"taxi_id\"].append(sub_df[\"taxi_id\"].iloc[0])\n",
    "\n",
    "        examples[\"inputs\"].append(context_df[\"y\"].tolist())\n",
    "        examples[\"outputs\"].append(horizon_df[\"y\"].tolist())\n",
    "        examples[\"ds\"].append(sub_df[\"ds\"].tolist())\n",
    "\n",
    "    def data_fn():\n",
    "        for i in range(1 + (num_examples - 1) // batch_size):\n",
    "            yield {\n",
    "                k: v[i * batch_size : (i + 1) * batch_size]\n",
    "                for k, v in examples.items()\n",
    "            }\n",
    "\n",
    "    return data_fn"
   ],
   "id": "b29a0fecce66b0f8",
   "outputs": [],
   "execution_count": 14
  },
  {
   "metadata": {
    "ExecuteTime": {
     "end_time": "2025-09-10T17:48:13.830069Z",
     "start_time": "2025-09-10T15:28:11.402907Z"
    }
   },
   "cell_type": "code",
   "source": [
    "import time\n",
    "\n",
    "input_data = get_taxi_data_fn(df_lat)\n",
    "forecast_df_lat = []\n",
    "\n",
    "for i, example in enumerate(input_data()):\n",
    "  start_time = time.time()\n",
    "  cov_forecast, _ = tfm_lat.forecast_with_covariates(\n",
    "      inputs=example[\"inputs\"],\n",
    "      static_numerical_covariates={\n",
    "          \"origin_call\": example[\"origin_call\"],\n",
    "          \"taxi_id\": example[\"taxi_id\"],\n",
    "      },\n",
    "      freq=[0] * len(example[\"inputs\"]),\n",
    "      xreg_mode=\"xreg + timesfm\",\n",
    "      ridge=0.0,\n",
    "      force_on_cpu=False,\n",
    "      normalize_xreg_target_per_input=True,\n",
    "  )\n",
    "  print(\n",
    "      f\"\\rFinished batch {i} linear in {time.time() - start_time} seconds\",\n",
    "      end=\"\",\n",
    "  )\n",
    "  forecast_df_lat.append(cov_forecast)\n",
    "\n",
    "print()"
   ],
   "id": "c9e4685014972b81",
   "outputs": [
    {
     "name": "stdout",
     "output_type": "stream",
     "text": [
      "Finished batch 1114 linear in 2.6791915893554688 seconds\n"
     ]
    }
   ],
   "execution_count": 15
  },
  {
   "metadata": {
    "ExecuteTime": {
     "end_time": "2025-09-10T20:07:30.071148Z",
     "start_time": "2025-09-10T17:48:13.943343Z"
    }
   },
   "cell_type": "code",
   "source": [
    "import time\n",
    "\n",
    "input_data = get_taxi_data_fn(df_lon)\n",
    "forecast_df_lon = []\n",
    "\n",
    "for i, example in enumerate(input_data()):\n",
    "  start_time = time.time()\n",
    "  cov_forecast, _ = tfm_lon.forecast_with_covariates(\n",
    "      inputs=example[\"inputs\"],\n",
    "      static_numerical_covariates={\n",
    "          \"origin_call\": example[\"origin_call\"],\n",
    "          \"taxi_id\": example[\"taxi_id\"],\n",
    "      },\n",
    "      freq=[0] * len(example[\"inputs\"]),\n",
    "      xreg_mode=\"xreg + timesfm\",\n",
    "      ridge=0.0,\n",
    "      force_on_cpu=False,\n",
    "      normalize_xreg_target_per_input=True,\n",
    "  )\n",
    "  print(\n",
    "      f\"\\rFinished batch {i} linear in {time.time() - start_time} seconds\",\n",
    "      end=\"\",\n",
    "  )\n",
    "  forecast_df_lon.append(cov_forecast)\n",
    "\n",
    "print()"
   ],
   "id": "34e588a8224d0e0e",
   "outputs": [
    {
     "name": "stdout",
     "output_type": "stream",
     "text": [
      "Finished batch 1114 linear in 1.8832180500030518 seconds\n"
     ]
    }
   ],
   "execution_count": 16
  },
  {
   "metadata": {
    "ExecuteTime": {
     "end_time": "2025-09-10T20:07:30.223042Z",
     "start_time": "2025-09-10T20:07:30.200251Z"
    }
   },
   "cell_type": "code",
   "source": [
    "def forecasts_to_df(forecasts, examples, coord_name):\n",
    "    records = []\n",
    "    for arr, uid, call, taxi, coor in zip(forecasts,\n",
    "                                    examples[\"unique_id\"],\n",
    "                                    examples[\"origin_call\"],\n",
    "                                    examples[\"taxi_id\"],\n",
    "                                    examples[\"inputs\"]):\n",
    "        for step, value in enumerate(arr):\n",
    "            records.append({\n",
    "                \"unique_id\": uid,\n",
    "                \"origin_call\": call,\n",
    "                \"taxi_id\": taxi,\n",
    "                \"horizon_step\": step + 1,\n",
    "                f\"yhat_{coord_name}\": value,\n",
    "            })\n",
    "    return pd.DataFrame(records)"
   ],
   "id": "66bdaed8984114a5",
   "outputs": [],
   "execution_count": 17
  },
  {
   "metadata": {
    "ExecuteTime": {
     "end_time": "2025-09-10T20:37:53.337861Z",
     "start_time": "2025-09-10T20:07:30.223042Z"
    }
   },
   "cell_type": "code",
   "source": [
    "input_data = get_taxi_data_fn(df_lat)\n",
    "df_lat_forecast = []\n",
    "for example, forecast in zip(input_data(), forecast_df_lat):\n",
    "    df_lat = forecasts_to_df(forecast, example, coord_name=\"lat\")\n",
    "    df_lat_forecast.append(df_lat)\n",
    "df_lat_forecast = pd.concat(df_lat_forecast, ignore_index=True)\n",
    "df_lat_forecast"
   ],
   "id": "b906647575ae2712",
   "outputs": [
    {
     "data": {
      "text/plain": [
       "                   unique_id  origin_call   taxi_id  horizon_step  yhat_lat\n",
       "0        1372637254620000657      39233.0  20000657             1  0.585462\n",
       "1        1372637254620000657      39233.0  20000657             2  0.585471\n",
       "2        1372637254620000657      39233.0  20000657             3  0.585486\n",
       "3        1372637254620000657      39233.0  20000657             4  0.585513\n",
       "4        1372637254620000657      39233.0  20000657             5  0.585509\n",
       "...                      ...          ...       ...           ...       ...\n",
       "5704575  1404172319620000571       4650.0  20000571            16  0.575430\n",
       "5704576  1404172319620000571       4650.0  20000571            17  0.575442\n",
       "5704577  1404172319620000571       4650.0  20000571            18  0.575414\n",
       "5704578  1404172319620000571       4650.0  20000571            19  0.575407\n",
       "5704579  1404172319620000571       4650.0  20000571            20  0.575430\n",
       "\n",
       "[5704580 rows x 5 columns]"
      ],
      "text/html": [
       "<div>\n",
       "<style scoped>\n",
       "    .dataframe tbody tr th:only-of-type {\n",
       "        vertical-align: middle;\n",
       "    }\n",
       "\n",
       "    .dataframe tbody tr th {\n",
       "        vertical-align: top;\n",
       "    }\n",
       "\n",
       "    .dataframe thead th {\n",
       "        text-align: right;\n",
       "    }\n",
       "</style>\n",
       "<table border=\"1\" class=\"dataframe\">\n",
       "  <thead>\n",
       "    <tr style=\"text-align: right;\">\n",
       "      <th></th>\n",
       "      <th>unique_id</th>\n",
       "      <th>origin_call</th>\n",
       "      <th>taxi_id</th>\n",
       "      <th>horizon_step</th>\n",
       "      <th>yhat_lat</th>\n",
       "    </tr>\n",
       "  </thead>\n",
       "  <tbody>\n",
       "    <tr>\n",
       "      <th>0</th>\n",
       "      <td>1372637254620000657</td>\n",
       "      <td>39233.0</td>\n",
       "      <td>20000657</td>\n",
       "      <td>1</td>\n",
       "      <td>0.585462</td>\n",
       "    </tr>\n",
       "    <tr>\n",
       "      <th>1</th>\n",
       "      <td>1372637254620000657</td>\n",
       "      <td>39233.0</td>\n",
       "      <td>20000657</td>\n",
       "      <td>2</td>\n",
       "      <td>0.585471</td>\n",
       "    </tr>\n",
       "    <tr>\n",
       "      <th>2</th>\n",
       "      <td>1372637254620000657</td>\n",
       "      <td>39233.0</td>\n",
       "      <td>20000657</td>\n",
       "      <td>3</td>\n",
       "      <td>0.585486</td>\n",
       "    </tr>\n",
       "    <tr>\n",
       "      <th>3</th>\n",
       "      <td>1372637254620000657</td>\n",
       "      <td>39233.0</td>\n",
       "      <td>20000657</td>\n",
       "      <td>4</td>\n",
       "      <td>0.585513</td>\n",
       "    </tr>\n",
       "    <tr>\n",
       "      <th>4</th>\n",
       "      <td>1372637254620000657</td>\n",
       "      <td>39233.0</td>\n",
       "      <td>20000657</td>\n",
       "      <td>5</td>\n",
       "      <td>0.585509</td>\n",
       "    </tr>\n",
       "    <tr>\n",
       "      <th>...</th>\n",
       "      <td>...</td>\n",
       "      <td>...</td>\n",
       "      <td>...</td>\n",
       "      <td>...</td>\n",
       "      <td>...</td>\n",
       "    </tr>\n",
       "    <tr>\n",
       "      <th>5704575</th>\n",
       "      <td>1404172319620000571</td>\n",
       "      <td>4650.0</td>\n",
       "      <td>20000571</td>\n",
       "      <td>16</td>\n",
       "      <td>0.575430</td>\n",
       "    </tr>\n",
       "    <tr>\n",
       "      <th>5704576</th>\n",
       "      <td>1404172319620000571</td>\n",
       "      <td>4650.0</td>\n",
       "      <td>20000571</td>\n",
       "      <td>17</td>\n",
       "      <td>0.575442</td>\n",
       "    </tr>\n",
       "    <tr>\n",
       "      <th>5704577</th>\n",
       "      <td>1404172319620000571</td>\n",
       "      <td>4650.0</td>\n",
       "      <td>20000571</td>\n",
       "      <td>18</td>\n",
       "      <td>0.575414</td>\n",
       "    </tr>\n",
       "    <tr>\n",
       "      <th>5704578</th>\n",
       "      <td>1404172319620000571</td>\n",
       "      <td>4650.0</td>\n",
       "      <td>20000571</td>\n",
       "      <td>19</td>\n",
       "      <td>0.575407</td>\n",
       "    </tr>\n",
       "    <tr>\n",
       "      <th>5704579</th>\n",
       "      <td>1404172319620000571</td>\n",
       "      <td>4650.0</td>\n",
       "      <td>20000571</td>\n",
       "      <td>20</td>\n",
       "      <td>0.575430</td>\n",
       "    </tr>\n",
       "  </tbody>\n",
       "</table>\n",
       "<p>5704580 rows × 5 columns</p>\n",
       "</div>"
      ]
     },
     "execution_count": 18,
     "metadata": {},
     "output_type": "execute_result"
    }
   ],
   "execution_count": 18
  },
  {
   "metadata": {
    "ExecuteTime": {
     "end_time": "2025-09-10T20:47:28.587515Z",
     "start_time": "2025-09-10T20:37:53.396725Z"
    }
   },
   "cell_type": "code",
   "source": [
    "input_data = get_taxi_data_fn(df_lon)\n",
    "df_lon_forecast = []\n",
    "for example, forecast in zip(input_data(), forecast_df_lon):\n",
    "    df_lon = forecasts_to_df(forecast, example, coord_name=\"lon\")\n",
    "    df_lon_forecast.append(df_lon)\n",
    "df_lon_forecast = pd.concat(df_lon_forecast, ignore_index=True)\n",
    "df_lon_forecast"
   ],
   "id": "b71bd824f1b813dd",
   "outputs": [
    {
     "data": {
      "text/plain": [
       "                   unique_id  origin_call   taxi_id  horizon_step  yhat_lon\n",
       "0        1372637254620000657      39233.0  20000657             1  0.638454\n",
       "1        1372637254620000657      39233.0  20000657             2  0.638667\n",
       "2        1372637254620000657      39233.0  20000657             3  0.638778\n",
       "3        1372637254620000657      39233.0  20000657             4  0.638917\n",
       "4        1372637254620000657      39233.0  20000657             5  0.639057\n",
       "...                      ...          ...       ...           ...       ...\n",
       "5704575  1404172319620000571       4650.0  20000571            16  0.640514\n",
       "5704576  1404172319620000571       4650.0  20000571            17  0.640549\n",
       "5704577  1404172319620000571       4650.0  20000571            18  0.640562\n",
       "5704578  1404172319620000571       4650.0  20000571            19  0.640543\n",
       "5704579  1404172319620000571       4650.0  20000571            20  0.640484\n",
       "\n",
       "[5704580 rows x 5 columns]"
      ],
      "text/html": [
       "<div>\n",
       "<style scoped>\n",
       "    .dataframe tbody tr th:only-of-type {\n",
       "        vertical-align: middle;\n",
       "    }\n",
       "\n",
       "    .dataframe tbody tr th {\n",
       "        vertical-align: top;\n",
       "    }\n",
       "\n",
       "    .dataframe thead th {\n",
       "        text-align: right;\n",
       "    }\n",
       "</style>\n",
       "<table border=\"1\" class=\"dataframe\">\n",
       "  <thead>\n",
       "    <tr style=\"text-align: right;\">\n",
       "      <th></th>\n",
       "      <th>unique_id</th>\n",
       "      <th>origin_call</th>\n",
       "      <th>taxi_id</th>\n",
       "      <th>horizon_step</th>\n",
       "      <th>yhat_lon</th>\n",
       "    </tr>\n",
       "  </thead>\n",
       "  <tbody>\n",
       "    <tr>\n",
       "      <th>0</th>\n",
       "      <td>1372637254620000657</td>\n",
       "      <td>39233.0</td>\n",
       "      <td>20000657</td>\n",
       "      <td>1</td>\n",
       "      <td>0.638454</td>\n",
       "    </tr>\n",
       "    <tr>\n",
       "      <th>1</th>\n",
       "      <td>1372637254620000657</td>\n",
       "      <td>39233.0</td>\n",
       "      <td>20000657</td>\n",
       "      <td>2</td>\n",
       "      <td>0.638667</td>\n",
       "    </tr>\n",
       "    <tr>\n",
       "      <th>2</th>\n",
       "      <td>1372637254620000657</td>\n",
       "      <td>39233.0</td>\n",
       "      <td>20000657</td>\n",
       "      <td>3</td>\n",
       "      <td>0.638778</td>\n",
       "    </tr>\n",
       "    <tr>\n",
       "      <th>3</th>\n",
       "      <td>1372637254620000657</td>\n",
       "      <td>39233.0</td>\n",
       "      <td>20000657</td>\n",
       "      <td>4</td>\n",
       "      <td>0.638917</td>\n",
       "    </tr>\n",
       "    <tr>\n",
       "      <th>4</th>\n",
       "      <td>1372637254620000657</td>\n",
       "      <td>39233.0</td>\n",
       "      <td>20000657</td>\n",
       "      <td>5</td>\n",
       "      <td>0.639057</td>\n",
       "    </tr>\n",
       "    <tr>\n",
       "      <th>...</th>\n",
       "      <td>...</td>\n",
       "      <td>...</td>\n",
       "      <td>...</td>\n",
       "      <td>...</td>\n",
       "      <td>...</td>\n",
       "    </tr>\n",
       "    <tr>\n",
       "      <th>5704575</th>\n",
       "      <td>1404172319620000571</td>\n",
       "      <td>4650.0</td>\n",
       "      <td>20000571</td>\n",
       "      <td>16</td>\n",
       "      <td>0.640514</td>\n",
       "    </tr>\n",
       "    <tr>\n",
       "      <th>5704576</th>\n",
       "      <td>1404172319620000571</td>\n",
       "      <td>4650.0</td>\n",
       "      <td>20000571</td>\n",
       "      <td>17</td>\n",
       "      <td>0.640549</td>\n",
       "    </tr>\n",
       "    <tr>\n",
       "      <th>5704577</th>\n",
       "      <td>1404172319620000571</td>\n",
       "      <td>4650.0</td>\n",
       "      <td>20000571</td>\n",
       "      <td>18</td>\n",
       "      <td>0.640562</td>\n",
       "    </tr>\n",
       "    <tr>\n",
       "      <th>5704578</th>\n",
       "      <td>1404172319620000571</td>\n",
       "      <td>4650.0</td>\n",
       "      <td>20000571</td>\n",
       "      <td>19</td>\n",
       "      <td>0.640543</td>\n",
       "    </tr>\n",
       "    <tr>\n",
       "      <th>5704579</th>\n",
       "      <td>1404172319620000571</td>\n",
       "      <td>4650.0</td>\n",
       "      <td>20000571</td>\n",
       "      <td>20</td>\n",
       "      <td>0.640484</td>\n",
       "    </tr>\n",
       "  </tbody>\n",
       "</table>\n",
       "<p>5704580 rows × 5 columns</p>\n",
       "</div>"
      ]
     },
     "execution_count": 19,
     "metadata": {},
     "output_type": "execute_result"
    }
   ],
   "execution_count": 19
  },
  {
   "metadata": {
    "ExecuteTime": {
     "end_time": "2025-09-10T20:47:29.567685Z",
     "start_time": "2025-09-10T20:47:28.694286Z"
    }
   },
   "cell_type": "code",
   "source": [
    "df_lat_forecast[\"yhat_lat\"] = scaler_lat.inverse_transform(df_lat_forecast[[\"yhat_lat\"]])\n",
    "df_lon_forecast[\"yhat_lon\"] = scaler_lon.inverse_transform(df_lon_forecast[[\"yhat_lon\"]])\n",
    "predictions = pd.merge(df_lat_forecast, df_lon_forecast, on=['unique_id', 'origin_call', 'taxi_id', 'horizon_step'], how='left')\n",
    "predictions"
   ],
   "id": "80f59f4c2de97002",
   "outputs": [
    {
     "data": {
      "text/plain": [
       "                   unique_id  origin_call   taxi_id  horizon_step   yhat_lat  \\\n",
       "0        1372637254620000657      39233.0  20000657             1  41.180661   \n",
       "1        1372637254620000657      39233.0  20000657             2  41.180692   \n",
       "2        1372637254620000657      39233.0  20000657             3  41.180740   \n",
       "3        1372637254620000657      39233.0  20000657             4  41.180828   \n",
       "4        1372637254620000657      39233.0  20000657             5  41.180816   \n",
       "...                      ...          ...       ...           ...        ...   \n",
       "5704575  1404172319620000571       4650.0  20000571            16  41.147688   \n",
       "5704576  1404172319620000571       4650.0  20000571            17  41.147728   \n",
       "5704577  1404172319620000571       4650.0  20000571            18  41.147634   \n",
       "5704578  1404172319620000571       4650.0  20000571            19  41.147612   \n",
       "5704579  1404172319620000571       4650.0  20000571            20  41.147689   \n",
       "\n",
       "         yhat_lon  \n",
       "0       -8.628694  \n",
       "1       -8.627177  \n",
       "2       -8.626384  \n",
       "3       -8.625398  \n",
       "4       -8.624404  \n",
       "...           ...  \n",
       "5704575 -8.614034  \n",
       "5704576 -8.613786  \n",
       "5704577 -8.613692  \n",
       "5704578 -8.613827  \n",
       "5704579 -8.614249  \n",
       "\n",
       "[5704580 rows x 6 columns]"
      ],
      "text/html": [
       "<div>\n",
       "<style scoped>\n",
       "    .dataframe tbody tr th:only-of-type {\n",
       "        vertical-align: middle;\n",
       "    }\n",
       "\n",
       "    .dataframe tbody tr th {\n",
       "        vertical-align: top;\n",
       "    }\n",
       "\n",
       "    .dataframe thead th {\n",
       "        text-align: right;\n",
       "    }\n",
       "</style>\n",
       "<table border=\"1\" class=\"dataframe\">\n",
       "  <thead>\n",
       "    <tr style=\"text-align: right;\">\n",
       "      <th></th>\n",
       "      <th>unique_id</th>\n",
       "      <th>origin_call</th>\n",
       "      <th>taxi_id</th>\n",
       "      <th>horizon_step</th>\n",
       "      <th>yhat_lat</th>\n",
       "      <th>yhat_lon</th>\n",
       "    </tr>\n",
       "  </thead>\n",
       "  <tbody>\n",
       "    <tr>\n",
       "      <th>0</th>\n",
       "      <td>1372637254620000657</td>\n",
       "      <td>39233.0</td>\n",
       "      <td>20000657</td>\n",
       "      <td>1</td>\n",
       "      <td>41.180661</td>\n",
       "      <td>-8.628694</td>\n",
       "    </tr>\n",
       "    <tr>\n",
       "      <th>1</th>\n",
       "      <td>1372637254620000657</td>\n",
       "      <td>39233.0</td>\n",
       "      <td>20000657</td>\n",
       "      <td>2</td>\n",
       "      <td>41.180692</td>\n",
       "      <td>-8.627177</td>\n",
       "    </tr>\n",
       "    <tr>\n",
       "      <th>2</th>\n",
       "      <td>1372637254620000657</td>\n",
       "      <td>39233.0</td>\n",
       "      <td>20000657</td>\n",
       "      <td>3</td>\n",
       "      <td>41.180740</td>\n",
       "      <td>-8.626384</td>\n",
       "    </tr>\n",
       "    <tr>\n",
       "      <th>3</th>\n",
       "      <td>1372637254620000657</td>\n",
       "      <td>39233.0</td>\n",
       "      <td>20000657</td>\n",
       "      <td>4</td>\n",
       "      <td>41.180828</td>\n",
       "      <td>-8.625398</td>\n",
       "    </tr>\n",
       "    <tr>\n",
       "      <th>4</th>\n",
       "      <td>1372637254620000657</td>\n",
       "      <td>39233.0</td>\n",
       "      <td>20000657</td>\n",
       "      <td>5</td>\n",
       "      <td>41.180816</td>\n",
       "      <td>-8.624404</td>\n",
       "    </tr>\n",
       "    <tr>\n",
       "      <th>...</th>\n",
       "      <td>...</td>\n",
       "      <td>...</td>\n",
       "      <td>...</td>\n",
       "      <td>...</td>\n",
       "      <td>...</td>\n",
       "      <td>...</td>\n",
       "    </tr>\n",
       "    <tr>\n",
       "      <th>5704575</th>\n",
       "      <td>1404172319620000571</td>\n",
       "      <td>4650.0</td>\n",
       "      <td>20000571</td>\n",
       "      <td>16</td>\n",
       "      <td>41.147688</td>\n",
       "      <td>-8.614034</td>\n",
       "    </tr>\n",
       "    <tr>\n",
       "      <th>5704576</th>\n",
       "      <td>1404172319620000571</td>\n",
       "      <td>4650.0</td>\n",
       "      <td>20000571</td>\n",
       "      <td>17</td>\n",
       "      <td>41.147728</td>\n",
       "      <td>-8.613786</td>\n",
       "    </tr>\n",
       "    <tr>\n",
       "      <th>5704577</th>\n",
       "      <td>1404172319620000571</td>\n",
       "      <td>4650.0</td>\n",
       "      <td>20000571</td>\n",
       "      <td>18</td>\n",
       "      <td>41.147634</td>\n",
       "      <td>-8.613692</td>\n",
       "    </tr>\n",
       "    <tr>\n",
       "      <th>5704578</th>\n",
       "      <td>1404172319620000571</td>\n",
       "      <td>4650.0</td>\n",
       "      <td>20000571</td>\n",
       "      <td>19</td>\n",
       "      <td>41.147612</td>\n",
       "      <td>-8.613827</td>\n",
       "    </tr>\n",
       "    <tr>\n",
       "      <th>5704579</th>\n",
       "      <td>1404172319620000571</td>\n",
       "      <td>4650.0</td>\n",
       "      <td>20000571</td>\n",
       "      <td>20</td>\n",
       "      <td>41.147689</td>\n",
       "      <td>-8.614249</td>\n",
       "    </tr>\n",
       "  </tbody>\n",
       "</table>\n",
       "<p>5704580 rows × 6 columns</p>\n",
       "</div>"
      ]
     },
     "execution_count": 20,
     "metadata": {},
     "output_type": "execute_result"
    }
   ],
   "execution_count": 20
  },
  {
   "metadata": {
    "ExecuteTime": {
     "end_time": "2025-09-10T20:47:29.630241Z",
     "start_time": "2025-09-10T20:47:29.618349Z"
    }
   },
   "cell_type": "code",
   "source": [
    "df_lat = df_lat.rename(columns={\"y\": \"lat\"})\n",
    "df_lon = df_lon.rename(columns={\"y\": \"lon\"})"
   ],
   "id": "7618edfeca520a6d",
   "outputs": [],
   "execution_count": 21
  },
  {
   "metadata": {
    "ExecuteTime": {
     "end_time": "2025-09-10T20:47:30.083726Z",
     "start_time": "2025-09-10T20:47:29.695512Z"
    }
   },
   "cell_type": "code",
   "source": [
    "df_lon_test = df_lon.groupby('unique_id', group_keys=False).tail(1)\n",
    "df_lat_test = df_lat.groupby('unique_id', group_keys=False).tail(1)\n",
    "test = pd.merge(df_lat_test, df_lon_test, on=['unique_id', 'origin_call', 'taxi_id', 'ds'], how='left')\n",
    "test"
   ],
   "id": "96dbc2d2416456dc",
   "outputs": [
    {
     "ename": "KeyError",
     "evalue": "'ds'",
     "output_type": "error",
     "traceback": [
      "\u001B[31m---------------------------------------------------------------------------\u001B[39m",
      "\u001B[31mKeyError\u001B[39m                                  Traceback (most recent call last)",
      "\u001B[32m~\\AppData\\Local\\Temp\\ipykernel_14240\\119098962.py\u001B[39m in \u001B[36m?\u001B[39m\u001B[34m()\u001B[39m\n\u001B[32m      1\u001B[39m df_lon_test = df_lon.groupby(\u001B[33m'unique_id'\u001B[39m, group_keys=\u001B[38;5;28;01mFalse\u001B[39;00m).tail(\u001B[32m1\u001B[39m)\n\u001B[32m      2\u001B[39m df_lat_test = df_lat.groupby(\u001B[33m'unique_id'\u001B[39m, group_keys=\u001B[38;5;28;01mFalse\u001B[39;00m).tail(\u001B[32m1\u001B[39m)\n\u001B[32m----> \u001B[39m\u001B[32m3\u001B[39m test = pd.merge(df_lat_test, df_lon_test, on=[\u001B[33m'unique_id'\u001B[39m, \u001B[33m'origin_call'\u001B[39m, \u001B[33m'taxi_id'\u001B[39m, \u001B[33m'ds'\u001B[39m], how=\u001B[33m'left'\u001B[39m)\n\u001B[32m      4\u001B[39m test\n",
      "\u001B[32mD:\\Anaconda\\anaconda3\\envs\\taxi-torch\\Lib\\site-packages\\pandas\\core\\reshape\\merge.py\u001B[39m in \u001B[36m?\u001B[39m\u001B[34m(left, right, how, on, left_on, right_on, left_index, right_index, sort, suffixes, copy, indicator, validate)\u001B[39m\n\u001B[32m    166\u001B[39m             validate=validate,\n\u001B[32m    167\u001B[39m             copy=copy,\n\u001B[32m    168\u001B[39m         )\n\u001B[32m    169\u001B[39m     \u001B[38;5;28;01melse\u001B[39;00m:\n\u001B[32m--> \u001B[39m\u001B[32m170\u001B[39m         op = _MergeOperation(\n\u001B[32m    171\u001B[39m             left_df,\n\u001B[32m    172\u001B[39m             right_df,\n\u001B[32m    173\u001B[39m             how=how,\n",
      "\u001B[32mD:\\Anaconda\\anaconda3\\envs\\taxi-torch\\Lib\\site-packages\\pandas\\core\\reshape\\merge.py\u001B[39m in \u001B[36m?\u001B[39m\u001B[34m(self, left, right, how, on, left_on, right_on, left_index, right_index, sort, suffixes, indicator, validate)\u001B[39m\n\u001B[32m    790\u001B[39m             self.right_join_keys,\n\u001B[32m    791\u001B[39m             self.join_names,\n\u001B[32m    792\u001B[39m             left_drop,\n\u001B[32m    793\u001B[39m             right_drop,\n\u001B[32m--> \u001B[39m\u001B[32m794\u001B[39m         ) = self._get_merge_keys()\n\u001B[32m    795\u001B[39m \n\u001B[32m    796\u001B[39m         \u001B[38;5;28;01mif\u001B[39;00m left_drop:\n\u001B[32m    797\u001B[39m             self.left = self.left._drop_labels_or_levels(left_drop)\n",
      "\u001B[32mD:\\Anaconda\\anaconda3\\envs\\taxi-torch\\Lib\\site-packages\\pandas\\core\\reshape\\merge.py\u001B[39m in \u001B[36m?\u001B[39m\u001B[34m(self)\u001B[39m\n\u001B[32m   1294\u001B[39m                         \u001B[38;5;66;03m# Then we're either Hashable or a wrong-length arraylike,\u001B[39;00m\n\u001B[32m   1295\u001B[39m                         \u001B[38;5;66;03m#  the latter of which will raise\u001B[39;00m\n\u001B[32m   1296\u001B[39m                         rk = cast(Hashable, rk)\n\u001B[32m   1297\u001B[39m                         \u001B[38;5;28;01mif\u001B[39;00m rk \u001B[38;5;28;01mis\u001B[39;00m \u001B[38;5;28;01mnot\u001B[39;00m \u001B[38;5;28;01mNone\u001B[39;00m:\n\u001B[32m-> \u001B[39m\u001B[32m1298\u001B[39m                             right_keys.append(right._get_label_or_level_values(rk))\n\u001B[32m   1299\u001B[39m                         \u001B[38;5;28;01melse\u001B[39;00m:\n\u001B[32m   1300\u001B[39m                             \u001B[38;5;66;03m# work-around for merge_asof(right_index=True)\u001B[39;00m\n\u001B[32m   1301\u001B[39m                             right_keys.append(right.index._values)\n",
      "\u001B[32mD:\\Anaconda\\anaconda3\\envs\\taxi-torch\\Lib\\site-packages\\pandas\\core\\generic.py\u001B[39m in \u001B[36m?\u001B[39m\u001B[34m(self, key, axis)\u001B[39m\n\u001B[32m   1907\u001B[39m             values = self.xs(key, axis=other_axes[\u001B[32m0\u001B[39m])._values\n\u001B[32m   1908\u001B[39m         \u001B[38;5;28;01melif\u001B[39;00m self._is_level_reference(key, axis=axis):\n\u001B[32m   1909\u001B[39m             values = self.axes[axis].get_level_values(key)._values\n\u001B[32m   1910\u001B[39m         \u001B[38;5;28;01melse\u001B[39;00m:\n\u001B[32m-> \u001B[39m\u001B[32m1911\u001B[39m             \u001B[38;5;28;01mraise\u001B[39;00m KeyError(key)\n\u001B[32m   1912\u001B[39m \n\u001B[32m   1913\u001B[39m         \u001B[38;5;66;03m# Check for duplicates\u001B[39;00m\n\u001B[32m   1914\u001B[39m         \u001B[38;5;28;01mif\u001B[39;00m values.ndim > \u001B[32m1\u001B[39m:\n",
      "\u001B[31mKeyError\u001B[39m: 'ds'"
     ]
    }
   ],
   "execution_count": 22
  },
  {
   "metadata": {},
   "cell_type": "code",
   "source": [
    "test[\"lat\"] = scaler_lat.inverse_transform(test[[\"lat\"]])\n",
    "test[\"lon\"] = scaler_lon.inverse_transform(test[[\"lon\"]])\n",
    "test"
   ],
   "id": "7f9e057ae657ff90",
   "outputs": [],
   "execution_count": null
  },
  {
   "metadata": {},
   "cell_type": "code",
   "source": [
    "predictions = predictions.groupby('unique_id', group_keys=False).tail(1)\n",
    "predictions"
   ],
   "id": "18fae3f2b7dfefce",
   "outputs": [],
   "execution_count": null
  },
  {
   "metadata": {},
   "cell_type": "code",
   "source": [
    "predictions = predictions.drop(['origin_call', 'taxi_id', 'horizon_step'], axis=1)\n",
    "test = test.drop(['origin_call', 'taxi_id', 'ds'], axis=1)\n",
    "df = pd.merge(test, predictions, on='unique_id', how='left')\n",
    "df"
   ],
   "id": "f0a3867af8c0e166",
   "outputs": [],
   "execution_count": null
  },
  {
   "metadata": {},
   "cell_type": "code",
   "source": [
    "from evaluation_script import haversine_distance\n",
    "df['distance_delta'] = df.apply(lambda row: haversine_distance(\n",
    "    row['lat'], row['lon'], row['yhat_lat'], row['yhat_lon']), axis=1)\n",
    "df['distance_delta'].mean()"
   ],
   "id": "b5c153cbf8edb43c",
   "outputs": [],
   "execution_count": null
  },
  {
   "metadata": {},
   "cell_type": "code",
   "source": "df['distance_delta'].median()",
   "id": "595aee3c809a1b94",
   "outputs": [],
   "execution_count": null
  },
  {
   "metadata": {},
   "cell_type": "code",
   "source": "df['distance_delta']",
   "id": "4e6306e717ca37fd",
   "outputs": [],
   "execution_count": null
  },
  {
   "metadata": {},
   "cell_type": "code",
   "outputs": [],
   "execution_count": null,
   "source": "df.to_parquet(\"results.parquet\")",
   "id": "cb26b26a0613ce5b"
  }
 ],
 "metadata": {
  "kernelspec": {
   "display_name": "Python 3",
   "language": "python",
   "name": "python3"
  },
  "language_info": {
   "codemirror_mode": {
    "name": "ipython",
    "version": 2
   },
   "file_extension": ".py",
   "mimetype": "text/x-python",
   "name": "python",
   "nbconvert_exporter": "python",
   "pygments_lexer": "ipython2",
   "version": "2.7.6"
  }
 },
 "nbformat": 4,
 "nbformat_minor": 5
}
