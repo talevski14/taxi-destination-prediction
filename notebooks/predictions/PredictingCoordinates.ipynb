{
 "cells": [
  {
   "cell_type": "code",
   "id": "initial_id",
   "metadata": {
    "collapsed": true,
    "ExecuteTime": {
     "end_time": "2025-09-10T11:44:07.896540Z",
     "start_time": "2025-09-10T11:44:05.043027Z"
    }
   },
   "source": [
    "import pandas as pd"
   ],
   "outputs": [],
   "execution_count": 1
  },
  {
   "cell_type": "code",
   "id": "31235c077b90ad65",
   "metadata": {
    "ExecuteTime": {
     "end_time": "2025-09-08T11:56:13.794881Z",
     "start_time": "2025-09-08T11:56:11.748378Z"
    }
   },
   "source": [
    "df = pd.read_parquet(\"../../data/data_taxi_central_based.parquet\")\n",
    "df = df[(df['POLYLINE_LENGTH'] >= 30) & (df['POLYLINE_LENGTH'] < 276)]\n",
    "df"
   ],
   "outputs": [
    {
     "data": {
      "text/plain": [
       "                      TRIP_ID  ORIGIN_CALL   TAXI_ID   TIMESTAMP  \\\n",
       "index                                                              \n",
       "398       1372637343620000571      31508.0  20000571  1372637343   \n",
       "399       1372637343620000571      31508.0  20000571  1372637358   \n",
       "400       1372637343620000571      31508.0  20000571  1372637373   \n",
       "401       1372637343620000571      31508.0  20000571  1372637388   \n",
       "402       1372637343620000571      31508.0  20000571  1372637403   \n",
       "...                       ...          ...       ...         ...   \n",
       "83407962  1403941536620000213      52688.0  20000213  1403942271   \n",
       "83407963  1403941536620000213      52688.0  20000213  1403942286   \n",
       "83407964  1403941536620000213      52688.0  20000213  1403942301   \n",
       "83407965  1403941536620000213      52688.0  20000213  1403942316   \n",
       "83407966  1403941536620000213      52688.0  20000213  1403942331   \n",
       "\n",
       "          POLYLINE_LENGTH       LON        LAT  \n",
       "index                                           \n",
       "398                    32 -8.618868  41.155101  \n",
       "399                    32 -8.617500  41.154912  \n",
       "400                    32 -8.615079  41.154525  \n",
       "401                    32 -8.613468  41.154228  \n",
       "402                    32 -8.613261  41.154102  \n",
       "...                   ...       ...        ...  \n",
       "83407962               54 -8.620587  41.148045  \n",
       "83407963               54 -8.620848  41.149395  \n",
       "83407964               54 -8.620479  41.149710  \n",
       "83407965               54 -8.620470  41.149656  \n",
       "83407966               54 -8.620479  41.149620  \n",
       "\n",
       "[16644341 rows x 7 columns]"
      ],
      "text/html": [
       "<div>\n",
       "<style scoped>\n",
       "    .dataframe tbody tr th:only-of-type {\n",
       "        vertical-align: middle;\n",
       "    }\n",
       "\n",
       "    .dataframe tbody tr th {\n",
       "        vertical-align: top;\n",
       "    }\n",
       "\n",
       "    .dataframe thead th {\n",
       "        text-align: right;\n",
       "    }\n",
       "</style>\n",
       "<table border=\"1\" class=\"dataframe\">\n",
       "  <thead>\n",
       "    <tr style=\"text-align: right;\">\n",
       "      <th></th>\n",
       "      <th>TRIP_ID</th>\n",
       "      <th>ORIGIN_CALL</th>\n",
       "      <th>TAXI_ID</th>\n",
       "      <th>TIMESTAMP</th>\n",
       "      <th>POLYLINE_LENGTH</th>\n",
       "      <th>LON</th>\n",
       "      <th>LAT</th>\n",
       "    </tr>\n",
       "    <tr>\n",
       "      <th>index</th>\n",
       "      <th></th>\n",
       "      <th></th>\n",
       "      <th></th>\n",
       "      <th></th>\n",
       "      <th></th>\n",
       "      <th></th>\n",
       "      <th></th>\n",
       "    </tr>\n",
       "  </thead>\n",
       "  <tbody>\n",
       "    <tr>\n",
       "      <th>398</th>\n",
       "      <td>1372637343620000571</td>\n",
       "      <td>31508.0</td>\n",
       "      <td>20000571</td>\n",
       "      <td>1372637343</td>\n",
       "      <td>32</td>\n",
       "      <td>-8.618868</td>\n",
       "      <td>41.155101</td>\n",
       "    </tr>\n",
       "    <tr>\n",
       "      <th>399</th>\n",
       "      <td>1372637343620000571</td>\n",
       "      <td>31508.0</td>\n",
       "      <td>20000571</td>\n",
       "      <td>1372637358</td>\n",
       "      <td>32</td>\n",
       "      <td>-8.617500</td>\n",
       "      <td>41.154912</td>\n",
       "    </tr>\n",
       "    <tr>\n",
       "      <th>400</th>\n",
       "      <td>1372637343620000571</td>\n",
       "      <td>31508.0</td>\n",
       "      <td>20000571</td>\n",
       "      <td>1372637373</td>\n",
       "      <td>32</td>\n",
       "      <td>-8.615079</td>\n",
       "      <td>41.154525</td>\n",
       "    </tr>\n",
       "    <tr>\n",
       "      <th>401</th>\n",
       "      <td>1372637343620000571</td>\n",
       "      <td>31508.0</td>\n",
       "      <td>20000571</td>\n",
       "      <td>1372637388</td>\n",
       "      <td>32</td>\n",
       "      <td>-8.613468</td>\n",
       "      <td>41.154228</td>\n",
       "    </tr>\n",
       "    <tr>\n",
       "      <th>402</th>\n",
       "      <td>1372637343620000571</td>\n",
       "      <td>31508.0</td>\n",
       "      <td>20000571</td>\n",
       "      <td>1372637403</td>\n",
       "      <td>32</td>\n",
       "      <td>-8.613261</td>\n",
       "      <td>41.154102</td>\n",
       "    </tr>\n",
       "    <tr>\n",
       "      <th>...</th>\n",
       "      <td>...</td>\n",
       "      <td>...</td>\n",
       "      <td>...</td>\n",
       "      <td>...</td>\n",
       "      <td>...</td>\n",
       "      <td>...</td>\n",
       "      <td>...</td>\n",
       "    </tr>\n",
       "    <tr>\n",
       "      <th>83407962</th>\n",
       "      <td>1403941536620000213</td>\n",
       "      <td>52688.0</td>\n",
       "      <td>20000213</td>\n",
       "      <td>1403942271</td>\n",
       "      <td>54</td>\n",
       "      <td>-8.620587</td>\n",
       "      <td>41.148045</td>\n",
       "    </tr>\n",
       "    <tr>\n",
       "      <th>83407963</th>\n",
       "      <td>1403941536620000213</td>\n",
       "      <td>52688.0</td>\n",
       "      <td>20000213</td>\n",
       "      <td>1403942286</td>\n",
       "      <td>54</td>\n",
       "      <td>-8.620848</td>\n",
       "      <td>41.149395</td>\n",
       "    </tr>\n",
       "    <tr>\n",
       "      <th>83407964</th>\n",
       "      <td>1403941536620000213</td>\n",
       "      <td>52688.0</td>\n",
       "      <td>20000213</td>\n",
       "      <td>1403942301</td>\n",
       "      <td>54</td>\n",
       "      <td>-8.620479</td>\n",
       "      <td>41.149710</td>\n",
       "    </tr>\n",
       "    <tr>\n",
       "      <th>83407965</th>\n",
       "      <td>1403941536620000213</td>\n",
       "      <td>52688.0</td>\n",
       "      <td>20000213</td>\n",
       "      <td>1403942316</td>\n",
       "      <td>54</td>\n",
       "      <td>-8.620470</td>\n",
       "      <td>41.149656</td>\n",
       "    </tr>\n",
       "    <tr>\n",
       "      <th>83407966</th>\n",
       "      <td>1403941536620000213</td>\n",
       "      <td>52688.0</td>\n",
       "      <td>20000213</td>\n",
       "      <td>1403942331</td>\n",
       "      <td>54</td>\n",
       "      <td>-8.620479</td>\n",
       "      <td>41.149620</td>\n",
       "    </tr>\n",
       "  </tbody>\n",
       "</table>\n",
       "<p>16644341 rows × 7 columns</p>\n",
       "</div>"
      ]
     },
     "execution_count": 2,
     "metadata": {},
     "output_type": "execute_result"
    }
   ],
   "execution_count": 2
  },
  {
   "cell_type": "code",
   "id": "ac9990d577976560",
   "metadata": {
    "ExecuteTime": {
     "end_time": "2025-09-08T11:56:18.478919Z",
     "start_time": "2025-09-08T11:56:13.967490Z"
    }
   },
   "source": [
    "import timesfm"
   ],
   "outputs": [
    {
     "name": "stdout",
     "output_type": "stream",
     "text": [
      " See https://github.com/google-research/timesfm/blob/master/README.md for updated APIs.\n",
      "Loaded PyTorch TimesFM, likely because python version is 3.11.13 | packaged by Anaconda, Inc. | (main, Jun  5 2025, 13:03:15) [MSC v.1929 64 bit (AMD64)].\n"
     ]
    }
   ],
   "execution_count": 3
  },
  {
   "cell_type": "code",
   "id": "6d8fdf0c81a15ef0",
   "metadata": {
    "ExecuteTime": {
     "end_time": "2025-09-08T11:56:18.662811Z",
     "start_time": "2025-09-08T11:56:18.510312Z"
    }
   },
   "source": [
    "df_lon = df.drop(columns=['ORIGIN_CALL', 'TAXI_ID', 'POLYLINE_LENGTH', 'LAT'])\n",
    "df_lat = df.drop(columns=['ORIGIN_CALL', 'TAXI_ID', 'POLYLINE_LENGTH', 'LON'])"
   ],
   "outputs": [],
   "execution_count": 4
  },
  {
   "cell_type": "code",
   "id": "aaf2ef79835988e8",
   "metadata": {
    "ExecuteTime": {
     "end_time": "2025-09-08T11:56:24.195022Z",
     "start_time": "2025-09-08T11:56:18.694818Z"
    }
   },
   "source": [
    "tfm_lat = timesfm.TimesFm(\n",
    "      hparams=timesfm.TimesFmHparams(\n",
    "          backend=\"gpu\",\n",
    "          per_core_batch_size=32,\n",
    "          horizon_len=20,\n",
    "          num_layers=50,\n",
    "          use_positional_embedding=False,\n",
    "          context_len=256,\n",
    "      ),\n",
    "      checkpoint=timesfm.TimesFmCheckpoint(\n",
    "          huggingface_repo_id=\"google/timesfm-2.0-500m-pytorch\"),\n",
    "  )"
   ],
   "outputs": [
    {
     "data": {
      "text/plain": [
       "Fetching 5 files:   0%|          | 0/5 [00:00<?, ?it/s]"
      ],
      "application/vnd.jupyter.widget-view+json": {
       "version_major": 2,
       "version_minor": 0,
       "model_id": "98678d89418c45a392e55d6222c51c5f"
      }
     },
     "metadata": {},
     "output_type": "display_data"
    }
   ],
   "execution_count": 5
  },
  {
   "cell_type": "code",
   "id": "f2bf8bd6ea976c66",
   "metadata": {
    "ExecuteTime": {
     "end_time": "2025-09-08T11:56:29.102054Z",
     "start_time": "2025-09-08T11:56:24.198539Z"
    }
   },
   "source": [
    "tfm_lon = timesfm.TimesFm(\n",
    "      hparams=timesfm.TimesFmHparams(\n",
    "          backend=\"gpu\",\n",
    "          per_core_batch_size=32,\n",
    "          horizon_len=20,\n",
    "          num_layers=50,\n",
    "          use_positional_embedding=False,\n",
    "          context_len=256,\n",
    "      ),\n",
    "      checkpoint=timesfm.TimesFmCheckpoint(\n",
    "          huggingface_repo_id=\"google/timesfm-2.0-500m-pytorch\"),\n",
    "  )"
   ],
   "outputs": [
    {
     "data": {
      "text/plain": [
       "Fetching 5 files:   0%|          | 0/5 [00:00<?, ?it/s]"
      ],
      "application/vnd.jupyter.widget-view+json": {
       "version_major": 2,
       "version_minor": 0,
       "model_id": "2814412c6e2345bc86d206a39a502cf6"
      }
     },
     "metadata": {},
     "output_type": "display_data"
    }
   ],
   "execution_count": 6
  },
  {
   "cell_type": "code",
   "id": "6544a51e861c3cfb",
   "metadata": {
    "ExecuteTime": {
     "end_time": "2025-09-08T11:56:37.858451Z",
     "start_time": "2025-09-08T11:56:29.149903Z"
    }
   },
   "source": [
    "df_lat = df_lat.sort_values(by=['TRIP_ID', 'TIMESTAMP'])\n",
    "df_lat_test = df_lat.groupby('TRIP_ID', group_keys=False).tail(20)\n",
    "df_lat_train = df_lat.drop(df_lat_test.index)"
   ],
   "outputs": [],
   "execution_count": 7
  },
  {
   "cell_type": "code",
   "id": "feca5a661cf1a0d8",
   "metadata": {
    "ExecuteTime": {
     "end_time": "2025-09-08T11:56:49.140898Z",
     "start_time": "2025-09-08T11:56:37.876009Z"
    }
   },
   "source": [
    "df_lon = df_lon.sort_values(by=['TRIP_ID', 'TIMESTAMP'])\n",
    "df_lon_test = df_lon.groupby('TRIP_ID', group_keys=False).tail(20)\n",
    "df_lon_train = df_lon.drop(df_lat_test.index)"
   ],
   "outputs": [],
   "execution_count": 8
  },
  {
   "cell_type": "code",
   "id": "ed9138b5a1f1ef4c",
   "metadata": {
    "ExecuteTime": {
     "end_time": "2025-09-08T11:56:53.894083Z",
     "start_time": "2025-09-08T11:56:49.153503Z"
    }
   },
   "source": [
    "from sklearn.preprocessing import MinMaxScaler\n",
    "scaler_lat = MinMaxScaler()\n",
    "df_lat_train['LAT'] = scaler_lat.fit_transform(df_lat_train[['LAT']])\n",
    "\n",
    "scaler_lon = MinMaxScaler()\n",
    "df_lon_train['LON'] = scaler_lon.fit_transform(df_lon_train[['LON']])"
   ],
   "outputs": [],
   "execution_count": 9
  },
  {
   "cell_type": "code",
   "id": "debca559b45a7aa7",
   "metadata": {
    "ExecuteTime": {
     "end_time": "2025-09-08T11:56:55.031281Z",
     "start_time": "2025-09-08T11:56:53.908637Z"
    }
   },
   "source": [
    "df_lat_train['TIMESTAMP'] = pd.to_datetime(df_lat_train['TIMESTAMP'], unit='s')\n",
    "df_lon_train['TIMESTAMP'] = pd.to_datetime(df_lon_train['TIMESTAMP'], unit='s')"
   ],
   "outputs": [],
   "execution_count": 10
  },
  {
   "cell_type": "code",
   "id": "ac9f39dfe4f0f960",
   "metadata": {
    "ExecuteTime": {
     "end_time": "2025-09-08T11:56:55.172621Z",
     "start_time": "2025-09-08T11:56:55.048745Z"
    }
   },
   "source": [
    "df_lon_train = df_lon_train.rename(columns={'TIMESTAMP': 'ds', 'LON': 'y', 'TRIP_ID': 'unique_id'})\n",
    "df_lat_train = df_lat_train.rename(columns={'TIMESTAMP': 'ds', 'LAT': 'y', 'TRIP_ID': 'unique_id'})"
   ],
   "outputs": [],
   "execution_count": 11
  },
  {
   "cell_type": "code",
   "id": "ed3ada5fe1a7ca0e",
   "metadata": {
    "ExecuteTime": {
     "end_time": "2025-09-08T14:22:19.157415Z",
     "start_time": "2025-09-08T11:56:55.185503Z"
    }
   },
   "source": [
    "forecast_df_lon = tfm_lon.forecast_on_df(\n",
    "    inputs=df_lon_train,\n",
    "    freq=\"15s\",\n",
    "    value_name=\"y\",\n",
    "    num_jobs=-1,\n",
    ")"
   ],
   "outputs": [
    {
     "name": "stdout",
     "output_type": "stream",
     "text": [
      "Processing dataframe with multiple processes.\n",
      "Finished preprocessing dataframe.\n",
      "Finished forecasting.\n"
     ]
    }
   ],
   "execution_count": 12
  },
  {
   "cell_type": "code",
   "id": "8a832bbf399e88c5",
   "metadata": {
    "ExecuteTime": {
     "end_time": "2025-09-08T16:39:03.827444Z",
     "start_time": "2025-09-08T14:22:19.342553Z"
    }
   },
   "source": [
    "forecast_df_lat = tfm_lon.forecast_on_df(\n",
    "    inputs=df_lat_train,\n",
    "    freq=\"15s\",\n",
    "    value_name=\"y\",\n",
    "    num_jobs=-1,\n",
    ")"
   ],
   "outputs": [
    {
     "name": "stdout",
     "output_type": "stream",
     "text": [
      "Processing dataframe with multiple processes.\n",
      "Finished preprocessing dataframe.\n",
      "Finished forecasting.\n"
     ]
    }
   ],
   "execution_count": 13
  },
  {
   "cell_type": "code",
   "id": "e90b98dd91419fa4",
   "metadata": {
    "ExecuteTime": {
     "end_time": "2025-09-08T16:39:03.943844Z",
     "start_time": "2025-09-08T16:39:03.876436Z"
    }
   },
   "source": [
    "forecast_df_lon_keep = forecast_df_lon[['unique_id', 'ds', 'timesfm-q-0.9']]"
   ],
   "outputs": [],
   "execution_count": 14
  },
  {
   "cell_type": "code",
   "id": "8b5c3019c028bff6",
   "metadata": {
    "ExecuteTime": {
     "end_time": "2025-09-08T16:39:04.010121Z",
     "start_time": "2025-09-08T16:39:03.959480Z"
    }
   },
   "source": [
    "forecast_df_lat_keep = forecast_df_lat[['unique_id', 'ds', 'timesfm-q-0.9']]"
   ],
   "outputs": [],
   "execution_count": 15
  },
  {
   "cell_type": "code",
   "id": "28cea87086d776a8",
   "metadata": {
    "ExecuteTime": {
     "end_time": "2025-09-08T16:39:04.101324Z",
     "start_time": "2025-09-08T16:39:04.029057Z"
    }
   },
   "source": [
    "forecast_df_lat_keep['timesfm-q-0.9'] = scaler_lat.inverse_transform(forecast_df_lat_keep[['timesfm-q-0.9']])\n",
    "forecast_df_lon_keep['timesfm-q-0.9'] = scaler_lon.inverse_transform(forecast_df_lon_keep[['timesfm-q-0.9']])"
   ],
   "outputs": [
    {
     "name": "stderr",
     "output_type": "stream",
     "text": [
      "C:\\Users\\Nikola\\AppData\\Local\\Temp\\ipykernel_15320\\3587103272.py:1: SettingWithCopyWarning: \n",
      "A value is trying to be set on a copy of a slice from a DataFrame.\n",
      "Try using .loc[row_indexer,col_indexer] = value instead\n",
      "\n",
      "See the caveats in the documentation: https://pandas.pydata.org/pandas-docs/stable/user_guide/indexing.html#returning-a-view-versus-a-copy\n",
      "  forecast_df_lat_keep['timesfm-q-0.9'] = scaler_lat.inverse_transform(forecast_df_lat_keep[['timesfm-q-0.9']])\n",
      "C:\\Users\\Nikola\\AppData\\Local\\Temp\\ipykernel_15320\\3587103272.py:2: SettingWithCopyWarning: \n",
      "A value is trying to be set on a copy of a slice from a DataFrame.\n",
      "Try using .loc[row_indexer,col_indexer] = value instead\n",
      "\n",
      "See the caveats in the documentation: https://pandas.pydata.org/pandas-docs/stable/user_guide/indexing.html#returning-a-view-versus-a-copy\n",
      "  forecast_df_lon_keep['timesfm-q-0.9'] = scaler_lon.inverse_transform(forecast_df_lon_keep[['timesfm-q-0.9']])\n"
     ]
    }
   ],
   "execution_count": 16
  },
  {
   "cell_type": "code",
   "id": "9fb0429524f5d23b",
   "metadata": {
    "ExecuteTime": {
     "end_time": "2025-09-08T16:39:04.160234Z",
     "start_time": "2025-09-08T16:39:04.120324Z"
    }
   },
   "source": [
    "forecast_df_lat_keep = forecast_df_lat_keep.rename(columns={'timesfm-q-0.9': 'LAT_PREDICTED'})\n",
    "forecast_df_lon_keep = forecast_df_lon_keep.rename(columns={'timesfm-q-0.9': 'LON_PREDICTED'})"
   ],
   "outputs": [],
   "execution_count": 17
  },
  {
   "cell_type": "code",
   "id": "6c129c2e025cb7ae",
   "metadata": {
    "ExecuteTime": {
     "end_time": "2025-09-08T16:39:08.365099Z",
     "start_time": "2025-09-08T16:39:04.177638Z"
    }
   },
   "source": [
    "forecast_df_lat_keep = forecast_df_lat_keep.sort_values(['unique_id', 'ds'])\n",
    "forecast_df_lat_keep = forecast_df_lat_keep.groupby('unique_id').tail(1)\n",
    "\n",
    "forecast_df_lon_keep = forecast_df_lon_keep.sort_values(['unique_id', 'ds'])\n",
    "forecast_df_lon_keep = forecast_df_lon_keep.groupby('unique_id').tail(1)"
   ],
   "outputs": [],
   "execution_count": 18
  },
  {
   "cell_type": "code",
   "id": "46f75c22597f8364",
   "metadata": {
    "ExecuteTime": {
     "end_time": "2025-09-08T16:39:14.336685Z",
     "start_time": "2025-09-08T16:39:08.389131Z"
    }
   },
   "source": [
    "df_lon_test = df_lon_test.rename(columns={'TIMESTAMP': 'ds', 'TRIP_ID': 'unique_id'})\n",
    "df_lon_test = df_lon_test.sort_values(['unique_id', 'ds'])\n",
    "df_lon_test = df_lon_test.groupby('unique_id').tail(1)\n",
    "\n",
    "df_lat_test = df_lat_test.rename(columns={'TIMESTAMP': 'ds', 'TRIP_ID': 'unique_id'})\n",
    "df_lat_test = df_lat_test.sort_values(['unique_id', 'ds'])\n",
    "df_lat_test = df_lat_test.groupby('unique_id').tail(1)"
   ],
   "outputs": [],
   "execution_count": 19
  },
  {
   "cell_type": "code",
   "id": "46b58aacaf850616",
   "metadata": {
    "ExecuteTime": {
     "end_time": "2025-09-08T16:39:14.400308Z",
     "start_time": "2025-09-08T16:39:14.371844Z"
    }
   },
   "source": [
    "result_lat = df_lat_test.merge(forecast_df_lat_keep, how='left', on=['unique_id'])\n",
    "result_lon = df_lon_test.merge(forecast_df_lon_keep, how='left', on=['unique_id'])\n",
    "result = result_lat.merge(result_lon, how='left', on=['unique_id'])"
   ],
   "outputs": [],
   "execution_count": 20
  },
  {
   "cell_type": "code",
   "id": "968067708a9b0d80",
   "metadata": {
    "ExecuteTime": {
     "end_time": "2025-09-08T16:39:14.410223Z",
     "start_time": "2025-09-08T16:39:14.400308Z"
    }
   },
   "source": [
    "from evaluation_script import haversine_distance"
   ],
   "outputs": [],
   "execution_count": 21
  },
  {
   "cell_type": "code",
   "id": "185c32d8ae39f423",
   "metadata": {
    "ExecuteTime": {
     "end_time": "2025-09-08T16:39:17.447806Z",
     "start_time": "2025-09-08T16:39:14.431989Z"
    }
   },
   "source": [
    "result['DISTANCE_DELTA_SEPARATED'] = result.apply(lambda row: haversine_distance(\n",
    "    row['LAT'], row['LON'], row['LAT_PREDICTED'], row['LON_PREDICTED']), axis=1)"
   ],
   "outputs": [],
   "execution_count": 22
  },
  {
   "cell_type": "code",
   "id": "cac3d9e02fc41412",
   "metadata": {
    "ExecuteTime": {
     "end_time": "2025-09-08T16:39:17.476915Z",
     "start_time": "2025-09-08T16:39:17.469907Z"
    }
   },
   "source": [
    "result['DISTANCE_DELTA_SEPARATED'].mean()"
   ],
   "outputs": [
    {
     "data": {
      "text/plain": [
       "np.float64(2.407945491788084)"
      ]
     },
     "execution_count": 23,
     "metadata": {},
     "output_type": "execute_result"
    }
   ],
   "execution_count": 23
  },
  {
   "cell_type": "code",
   "id": "6d6de9b483deb9fa",
   "metadata": {
    "ExecuteTime": {
     "end_time": "2025-09-08T16:39:17.512360Z",
     "start_time": "2025-09-08T16:39:17.500815Z"
    }
   },
   "source": [
    "result['DISTANCE_DELTA_SEPARATED'].median()"
   ],
   "outputs": [
    {
     "data": {
      "text/plain": [
       "np.float64(1.9943297689716095)"
      ]
     },
     "execution_count": 24,
     "metadata": {},
     "output_type": "execute_result"
    }
   ],
   "execution_count": 24
  },
  {
   "metadata": {
    "ExecuteTime": {
     "end_time": "2025-09-08T16:39:19.614046Z",
     "start_time": "2025-09-08T16:39:17.533803Z"
    }
   },
   "cell_type": "code",
   "source": "result.to_csv(\"result.csv\", index=False)",
   "id": "7c8457a4b2a692da",
   "outputs": [],
   "execution_count": 25
  },
  {
   "metadata": {
    "ExecuteTime": {
     "end_time": "2025-09-08T17:18:25.973673Z",
     "start_time": "2025-09-08T17:18:25.945815Z"
    }
   },
   "cell_type": "code",
   "source": "forecast_df_lat",
   "id": "45393fbae5424c2f",
   "outputs": [
    {
     "data": {
      "text/plain": [
       "                   unique_id                  ds   timesfm  timesfm-q-0.1  \\\n",
       "0        1372637254620000657 2013-07-01 00:13:19  0.764966       0.764105   \n",
       "1        1372637254620000657 2013-07-01 00:13:34  0.764978       0.763544   \n",
       "2        1372637254620000657 2013-07-01 00:13:49  0.764996       0.763027   \n",
       "3        1372637254620000657 2013-07-01 00:14:04  0.765031       0.762560   \n",
       "4        1372637254620000657 2013-07-01 00:14:19  0.765026       0.762225   \n",
       "...                      ...                 ...       ...            ...   \n",
       "5704575  1404172319620000571 2014-06-30 23:58:14  0.751835       0.738077   \n",
       "5704576  1404172319620000571 2014-06-30 23:58:29  0.750262       0.734895   \n",
       "5704577  1404172319620000571 2014-06-30 23:58:44  0.750135       0.735233   \n",
       "5704578  1404172319620000571 2014-06-30 23:58:59  0.751838       0.736453   \n",
       "5704579  1404172319620000571 2014-06-30 23:59:14  0.750399       0.735732   \n",
       "\n",
       "         timesfm-q-0.2  timesfm-q-0.3  timesfm-q-0.4  timesfm-q-0.5  \\\n",
       "0             0.764486       0.764682       0.764861       0.764966   \n",
       "1             0.764130       0.764478       0.764775       0.764978   \n",
       "2             0.763785       0.764265       0.764688       0.764996   \n",
       "3             0.763477       0.764094       0.764614       0.765031   \n",
       "4             0.763243       0.763942       0.764549       0.765026   \n",
       "...                ...            ...            ...            ...   \n",
       "5704575       0.748638       0.748542       0.750641       0.751835   \n",
       "5704576       0.744823       0.748350       0.748452       0.750262   \n",
       "5704577       0.748300       0.749052       0.749607       0.750135   \n",
       "5704578       0.749236       0.748897       0.751521       0.751838   \n",
       "5704579       0.744720       0.748706       0.749482       0.750399   \n",
       "\n",
       "         timesfm-q-0.6  timesfm-q-0.7  timesfm-q-0.8  timesfm-q-0.9  \n",
       "0             0.765026       0.765093       0.765192       0.765493  \n",
       "1             0.765126       0.765284       0.765484       0.765936  \n",
       "2             0.765231       0.765464       0.765732       0.766264  \n",
       "3             0.765340       0.765649       0.766008       0.766646  \n",
       "4             0.765404       0.765777       0.766207       0.766943  \n",
       "...                ...            ...            ...            ...  \n",
       "5704575       0.752266       0.751721       0.752925       0.761245  \n",
       "5704576       0.750877       0.751801       0.751160       0.761531  \n",
       "5704577       0.752264       0.753918       0.754748       0.761913  \n",
       "5704578       0.753304       0.754191       0.753947       0.764449  \n",
       "5704579       0.751862       0.754762       0.754868       0.764144  \n",
       "\n",
       "[5704580 rows x 12 columns]"
      ],
      "text/html": [
       "<div>\n",
       "<style scoped>\n",
       "    .dataframe tbody tr th:only-of-type {\n",
       "        vertical-align: middle;\n",
       "    }\n",
       "\n",
       "    .dataframe tbody tr th {\n",
       "        vertical-align: top;\n",
       "    }\n",
       "\n",
       "    .dataframe thead th {\n",
       "        text-align: right;\n",
       "    }\n",
       "</style>\n",
       "<table border=\"1\" class=\"dataframe\">\n",
       "  <thead>\n",
       "    <tr style=\"text-align: right;\">\n",
       "      <th></th>\n",
       "      <th>unique_id</th>\n",
       "      <th>ds</th>\n",
       "      <th>timesfm</th>\n",
       "      <th>timesfm-q-0.1</th>\n",
       "      <th>timesfm-q-0.2</th>\n",
       "      <th>timesfm-q-0.3</th>\n",
       "      <th>timesfm-q-0.4</th>\n",
       "      <th>timesfm-q-0.5</th>\n",
       "      <th>timesfm-q-0.6</th>\n",
       "      <th>timesfm-q-0.7</th>\n",
       "      <th>timesfm-q-0.8</th>\n",
       "      <th>timesfm-q-0.9</th>\n",
       "    </tr>\n",
       "  </thead>\n",
       "  <tbody>\n",
       "    <tr>\n",
       "      <th>0</th>\n",
       "      <td>1372637254620000657</td>\n",
       "      <td>2013-07-01 00:13:19</td>\n",
       "      <td>0.764966</td>\n",
       "      <td>0.764105</td>\n",
       "      <td>0.764486</td>\n",
       "      <td>0.764682</td>\n",
       "      <td>0.764861</td>\n",
       "      <td>0.764966</td>\n",
       "      <td>0.765026</td>\n",
       "      <td>0.765093</td>\n",
       "      <td>0.765192</td>\n",
       "      <td>0.765493</td>\n",
       "    </tr>\n",
       "    <tr>\n",
       "      <th>1</th>\n",
       "      <td>1372637254620000657</td>\n",
       "      <td>2013-07-01 00:13:34</td>\n",
       "      <td>0.764978</td>\n",
       "      <td>0.763544</td>\n",
       "      <td>0.764130</td>\n",
       "      <td>0.764478</td>\n",
       "      <td>0.764775</td>\n",
       "      <td>0.764978</td>\n",
       "      <td>0.765126</td>\n",
       "      <td>0.765284</td>\n",
       "      <td>0.765484</td>\n",
       "      <td>0.765936</td>\n",
       "    </tr>\n",
       "    <tr>\n",
       "      <th>2</th>\n",
       "      <td>1372637254620000657</td>\n",
       "      <td>2013-07-01 00:13:49</td>\n",
       "      <td>0.764996</td>\n",
       "      <td>0.763027</td>\n",
       "      <td>0.763785</td>\n",
       "      <td>0.764265</td>\n",
       "      <td>0.764688</td>\n",
       "      <td>0.764996</td>\n",
       "      <td>0.765231</td>\n",
       "      <td>0.765464</td>\n",
       "      <td>0.765732</td>\n",
       "      <td>0.766264</td>\n",
       "    </tr>\n",
       "    <tr>\n",
       "      <th>3</th>\n",
       "      <td>1372637254620000657</td>\n",
       "      <td>2013-07-01 00:14:04</td>\n",
       "      <td>0.765031</td>\n",
       "      <td>0.762560</td>\n",
       "      <td>0.763477</td>\n",
       "      <td>0.764094</td>\n",
       "      <td>0.764614</td>\n",
       "      <td>0.765031</td>\n",
       "      <td>0.765340</td>\n",
       "      <td>0.765649</td>\n",
       "      <td>0.766008</td>\n",
       "      <td>0.766646</td>\n",
       "    </tr>\n",
       "    <tr>\n",
       "      <th>4</th>\n",
       "      <td>1372637254620000657</td>\n",
       "      <td>2013-07-01 00:14:19</td>\n",
       "      <td>0.765026</td>\n",
       "      <td>0.762225</td>\n",
       "      <td>0.763243</td>\n",
       "      <td>0.763942</td>\n",
       "      <td>0.764549</td>\n",
       "      <td>0.765026</td>\n",
       "      <td>0.765404</td>\n",
       "      <td>0.765777</td>\n",
       "      <td>0.766207</td>\n",
       "      <td>0.766943</td>\n",
       "    </tr>\n",
       "    <tr>\n",
       "      <th>...</th>\n",
       "      <td>...</td>\n",
       "      <td>...</td>\n",
       "      <td>...</td>\n",
       "      <td>...</td>\n",
       "      <td>...</td>\n",
       "      <td>...</td>\n",
       "      <td>...</td>\n",
       "      <td>...</td>\n",
       "      <td>...</td>\n",
       "      <td>...</td>\n",
       "      <td>...</td>\n",
       "      <td>...</td>\n",
       "    </tr>\n",
       "    <tr>\n",
       "      <th>5704575</th>\n",
       "      <td>1404172319620000571</td>\n",
       "      <td>2014-06-30 23:58:14</td>\n",
       "      <td>0.751835</td>\n",
       "      <td>0.738077</td>\n",
       "      <td>0.748638</td>\n",
       "      <td>0.748542</td>\n",
       "      <td>0.750641</td>\n",
       "      <td>0.751835</td>\n",
       "      <td>0.752266</td>\n",
       "      <td>0.751721</td>\n",
       "      <td>0.752925</td>\n",
       "      <td>0.761245</td>\n",
       "    </tr>\n",
       "    <tr>\n",
       "      <th>5704576</th>\n",
       "      <td>1404172319620000571</td>\n",
       "      <td>2014-06-30 23:58:29</td>\n",
       "      <td>0.750262</td>\n",
       "      <td>0.734895</td>\n",
       "      <td>0.744823</td>\n",
       "      <td>0.748350</td>\n",
       "      <td>0.748452</td>\n",
       "      <td>0.750262</td>\n",
       "      <td>0.750877</td>\n",
       "      <td>0.751801</td>\n",
       "      <td>0.751160</td>\n",
       "      <td>0.761531</td>\n",
       "    </tr>\n",
       "    <tr>\n",
       "      <th>5704577</th>\n",
       "      <td>1404172319620000571</td>\n",
       "      <td>2014-06-30 23:58:44</td>\n",
       "      <td>0.750135</td>\n",
       "      <td>0.735233</td>\n",
       "      <td>0.748300</td>\n",
       "      <td>0.749052</td>\n",
       "      <td>0.749607</td>\n",
       "      <td>0.750135</td>\n",
       "      <td>0.752264</td>\n",
       "      <td>0.753918</td>\n",
       "      <td>0.754748</td>\n",
       "      <td>0.761913</td>\n",
       "    </tr>\n",
       "    <tr>\n",
       "      <th>5704578</th>\n",
       "      <td>1404172319620000571</td>\n",
       "      <td>2014-06-30 23:58:59</td>\n",
       "      <td>0.751838</td>\n",
       "      <td>0.736453</td>\n",
       "      <td>0.749236</td>\n",
       "      <td>0.748897</td>\n",
       "      <td>0.751521</td>\n",
       "      <td>0.751838</td>\n",
       "      <td>0.753304</td>\n",
       "      <td>0.754191</td>\n",
       "      <td>0.753947</td>\n",
       "      <td>0.764449</td>\n",
       "    </tr>\n",
       "    <tr>\n",
       "      <th>5704579</th>\n",
       "      <td>1404172319620000571</td>\n",
       "      <td>2014-06-30 23:59:14</td>\n",
       "      <td>0.750399</td>\n",
       "      <td>0.735732</td>\n",
       "      <td>0.744720</td>\n",
       "      <td>0.748706</td>\n",
       "      <td>0.749482</td>\n",
       "      <td>0.750399</td>\n",
       "      <td>0.751862</td>\n",
       "      <td>0.754762</td>\n",
       "      <td>0.754868</td>\n",
       "      <td>0.764144</td>\n",
       "    </tr>\n",
       "  </tbody>\n",
       "</table>\n",
       "<p>5704580 rows × 12 columns</p>\n",
       "</div>"
      ]
     },
     "execution_count": 26,
     "metadata": {},
     "output_type": "execute_result"
    }
   ],
   "execution_count": 26
  },
  {
   "metadata": {
    "ExecuteTime": {
     "end_time": "2025-09-08T17:19:42.412660Z",
     "start_time": "2025-09-08T17:19:42.403208Z"
    }
   },
   "cell_type": "code",
   "source": "columns = ['timesfm-q-0.1', 'timesfm-q-0.2', 'timesfm-q-0.3', 'timesfm-q-0.4', 'timesfm-q-0.5', 'timesfm-q-0.6', 'timesfm-q-0.7', 'timesfm-q-0.8', 'timesfm-q-0.9']",
   "id": "ddc759e5de2c638d",
   "outputs": [],
   "execution_count": 27
  },
  {
   "metadata": {
    "ExecuteTime": {
     "end_time": "2025-09-08T17:23:03.197859Z",
     "start_time": "2025-09-08T17:23:01.889040Z"
    }
   },
   "cell_type": "code",
   "source": [
    "for column in columns:\n",
    "    forecast_df_lat[column] = scaler_lat.inverse_transform(forecast_df_lat[[column]])\n",
    "    forecast_df_lon[column] = scaler_lon.inverse_transform(forecast_df_lon[[column]])"
   ],
   "id": "82dd7cbf5aa99617",
   "outputs": [],
   "execution_count": 28
  },
  {
   "metadata": {
    "ExecuteTime": {
     "end_time": "2025-09-08T17:23:15.427082Z",
     "start_time": "2025-09-08T17:23:08.068622Z"
    }
   },
   "cell_type": "code",
   "source": [
    "forecast_df_lat = forecast_df_lat.sort_values(['unique_id', 'ds'])\n",
    "forecast_df_lat = forecast_df_lat.groupby('unique_id').tail(1)\n",
    "\n",
    "forecast_df_lon = forecast_df_lon.sort_values(['unique_id', 'ds'])\n",
    "forecast_df_lon = forecast_df_lon.groupby('unique_id').tail(1)"
   ],
   "id": "b2fda8e739fb7d89",
   "outputs": [],
   "execution_count": 29
  },
  {
   "metadata": {
    "ExecuteTime": {
     "end_time": "2025-09-08T17:23:17.468578Z",
     "start_time": "2025-09-08T17:23:17.378898Z"
    }
   },
   "cell_type": "code",
   "source": [
    "result_lat = df_lat_test.merge(forecast_df_lat, how='left', on=['unique_id'])\n",
    "result_lon = df_lon_test.merge(forecast_df_lon, how='left', on=['unique_id'])\n",
    "result = result_lat.merge(result_lon, how='left', on=['unique_id'])"
   ],
   "id": "3fa6cd2f9dc4851c",
   "outputs": [],
   "execution_count": 30
  },
  {
   "metadata": {
    "ExecuteTime": {
     "end_time": "2025-09-08T17:23:21.455367Z",
     "start_time": "2025-09-08T17:23:21.372476Z"
    }
   },
   "cell_type": "code",
   "source": "result",
   "id": "f2225daebef6cedd",
   "outputs": [
    {
     "data": {
      "text/plain": [
       "                  unique_id      ds_x_x        LAT              ds_y_x  \\\n",
       "0       1372637254620000657  1372637884  41.181813 2013-07-01 00:18:04   \n",
       "1       1372637343620000571  1372637808  41.162265 2013-07-01 00:16:48   \n",
       "2       1372637397620000190  1372638222  41.177214 2013-07-01 00:23:42   \n",
       "3       1372638303620000112  1372640028  41.162436 2013-07-01 00:53:48   \n",
       "4       1372638451620000621  1372638961  41.193315 2013-07-01 00:36:01   \n",
       "...                     ...         ...        ...                 ...   \n",
       "285224  1404170795620000242  1404171290  41.176404 2014-06-30 23:34:50   \n",
       "285225  1404171078620000455  1404171858  41.150700 2014-06-30 23:44:18   \n",
       "285226  1404171293620000565  1404171803  41.141025 2014-06-30 23:43:23   \n",
       "285227  1404172208620000196  1404172763  41.176890 2014-06-30 23:59:23   \n",
       "285228  1404172319620000571  1404172754  41.155533 2014-06-30 23:59:14   \n",
       "\n",
       "        timesfm_x  timesfm-q-0.1_x  timesfm-q-0.2_x  timesfm-q-0.3_x  \\\n",
       "0        0.764022        41.167191        41.170837        41.173481   \n",
       "1        0.755190        41.154400        41.155029        41.155418   \n",
       "2        0.758368        41.121090        41.138725        41.154072   \n",
       "3        0.758109        41.156845        41.159103        41.160679   \n",
       "4        0.766063        41.167301        41.172550        41.176403   \n",
       "...           ...              ...              ...              ...   \n",
       "285224   0.757760        41.159538        41.160694        41.161392   \n",
       "285225   0.756791        41.151901        41.155056        41.157085   \n",
       "285226   0.753716        41.146694        41.149342        41.150661   \n",
       "285227   0.765981        41.180462        41.181423        41.182079   \n",
       "285228   0.750399        41.107132        41.129738        41.139767   \n",
       "\n",
       "        timesfm-q-0.4_x  timesfm-q-0.5_x  ...  timesfm_y  timesfm-q-0.1_y  \\\n",
       "0             41.176064        41.178295  ...   0.835264        -8.632835   \n",
       "1             41.155739        41.156078  ...   0.836597        -8.620522   \n",
       "2             41.160618        41.164074  ...   0.839004        -8.634700   \n",
       "3             41.162052        41.163422  ...   0.840511        -8.601382   \n",
       "4             41.179943        41.183430  ...   0.840796        -8.603762   \n",
       "...                 ...              ...  ...        ...              ...   \n",
       "285224        41.161942        41.162548  ...   0.832608        -8.679445   \n",
       "285225        41.158665        41.160103  ...   0.837895        -8.612741   \n",
       "285226        41.151646        41.152370  ...   0.836109        -8.614435   \n",
       "285227        41.182659        41.183228  ...   0.838435        -8.608393   \n",
       "285228        41.141720        41.144028  ...   0.835914        -8.618329   \n",
       "\n",
       "        timesfm-q-0.2_y  timesfm-q-0.3_y  timesfm-q-0.4_y  timesfm-q-0.5_y  \\\n",
       "0             -8.626487        -8.622577        -8.619802        -8.617633   \n",
       "1             -8.616243        -8.613790        -8.611950        -8.610364   \n",
       "2             -8.630521        -8.610821        -8.601146        -8.597239   \n",
       "3             -8.596800        -8.593702        -8.591201        -8.589021   \n",
       "4             -8.598248        -8.594364        -8.590796        -8.587470   \n",
       "...                 ...              ...              ...              ...   \n",
       "285224        -8.655724        -8.636982        -8.634605        -8.632120   \n",
       "285225        -8.609334        -8.606896        -8.604921        -8.603286   \n",
       "285226        -8.613725        -8.613367        -8.613178        -8.613026   \n",
       "285227        -8.604870        -8.602877        -8.601471        -8.600345   \n",
       "285228        -8.616188        -8.615191        -8.614572        -8.614090   \n",
       "\n",
       "       timesfm-q-0.6_y  timesfm-q-0.7_y  timesfm-q-0.8_y  timesfm-q-0.9_y  \n",
       "0            -8.615479        -8.613070        -8.609822        -8.604194  \n",
       "1            -8.609030        -8.607776        -8.606016        -8.602690  \n",
       "2            -8.588931        -8.573452        -8.570667        -8.548972  \n",
       "3            -8.587005        -8.585005        -8.582798        -8.579835  \n",
       "4            -8.584249        -8.581251        -8.578007        -8.572858  \n",
       "...                ...              ...              ...              ...  \n",
       "285224       -8.626783        -8.613413        -8.616045        -8.583224  \n",
       "285225       -8.601951        -8.600636        -8.599367        -8.597740  \n",
       "285226       -8.612857        -8.612604        -8.612190        -8.611331  \n",
       "285227       -8.599362        -8.598266        -8.597019        -8.594354  \n",
       "285228       -8.613810        -8.613448        -8.613026        -8.612110  \n",
       "\n",
       "[285229 rows x 27 columns]"
      ],
      "text/html": [
       "<div>\n",
       "<style scoped>\n",
       "    .dataframe tbody tr th:only-of-type {\n",
       "        vertical-align: middle;\n",
       "    }\n",
       "\n",
       "    .dataframe tbody tr th {\n",
       "        vertical-align: top;\n",
       "    }\n",
       "\n",
       "    .dataframe thead th {\n",
       "        text-align: right;\n",
       "    }\n",
       "</style>\n",
       "<table border=\"1\" class=\"dataframe\">\n",
       "  <thead>\n",
       "    <tr style=\"text-align: right;\">\n",
       "      <th></th>\n",
       "      <th>unique_id</th>\n",
       "      <th>ds_x_x</th>\n",
       "      <th>LAT</th>\n",
       "      <th>ds_y_x</th>\n",
       "      <th>timesfm_x</th>\n",
       "      <th>timesfm-q-0.1_x</th>\n",
       "      <th>timesfm-q-0.2_x</th>\n",
       "      <th>timesfm-q-0.3_x</th>\n",
       "      <th>timesfm-q-0.4_x</th>\n",
       "      <th>timesfm-q-0.5_x</th>\n",
       "      <th>...</th>\n",
       "      <th>timesfm_y</th>\n",
       "      <th>timesfm-q-0.1_y</th>\n",
       "      <th>timesfm-q-0.2_y</th>\n",
       "      <th>timesfm-q-0.3_y</th>\n",
       "      <th>timesfm-q-0.4_y</th>\n",
       "      <th>timesfm-q-0.5_y</th>\n",
       "      <th>timesfm-q-0.6_y</th>\n",
       "      <th>timesfm-q-0.7_y</th>\n",
       "      <th>timesfm-q-0.8_y</th>\n",
       "      <th>timesfm-q-0.9_y</th>\n",
       "    </tr>\n",
       "  </thead>\n",
       "  <tbody>\n",
       "    <tr>\n",
       "      <th>0</th>\n",
       "      <td>1372637254620000657</td>\n",
       "      <td>1372637884</td>\n",
       "      <td>41.181813</td>\n",
       "      <td>2013-07-01 00:18:04</td>\n",
       "      <td>0.764022</td>\n",
       "      <td>41.167191</td>\n",
       "      <td>41.170837</td>\n",
       "      <td>41.173481</td>\n",
       "      <td>41.176064</td>\n",
       "      <td>41.178295</td>\n",
       "      <td>...</td>\n",
       "      <td>0.835264</td>\n",
       "      <td>-8.632835</td>\n",
       "      <td>-8.626487</td>\n",
       "      <td>-8.622577</td>\n",
       "      <td>-8.619802</td>\n",
       "      <td>-8.617633</td>\n",
       "      <td>-8.615479</td>\n",
       "      <td>-8.613070</td>\n",
       "      <td>-8.609822</td>\n",
       "      <td>-8.604194</td>\n",
       "    </tr>\n",
       "    <tr>\n",
       "      <th>1</th>\n",
       "      <td>1372637343620000571</td>\n",
       "      <td>1372637808</td>\n",
       "      <td>41.162265</td>\n",
       "      <td>2013-07-01 00:16:48</td>\n",
       "      <td>0.755190</td>\n",
       "      <td>41.154400</td>\n",
       "      <td>41.155029</td>\n",
       "      <td>41.155418</td>\n",
       "      <td>41.155739</td>\n",
       "      <td>41.156078</td>\n",
       "      <td>...</td>\n",
       "      <td>0.836597</td>\n",
       "      <td>-8.620522</td>\n",
       "      <td>-8.616243</td>\n",
       "      <td>-8.613790</td>\n",
       "      <td>-8.611950</td>\n",
       "      <td>-8.610364</td>\n",
       "      <td>-8.609030</td>\n",
       "      <td>-8.607776</td>\n",
       "      <td>-8.606016</td>\n",
       "      <td>-8.602690</td>\n",
       "    </tr>\n",
       "    <tr>\n",
       "      <th>2</th>\n",
       "      <td>1372637397620000190</td>\n",
       "      <td>1372638222</td>\n",
       "      <td>41.177214</td>\n",
       "      <td>2013-07-01 00:23:42</td>\n",
       "      <td>0.758368</td>\n",
       "      <td>41.121090</td>\n",
       "      <td>41.138725</td>\n",
       "      <td>41.154072</td>\n",
       "      <td>41.160618</td>\n",
       "      <td>41.164074</td>\n",
       "      <td>...</td>\n",
       "      <td>0.839004</td>\n",
       "      <td>-8.634700</td>\n",
       "      <td>-8.630521</td>\n",
       "      <td>-8.610821</td>\n",
       "      <td>-8.601146</td>\n",
       "      <td>-8.597239</td>\n",
       "      <td>-8.588931</td>\n",
       "      <td>-8.573452</td>\n",
       "      <td>-8.570667</td>\n",
       "      <td>-8.548972</td>\n",
       "    </tr>\n",
       "    <tr>\n",
       "      <th>3</th>\n",
       "      <td>1372638303620000112</td>\n",
       "      <td>1372640028</td>\n",
       "      <td>41.162436</td>\n",
       "      <td>2013-07-01 00:53:48</td>\n",
       "      <td>0.758109</td>\n",
       "      <td>41.156845</td>\n",
       "      <td>41.159103</td>\n",
       "      <td>41.160679</td>\n",
       "      <td>41.162052</td>\n",
       "      <td>41.163422</td>\n",
       "      <td>...</td>\n",
       "      <td>0.840511</td>\n",
       "      <td>-8.601382</td>\n",
       "      <td>-8.596800</td>\n",
       "      <td>-8.593702</td>\n",
       "      <td>-8.591201</td>\n",
       "      <td>-8.589021</td>\n",
       "      <td>-8.587005</td>\n",
       "      <td>-8.585005</td>\n",
       "      <td>-8.582798</td>\n",
       "      <td>-8.579835</td>\n",
       "    </tr>\n",
       "    <tr>\n",
       "      <th>4</th>\n",
       "      <td>1372638451620000621</td>\n",
       "      <td>1372638961</td>\n",
       "      <td>41.193315</td>\n",
       "      <td>2013-07-01 00:36:01</td>\n",
       "      <td>0.766063</td>\n",
       "      <td>41.167301</td>\n",
       "      <td>41.172550</td>\n",
       "      <td>41.176403</td>\n",
       "      <td>41.179943</td>\n",
       "      <td>41.183430</td>\n",
       "      <td>...</td>\n",
       "      <td>0.840796</td>\n",
       "      <td>-8.603762</td>\n",
       "      <td>-8.598248</td>\n",
       "      <td>-8.594364</td>\n",
       "      <td>-8.590796</td>\n",
       "      <td>-8.587470</td>\n",
       "      <td>-8.584249</td>\n",
       "      <td>-8.581251</td>\n",
       "      <td>-8.578007</td>\n",
       "      <td>-8.572858</td>\n",
       "    </tr>\n",
       "    <tr>\n",
       "      <th>...</th>\n",
       "      <td>...</td>\n",
       "      <td>...</td>\n",
       "      <td>...</td>\n",
       "      <td>...</td>\n",
       "      <td>...</td>\n",
       "      <td>...</td>\n",
       "      <td>...</td>\n",
       "      <td>...</td>\n",
       "      <td>...</td>\n",
       "      <td>...</td>\n",
       "      <td>...</td>\n",
       "      <td>...</td>\n",
       "      <td>...</td>\n",
       "      <td>...</td>\n",
       "      <td>...</td>\n",
       "      <td>...</td>\n",
       "      <td>...</td>\n",
       "      <td>...</td>\n",
       "      <td>...</td>\n",
       "      <td>...</td>\n",
       "      <td>...</td>\n",
       "    </tr>\n",
       "    <tr>\n",
       "      <th>285224</th>\n",
       "      <td>1404170795620000242</td>\n",
       "      <td>1404171290</td>\n",
       "      <td>41.176404</td>\n",
       "      <td>2014-06-30 23:34:50</td>\n",
       "      <td>0.757760</td>\n",
       "      <td>41.159538</td>\n",
       "      <td>41.160694</td>\n",
       "      <td>41.161392</td>\n",
       "      <td>41.161942</td>\n",
       "      <td>41.162548</td>\n",
       "      <td>...</td>\n",
       "      <td>0.832608</td>\n",
       "      <td>-8.679445</td>\n",
       "      <td>-8.655724</td>\n",
       "      <td>-8.636982</td>\n",
       "      <td>-8.634605</td>\n",
       "      <td>-8.632120</td>\n",
       "      <td>-8.626783</td>\n",
       "      <td>-8.613413</td>\n",
       "      <td>-8.616045</td>\n",
       "      <td>-8.583224</td>\n",
       "    </tr>\n",
       "    <tr>\n",
       "      <th>285225</th>\n",
       "      <td>1404171078620000455</td>\n",
       "      <td>1404171858</td>\n",
       "      <td>41.150700</td>\n",
       "      <td>2014-06-30 23:44:18</td>\n",
       "      <td>0.756791</td>\n",
       "      <td>41.151901</td>\n",
       "      <td>41.155056</td>\n",
       "      <td>41.157085</td>\n",
       "      <td>41.158665</td>\n",
       "      <td>41.160103</td>\n",
       "      <td>...</td>\n",
       "      <td>0.837895</td>\n",
       "      <td>-8.612741</td>\n",
       "      <td>-8.609334</td>\n",
       "      <td>-8.606896</td>\n",
       "      <td>-8.604921</td>\n",
       "      <td>-8.603286</td>\n",
       "      <td>-8.601951</td>\n",
       "      <td>-8.600636</td>\n",
       "      <td>-8.599367</td>\n",
       "      <td>-8.597740</td>\n",
       "    </tr>\n",
       "    <tr>\n",
       "      <th>285226</th>\n",
       "      <td>1404171293620000565</td>\n",
       "      <td>1404171803</td>\n",
       "      <td>41.141025</td>\n",
       "      <td>2014-06-30 23:43:23</td>\n",
       "      <td>0.753716</td>\n",
       "      <td>41.146694</td>\n",
       "      <td>41.149342</td>\n",
       "      <td>41.150661</td>\n",
       "      <td>41.151646</td>\n",
       "      <td>41.152370</td>\n",
       "      <td>...</td>\n",
       "      <td>0.836109</td>\n",
       "      <td>-8.614435</td>\n",
       "      <td>-8.613725</td>\n",
       "      <td>-8.613367</td>\n",
       "      <td>-8.613178</td>\n",
       "      <td>-8.613026</td>\n",
       "      <td>-8.612857</td>\n",
       "      <td>-8.612604</td>\n",
       "      <td>-8.612190</td>\n",
       "      <td>-8.611331</td>\n",
       "    </tr>\n",
       "    <tr>\n",
       "      <th>285227</th>\n",
       "      <td>1404172208620000196</td>\n",
       "      <td>1404172763</td>\n",
       "      <td>41.176890</td>\n",
       "      <td>2014-06-30 23:59:23</td>\n",
       "      <td>0.765981</td>\n",
       "      <td>41.180462</td>\n",
       "      <td>41.181423</td>\n",
       "      <td>41.182079</td>\n",
       "      <td>41.182659</td>\n",
       "      <td>41.183228</td>\n",
       "      <td>...</td>\n",
       "      <td>0.838435</td>\n",
       "      <td>-8.608393</td>\n",
       "      <td>-8.604870</td>\n",
       "      <td>-8.602877</td>\n",
       "      <td>-8.601471</td>\n",
       "      <td>-8.600345</td>\n",
       "      <td>-8.599362</td>\n",
       "      <td>-8.598266</td>\n",
       "      <td>-8.597019</td>\n",
       "      <td>-8.594354</td>\n",
       "    </tr>\n",
       "    <tr>\n",
       "      <th>285228</th>\n",
       "      <td>1404172319620000571</td>\n",
       "      <td>1404172754</td>\n",
       "      <td>41.155533</td>\n",
       "      <td>2014-06-30 23:59:14</td>\n",
       "      <td>0.750399</td>\n",
       "      <td>41.107132</td>\n",
       "      <td>41.129738</td>\n",
       "      <td>41.139767</td>\n",
       "      <td>41.141720</td>\n",
       "      <td>41.144028</td>\n",
       "      <td>...</td>\n",
       "      <td>0.835914</td>\n",
       "      <td>-8.618329</td>\n",
       "      <td>-8.616188</td>\n",
       "      <td>-8.615191</td>\n",
       "      <td>-8.614572</td>\n",
       "      <td>-8.614090</td>\n",
       "      <td>-8.613810</td>\n",
       "      <td>-8.613448</td>\n",
       "      <td>-8.613026</td>\n",
       "      <td>-8.612110</td>\n",
       "    </tr>\n",
       "  </tbody>\n",
       "</table>\n",
       "<p>285229 rows × 27 columns</p>\n",
       "</div>"
      ]
     },
     "execution_count": 31,
     "metadata": {},
     "output_type": "execute_result"
    }
   ],
   "execution_count": 31
  },
  {
   "metadata": {
    "ExecuteTime": {
     "end_time": "2025-09-08T17:24:28.321785Z",
     "start_time": "2025-09-08T17:24:28.308850Z"
    }
   },
   "cell_type": "code",
   "source": "df_lat_test",
   "id": "49054dc6e70aea13",
   "outputs": [
    {
     "data": {
      "text/plain": [
       "                    unique_id          ds        LAT\n",
       "index                                               \n",
       "723       1372637254620000657  1372637884  41.181813\n",
       "429       1372637343620000571  1372637808  41.162265\n",
       "4104      1372637397620000190  1372638222  41.177214\n",
       "2623      1372638303620000112  1372640028  41.162436\n",
       "1975      1372638451620000621  1372638961  41.193315\n",
       "...                       ...         ...        ...\n",
       "83392765  1404170795620000242  1404171290  41.176404\n",
       "83393328  1404171078620000455  1404171858  41.150700\n",
       "83391403  1404171293620000565  1404171803  41.141025\n",
       "83391744  1404172208620000196  1404172763  41.176890\n",
       "83387769  1404172319620000571  1404172754  41.155533\n",
       "\n",
       "[285229 rows x 3 columns]"
      ],
      "text/html": [
       "<div>\n",
       "<style scoped>\n",
       "    .dataframe tbody tr th:only-of-type {\n",
       "        vertical-align: middle;\n",
       "    }\n",
       "\n",
       "    .dataframe tbody tr th {\n",
       "        vertical-align: top;\n",
       "    }\n",
       "\n",
       "    .dataframe thead th {\n",
       "        text-align: right;\n",
       "    }\n",
       "</style>\n",
       "<table border=\"1\" class=\"dataframe\">\n",
       "  <thead>\n",
       "    <tr style=\"text-align: right;\">\n",
       "      <th></th>\n",
       "      <th>unique_id</th>\n",
       "      <th>ds</th>\n",
       "      <th>LAT</th>\n",
       "    </tr>\n",
       "    <tr>\n",
       "      <th>index</th>\n",
       "      <th></th>\n",
       "      <th></th>\n",
       "      <th></th>\n",
       "    </tr>\n",
       "  </thead>\n",
       "  <tbody>\n",
       "    <tr>\n",
       "      <th>723</th>\n",
       "      <td>1372637254620000657</td>\n",
       "      <td>1372637884</td>\n",
       "      <td>41.181813</td>\n",
       "    </tr>\n",
       "    <tr>\n",
       "      <th>429</th>\n",
       "      <td>1372637343620000571</td>\n",
       "      <td>1372637808</td>\n",
       "      <td>41.162265</td>\n",
       "    </tr>\n",
       "    <tr>\n",
       "      <th>4104</th>\n",
       "      <td>1372637397620000190</td>\n",
       "      <td>1372638222</td>\n",
       "      <td>41.177214</td>\n",
       "    </tr>\n",
       "    <tr>\n",
       "      <th>2623</th>\n",
       "      <td>1372638303620000112</td>\n",
       "      <td>1372640028</td>\n",
       "      <td>41.162436</td>\n",
       "    </tr>\n",
       "    <tr>\n",
       "      <th>1975</th>\n",
       "      <td>1372638451620000621</td>\n",
       "      <td>1372638961</td>\n",
       "      <td>41.193315</td>\n",
       "    </tr>\n",
       "    <tr>\n",
       "      <th>...</th>\n",
       "      <td>...</td>\n",
       "      <td>...</td>\n",
       "      <td>...</td>\n",
       "    </tr>\n",
       "    <tr>\n",
       "      <th>83392765</th>\n",
       "      <td>1404170795620000242</td>\n",
       "      <td>1404171290</td>\n",
       "      <td>41.176404</td>\n",
       "    </tr>\n",
       "    <tr>\n",
       "      <th>83393328</th>\n",
       "      <td>1404171078620000455</td>\n",
       "      <td>1404171858</td>\n",
       "      <td>41.150700</td>\n",
       "    </tr>\n",
       "    <tr>\n",
       "      <th>83391403</th>\n",
       "      <td>1404171293620000565</td>\n",
       "      <td>1404171803</td>\n",
       "      <td>41.141025</td>\n",
       "    </tr>\n",
       "    <tr>\n",
       "      <th>83391744</th>\n",
       "      <td>1404172208620000196</td>\n",
       "      <td>1404172763</td>\n",
       "      <td>41.176890</td>\n",
       "    </tr>\n",
       "    <tr>\n",
       "      <th>83387769</th>\n",
       "      <td>1404172319620000571</td>\n",
       "      <td>1404172754</td>\n",
       "      <td>41.155533</td>\n",
       "    </tr>\n",
       "  </tbody>\n",
       "</table>\n",
       "<p>285229 rows × 3 columns</p>\n",
       "</div>"
      ]
     },
     "execution_count": 32,
     "metadata": {},
     "output_type": "execute_result"
    }
   ],
   "execution_count": 32
  },
  {
   "metadata": {
    "ExecuteTime": {
     "end_time": "2025-09-08T17:28:04.791777Z",
     "start_time": "2025-09-08T17:27:20.957363Z"
    }
   },
   "cell_type": "code",
   "source": [
    "for col in columns:\n",
    "    result[f'DISTANCE_DELTA_SEPARATED_{col}'] = result.apply(lambda row: haversine_distance(\n",
    "    row['LAT'], row['LON'], row[f'{col}_x'], row[f'{col}_y']), axis=1)"
   ],
   "id": "e6c4b64c066ba7f4",
   "outputs": [],
   "execution_count": 34
  },
  {
   "metadata": {
    "ExecuteTime": {
     "end_time": "2025-09-08T17:29:47.469407Z",
     "start_time": "2025-09-08T17:29:47.365341Z"
    }
   },
   "cell_type": "code",
   "source": [
    "for col in columns:\n",
    "    print(f\"Column: {col}   Mean: {result[f'DISTANCE_DELTA_SEPARATED_{col}'].mean()}    Median: {result[f'DISTANCE_DELTA_SEPARATED_{col}'].median()}\")"
   ],
   "id": "5b99a14cdb92b324",
   "outputs": [
    {
     "name": "stdout",
     "output_type": "stream",
     "text": [
      "Column: timesfm-q-0.1   Mean: 3.674037899367754    Median: 2.429797979009097\n",
      "Column: timesfm-q-0.2   Mean: 2.798390522825094    Median: 1.9777297739881674\n",
      "Column: timesfm-q-0.3   Mean: 2.1525470024171285    Median: 1.578090659804726\n",
      "Column: timesfm-q-0.4   Mean: 1.8973048617488317    Median: 1.436348504755426\n",
      "Column: timesfm-q-0.5   Mean: 1.7694252044474226    Median: 1.3754826000108027\n",
      "Column: timesfm-q-0.6   Mean: 1.7074225932643123    Median: 1.357599341311954\n",
      "Column: timesfm-q-0.7   Mean: 1.7706400729594731    Median: 1.453190606065266\n",
      "Column: timesfm-q-0.8   Mean: 1.893003371036355    Median: 1.5668752773131625\n",
      "Column: timesfm-q-0.9   Mean: 2.407945491788084    Median: 1.9943297689716095\n"
     ]
    }
   ],
   "execution_count": 36
  },
  {
   "metadata": {
    "ExecuteTime": {
     "end_time": "2025-09-08T17:49:58.544281Z",
     "start_time": "2025-09-08T17:49:56.657105Z"
    }
   },
   "cell_type": "code",
   "source": "import matplotlib.pyplot as plt",
   "id": "bf4d1aafe871993c",
   "outputs": [],
   "execution_count": 37
  },
  {
   "metadata": {
    "ExecuteTime": {
     "end_time": "2025-09-08T17:52:16.640030Z",
     "start_time": "2025-09-08T17:52:16.553709Z"
    }
   },
   "cell_type": "code",
   "source": [
    "stats = []\n",
    "for col in columns:\n",
    "    mean_val = result[f'DISTANCE_DELTA_SEPARATED_{col}'].mean()\n",
    "    median_val = result[f'DISTANCE_DELTA_SEPARATED_{col}'].median()\n",
    "    label = col.replace(\"timesfm-\", \"\")\n",
    "    stats.append({\"quantile\": label, \"mean\": mean_val, \"median\": median_val})\n",
    "\n",
    "df_stats = pd.DataFrame(stats)"
   ],
   "id": "c4c47ecb39d1e546",
   "outputs": [],
   "execution_count": 40
  },
  {
   "metadata": {
    "ExecuteTime": {
     "end_time": "2025-09-08T17:52:25.309675Z",
     "start_time": "2025-09-08T17:52:25.096920Z"
    }
   },
   "cell_type": "code",
   "source": [
    "plt.figure(figsize=(8,5))\n",
    "plt.plot(df_stats[\"quantile\"], df_stats[\"mean\"], marker=\"o\", label=\"Mean\")\n",
    "plt.plot(df_stats[\"quantile\"], df_stats[\"median\"], marker=\"o\", label=\"Median\")\n",
    "plt.xlabel(\"Quantile\")\n",
    "plt.ylabel(\"Haversine distance error\")\n",
    "plt.title(\"Prediction error vs. quantile\")\n",
    "plt.legend()\n",
    "plt.grid(True)\n",
    "plt.show()"
   ],
   "id": "6ce332bbda0bcf56",
   "outputs": [
    {
     "data": {
      "text/plain": [
       "<Figure size 800x500 with 1 Axes>"
      ],
      "image/png": "[encoded data removed]"
     },
     "metadata": {},
     "output_type": "display_data"
    }
   ],
   "execution_count": 41
  }
 ],
 "metadata": {
  "kernelspec": {
   "display_name": "Python 3",
   "language": "python",
   "name": "python3"
  },
  "language_info": {
   "codemirror_mode": {
    "name": "ipython",
    "version": 2
   },
   "file_extension": ".py",
   "mimetype": "text/x-python",
   "name": "python",
   "nbconvert_exporter": "python",
   "pygments_lexer": "ipython2",
   "version": "2.7.6"
  }
 },
 "nbformat": 4,
 "nbformat_minor": 5
}
