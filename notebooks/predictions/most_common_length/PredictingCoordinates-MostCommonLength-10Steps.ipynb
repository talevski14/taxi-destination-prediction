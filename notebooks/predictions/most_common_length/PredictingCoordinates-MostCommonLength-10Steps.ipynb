{
 "cells": [
  {
   "cell_type": "code",
   "id": "initial_id",
   "metadata": {
    "collapsed": true,
    "ExecuteTime": {
     "end_time": "2025-09-08T18:28:07.279307Z",
     "start_time": "2025-09-08T18:28:06.632048Z"
    }
   },
   "source": [
    "import pandas as pd"
   ],
   "outputs": [],
   "execution_count": 1
  },
  {
   "cell_type": "code",
   "id": "31235c077b90ad65",
   "metadata": {
    "ExecuteTime": {
     "end_time": "2025-09-08T18:28:09.278301Z",
     "start_time": "2025-09-08T18:28:07.279307Z"
    }
   },
   "source": [
    "df = pd.read_parquet(\"../../../data/data_taxi_central_based.parquet\")\n",
    "df = df[df['POLYLINE_LENGTH'] == 41]\n",
    "df"
   ],
   "outputs": [
    {
     "data": {
      "text/plain": [
       "                      TRIP_ID  ORIGIN_CALL   TAXI_ID   TIMESTAMP  \\\n",
       "index                                                              \n",
       "1284      1372638793620000571       2002.0  20000571  1372638793   \n",
       "1285      1372638793620000571       2002.0  20000571  1372638808   \n",
       "1286      1372638793620000571       2002.0  20000571  1372638823   \n",
       "1287      1372638793620000571       2002.0  20000571  1372638838   \n",
       "1288      1372638793620000571       2002.0  20000571  1372638853   \n",
       "...                       ...          ...       ...         ...   \n",
       "83401453  1404155073620000099       4690.0  20000099  1404155613   \n",
       "83401454  1404155073620000099       4690.0  20000099  1404155628   \n",
       "83401455  1404155073620000099       4690.0  20000099  1404155643   \n",
       "83401456  1404155073620000099       4690.0  20000099  1404155658   \n",
       "83401457  1404155073620000099       4690.0  20000099  1404155673   \n",
       "\n",
       "          POLYLINE_LENGTH       LON        LAT  \n",
       "index                                           \n",
       "1284                   41 -8.574705  41.142717  \n",
       "1285                   41 -8.574696  41.142726  \n",
       "1286                   41 -8.574687  41.142726  \n",
       "1287                   41 -8.574678  41.142708  \n",
       "1288                   41 -8.574687  41.142708  \n",
       "...                   ...       ...        ...  \n",
       "83401453               41 -8.620533  41.145957  \n",
       "83401454               41 -8.620542  41.145957  \n",
       "83401455               41 -8.619741  41.146119  \n",
       "83401456               41 -8.617734  41.146524  \n",
       "83401457               41 -8.617770  41.146920  \n",
       "\n",
       "[279784 rows x 7 columns]"
      ],
      "text/html": [
       "<div>\n",
       "<style scoped>\n",
       "    .dataframe tbody tr th:only-of-type {\n",
       "        vertical-align: middle;\n",
       "    }\n",
       "\n",
       "    .dataframe tbody tr th {\n",
       "        vertical-align: top;\n",
       "    }\n",
       "\n",
       "    .dataframe thead th {\n",
       "        text-align: right;\n",
       "    }\n",
       "</style>\n",
       "<table border=\"1\" class=\"dataframe\">\n",
       "  <thead>\n",
       "    <tr style=\"text-align: right;\">\n",
       "      <th></th>\n",
       "      <th>TRIP_ID</th>\n",
       "      <th>ORIGIN_CALL</th>\n",
       "      <th>TAXI_ID</th>\n",
       "      <th>TIMESTAMP</th>\n",
       "      <th>POLYLINE_LENGTH</th>\n",
       "      <th>LON</th>\n",
       "      <th>LAT</th>\n",
       "    </tr>\n",
       "    <tr>\n",
       "      <th>index</th>\n",
       "      <th></th>\n",
       "      <th></th>\n",
       "      <th></th>\n",
       "      <th></th>\n",
       "      <th></th>\n",
       "      <th></th>\n",
       "      <th></th>\n",
       "    </tr>\n",
       "  </thead>\n",
       "  <tbody>\n",
       "    <tr>\n",
       "      <th>1284</th>\n",
       "      <td>1372638793620000571</td>\n",
       "      <td>2002.0</td>\n",
       "      <td>20000571</td>\n",
       "      <td>1372638793</td>\n",
       "      <td>41</td>\n",
       "      <td>-8.574705</td>\n",
       "      <td>41.142717</td>\n",
       "    </tr>\n",
       "    <tr>\n",
       "      <th>1285</th>\n",
       "      <td>1372638793620000571</td>\n",
       "      <td>2002.0</td>\n",
       "      <td>20000571</td>\n",
       "      <td>1372638808</td>\n",
       "      <td>41</td>\n",
       "      <td>-8.574696</td>\n",
       "      <td>41.142726</td>\n",
       "    </tr>\n",
       "    <tr>\n",
       "      <th>1286</th>\n",
       "      <td>1372638793620000571</td>\n",
       "      <td>2002.0</td>\n",
       "      <td>20000571</td>\n",
       "      <td>1372638823</td>\n",
       "      <td>41</td>\n",
       "      <td>-8.574687</td>\n",
       "      <td>41.142726</td>\n",
       "    </tr>\n",
       "    <tr>\n",
       "      <th>1287</th>\n",
       "      <td>1372638793620000571</td>\n",
       "      <td>2002.0</td>\n",
       "      <td>20000571</td>\n",
       "      <td>1372638838</td>\n",
       "      <td>41</td>\n",
       "      <td>-8.574678</td>\n",
       "      <td>41.142708</td>\n",
       "    </tr>\n",
       "    <tr>\n",
       "      <th>1288</th>\n",
       "      <td>1372638793620000571</td>\n",
       "      <td>2002.0</td>\n",
       "      <td>20000571</td>\n",
       "      <td>1372638853</td>\n",
       "      <td>41</td>\n",
       "      <td>-8.574687</td>\n",
       "      <td>41.142708</td>\n",
       "    </tr>\n",
       "    <tr>\n",
       "      <th>...</th>\n",
       "      <td>...</td>\n",
       "      <td>...</td>\n",
       "      <td>...</td>\n",
       "      <td>...</td>\n",
       "      <td>...</td>\n",
       "      <td>...</td>\n",
       "      <td>...</td>\n",
       "    </tr>\n",
       "    <tr>\n",
       "      <th>83401453</th>\n",
       "      <td>1404155073620000099</td>\n",
       "      <td>4690.0</td>\n",
       "      <td>20000099</td>\n",
       "      <td>1404155613</td>\n",
       "      <td>41</td>\n",
       "      <td>-8.620533</td>\n",
       "      <td>41.145957</td>\n",
       "    </tr>\n",
       "    <tr>\n",
       "      <th>83401454</th>\n",
       "      <td>1404155073620000099</td>\n",
       "      <td>4690.0</td>\n",
       "      <td>20000099</td>\n",
       "      <td>1404155628</td>\n",
       "      <td>41</td>\n",
       "      <td>-8.620542</td>\n",
       "      <td>41.145957</td>\n",
       "    </tr>\n",
       "    <tr>\n",
       "      <th>83401455</th>\n",
       "      <td>1404155073620000099</td>\n",
       "      <td>4690.0</td>\n",
       "      <td>20000099</td>\n",
       "      <td>1404155643</td>\n",
       "      <td>41</td>\n",
       "      <td>-8.619741</td>\n",
       "      <td>41.146119</td>\n",
       "    </tr>\n",
       "    <tr>\n",
       "      <th>83401456</th>\n",
       "      <td>1404155073620000099</td>\n",
       "      <td>4690.0</td>\n",
       "      <td>20000099</td>\n",
       "      <td>1404155658</td>\n",
       "      <td>41</td>\n",
       "      <td>-8.617734</td>\n",
       "      <td>41.146524</td>\n",
       "    </tr>\n",
       "    <tr>\n",
       "      <th>83401457</th>\n",
       "      <td>1404155073620000099</td>\n",
       "      <td>4690.0</td>\n",
       "      <td>20000099</td>\n",
       "      <td>1404155673</td>\n",
       "      <td>41</td>\n",
       "      <td>-8.617770</td>\n",
       "      <td>41.146920</td>\n",
       "    </tr>\n",
       "  </tbody>\n",
       "</table>\n",
       "<p>279784 rows × 7 columns</p>\n",
       "</div>"
      ]
     },
     "execution_count": 2,
     "metadata": {},
     "output_type": "execute_result"
    }
   ],
   "execution_count": 2
  },
  {
   "cell_type": "code",
   "id": "ac9990d577976560",
   "metadata": {
    "ExecuteTime": {
     "end_time": "2025-09-08T18:28:13.765780Z",
     "start_time": "2025-09-08T18:28:09.607485Z"
    }
   },
   "source": [
    "import timesfm"
   ],
   "outputs": [
    {
     "name": "stdout",
     "output_type": "stream",
     "text": [
      " See https://github.com/google-research/timesfm/blob/master/README.md for updated APIs.\n",
      "Loaded PyTorch TimesFM, likely because python version is 3.11.13 | packaged by Anaconda, Inc. | (main, Jun  5 2025, 13:03:15) [MSC v.1929 64 bit (AMD64)].\n"
     ]
    }
   ],
   "execution_count": 3
  },
  {
   "cell_type": "code",
   "id": "6d8fdf0c81a15ef0",
   "metadata": {
    "ExecuteTime": {
     "end_time": "2025-09-08T18:28:13.845342Z",
     "start_time": "2025-09-08T18:28:13.833306Z"
    }
   },
   "source": [
    "df_lon = df.drop(columns=['ORIGIN_CALL', 'TAXI_ID', 'POLYLINE_LENGTH', 'LAT'])\n",
    "df_lat = df.drop(columns=['ORIGIN_CALL', 'TAXI_ID', 'POLYLINE_LENGTH', 'LON'])"
   ],
   "outputs": [],
   "execution_count": 4
  },
  {
   "cell_type": "code",
   "id": "aaf2ef79835988e8",
   "metadata": {
    "ExecuteTime": {
     "end_time": "2025-09-08T18:28:22.885625Z",
     "start_time": "2025-09-08T18:28:13.881533Z"
    }
   },
   "source": [
    "tfm_lat = timesfm.TimesFm(\n",
    "      hparams=timesfm.TimesFmHparams(\n",
    "          backend=\"gpu\",\n",
    "          per_core_batch_size=32,\n",
    "          horizon_len=10,\n",
    "          num_layers=50,\n",
    "          use_positional_embedding=False,\n",
    "          context_len=256,\n",
    "      ),\n",
    "      checkpoint=timesfm.TimesFmCheckpoint(\n",
    "          huggingface_repo_id=\"google/timesfm-2.0-500m-pytorch\"),\n",
    "  )"
   ],
   "outputs": [
    {
     "data": {
      "text/plain": [
       "Fetching 5 files:   0%|          | 0/5 [00:00<?, ?it/s]"
      ],
      "application/vnd.jupyter.widget-view+json": {
       "version_major": 2,
       "version_minor": 0,
       "model_id": "bf8b334357824cf3812ce41a6f933eba"
      }
     },
     "metadata": {},
     "output_type": "display_data"
    }
   ],
   "execution_count": 5
  },
  {
   "cell_type": "code",
   "id": "f2bf8bd6ea976c66",
   "metadata": {
    "ExecuteTime": {
     "end_time": "2025-09-08T18:28:28.345808Z",
     "start_time": "2025-09-08T18:28:22.885625Z"
    }
   },
   "source": [
    "tfm_lon = timesfm.TimesFm(\n",
    "      hparams=timesfm.TimesFmHparams(\n",
    "          backend=\"gpu\",\n",
    "          per_core_batch_size=32,\n",
    "          horizon_len=10,\n",
    "          num_layers=50,\n",
    "          use_positional_embedding=False,\n",
    "          context_len=256,\n",
    "      ),\n",
    "      checkpoint=timesfm.TimesFmCheckpoint(\n",
    "          huggingface_repo_id=\"google/timesfm-2.0-500m-pytorch\"),\n",
    "  )"
   ],
   "outputs": [
    {
     "data": {
      "text/plain": [
       "Fetching 5 files:   0%|          | 0/5 [00:00<?, ?it/s]"
      ],
      "application/vnd.jupyter.widget-view+json": {
       "version_major": 2,
       "version_minor": 0,
       "model_id": "7faed19399b94ba1b7fd4cbefc9aa241"
      }
     },
     "metadata": {},
     "output_type": "display_data"
    }
   ],
   "execution_count": 6
  },
  {
   "cell_type": "code",
   "id": "6544a51e861c3cfb",
   "metadata": {
    "ExecuteTime": {
     "end_time": "2025-09-08T18:28:28.522603Z",
     "start_time": "2025-09-08T18:28:28.362533Z"
    }
   },
   "source": [
    "df_lat = df_lat.sort_values(by=['TRIP_ID', 'TIMESTAMP'])\n",
    "df_lat_test = df_lat.groupby('TRIP_ID', group_keys=False).tail(10)\n",
    "df_lat_train = df_lat.drop(df_lat_test.index)"
   ],
   "outputs": [],
   "execution_count": 7
  },
  {
   "cell_type": "code",
   "id": "feca5a661cf1a0d8",
   "metadata": {
    "ExecuteTime": {
     "end_time": "2025-09-08T18:28:28.687475Z",
     "start_time": "2025-09-08T18:28:28.538919Z"
    }
   },
   "source": [
    "df_lon = df_lon.sort_values(by=['TRIP_ID', 'TIMESTAMP'])\n",
    "df_lon_test = df_lon.groupby('TRIP_ID', group_keys=False).tail(10)\n",
    "df_lon_train = df_lon.drop(df_lat_test.index)"
   ],
   "outputs": [],
   "execution_count": 8
  },
  {
   "cell_type": "code",
   "id": "ed9138b5a1f1ef4c",
   "metadata": {
    "ExecuteTime": {
     "end_time": "2025-09-08T18:28:30.234670Z",
     "start_time": "2025-09-08T18:28:28.707685Z"
    }
   },
   "source": [
    "from sklearn.preprocessing import MinMaxScaler\n",
    "scaler_lat = MinMaxScaler()\n",
    "df_lat_train['LAT'] = scaler_lat.fit_transform(df_lat_train[['LAT']])\n",
    "\n",
    "scaler_lon = MinMaxScaler()\n",
    "df_lon_train['LON'] = scaler_lon.fit_transform(df_lon_train[['LON']])"
   ],
   "outputs": [],
   "execution_count": 9
  },
  {
   "cell_type": "code",
   "id": "debca559b45a7aa7",
   "metadata": {
    "ExecuteTime": {
     "end_time": "2025-09-08T18:28:30.312598Z",
     "start_time": "2025-09-08T18:28:30.265616Z"
    }
   },
   "source": [
    "df_lat_train['TIMESTAMP'] = pd.to_datetime(df_lat_train['TIMESTAMP'], unit='s')\n",
    "df_lon_train['TIMESTAMP'] = pd.to_datetime(df_lon_train['TIMESTAMP'], unit='s')"
   ],
   "outputs": [],
   "execution_count": 10
  },
  {
   "cell_type": "code",
   "id": "ac9f39dfe4f0f960",
   "metadata": {
    "ExecuteTime": {
     "end_time": "2025-09-08T18:28:30.371402Z",
     "start_time": "2025-09-08T18:28:30.332116Z"
    }
   },
   "source": [
    "df_lon_train = df_lon_train.rename(columns={'TIMESTAMP': 'ds', 'LON': 'y', 'TRIP_ID': 'unique_id'})\n",
    "df_lat_train = df_lat_train.rename(columns={'TIMESTAMP': 'ds', 'LAT': 'y', 'TRIP_ID': 'unique_id'})"
   ],
   "outputs": [],
   "execution_count": 11
  },
  {
   "cell_type": "code",
   "id": "ed3ada5fe1a7ca0e",
   "metadata": {
    "ExecuteTime": {
     "end_time": "2025-09-08T18:32:32.636624Z",
     "start_time": "2025-09-08T18:28:30.395007Z"
    }
   },
   "source": [
    "forecast_df_lon = tfm_lon.forecast_on_df(\n",
    "    inputs=df_lon_train,\n",
    "    freq=\"15s\",\n",
    "    value_name=\"y\",\n",
    "    num_jobs=-1,\n",
    ")"
   ],
   "outputs": [
    {
     "name": "stdout",
     "output_type": "stream",
     "text": [
      "Processing dataframe with multiple processes.\n",
      "Finished preprocessing dataframe.\n",
      "Finished forecasting.\n"
     ]
    }
   ],
   "execution_count": 12
  },
  {
   "cell_type": "code",
   "id": "8a832bbf399e88c5",
   "metadata": {
    "ExecuteTime": {
     "end_time": "2025-09-08T18:36:30.546389Z",
     "start_time": "2025-09-08T18:32:32.679020Z"
    }
   },
   "source": [
    "forecast_df_lat = tfm_lon.forecast_on_df(\n",
    "    inputs=df_lat_train,\n",
    "    freq=\"15s\",\n",
    "    value_name=\"y\",\n",
    "    num_jobs=-1,\n",
    ")"
   ],
   "outputs": [
    {
     "name": "stdout",
     "output_type": "stream",
     "text": [
      "Processing dataframe with multiple processes.\n",
      "Finished preprocessing dataframe.\n",
      "Finished forecasting.\n"
     ]
    }
   ],
   "execution_count": 13
  },
  {
   "cell_type": "code",
   "id": "e90b98dd91419fa4",
   "metadata": {
    "ExecuteTime": {
     "end_time": "2025-09-08T18:36:30.591775Z",
     "start_time": "2025-09-08T18:36:30.585507Z"
    }
   },
   "source": [
    "forecast_df_lon_keep = forecast_df_lon[['unique_id', 'ds', 'timesfm-q-0.9']]"
   ],
   "outputs": [],
   "execution_count": 14
  },
  {
   "cell_type": "code",
   "id": "8b5c3019c028bff6",
   "metadata": {
    "ExecuteTime": {
     "end_time": "2025-09-08T18:36:30.603607Z",
     "start_time": "2025-09-08T18:36:30.591775Z"
    }
   },
   "source": [
    "forecast_df_lat_keep = forecast_df_lat[['unique_id', 'ds', 'timesfm-q-0.9']]"
   ],
   "outputs": [],
   "execution_count": 15
  },
  {
   "cell_type": "code",
   "id": "28cea87086d776a8",
   "metadata": {
    "ExecuteTime": {
     "end_time": "2025-09-08T18:36:30.642131Z",
     "start_time": "2025-09-08T18:36:30.629402Z"
    }
   },
   "source": [
    "forecast_df_lat_keep['timesfm-q-0.9'] = scaler_lat.inverse_transform(forecast_df_lat_keep[['timesfm-q-0.9']])\n",
    "forecast_df_lon_keep['timesfm-q-0.9'] = scaler_lon.inverse_transform(forecast_df_lon_keep[['timesfm-q-0.9']])"
   ],
   "outputs": [
    {
     "name": "stderr",
     "output_type": "stream",
     "text": [
      "C:\\Users\\Nikola\\AppData\\Local\\Temp\\ipykernel_13204\\3587103272.py:1: SettingWithCopyWarning: \n",
      "A value is trying to be set on a copy of a slice from a DataFrame.\n",
      "Try using .loc[row_indexer,col_indexer] = value instead\n",
      "\n",
      "See the caveats in the documentation: https://pandas.pydata.org/pandas-docs/stable/user_guide/indexing.html#returning-a-view-versus-a-copy\n",
      "  forecast_df_lat_keep['timesfm-q-0.9'] = scaler_lat.inverse_transform(forecast_df_lat_keep[['timesfm-q-0.9']])\n",
      "C:\\Users\\Nikola\\AppData\\Local\\Temp\\ipykernel_13204\\3587103272.py:2: SettingWithCopyWarning: \n",
      "A value is trying to be set on a copy of a slice from a DataFrame.\n",
      "Try using .loc[row_indexer,col_indexer] = value instead\n",
      "\n",
      "See the caveats in the documentation: https://pandas.pydata.org/pandas-docs/stable/user_guide/indexing.html#returning-a-view-versus-a-copy\n",
      "  forecast_df_lon_keep['timesfm-q-0.9'] = scaler_lon.inverse_transform(forecast_df_lon_keep[['timesfm-q-0.9']])\n"
     ]
    }
   ],
   "execution_count": 16
  },
  {
   "cell_type": "code",
   "id": "9fb0429524f5d23b",
   "metadata": {
    "ExecuteTime": {
     "end_time": "2025-09-08T18:36:30.818067Z",
     "start_time": "2025-09-08T18:36:30.811326Z"
    }
   },
   "source": [
    "forecast_df_lat_keep = forecast_df_lat_keep.rename(columns={'timesfm-q-0.9': 'LAT_PREDICTED'})\n",
    "forecast_df_lon_keep = forecast_df_lon_keep.rename(columns={'timesfm-q-0.9': 'LON_PREDICTED'})"
   ],
   "outputs": [],
   "execution_count": 17
  },
  {
   "cell_type": "code",
   "id": "6c129c2e025cb7ae",
   "metadata": {
    "ExecuteTime": {
     "end_time": "2025-09-08T18:36:30.862682Z",
     "start_time": "2025-09-08T18:36:30.820124Z"
    }
   },
   "source": [
    "forecast_df_lat_keep = forecast_df_lat_keep.sort_values(['unique_id', 'ds'])\n",
    "forecast_df_lat_keep = forecast_df_lat_keep.groupby('unique_id').tail(1)\n",
    "\n",
    "forecast_df_lon_keep = forecast_df_lon_keep.sort_values(['unique_id', 'ds'])\n",
    "forecast_df_lon_keep = forecast_df_lon_keep.groupby('unique_id').tail(1)"
   ],
   "outputs": [],
   "execution_count": 18
  },
  {
   "cell_type": "code",
   "id": "46f75c22597f8364",
   "metadata": {
    "ExecuteTime": {
     "end_time": "2025-09-08T18:36:30.932211Z",
     "start_time": "2025-09-08T18:36:30.887457Z"
    }
   },
   "source": [
    "df_lon_test = df_lon_test.rename(columns={'TIMESTAMP': 'ds', 'TRIP_ID': 'unique_id'})\n",
    "df_lon_test = df_lon_test.sort_values(['unique_id', 'ds'])\n",
    "df_lon_test = df_lon_test.groupby('unique_id').tail(1)\n",
    "\n",
    "df_lat_test = df_lat_test.rename(columns={'TIMESTAMP': 'ds', 'TRIP_ID': 'unique_id'})\n",
    "df_lat_test = df_lat_test.sort_values(['unique_id', 'ds'])\n",
    "df_lat_test = df_lat_test.groupby('unique_id').tail(1)"
   ],
   "outputs": [],
   "execution_count": 19
  },
  {
   "cell_type": "code",
   "id": "46b58aacaf850616",
   "metadata": {
    "ExecuteTime": {
     "end_time": "2025-09-08T18:36:30.975776Z",
     "start_time": "2025-09-08T18:36:30.958394Z"
    }
   },
   "source": [
    "result_lat = df_lat_test.merge(forecast_df_lat_keep, how='left', on=['unique_id'])\n",
    "result_lon = df_lon_test.merge(forecast_df_lon_keep, how='left', on=['unique_id'])\n",
    "result = result_lat.merge(result_lon, how='left', on=['unique_id'])"
   ],
   "outputs": [],
   "execution_count": 20
  },
  {
   "cell_type": "code",
   "id": "968067708a9b0d80",
   "metadata": {
    "ExecuteTime": {
     "end_time": "2025-09-08T18:36:31.008695Z",
     "start_time": "2025-09-08T18:36:31.002592Z"
    }
   },
   "source": [
    "from evaluation_script import haversine_distance"
   ],
   "outputs": [],
   "execution_count": 21
  },
  {
   "cell_type": "code",
   "id": "185c32d8ae39f423",
   "metadata": {
    "ExecuteTime": {
     "end_time": "2025-09-08T18:36:31.134607Z",
     "start_time": "2025-09-08T18:36:31.036484Z"
    }
   },
   "source": [
    "result['DISTANCE_DELTA_SEPARATED'] = result.apply(lambda row: haversine_distance(\n",
    "    row['LAT'], row['LON'], row['LAT_PREDICTED'], row['LON_PREDICTED']), axis=1)"
   ],
   "outputs": [],
   "execution_count": 22
  },
  {
   "cell_type": "code",
   "id": "cac3d9e02fc41412",
   "metadata": {
    "ExecuteTime": {
     "end_time": "2025-09-08T18:36:31.167945Z",
     "start_time": "2025-09-08T18:36:31.160893Z"
    }
   },
   "source": [
    "result['DISTANCE_DELTA_SEPARATED'].mean()"
   ],
   "outputs": [
    {
     "data": {
      "text/plain": [
       "np.float64(1.174080572161774)"
      ]
     },
     "execution_count": 23,
     "metadata": {},
     "output_type": "execute_result"
    }
   ],
   "execution_count": 23
  },
  {
   "cell_type": "code",
   "id": "6d6de9b483deb9fa",
   "metadata": {
    "ExecuteTime": {
     "end_time": "2025-09-08T18:36:31.202811Z",
     "start_time": "2025-09-08T18:36:31.194979Z"
    }
   },
   "source": [
    "result['DISTANCE_DELTA_SEPARATED'].median()"
   ],
   "outputs": [
    {
     "data": {
      "text/plain": [
       "np.float64(1.0002941431512482)"
      ]
     },
     "execution_count": 24,
     "metadata": {},
     "output_type": "execute_result"
    }
   ],
   "execution_count": 24
  },
  {
   "metadata": {
    "ExecuteTime": {
     "end_time": "2025-09-08T18:36:31.300475Z",
     "start_time": "2025-09-08T18:36:31.232881Z"
    }
   },
   "cell_type": "code",
   "source": "result.to_csv(\"result.csv\", index=False)",
   "id": "7c8457a4b2a692da",
   "outputs": [],
   "execution_count": 25
  },
  {
   "metadata": {
    "ExecuteTime": {
     "end_time": "2025-09-08T18:36:31.346639Z",
     "start_time": "2025-09-08T18:36:31.328885Z"
    }
   },
   "cell_type": "code",
   "source": "forecast_df_lat",
   "id": "45393fbae5424c2f",
   "outputs": [
    {
     "data": {
      "text/plain": [
       "                 unique_id                  ds   timesfm  timesfm-q-0.1  \\\n",
       "0      1372638793620000571 2013-07-01 00:40:58  0.331735       0.329185   \n",
       "1      1372638793620000571 2013-07-01 00:41:13  0.332792       0.328121   \n",
       "2      1372638793620000571 2013-07-01 00:41:28  0.333953       0.326833   \n",
       "3      1372638793620000571 2013-07-01 00:41:43  0.335331       0.326580   \n",
       "4      1372638793620000571 2013-07-01 00:41:58  0.337362       0.327432   \n",
       "...                    ...                 ...       ...            ...   \n",
       "68235  1404157914620000488 2014-06-30 20:00:54  0.505811       0.476810   \n",
       "68236  1404157914620000488 2014-06-30 20:01:09  0.506427       0.475028   \n",
       "68237  1404157914620000488 2014-06-30 20:01:24  0.506263       0.472467   \n",
       "68238  1404157914620000488 2014-06-30 20:01:39  0.506701       0.470322   \n",
       "68239  1404157914620000488 2014-06-30 20:01:54  0.508183       0.469655   \n",
       "\n",
       "       timesfm-q-0.2  timesfm-q-0.3  timesfm-q-0.4  timesfm-q-0.5  \\\n",
       "0           0.330396       0.330870       0.331252       0.331735   \n",
       "1           0.330296       0.331164       0.332001       0.332792   \n",
       "2           0.329901       0.331493       0.332785       0.333953   \n",
       "3           0.330419       0.332463       0.333943       0.335331   \n",
       "4           0.331884       0.334211       0.335928       0.337362   \n",
       "...              ...            ...            ...            ...   \n",
       "68235       0.488345       0.495281       0.500878       0.505811   \n",
       "68236       0.487511       0.494978       0.501048       0.506427   \n",
       "68237       0.486033       0.493980       0.500534       0.506263   \n",
       "68238       0.485071       0.493643       0.500588       0.506701   \n",
       "68239       0.485378       0.494535       0.501813       0.508183   \n",
       "\n",
       "       timesfm-q-0.6  timesfm-q-0.7  timesfm-q-0.8  timesfm-q-0.9  \n",
       "0           0.332477       0.333558       0.334935       0.337228  \n",
       "1           0.333842       0.335453       0.337249       0.339932  \n",
       "2           0.335297       0.337187       0.339264       0.342113  \n",
       "3           0.336834       0.338767       0.340811       0.343698  \n",
       "4           0.338904       0.340857       0.342681       0.345436  \n",
       "...              ...            ...            ...            ...  \n",
       "68235       0.510763       0.516350       0.522260       0.530625  \n",
       "68236       0.511782       0.517802       0.524195       0.532840  \n",
       "68237       0.511904       0.518263       0.524967       0.533708  \n",
       "68238       0.512670       0.519295       0.526171       0.535090  \n",
       "68239       0.514460       0.521287       0.528318       0.537364  \n",
       "\n",
       "[68240 rows x 12 columns]"
      ],
      "text/html": [
       "<div>\n",
       "<style scoped>\n",
       "    .dataframe tbody tr th:only-of-type {\n",
       "        vertical-align: middle;\n",
       "    }\n",
       "\n",
       "    .dataframe tbody tr th {\n",
       "        vertical-align: top;\n",
       "    }\n",
       "\n",
       "    .dataframe thead th {\n",
       "        text-align: right;\n",
       "    }\n",
       "</style>\n",
       "<table border=\"1\" class=\"dataframe\">\n",
       "  <thead>\n",
       "    <tr style=\"text-align: right;\">\n",
       "      <th></th>\n",
       "      <th>unique_id</th>\n",
       "      <th>ds</th>\n",
       "      <th>timesfm</th>\n",
       "      <th>timesfm-q-0.1</th>\n",
       "      <th>timesfm-q-0.2</th>\n",
       "      <th>timesfm-q-0.3</th>\n",
       "      <th>timesfm-q-0.4</th>\n",
       "      <th>timesfm-q-0.5</th>\n",
       "      <th>timesfm-q-0.6</th>\n",
       "      <th>timesfm-q-0.7</th>\n",
       "      <th>timesfm-q-0.8</th>\n",
       "      <th>timesfm-q-0.9</th>\n",
       "    </tr>\n",
       "  </thead>\n",
       "  <tbody>\n",
       "    <tr>\n",
       "      <th>0</th>\n",
       "      <td>1372638793620000571</td>\n",
       "      <td>2013-07-01 00:40:58</td>\n",
       "      <td>0.331735</td>\n",
       "      <td>0.329185</td>\n",
       "      <td>0.330396</td>\n",
       "      <td>0.330870</td>\n",
       "      <td>0.331252</td>\n",
       "      <td>0.331735</td>\n",
       "      <td>0.332477</td>\n",
       "      <td>0.333558</td>\n",
       "      <td>0.334935</td>\n",
       "      <td>0.337228</td>\n",
       "    </tr>\n",
       "    <tr>\n",
       "      <th>1</th>\n",
       "      <td>1372638793620000571</td>\n",
       "      <td>2013-07-01 00:41:13</td>\n",
       "      <td>0.332792</td>\n",
       "      <td>0.328121</td>\n",
       "      <td>0.330296</td>\n",
       "      <td>0.331164</td>\n",
       "      <td>0.332001</td>\n",
       "      <td>0.332792</td>\n",
       "      <td>0.333842</td>\n",
       "      <td>0.335453</td>\n",
       "      <td>0.337249</td>\n",
       "      <td>0.339932</td>\n",
       "    </tr>\n",
       "    <tr>\n",
       "      <th>2</th>\n",
       "      <td>1372638793620000571</td>\n",
       "      <td>2013-07-01 00:41:28</td>\n",
       "      <td>0.333953</td>\n",
       "      <td>0.326833</td>\n",
       "      <td>0.329901</td>\n",
       "      <td>0.331493</td>\n",
       "      <td>0.332785</td>\n",
       "      <td>0.333953</td>\n",
       "      <td>0.335297</td>\n",
       "      <td>0.337187</td>\n",
       "      <td>0.339264</td>\n",
       "      <td>0.342113</td>\n",
       "    </tr>\n",
       "    <tr>\n",
       "      <th>3</th>\n",
       "      <td>1372638793620000571</td>\n",
       "      <td>2013-07-01 00:41:43</td>\n",
       "      <td>0.335331</td>\n",
       "      <td>0.326580</td>\n",
       "      <td>0.330419</td>\n",
       "      <td>0.332463</td>\n",
       "      <td>0.333943</td>\n",
       "      <td>0.335331</td>\n",
       "      <td>0.336834</td>\n",
       "      <td>0.338767</td>\n",
       "      <td>0.340811</td>\n",
       "      <td>0.343698</td>\n",
       "    </tr>\n",
       "    <tr>\n",
       "      <th>4</th>\n",
       "      <td>1372638793620000571</td>\n",
       "      <td>2013-07-01 00:41:58</td>\n",
       "      <td>0.337362</td>\n",
       "      <td>0.327432</td>\n",
       "      <td>0.331884</td>\n",
       "      <td>0.334211</td>\n",
       "      <td>0.335928</td>\n",
       "      <td>0.337362</td>\n",
       "      <td>0.338904</td>\n",
       "      <td>0.340857</td>\n",
       "      <td>0.342681</td>\n",
       "      <td>0.345436</td>\n",
       "    </tr>\n",
       "    <tr>\n",
       "      <th>...</th>\n",
       "      <td>...</td>\n",
       "      <td>...</td>\n",
       "      <td>...</td>\n",
       "      <td>...</td>\n",
       "      <td>...</td>\n",
       "      <td>...</td>\n",
       "      <td>...</td>\n",
       "      <td>...</td>\n",
       "      <td>...</td>\n",
       "      <td>...</td>\n",
       "      <td>...</td>\n",
       "      <td>...</td>\n",
       "    </tr>\n",
       "    <tr>\n",
       "      <th>68235</th>\n",
       "      <td>1404157914620000488</td>\n",
       "      <td>2014-06-30 20:00:54</td>\n",
       "      <td>0.505811</td>\n",
       "      <td>0.476810</td>\n",
       "      <td>0.488345</td>\n",
       "      <td>0.495281</td>\n",
       "      <td>0.500878</td>\n",
       "      <td>0.505811</td>\n",
       "      <td>0.510763</td>\n",
       "      <td>0.516350</td>\n",
       "      <td>0.522260</td>\n",
       "      <td>0.530625</td>\n",
       "    </tr>\n",
       "    <tr>\n",
       "      <th>68236</th>\n",
       "      <td>1404157914620000488</td>\n",
       "      <td>2014-06-30 20:01:09</td>\n",
       "      <td>0.506427</td>\n",
       "      <td>0.475028</td>\n",
       "      <td>0.487511</td>\n",
       "      <td>0.494978</td>\n",
       "      <td>0.501048</td>\n",
       "      <td>0.506427</td>\n",
       "      <td>0.511782</td>\n",
       "      <td>0.517802</td>\n",
       "      <td>0.524195</td>\n",
       "      <td>0.532840</td>\n",
       "    </tr>\n",
       "    <tr>\n",
       "      <th>68237</th>\n",
       "      <td>1404157914620000488</td>\n",
       "      <td>2014-06-30 20:01:24</td>\n",
       "      <td>0.506263</td>\n",
       "      <td>0.472467</td>\n",
       "      <td>0.486033</td>\n",
       "      <td>0.493980</td>\n",
       "      <td>0.500534</td>\n",
       "      <td>0.506263</td>\n",
       "      <td>0.511904</td>\n",
       "      <td>0.518263</td>\n",
       "      <td>0.524967</td>\n",
       "      <td>0.533708</td>\n",
       "    </tr>\n",
       "    <tr>\n",
       "      <th>68238</th>\n",
       "      <td>1404157914620000488</td>\n",
       "      <td>2014-06-30 20:01:39</td>\n",
       "      <td>0.506701</td>\n",
       "      <td>0.470322</td>\n",
       "      <td>0.485071</td>\n",
       "      <td>0.493643</td>\n",
       "      <td>0.500588</td>\n",
       "      <td>0.506701</td>\n",
       "      <td>0.512670</td>\n",
       "      <td>0.519295</td>\n",
       "      <td>0.526171</td>\n",
       "      <td>0.535090</td>\n",
       "    </tr>\n",
       "    <tr>\n",
       "      <th>68239</th>\n",
       "      <td>1404157914620000488</td>\n",
       "      <td>2014-06-30 20:01:54</td>\n",
       "      <td>0.508183</td>\n",
       "      <td>0.469655</td>\n",
       "      <td>0.485378</td>\n",
       "      <td>0.494535</td>\n",
       "      <td>0.501813</td>\n",
       "      <td>0.508183</td>\n",
       "      <td>0.514460</td>\n",
       "      <td>0.521287</td>\n",
       "      <td>0.528318</td>\n",
       "      <td>0.537364</td>\n",
       "    </tr>\n",
       "  </tbody>\n",
       "</table>\n",
       "<p>68240 rows × 12 columns</p>\n",
       "</div>"
      ]
     },
     "execution_count": 26,
     "metadata": {},
     "output_type": "execute_result"
    }
   ],
   "execution_count": 26
  },
  {
   "metadata": {
    "ExecuteTime": {
     "end_time": "2025-09-08T18:36:31.388317Z",
     "start_time": "2025-09-08T18:36:31.382884Z"
    }
   },
   "cell_type": "code",
   "source": "columns = ['timesfm-q-0.1', 'timesfm-q-0.2', 'timesfm-q-0.3', 'timesfm-q-0.4', 'timesfm-q-0.5', 'timesfm-q-0.6', 'timesfm-q-0.7', 'timesfm-q-0.8', 'timesfm-q-0.9']",
   "id": "ddc759e5de2c638d",
   "outputs": [],
   "execution_count": 27
  },
  {
   "metadata": {
    "ExecuteTime": {
     "end_time": "2025-09-08T18:36:31.456811Z",
     "start_time": "2025-09-08T18:36:31.423283Z"
    }
   },
   "cell_type": "code",
   "source": [
    "for column in columns:\n",
    "    forecast_df_lat[column] = scaler_lat.inverse_transform(forecast_df_lat[[column]])\n",
    "    forecast_df_lon[column] = scaler_lon.inverse_transform(forecast_df_lon[[column]])"
   ],
   "id": "82dd7cbf5aa99617",
   "outputs": [],
   "execution_count": 28
  },
  {
   "metadata": {
    "ExecuteTime": {
     "end_time": "2025-09-08T18:36:31.555675Z",
     "start_time": "2025-09-08T18:36:31.508255Z"
    }
   },
   "cell_type": "code",
   "source": [
    "forecast_df_lat = forecast_df_lat.sort_values(['unique_id', 'ds'])\n",
    "forecast_df_lat = forecast_df_lat.groupby('unique_id').tail(1)\n",
    "\n",
    "forecast_df_lon = forecast_df_lon.sort_values(['unique_id', 'ds'])\n",
    "forecast_df_lon = forecast_df_lon.groupby('unique_id').tail(1)"
   ],
   "id": "b2fda8e739fb7d89",
   "outputs": [],
   "execution_count": 29
  },
  {
   "metadata": {
    "ExecuteTime": {
     "end_time": "2025-09-08T18:36:31.599317Z",
     "start_time": "2025-09-08T18:36:31.573756Z"
    }
   },
   "cell_type": "code",
   "source": [
    "result_lat = df_lat_test.merge(forecast_df_lat, how='left', on=['unique_id'])\n",
    "result_lon = df_lon_test.merge(forecast_df_lon, how='left', on=['unique_id'])\n",
    "result = result_lat.merge(result_lon, how='left', on=['unique_id'])"
   ],
   "id": "3fa6cd2f9dc4851c",
   "outputs": [],
   "execution_count": 30
  },
  {
   "metadata": {
    "ExecuteTime": {
     "end_time": "2025-09-08T18:36:31.666349Z",
     "start_time": "2025-09-08T18:36:31.636921Z"
    }
   },
   "cell_type": "code",
   "source": "result",
   "id": "f2225daebef6cedd",
   "outputs": [
    {
     "data": {
      "text/plain": [
       "                unique_id      ds_x_x        LAT              ds_y_x  \\\n",
       "0     1372638793620000571  1372639393  41.142636 2013-07-01 00:43:13   \n",
       "1     1372641068620000178  1372641668  41.124366 2013-07-01 01:21:08   \n",
       "2     1372656887620000167  1372657487  41.150844 2013-07-01 05:44:47   \n",
       "3     1372657987620000623  1372658587  41.154570 2013-07-01 06:03:07   \n",
       "4     1372660930620000571  1372661530  41.120118 2013-07-01 06:52:10   \n",
       "...                   ...         ...        ...                 ...   \n",
       "6819  1404155056620000206  1404155656  41.151906 2014-06-30 19:14:16   \n",
       "6820  1404155073620000099  1404155673  41.146920 2014-06-30 19:14:33   \n",
       "6821  1404155819620000242  1404156419  41.171085 2014-06-30 19:26:59   \n",
       "6822  1404157331620000343  1404157931  41.157612 2014-06-30 19:52:11   \n",
       "6823  1404157914620000488  1404158514  41.166792 2014-06-30 20:01:54   \n",
       "\n",
       "      timesfm_x  timesfm-q-0.1_x  timesfm-q-0.2_x  timesfm-q-0.3_x  \\\n",
       "0      0.345431        41.141254        41.142296        41.142868   \n",
       "1      0.212926        41.116901        41.119637        41.121231   \n",
       "2      0.387592        41.145706        41.147312        41.148319   \n",
       "3      0.498290        41.158703        41.161804        41.163734   \n",
       "4      0.179246        41.104908        41.109665        41.112713   \n",
       "...         ...              ...              ...              ...   \n",
       "6819   0.403535        41.151909        41.152069        41.152195   \n",
       "6820   0.352169        41.142075        41.143044        41.143661   \n",
       "6821   0.533000        41.161255        41.165176        41.167927   \n",
       "6822   0.410449        41.150898        41.152061        41.152744   \n",
       "6823   0.508183        41.162533        41.164932        41.166332   \n",
       "\n",
       "      timesfm-q-0.4_x  timesfm-q-0.5_x  ...  timesfm_y  timesfm-q-0.1_y  \\\n",
       "0           41.143261        41.143547  ...   0.405764        -8.641284   \n",
       "1           41.122337        41.123302  ...   0.529034        -8.608447   \n",
       "2           41.149162        41.149986  ...   0.192813        -8.681437   \n",
       "3           41.165386        41.166904  ...   0.220539        -8.671474   \n",
       "4           41.115482        41.118156  ...   0.580279        -8.611526   \n",
       "...               ...              ...  ...        ...              ...   \n",
       "6819        41.152298        41.152428  ...   0.467723        -8.624367   \n",
       "6820        41.144146        41.144581  ...   0.446403        -8.622550   \n",
       "6821        41.170231        41.172207  ...   0.523873        -8.631377   \n",
       "6822        41.153191        41.153481  ...   0.328734        -8.650469   \n",
       "6823        41.167442        41.168415  ...   0.564426        -8.633773   \n",
       "\n",
       "      timesfm-q-0.2_y  timesfm-q-0.3_y  timesfm-q-0.4_y  timesfm-q-0.5_y  \\\n",
       "0           -8.636547        -8.633628        -8.631207        -8.628679   \n",
       "1           -8.607171        -8.606368        -8.605744        -8.605149   \n",
       "2           -8.676126        -8.673088        -8.671062        -8.669328   \n",
       "3           -8.668164        -8.666455        -8.665264        -8.664035   \n",
       "4           -8.605657        -8.601750        -8.598458        -8.595367   \n",
       "...               ...              ...              ...              ...   \n",
       "6819        -8.621070        -8.619102        -8.617848        -8.616853   \n",
       "6820        -8.622005        -8.621600        -8.621249        -8.620922   \n",
       "6821        -8.621357        -8.614936        -8.610050        -8.606134   \n",
       "6822        -8.647728        -8.646021        -8.644661        -8.643383   \n",
       "6823        -8.621471        -8.612397        -8.604758        -8.598393   \n",
       "\n",
       "     timesfm-q-0.6_y  timesfm-q-0.7_y  timesfm-q-0.8_y  timesfm-q-0.9_y  \n",
       "0          -8.625636        -8.621869        -8.616815        -8.608926  \n",
       "1          -8.604590        -8.603975        -8.603275        -8.602176  \n",
       "2          -8.667459        -8.665147        -8.661880        -8.656393  \n",
       "3          -8.662571        -8.660479        -8.657239        -8.652020  \n",
       "4          -8.592402        -8.589149        -8.585755        -8.581001  \n",
       "...              ...              ...              ...              ...  \n",
       "6819       -8.616142        -8.615449        -8.614414        -8.612700  \n",
       "6820       -8.620641        -8.620367        -8.620074        -8.619659  \n",
       "6821       -8.602602        -8.598940        -8.594738        -8.587280  \n",
       "6822       -8.641982        -8.640134        -8.637764        -8.634192  \n",
       "6823       -8.592993        -8.587605        -8.582161        -8.573846  \n",
       "\n",
       "[6824 rows x 27 columns]"
      ],
      "text/html": [
       "<div>\n",
       "<style scoped>\n",
       "    .dataframe tbody tr th:only-of-type {\n",
       "        vertical-align: middle;\n",
       "    }\n",
       "\n",
       "    .dataframe tbody tr th {\n",
       "        vertical-align: top;\n",
       "    }\n",
       "\n",
       "    .dataframe thead th {\n",
       "        text-align: right;\n",
       "    }\n",
       "</style>\n",
       "<table border=\"1\" class=\"dataframe\">\n",
       "  <thead>\n",
       "    <tr style=\"text-align: right;\">\n",
       "      <th></th>\n",
       "      <th>unique_id</th>\n",
       "      <th>ds_x_x</th>\n",
       "      <th>LAT</th>\n",
       "      <th>ds_y_x</th>\n",
       "      <th>timesfm_x</th>\n",
       "      <th>timesfm-q-0.1_x</th>\n",
       "      <th>timesfm-q-0.2_x</th>\n",
       "      <th>timesfm-q-0.3_x</th>\n",
       "      <th>timesfm-q-0.4_x</th>\n",
       "      <th>timesfm-q-0.5_x</th>\n",
       "      <th>...</th>\n",
       "      <th>timesfm_y</th>\n",
       "      <th>timesfm-q-0.1_y</th>\n",
       "      <th>timesfm-q-0.2_y</th>\n",
       "      <th>timesfm-q-0.3_y</th>\n",
       "      <th>timesfm-q-0.4_y</th>\n",
       "      <th>timesfm-q-0.5_y</th>\n",
       "      <th>timesfm-q-0.6_y</th>\n",
       "      <th>timesfm-q-0.7_y</th>\n",
       "      <th>timesfm-q-0.8_y</th>\n",
       "      <th>timesfm-q-0.9_y</th>\n",
       "    </tr>\n",
       "  </thead>\n",
       "  <tbody>\n",
       "    <tr>\n",
       "      <th>0</th>\n",
       "      <td>1372638793620000571</td>\n",
       "      <td>1372639393</td>\n",
       "      <td>41.142636</td>\n",
       "      <td>2013-07-01 00:43:13</td>\n",
       "      <td>0.345431</td>\n",
       "      <td>41.141254</td>\n",
       "      <td>41.142296</td>\n",
       "      <td>41.142868</td>\n",
       "      <td>41.143261</td>\n",
       "      <td>41.143547</td>\n",
       "      <td>...</td>\n",
       "      <td>0.405764</td>\n",
       "      <td>-8.641284</td>\n",
       "      <td>-8.636547</td>\n",
       "      <td>-8.633628</td>\n",
       "      <td>-8.631207</td>\n",
       "      <td>-8.628679</td>\n",
       "      <td>-8.625636</td>\n",
       "      <td>-8.621869</td>\n",
       "      <td>-8.616815</td>\n",
       "      <td>-8.608926</td>\n",
       "    </tr>\n",
       "    <tr>\n",
       "      <th>1</th>\n",
       "      <td>1372641068620000178</td>\n",
       "      <td>1372641668</td>\n",
       "      <td>41.124366</td>\n",
       "      <td>2013-07-01 01:21:08</td>\n",
       "      <td>0.212926</td>\n",
       "      <td>41.116901</td>\n",
       "      <td>41.119637</td>\n",
       "      <td>41.121231</td>\n",
       "      <td>41.122337</td>\n",
       "      <td>41.123302</td>\n",
       "      <td>...</td>\n",
       "      <td>0.529034</td>\n",
       "      <td>-8.608447</td>\n",
       "      <td>-8.607171</td>\n",
       "      <td>-8.606368</td>\n",
       "      <td>-8.605744</td>\n",
       "      <td>-8.605149</td>\n",
       "      <td>-8.604590</td>\n",
       "      <td>-8.603975</td>\n",
       "      <td>-8.603275</td>\n",
       "      <td>-8.602176</td>\n",
       "    </tr>\n",
       "    <tr>\n",
       "      <th>2</th>\n",
       "      <td>1372656887620000167</td>\n",
       "      <td>1372657487</td>\n",
       "      <td>41.150844</td>\n",
       "      <td>2013-07-01 05:44:47</td>\n",
       "      <td>0.387592</td>\n",
       "      <td>41.145706</td>\n",
       "      <td>41.147312</td>\n",
       "      <td>41.148319</td>\n",
       "      <td>41.149162</td>\n",
       "      <td>41.149986</td>\n",
       "      <td>...</td>\n",
       "      <td>0.192813</td>\n",
       "      <td>-8.681437</td>\n",
       "      <td>-8.676126</td>\n",
       "      <td>-8.673088</td>\n",
       "      <td>-8.671062</td>\n",
       "      <td>-8.669328</td>\n",
       "      <td>-8.667459</td>\n",
       "      <td>-8.665147</td>\n",
       "      <td>-8.661880</td>\n",
       "      <td>-8.656393</td>\n",
       "    </tr>\n",
       "    <tr>\n",
       "      <th>3</th>\n",
       "      <td>1372657987620000623</td>\n",
       "      <td>1372658587</td>\n",
       "      <td>41.154570</td>\n",
       "      <td>2013-07-01 06:03:07</td>\n",
       "      <td>0.498290</td>\n",
       "      <td>41.158703</td>\n",
       "      <td>41.161804</td>\n",
       "      <td>41.163734</td>\n",
       "      <td>41.165386</td>\n",
       "      <td>41.166904</td>\n",
       "      <td>...</td>\n",
       "      <td>0.220539</td>\n",
       "      <td>-8.671474</td>\n",
       "      <td>-8.668164</td>\n",
       "      <td>-8.666455</td>\n",
       "      <td>-8.665264</td>\n",
       "      <td>-8.664035</td>\n",
       "      <td>-8.662571</td>\n",
       "      <td>-8.660479</td>\n",
       "      <td>-8.657239</td>\n",
       "      <td>-8.652020</td>\n",
       "    </tr>\n",
       "    <tr>\n",
       "      <th>4</th>\n",
       "      <td>1372660930620000571</td>\n",
       "      <td>1372661530</td>\n",
       "      <td>41.120118</td>\n",
       "      <td>2013-07-01 06:52:10</td>\n",
       "      <td>0.179246</td>\n",
       "      <td>41.104908</td>\n",
       "      <td>41.109665</td>\n",
       "      <td>41.112713</td>\n",
       "      <td>41.115482</td>\n",
       "      <td>41.118156</td>\n",
       "      <td>...</td>\n",
       "      <td>0.580279</td>\n",
       "      <td>-8.611526</td>\n",
       "      <td>-8.605657</td>\n",
       "      <td>-8.601750</td>\n",
       "      <td>-8.598458</td>\n",
       "      <td>-8.595367</td>\n",
       "      <td>-8.592402</td>\n",
       "      <td>-8.589149</td>\n",
       "      <td>-8.585755</td>\n",
       "      <td>-8.581001</td>\n",
       "    </tr>\n",
       "    <tr>\n",
       "      <th>...</th>\n",
       "      <td>...</td>\n",
       "      <td>...</td>\n",
       "      <td>...</td>\n",
       "      <td>...</td>\n",
       "      <td>...</td>\n",
       "      <td>...</td>\n",
       "      <td>...</td>\n",
       "      <td>...</td>\n",
       "      <td>...</td>\n",
       "      <td>...</td>\n",
       "      <td>...</td>\n",
       "      <td>...</td>\n",
       "      <td>...</td>\n",
       "      <td>...</td>\n",
       "      <td>...</td>\n",
       "      <td>...</td>\n",
       "      <td>...</td>\n",
       "      <td>...</td>\n",
       "      <td>...</td>\n",
       "      <td>...</td>\n",
       "      <td>...</td>\n",
       "    </tr>\n",
       "    <tr>\n",
       "      <th>6819</th>\n",
       "      <td>1404155056620000206</td>\n",
       "      <td>1404155656</td>\n",
       "      <td>41.151906</td>\n",
       "      <td>2014-06-30 19:14:16</td>\n",
       "      <td>0.403535</td>\n",
       "      <td>41.151909</td>\n",
       "      <td>41.152069</td>\n",
       "      <td>41.152195</td>\n",
       "      <td>41.152298</td>\n",
       "      <td>41.152428</td>\n",
       "      <td>...</td>\n",
       "      <td>0.467723</td>\n",
       "      <td>-8.624367</td>\n",
       "      <td>-8.621070</td>\n",
       "      <td>-8.619102</td>\n",
       "      <td>-8.617848</td>\n",
       "      <td>-8.616853</td>\n",
       "      <td>-8.616142</td>\n",
       "      <td>-8.615449</td>\n",
       "      <td>-8.614414</td>\n",
       "      <td>-8.612700</td>\n",
       "    </tr>\n",
       "    <tr>\n",
       "      <th>6820</th>\n",
       "      <td>1404155073620000099</td>\n",
       "      <td>1404155673</td>\n",
       "      <td>41.146920</td>\n",
       "      <td>2014-06-30 19:14:33</td>\n",
       "      <td>0.352169</td>\n",
       "      <td>41.142075</td>\n",
       "      <td>41.143044</td>\n",
       "      <td>41.143661</td>\n",
       "      <td>41.144146</td>\n",
       "      <td>41.144581</td>\n",
       "      <td>...</td>\n",
       "      <td>0.446403</td>\n",
       "      <td>-8.622550</td>\n",
       "      <td>-8.622005</td>\n",
       "      <td>-8.621600</td>\n",
       "      <td>-8.621249</td>\n",
       "      <td>-8.620922</td>\n",
       "      <td>-8.620641</td>\n",
       "      <td>-8.620367</td>\n",
       "      <td>-8.620074</td>\n",
       "      <td>-8.619659</td>\n",
       "    </tr>\n",
       "    <tr>\n",
       "      <th>6821</th>\n",
       "      <td>1404155819620000242</td>\n",
       "      <td>1404156419</td>\n",
       "      <td>41.171085</td>\n",
       "      <td>2014-06-30 19:26:59</td>\n",
       "      <td>0.533000</td>\n",
       "      <td>41.161255</td>\n",
       "      <td>41.165176</td>\n",
       "      <td>41.167927</td>\n",
       "      <td>41.170231</td>\n",
       "      <td>41.172207</td>\n",
       "      <td>...</td>\n",
       "      <td>0.523873</td>\n",
       "      <td>-8.631377</td>\n",
       "      <td>-8.621357</td>\n",
       "      <td>-8.614936</td>\n",
       "      <td>-8.610050</td>\n",
       "      <td>-8.606134</td>\n",
       "      <td>-8.602602</td>\n",
       "      <td>-8.598940</td>\n",
       "      <td>-8.594738</td>\n",
       "      <td>-8.587280</td>\n",
       "    </tr>\n",
       "    <tr>\n",
       "      <th>6822</th>\n",
       "      <td>1404157331620000343</td>\n",
       "      <td>1404157931</td>\n",
       "      <td>41.157612</td>\n",
       "      <td>2014-06-30 19:52:11</td>\n",
       "      <td>0.410449</td>\n",
       "      <td>41.150898</td>\n",
       "      <td>41.152061</td>\n",
       "      <td>41.152744</td>\n",
       "      <td>41.153191</td>\n",
       "      <td>41.153481</td>\n",
       "      <td>...</td>\n",
       "      <td>0.328734</td>\n",
       "      <td>-8.650469</td>\n",
       "      <td>-8.647728</td>\n",
       "      <td>-8.646021</td>\n",
       "      <td>-8.644661</td>\n",
       "      <td>-8.643383</td>\n",
       "      <td>-8.641982</td>\n",
       "      <td>-8.640134</td>\n",
       "      <td>-8.637764</td>\n",
       "      <td>-8.634192</td>\n",
       "    </tr>\n",
       "    <tr>\n",
       "      <th>6823</th>\n",
       "      <td>1404157914620000488</td>\n",
       "      <td>1404158514</td>\n",
       "      <td>41.166792</td>\n",
       "      <td>2014-06-30 20:01:54</td>\n",
       "      <td>0.508183</td>\n",
       "      <td>41.162533</td>\n",
       "      <td>41.164932</td>\n",
       "      <td>41.166332</td>\n",
       "      <td>41.167442</td>\n",
       "      <td>41.168415</td>\n",
       "      <td>...</td>\n",
       "      <td>0.564426</td>\n",
       "      <td>-8.633773</td>\n",
       "      <td>-8.621471</td>\n",
       "      <td>-8.612397</td>\n",
       "      <td>-8.604758</td>\n",
       "      <td>-8.598393</td>\n",
       "      <td>-8.592993</td>\n",
       "      <td>-8.587605</td>\n",
       "      <td>-8.582161</td>\n",
       "      <td>-8.573846</td>\n",
       "    </tr>\n",
       "  </tbody>\n",
       "</table>\n",
       "<p>6824 rows × 27 columns</p>\n",
       "</div>"
      ]
     },
     "execution_count": 31,
     "metadata": {},
     "output_type": "execute_result"
    }
   ],
   "execution_count": 31
  },
  {
   "metadata": {
    "ExecuteTime": {
     "end_time": "2025-09-08T18:36:31.749136Z",
     "start_time": "2025-09-08T18:36:31.739716Z"
    }
   },
   "cell_type": "code",
   "source": "df_lat_test",
   "id": "49054dc6e70aea13",
   "outputs": [
    {
     "data": {
      "text/plain": [
       "                    unique_id          ds        LAT\n",
       "index                                               \n",
       "1324      1372638793620000571  1372639393  41.142636\n",
       "6569      1372641068620000178  1372641668  41.124366\n",
       "23524     1372656887620000167  1372657487  41.150844\n",
       "19767     1372657987620000623  1372658587  41.154570\n",
       "57958     1372660930620000571  1372661530  41.120118\n",
       "...                       ...         ...        ...\n",
       "83349437  1404155056620000206  1404155656  41.151906\n",
       "83401457  1404155073620000099  1404155673  41.146920\n",
       "83362183  1404155819620000242  1404156419  41.171085\n",
       "83361733  1404157331620000343  1404157931  41.157612\n",
       "83359067  1404157914620000488  1404158514  41.166792\n",
       "\n",
       "[6824 rows x 3 columns]"
      ],
      "text/html": [
       "<div>\n",
       "<style scoped>\n",
       "    .dataframe tbody tr th:only-of-type {\n",
       "        vertical-align: middle;\n",
       "    }\n",
       "\n",
       "    .dataframe tbody tr th {\n",
       "        vertical-align: top;\n",
       "    }\n",
       "\n",
       "    .dataframe thead th {\n",
       "        text-align: right;\n",
       "    }\n",
       "</style>\n",
       "<table border=\"1\" class=\"dataframe\">\n",
       "  <thead>\n",
       "    <tr style=\"text-align: right;\">\n",
       "      <th></th>\n",
       "      <th>unique_id</th>\n",
       "      <th>ds</th>\n",
       "      <th>LAT</th>\n",
       "    </tr>\n",
       "    <tr>\n",
       "      <th>index</th>\n",
       "      <th></th>\n",
       "      <th></th>\n",
       "      <th></th>\n",
       "    </tr>\n",
       "  </thead>\n",
       "  <tbody>\n",
       "    <tr>\n",
       "      <th>1324</th>\n",
       "      <td>1372638793620000571</td>\n",
       "      <td>1372639393</td>\n",
       "      <td>41.142636</td>\n",
       "    </tr>\n",
       "    <tr>\n",
       "      <th>6569</th>\n",
       "      <td>1372641068620000178</td>\n",
       "      <td>1372641668</td>\n",
       "      <td>41.124366</td>\n",
       "    </tr>\n",
       "    <tr>\n",
       "      <th>23524</th>\n",
       "      <td>1372656887620000167</td>\n",
       "      <td>1372657487</td>\n",
       "      <td>41.150844</td>\n",
       "    </tr>\n",
       "    <tr>\n",
       "      <th>19767</th>\n",
       "      <td>1372657987620000623</td>\n",
       "      <td>1372658587</td>\n",
       "      <td>41.154570</td>\n",
       "    </tr>\n",
       "    <tr>\n",
       "      <th>57958</th>\n",
       "      <td>1372660930620000571</td>\n",
       "      <td>1372661530</td>\n",
       "      <td>41.120118</td>\n",
       "    </tr>\n",
       "    <tr>\n",
       "      <th>...</th>\n",
       "      <td>...</td>\n",
       "      <td>...</td>\n",
       "      <td>...</td>\n",
       "    </tr>\n",
       "    <tr>\n",
       "      <th>83349437</th>\n",
       "      <td>1404155056620000206</td>\n",
       "      <td>1404155656</td>\n",
       "      <td>41.151906</td>\n",
       "    </tr>\n",
       "    <tr>\n",
       "      <th>83401457</th>\n",
       "      <td>1404155073620000099</td>\n",
       "      <td>1404155673</td>\n",
       "      <td>41.146920</td>\n",
       "    </tr>\n",
       "    <tr>\n",
       "      <th>83362183</th>\n",
       "      <td>1404155819620000242</td>\n",
       "      <td>1404156419</td>\n",
       "      <td>41.171085</td>\n",
       "    </tr>\n",
       "    <tr>\n",
       "      <th>83361733</th>\n",
       "      <td>1404157331620000343</td>\n",
       "      <td>1404157931</td>\n",
       "      <td>41.157612</td>\n",
       "    </tr>\n",
       "    <tr>\n",
       "      <th>83359067</th>\n",
       "      <td>1404157914620000488</td>\n",
       "      <td>1404158514</td>\n",
       "      <td>41.166792</td>\n",
       "    </tr>\n",
       "  </tbody>\n",
       "</table>\n",
       "<p>6824 rows × 3 columns</p>\n",
       "</div>"
      ]
     },
     "execution_count": 32,
     "metadata": {},
     "output_type": "execute_result"
    }
   ],
   "execution_count": 32
  },
  {
   "metadata": {
    "ExecuteTime": {
     "end_time": "2025-09-08T18:36:32.911444Z",
     "start_time": "2025-09-08T18:36:31.818146Z"
    }
   },
   "cell_type": "code",
   "source": [
    "for col in columns:\n",
    "    result[f'DISTANCE_DELTA_SEPARATED_{col}'] = result.apply(lambda row: haversine_distance(\n",
    "    row['LAT'], row['LON'], row[f'{col}_x'], row[f'{col}_y']), axis=1)"
   ],
   "id": "e6c4b64c066ba7f4",
   "outputs": [],
   "execution_count": 33
  },
  {
   "metadata": {
    "ExecuteTime": {
     "end_time": "2025-09-08T18:36:32.929161Z",
     "start_time": "2025-09-08T18:36:32.919174Z"
    }
   },
   "cell_type": "code",
   "source": [
    "for col in columns:\n",
    "    print(f\"Column: {col}   Mean: {result[f'DISTANCE_DELTA_SEPARATED_{col}'].mean()}    Median: {result[f'DISTANCE_DELTA_SEPARATED_{col}'].median()}\")"
   ],
   "id": "5b99a14cdb92b324",
   "outputs": [
    {
     "name": "stdout",
     "output_type": "stream",
     "text": [
      "Column: timesfm-q-0.1   Mean: 1.1260834617455129    Median: 0.9537579421776992\n",
      "Column: timesfm-q-0.2   Mean: 0.8238953046005884    Median: 0.6816274296312421\n",
      "Column: timesfm-q-0.3   Mean: 0.6813992021692712    Median: 0.5554079903263537\n",
      "Column: timesfm-q-0.4   Mean: 0.6152236458264911    Median: 0.4991539780134903\n",
      "Column: timesfm-q-0.5   Mean: 0.6035941468819856    Median: 0.48957468878313243\n",
      "Column: timesfm-q-0.6   Mean: 0.6414349155383338    Median: 0.5228482588678703\n",
      "Column: timesfm-q-0.7   Mean: 0.7306127285872193    Median: 0.5988586742366444\n",
      "Column: timesfm-q-0.8   Mean: 0.8822710710842234    Median: 0.7334665221594054\n",
      "Column: timesfm-q-0.9   Mean: 1.174080572161774    Median: 1.0002941431512482\n"
     ]
    }
   ],
   "execution_count": 34
  },
  {
   "metadata": {
    "ExecuteTime": {
     "end_time": "2025-09-08T18:36:33.617819Z",
     "start_time": "2025-09-08T18:36:32.968175Z"
    }
   },
   "cell_type": "code",
   "source": "import matplotlib.pyplot as plt",
   "id": "bf4d1aafe871993c",
   "outputs": [],
   "execution_count": 35
  },
  {
   "metadata": {
    "ExecuteTime": {
     "end_time": "2025-09-08T18:36:33.665035Z",
     "start_time": "2025-09-08T18:36:33.654532Z"
    }
   },
   "cell_type": "code",
   "source": [
    "stats = []\n",
    "for col in columns:\n",
    "    mean_val = result[f'DISTANCE_DELTA_SEPARATED_{col}'].mean()\n",
    "    median_val = result[f'DISTANCE_DELTA_SEPARATED_{col}'].median()\n",
    "    label = col.replace(\"timesfm-\", \"\")\n",
    "    stats.append({\"quantile\": label, \"mean\": mean_val, \"median\": median_val})\n",
    "\n",
    "df_stats = pd.DataFrame(stats)"
   ],
   "id": "c4c47ecb39d1e546",
   "outputs": [],
   "execution_count": 36
  },
  {
   "metadata": {
    "ExecuteTime": {
     "end_time": "2025-09-08T18:36:33.894728Z",
     "start_time": "2025-09-08T18:36:33.715370Z"
    }
   },
   "cell_type": "code",
   "source": [
    "plt.figure(figsize=(8,5))\n",
    "plt.plot(df_stats[\"quantile\"], df_stats[\"mean\"], marker=\"o\", label=\"Mean\")\n",
    "plt.plot(df_stats[\"quantile\"], df_stats[\"median\"], marker=\"o\", label=\"Median\")\n",
    "plt.xlabel(\"Quantile\")\n",
    "plt.ylabel(\"Haversine distance error\")\n",
    "plt.title(\"Prediction error vs. quantile\")\n",
    "plt.legend()\n",
    "plt.grid(True)\n",
    "plt.show()"
   ],
   "id": "6ce332bbda0bcf56",
   "outputs": [
    {
     "data": {
      "text/plain": [
       "<Figure size 800x500 with 1 Axes>"
      ],
      "image/png": "[encoded data removed]"
     },
     "metadata": {},
     "output_type": "display_data"
    }
   ],
   "execution_count": 37
  }
 ],
 "metadata": {
  "kernelspec": {
   "display_name": "Python 3",
   "language": "python",
   "name": "python3"
  },
  "language_info": {
   "codemirror_mode": {
    "name": "ipython",
    "version": 2
   },
   "file_extension": ".py",
   "mimetype": "text/x-python",
   "name": "python",
   "nbconvert_exporter": "python",
   "pygments_lexer": "ipython2",
   "version": "2.7.6"
  }
 },
 "nbformat": 4,
 "nbformat_minor": 5
}
