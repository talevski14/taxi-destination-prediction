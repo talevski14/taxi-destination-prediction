{
 "cells": [
  {
   "cell_type": "code",
   "id": "initial_id",
   "metadata": {
    "collapsed": true,
    "ExecuteTime": {
     "end_time": "2025-09-08T18:13:27.083982Z",
     "start_time": "2025-09-08T18:13:26.339402Z"
    }
   },
   "source": [
    "import pandas as pd"
   ],
   "outputs": [],
   "execution_count": 1
  },
  {
   "cell_type": "code",
   "id": "31235c077b90ad65",
   "metadata": {
    "ExecuteTime": {
     "end_time": "2025-09-08T18:13:29.465782Z",
     "start_time": "2025-09-08T18:13:27.093991Z"
    }
   },
   "source": [
    "df = pd.read_parquet(\"../../../data/data_taxi_central_based.parquet\")\n",
    "df = df[df['POLYLINE_LENGTH'] == 41]\n",
    "df"
   ],
   "outputs": [
    {
     "data": {
      "text/plain": [
       "                      TRIP_ID  ORIGIN_CALL   TAXI_ID   TIMESTAMP  \\\n",
       "index                                                              \n",
       "1284      1372638793620000571       2002.0  20000571  1372638793   \n",
       "1285      1372638793620000571       2002.0  20000571  1372638808   \n",
       "1286      1372638793620000571       2002.0  20000571  1372638823   \n",
       "1287      1372638793620000571       2002.0  20000571  1372638838   \n",
       "1288      1372638793620000571       2002.0  20000571  1372638853   \n",
       "...                       ...          ...       ...         ...   \n",
       "83401453  1404155073620000099       4690.0  20000099  1404155613   \n",
       "83401454  1404155073620000099       4690.0  20000099  1404155628   \n",
       "83401455  1404155073620000099       4690.0  20000099  1404155643   \n",
       "83401456  1404155073620000099       4690.0  20000099  1404155658   \n",
       "83401457  1404155073620000099       4690.0  20000099  1404155673   \n",
       "\n",
       "          POLYLINE_LENGTH       LON        LAT  \n",
       "index                                           \n",
       "1284                   41 -8.574705  41.142717  \n",
       "1285                   41 -8.574696  41.142726  \n",
       "1286                   41 -8.574687  41.142726  \n",
       "1287                   41 -8.574678  41.142708  \n",
       "1288                   41 -8.574687  41.142708  \n",
       "...                   ...       ...        ...  \n",
       "83401453               41 -8.620533  41.145957  \n",
       "83401454               41 -8.620542  41.145957  \n",
       "83401455               41 -8.619741  41.146119  \n",
       "83401456               41 -8.617734  41.146524  \n",
       "83401457               41 -8.617770  41.146920  \n",
       "\n",
       "[279784 rows x 7 columns]"
      ],
      "text/html": [
       "<div>\n",
       "<style scoped>\n",
       "    .dataframe tbody tr th:only-of-type {\n",
       "        vertical-align: middle;\n",
       "    }\n",
       "\n",
       "    .dataframe tbody tr th {\n",
       "        vertical-align: top;\n",
       "    }\n",
       "\n",
       "    .dataframe thead th {\n",
       "        text-align: right;\n",
       "    }\n",
       "</style>\n",
       "<table border=\"1\" class=\"dataframe\">\n",
       "  <thead>\n",
       "    <tr style=\"text-align: right;\">\n",
       "      <th></th>\n",
       "      <th>TRIP_ID</th>\n",
       "      <th>ORIGIN_CALL</th>\n",
       "      <th>TAXI_ID</th>\n",
       "      <th>TIMESTAMP</th>\n",
       "      <th>POLYLINE_LENGTH</th>\n",
       "      <th>LON</th>\n",
       "      <th>LAT</th>\n",
       "    </tr>\n",
       "    <tr>\n",
       "      <th>index</th>\n",
       "      <th></th>\n",
       "      <th></th>\n",
       "      <th></th>\n",
       "      <th></th>\n",
       "      <th></th>\n",
       "      <th></th>\n",
       "      <th></th>\n",
       "    </tr>\n",
       "  </thead>\n",
       "  <tbody>\n",
       "    <tr>\n",
       "      <th>1284</th>\n",
       "      <td>1372638793620000571</td>\n",
       "      <td>2002.0</td>\n",
       "      <td>20000571</td>\n",
       "      <td>1372638793</td>\n",
       "      <td>41</td>\n",
       "      <td>-8.574705</td>\n",
       "      <td>41.142717</td>\n",
       "    </tr>\n",
       "    <tr>\n",
       "      <th>1285</th>\n",
       "      <td>1372638793620000571</td>\n",
       "      <td>2002.0</td>\n",
       "      <td>20000571</td>\n",
       "      <td>1372638808</td>\n",
       "      <td>41</td>\n",
       "      <td>-8.574696</td>\n",
       "      <td>41.142726</td>\n",
       "    </tr>\n",
       "    <tr>\n",
       "      <th>1286</th>\n",
       "      <td>1372638793620000571</td>\n",
       "      <td>2002.0</td>\n",
       "      <td>20000571</td>\n",
       "      <td>1372638823</td>\n",
       "      <td>41</td>\n",
       "      <td>-8.574687</td>\n",
       "      <td>41.142726</td>\n",
       "    </tr>\n",
       "    <tr>\n",
       "      <th>1287</th>\n",
       "      <td>1372638793620000571</td>\n",
       "      <td>2002.0</td>\n",
       "      <td>20000571</td>\n",
       "      <td>1372638838</td>\n",
       "      <td>41</td>\n",
       "      <td>-8.574678</td>\n",
       "      <td>41.142708</td>\n",
       "    </tr>\n",
       "    <tr>\n",
       "      <th>1288</th>\n",
       "      <td>1372638793620000571</td>\n",
       "      <td>2002.0</td>\n",
       "      <td>20000571</td>\n",
       "      <td>1372638853</td>\n",
       "      <td>41</td>\n",
       "      <td>-8.574687</td>\n",
       "      <td>41.142708</td>\n",
       "    </tr>\n",
       "    <tr>\n",
       "      <th>...</th>\n",
       "      <td>...</td>\n",
       "      <td>...</td>\n",
       "      <td>...</td>\n",
       "      <td>...</td>\n",
       "      <td>...</td>\n",
       "      <td>...</td>\n",
       "      <td>...</td>\n",
       "    </tr>\n",
       "    <tr>\n",
       "      <th>83401453</th>\n",
       "      <td>1404155073620000099</td>\n",
       "      <td>4690.0</td>\n",
       "      <td>20000099</td>\n",
       "      <td>1404155613</td>\n",
       "      <td>41</td>\n",
       "      <td>-8.620533</td>\n",
       "      <td>41.145957</td>\n",
       "    </tr>\n",
       "    <tr>\n",
       "      <th>83401454</th>\n",
       "      <td>1404155073620000099</td>\n",
       "      <td>4690.0</td>\n",
       "      <td>20000099</td>\n",
       "      <td>1404155628</td>\n",
       "      <td>41</td>\n",
       "      <td>-8.620542</td>\n",
       "      <td>41.145957</td>\n",
       "    </tr>\n",
       "    <tr>\n",
       "      <th>83401455</th>\n",
       "      <td>1404155073620000099</td>\n",
       "      <td>4690.0</td>\n",
       "      <td>20000099</td>\n",
       "      <td>1404155643</td>\n",
       "      <td>41</td>\n",
       "      <td>-8.619741</td>\n",
       "      <td>41.146119</td>\n",
       "    </tr>\n",
       "    <tr>\n",
       "      <th>83401456</th>\n",
       "      <td>1404155073620000099</td>\n",
       "      <td>4690.0</td>\n",
       "      <td>20000099</td>\n",
       "      <td>1404155658</td>\n",
       "      <td>41</td>\n",
       "      <td>-8.617734</td>\n",
       "      <td>41.146524</td>\n",
       "    </tr>\n",
       "    <tr>\n",
       "      <th>83401457</th>\n",
       "      <td>1404155073620000099</td>\n",
       "      <td>4690.0</td>\n",
       "      <td>20000099</td>\n",
       "      <td>1404155673</td>\n",
       "      <td>41</td>\n",
       "      <td>-8.617770</td>\n",
       "      <td>41.146920</td>\n",
       "    </tr>\n",
       "  </tbody>\n",
       "</table>\n",
       "<p>279784 rows × 7 columns</p>\n",
       "</div>"
      ]
     },
     "execution_count": 2,
     "metadata": {},
     "output_type": "execute_result"
    }
   ],
   "execution_count": 2
  },
  {
   "cell_type": "code",
   "id": "ac9990d577976560",
   "metadata": {
    "ExecuteTime": {
     "end_time": "2025-09-08T18:13:35.083875Z",
     "start_time": "2025-09-08T18:13:30.070051Z"
    }
   },
   "source": [
    "import timesfm"
   ],
   "outputs": [
    {
     "name": "stdout",
     "output_type": "stream",
     "text": [
      " See https://github.com/google-research/timesfm/blob/master/README.md for updated APIs.\n",
      "Loaded PyTorch TimesFM, likely because python version is 3.11.13 | packaged by Anaconda, Inc. | (main, Jun  5 2025, 13:03:15) [MSC v.1929 64 bit (AMD64)].\n"
     ]
    }
   ],
   "execution_count": 3
  },
  {
   "cell_type": "code",
   "id": "6d8fdf0c81a15ef0",
   "metadata": {
    "ExecuteTime": {
     "end_time": "2025-09-08T18:13:35.155478Z",
     "start_time": "2025-09-08T18:13:35.143747Z"
    }
   },
   "source": [
    "df_lon = df.drop(columns=['ORIGIN_CALL', 'TAXI_ID', 'POLYLINE_LENGTH', 'LAT'])\n",
    "df_lat = df.drop(columns=['ORIGIN_CALL', 'TAXI_ID', 'POLYLINE_LENGTH', 'LON'])"
   ],
   "outputs": [],
   "execution_count": 4
  },
  {
   "cell_type": "code",
   "id": "aaf2ef79835988e8",
   "metadata": {
    "ExecuteTime": {
     "end_time": "2025-09-08T18:13:42.865344Z",
     "start_time": "2025-09-08T18:13:35.200510Z"
    }
   },
   "source": [
    "tfm_lat = timesfm.TimesFm(\n",
    "      hparams=timesfm.TimesFmHparams(\n",
    "          backend=\"gpu\",\n",
    "          per_core_batch_size=32,\n",
    "          horizon_len=20,\n",
    "          num_layers=50,\n",
    "          use_positional_embedding=False,\n",
    "          context_len=256,\n",
    "      ),\n",
    "      checkpoint=timesfm.TimesFmCheckpoint(\n",
    "          huggingface_repo_id=\"google/timesfm-2.0-500m-pytorch\"),\n",
    "  )"
   ],
   "outputs": [
    {
     "data": {
      "text/plain": [
       "Fetching 5 files:   0%|          | 0/5 [00:00<?, ?it/s]"
      ],
      "application/vnd.jupyter.widget-view+json": {
       "version_major": 2,
       "version_minor": 0,
       "model_id": "1d9d423e6b4744ea8ce96cab90b465ec"
      }
     },
     "metadata": {},
     "output_type": "display_data"
    }
   ],
   "execution_count": 5
  },
  {
   "cell_type": "code",
   "id": "f2bf8bd6ea976c66",
   "metadata": {
    "ExecuteTime": {
     "end_time": "2025-09-08T18:13:47.822618Z",
     "start_time": "2025-09-08T18:13:42.876343Z"
    }
   },
   "source": [
    "tfm_lon = timesfm.TimesFm(\n",
    "      hparams=timesfm.TimesFmHparams(\n",
    "          backend=\"gpu\",\n",
    "          per_core_batch_size=32,\n",
    "          horizon_len=20,\n",
    "          num_layers=50,\n",
    "          use_positional_embedding=False,\n",
    "          context_len=256,\n",
    "      ),\n",
    "      checkpoint=timesfm.TimesFmCheckpoint(\n",
    "          huggingface_repo_id=\"google/timesfm-2.0-500m-pytorch\"),\n",
    "  )"
   ],
   "outputs": [
    {
     "data": {
      "text/plain": [
       "Fetching 5 files:   0%|          | 0/5 [00:00<?, ?it/s]"
      ],
      "application/vnd.jupyter.widget-view+json": {
       "version_major": 2,
       "version_minor": 0,
       "model_id": "42aad458fad440f0a246e4f118b312b1"
      }
     },
     "metadata": {},
     "output_type": "display_data"
    }
   ],
   "execution_count": 6
  },
  {
   "cell_type": "code",
   "id": "6544a51e861c3cfb",
   "metadata": {
    "ExecuteTime": {
     "end_time": "2025-09-08T18:13:47.996678Z",
     "start_time": "2025-09-08T18:13:47.843620Z"
    }
   },
   "source": [
    "df_lat = df_lat.sort_values(by=['TRIP_ID', 'TIMESTAMP'])\n",
    "df_lat_test = df_lat.groupby('TRIP_ID', group_keys=False).tail(20)\n",
    "df_lat_train = df_lat.drop(df_lat_test.index)"
   ],
   "outputs": [],
   "execution_count": 7
  },
  {
   "cell_type": "code",
   "id": "feca5a661cf1a0d8",
   "metadata": {
    "ExecuteTime": {
     "end_time": "2025-09-08T18:13:48.141692Z",
     "start_time": "2025-09-08T18:13:48.015675Z"
    }
   },
   "source": [
    "df_lon = df_lon.sort_values(by=['TRIP_ID', 'TIMESTAMP'])\n",
    "df_lon_test = df_lon.groupby('TRIP_ID', group_keys=False).tail(20)\n",
    "df_lon_train = df_lon.drop(df_lat_test.index)"
   ],
   "outputs": [],
   "execution_count": 8
  },
  {
   "cell_type": "code",
   "id": "ed9138b5a1f1ef4c",
   "metadata": {
    "ExecuteTime": {
     "end_time": "2025-09-08T18:13:53.630744Z",
     "start_time": "2025-09-08T18:13:48.161891Z"
    }
   },
   "source": [
    "from sklearn.preprocessing import MinMaxScaler\n",
    "scaler_lat = MinMaxScaler()\n",
    "df_lat_train['LAT'] = scaler_lat.fit_transform(df_lat_train[['LAT']])\n",
    "\n",
    "scaler_lon = MinMaxScaler()\n",
    "df_lon_train['LON'] = scaler_lon.fit_transform(df_lon_train[['LON']])"
   ],
   "outputs": [],
   "execution_count": 9
  },
  {
   "cell_type": "code",
   "id": "debca559b45a7aa7",
   "metadata": {
    "ExecuteTime": {
     "end_time": "2025-09-08T18:13:53.705126Z",
     "start_time": "2025-09-08T18:13:53.659077Z"
    }
   },
   "source": [
    "df_lat_train['TIMESTAMP'] = pd.to_datetime(df_lat_train['TIMESTAMP'], unit='s')\n",
    "df_lon_train['TIMESTAMP'] = pd.to_datetime(df_lon_train['TIMESTAMP'], unit='s')"
   ],
   "outputs": [],
   "execution_count": 10
  },
  {
   "cell_type": "code",
   "id": "ac9f39dfe4f0f960",
   "metadata": {
    "ExecuteTime": {
     "end_time": "2025-09-08T18:13:53.742589Z",
     "start_time": "2025-09-08T18:13:53.730727Z"
    }
   },
   "source": [
    "df_lon_train = df_lon_train.rename(columns={'TIMESTAMP': 'ds', 'LON': 'y', 'TRIP_ID': 'unique_id'})\n",
    "df_lat_train = df_lat_train.rename(columns={'TIMESTAMP': 'ds', 'LAT': 'y', 'TRIP_ID': 'unique_id'})"
   ],
   "outputs": [],
   "execution_count": 11
  },
  {
   "cell_type": "code",
   "id": "ed3ada5fe1a7ca0e",
   "metadata": {
    "ExecuteTime": {
     "end_time": "2025-09-08T18:17:55.201524Z",
     "start_time": "2025-09-08T18:13:53.769099Z"
    }
   },
   "source": [
    "forecast_df_lon = tfm_lon.forecast_on_df(\n",
    "    inputs=df_lon_train,\n",
    "    freq=\"15s\",\n",
    "    value_name=\"y\",\n",
    "    num_jobs=-1,\n",
    ")"
   ],
   "outputs": [
    {
     "name": "stdout",
     "output_type": "stream",
     "text": [
      "Processing dataframe with multiple processes.\n",
      "Finished preprocessing dataframe.\n",
      "Finished forecasting.\n"
     ]
    }
   ],
   "execution_count": 12
  },
  {
   "cell_type": "code",
   "id": "8a832bbf399e88c5",
   "metadata": {
    "ExecuteTime": {
     "end_time": "2025-09-08T18:21:53.974003Z",
     "start_time": "2025-09-08T18:17:55.252796Z"
    }
   },
   "source": [
    "forecast_df_lat = tfm_lon.forecast_on_df(\n",
    "    inputs=df_lat_train,\n",
    "    freq=\"15s\",\n",
    "    value_name=\"y\",\n",
    "    num_jobs=-1,\n",
    ")"
   ],
   "outputs": [
    {
     "name": "stdout",
     "output_type": "stream",
     "text": [
      "Processing dataframe with multiple processes.\n",
      "Finished preprocessing dataframe.\n",
      "Finished forecasting.\n"
     ]
    }
   ],
   "execution_count": 13
  },
  {
   "cell_type": "code",
   "id": "e90b98dd91419fa4",
   "metadata": {
    "ExecuteTime": {
     "end_time": "2025-09-08T18:21:54.027797Z",
     "start_time": "2025-09-08T18:21:54.020135Z"
    }
   },
   "source": [
    "forecast_df_lon_keep = forecast_df_lon[['unique_id', 'ds', 'timesfm-q-0.9']]"
   ],
   "outputs": [],
   "execution_count": 14
  },
  {
   "cell_type": "code",
   "id": "8b5c3019c028bff6",
   "metadata": {
    "ExecuteTime": {
     "end_time": "2025-09-08T18:21:54.065991Z",
     "start_time": "2025-09-08T18:21:54.059057Z"
    }
   },
   "source": [
    "forecast_df_lat_keep = forecast_df_lat[['unique_id', 'ds', 'timesfm-q-0.9']]"
   ],
   "outputs": [],
   "execution_count": 15
  },
  {
   "cell_type": "code",
   "id": "28cea87086d776a8",
   "metadata": {
    "ExecuteTime": {
     "end_time": "2025-09-08T18:21:54.119728Z",
     "start_time": "2025-09-08T18:21:54.094197Z"
    }
   },
   "source": [
    "forecast_df_lat_keep['timesfm-q-0.9'] = scaler_lat.inverse_transform(forecast_df_lat_keep[['timesfm-q-0.9']])\n",
    "forecast_df_lon_keep['timesfm-q-0.9'] = scaler_lon.inverse_transform(forecast_df_lon_keep[['timesfm-q-0.9']])"
   ],
   "outputs": [
    {
     "name": "stderr",
     "output_type": "stream",
     "text": [
      "C:\\Users\\Nikola\\AppData\\Local\\Temp\\ipykernel_16204\\3587103272.py:1: SettingWithCopyWarning: \n",
      "A value is trying to be set on a copy of a slice from a DataFrame.\n",
      "Try using .loc[row_indexer,col_indexer] = value instead\n",
      "\n",
      "See the caveats in the documentation: https://pandas.pydata.org/pandas-docs/stable/user_guide/indexing.html#returning-a-view-versus-a-copy\n",
      "  forecast_df_lat_keep['timesfm-q-0.9'] = scaler_lat.inverse_transform(forecast_df_lat_keep[['timesfm-q-0.9']])\n",
      "C:\\Users\\Nikola\\AppData\\Local\\Temp\\ipykernel_16204\\3587103272.py:2: SettingWithCopyWarning: \n",
      "A value is trying to be set on a copy of a slice from a DataFrame.\n",
      "Try using .loc[row_indexer,col_indexer] = value instead\n",
      "\n",
      "See the caveats in the documentation: https://pandas.pydata.org/pandas-docs/stable/user_guide/indexing.html#returning-a-view-versus-a-copy\n",
      "  forecast_df_lon_keep['timesfm-q-0.9'] = scaler_lon.inverse_transform(forecast_df_lon_keep[['timesfm-q-0.9']])\n"
     ]
    }
   ],
   "execution_count": 16
  },
  {
   "cell_type": "code",
   "id": "9fb0429524f5d23b",
   "metadata": {
    "ExecuteTime": {
     "end_time": "2025-09-08T18:21:54.172194Z",
     "start_time": "2025-09-08T18:21:54.165240Z"
    }
   },
   "source": [
    "forecast_df_lat_keep = forecast_df_lat_keep.rename(columns={'timesfm-q-0.9': 'LAT_PREDICTED'})\n",
    "forecast_df_lon_keep = forecast_df_lon_keep.rename(columns={'timesfm-q-0.9': 'LON_PREDICTED'})"
   ],
   "outputs": [],
   "execution_count": 17
  },
  {
   "cell_type": "code",
   "id": "6c129c2e025cb7ae",
   "metadata": {
    "ExecuteTime": {
     "end_time": "2025-09-08T18:21:54.288588Z",
     "start_time": "2025-09-08T18:21:54.211133Z"
    }
   },
   "source": [
    "forecast_df_lat_keep = forecast_df_lat_keep.sort_values(['unique_id', 'ds'])\n",
    "forecast_df_lat_keep = forecast_df_lat_keep.groupby('unique_id').tail(1)\n",
    "\n",
    "forecast_df_lon_keep = forecast_df_lon_keep.sort_values(['unique_id', 'ds'])\n",
    "forecast_df_lon_keep = forecast_df_lon_keep.groupby('unique_id').tail(1)"
   ],
   "outputs": [],
   "execution_count": 18
  },
  {
   "cell_type": "code",
   "id": "46f75c22597f8364",
   "metadata": {
    "ExecuteTime": {
     "end_time": "2025-09-08T18:21:54.371253Z",
     "start_time": "2025-09-08T18:21:54.288588Z"
    }
   },
   "source": [
    "df_lon_test = df_lon_test.rename(columns={'TIMESTAMP': 'ds', 'TRIP_ID': 'unique_id'})\n",
    "df_lon_test = df_lon_test.sort_values(['unique_id', 'ds'])\n",
    "df_lon_test = df_lon_test.groupby('unique_id').tail(1)\n",
    "\n",
    "df_lat_test = df_lat_test.rename(columns={'TIMESTAMP': 'ds', 'TRIP_ID': 'unique_id'})\n",
    "df_lat_test = df_lat_test.sort_values(['unique_id', 'ds'])\n",
    "df_lat_test = df_lat_test.groupby('unique_id').tail(1)"
   ],
   "outputs": [],
   "execution_count": 19
  },
  {
   "cell_type": "code",
   "id": "46b58aacaf850616",
   "metadata": {
    "ExecuteTime": {
     "end_time": "2025-09-08T18:21:54.409095Z",
     "start_time": "2025-09-08T18:21:54.392778Z"
    }
   },
   "source": [
    "result_lat = df_lat_test.merge(forecast_df_lat_keep, how='left', on=['unique_id'])\n",
    "result_lon = df_lon_test.merge(forecast_df_lon_keep, how='left', on=['unique_id'])\n",
    "result = result_lat.merge(result_lon, how='left', on=['unique_id'])"
   ],
   "outputs": [],
   "execution_count": 20
  },
  {
   "cell_type": "code",
   "id": "968067708a9b0d80",
   "metadata": {
    "ExecuteTime": {
     "end_time": "2025-09-08T18:21:54.440680Z",
     "start_time": "2025-09-08T18:21:54.434632Z"
    }
   },
   "source": [
    "from evaluation_script import haversine_distance"
   ],
   "outputs": [],
   "execution_count": 21
  },
  {
   "cell_type": "code",
   "id": "185c32d8ae39f423",
   "metadata": {
    "ExecuteTime": {
     "end_time": "2025-09-08T18:21:54.564594Z",
     "start_time": "2025-09-08T18:21:54.467260Z"
    }
   },
   "source": [
    "result['DISTANCE_DELTA_SEPARATED'] = result.apply(lambda row: haversine_distance(\n",
    "    row['LAT'], row['LON'], row['LAT_PREDICTED'], row['LON_PREDICTED']), axis=1)"
   ],
   "outputs": [],
   "execution_count": 22
  },
  {
   "cell_type": "code",
   "id": "cac3d9e02fc41412",
   "metadata": {
    "ExecuteTime": {
     "end_time": "2025-09-08T18:21:54.597228Z",
     "start_time": "2025-09-08T18:21:54.590181Z"
    }
   },
   "source": [
    "result['DISTANCE_DELTA_SEPARATED'].mean()"
   ],
   "outputs": [
    {
     "data": {
      "text/plain": [
       "np.float64(2.053931598274781)"
      ]
     },
     "execution_count": 23,
     "metadata": {},
     "output_type": "execute_result"
    }
   ],
   "execution_count": 23
  },
  {
   "cell_type": "code",
   "id": "6d6de9b483deb9fa",
   "metadata": {
    "ExecuteTime": {
     "end_time": "2025-09-08T18:21:54.631538Z",
     "start_time": "2025-09-08T18:21:54.624244Z"
    }
   },
   "source": [
    "result['DISTANCE_DELTA_SEPARATED'].median()"
   ],
   "outputs": [
    {
     "data": {
      "text/plain": [
       "np.float64(1.7421047654658441)"
      ]
     },
     "execution_count": 24,
     "metadata": {},
     "output_type": "execute_result"
    }
   ],
   "execution_count": 24
  },
  {
   "metadata": {
    "ExecuteTime": {
     "end_time": "2025-09-08T18:21:54.727963Z",
     "start_time": "2025-09-08T18:21:54.658451Z"
    }
   },
   "cell_type": "code",
   "source": "result.to_csv(\"result.csv\", index=False)",
   "id": "7c8457a4b2a692da",
   "outputs": [],
   "execution_count": 25
  },
  {
   "metadata": {
    "ExecuteTime": {
     "end_time": "2025-09-08T18:21:54.769021Z",
     "start_time": "2025-09-08T18:21:54.754271Z"
    }
   },
   "cell_type": "code",
   "source": "forecast_df_lat",
   "id": "45393fbae5424c2f",
   "outputs": [
    {
     "data": {
      "text/plain": [
       "                  unique_id                  ds   timesfm  timesfm-q-0.1  \\\n",
       "0       1372638793620000571 2013-07-01 00:38:28  0.289636       0.287266   \n",
       "1       1372638793620000571 2013-07-01 00:38:43  0.288468       0.285940   \n",
       "2       1372638793620000571 2013-07-01 00:38:58  0.287473       0.285106   \n",
       "3       1372638793620000571 2013-07-01 00:39:13  0.286858       0.284672   \n",
       "4       1372638793620000571 2013-07-01 00:39:28  0.286242       0.284291   \n",
       "...                     ...                 ...       ...            ...   \n",
       "136475  1404157914620000488 2014-06-30 20:00:54  0.488055       0.460025   \n",
       "136476  1404157914620000488 2014-06-30 20:01:09  0.486274       0.457431   \n",
       "136477  1404157914620000488 2014-06-30 20:01:24  0.484342       0.454778   \n",
       "136478  1404157914620000488 2014-06-30 20:01:39  0.484072       0.454787   \n",
       "136479  1404157914620000488 2014-06-30 20:01:54  0.485646       0.457409   \n",
       "\n",
       "        timesfm-q-0.2  timesfm-q-0.3  timesfm-q-0.4  timesfm-q-0.5  \\\n",
       "0            0.288103       0.288786       0.289284       0.289636   \n",
       "1            0.286759       0.287465       0.288044       0.288468   \n",
       "2            0.285816       0.286473       0.287031       0.287473   \n",
       "3            0.285312       0.285897       0.286404       0.286858   \n",
       "4            0.284811       0.285323       0.285794       0.286242   \n",
       "...               ...            ...            ...            ...   \n",
       "136475       0.469842       0.476526       0.482522       0.488055   \n",
       "136476       0.467585       0.474438       0.480472       0.486274   \n",
       "136477       0.465399       0.472419       0.478566       0.484342   \n",
       "136478       0.465316       0.472181       0.478286       0.484072   \n",
       "136479       0.467557       0.474145       0.480162       0.485646   \n",
       "\n",
       "        timesfm-q-0.6  timesfm-q-0.7  timesfm-q-0.8  timesfm-q-0.9  \n",
       "0            0.289921       0.290180       0.290703       0.291638  \n",
       "1            0.288868       0.289291       0.290085       0.291479  \n",
       "2            0.287913       0.288426       0.289318       0.290937  \n",
       "3            0.287298       0.287820       0.288874       0.290750  \n",
       "4            0.286715       0.287332       0.288467       0.290571  \n",
       "...               ...            ...            ...            ...  \n",
       "136475       0.493967       0.500909       0.509529       0.523811  \n",
       "136476       0.492366       0.499484       0.508424       0.523061  \n",
       "136477       0.490697       0.498146       0.507212       0.522100  \n",
       "136478       0.490336       0.497624       0.506698       0.521479  \n",
       "136479       0.491702       0.498668       0.507363       0.521651  \n",
       "\n",
       "[136480 rows x 12 columns]"
      ],
      "text/html": [
       "<div>\n",
       "<style scoped>\n",
       "    .dataframe tbody tr th:only-of-type {\n",
       "        vertical-align: middle;\n",
       "    }\n",
       "\n",
       "    .dataframe tbody tr th {\n",
       "        vertical-align: top;\n",
       "    }\n",
       "\n",
       "    .dataframe thead th {\n",
       "        text-align: right;\n",
       "    }\n",
       "</style>\n",
       "<table border=\"1\" class=\"dataframe\">\n",
       "  <thead>\n",
       "    <tr style=\"text-align: right;\">\n",
       "      <th></th>\n",
       "      <th>unique_id</th>\n",
       "      <th>ds</th>\n",
       "      <th>timesfm</th>\n",
       "      <th>timesfm-q-0.1</th>\n",
       "      <th>timesfm-q-0.2</th>\n",
       "      <th>timesfm-q-0.3</th>\n",
       "      <th>timesfm-q-0.4</th>\n",
       "      <th>timesfm-q-0.5</th>\n",
       "      <th>timesfm-q-0.6</th>\n",
       "      <th>timesfm-q-0.7</th>\n",
       "      <th>timesfm-q-0.8</th>\n",
       "      <th>timesfm-q-0.9</th>\n",
       "    </tr>\n",
       "  </thead>\n",
       "  <tbody>\n",
       "    <tr>\n",
       "      <th>0</th>\n",
       "      <td>1372638793620000571</td>\n",
       "      <td>2013-07-01 00:38:28</td>\n",
       "      <td>0.289636</td>\n",
       "      <td>0.287266</td>\n",
       "      <td>0.288103</td>\n",
       "      <td>0.288786</td>\n",
       "      <td>0.289284</td>\n",
       "      <td>0.289636</td>\n",
       "      <td>0.289921</td>\n",
       "      <td>0.290180</td>\n",
       "      <td>0.290703</td>\n",
       "      <td>0.291638</td>\n",
       "    </tr>\n",
       "    <tr>\n",
       "      <th>1</th>\n",
       "      <td>1372638793620000571</td>\n",
       "      <td>2013-07-01 00:38:43</td>\n",
       "      <td>0.288468</td>\n",
       "      <td>0.285940</td>\n",
       "      <td>0.286759</td>\n",
       "      <td>0.287465</td>\n",
       "      <td>0.288044</td>\n",
       "      <td>0.288468</td>\n",
       "      <td>0.288868</td>\n",
       "      <td>0.289291</td>\n",
       "      <td>0.290085</td>\n",
       "      <td>0.291479</td>\n",
       "    </tr>\n",
       "    <tr>\n",
       "      <th>2</th>\n",
       "      <td>1372638793620000571</td>\n",
       "      <td>2013-07-01 00:38:58</td>\n",
       "      <td>0.287473</td>\n",
       "      <td>0.285106</td>\n",
       "      <td>0.285816</td>\n",
       "      <td>0.286473</td>\n",
       "      <td>0.287031</td>\n",
       "      <td>0.287473</td>\n",
       "      <td>0.287913</td>\n",
       "      <td>0.288426</td>\n",
       "      <td>0.289318</td>\n",
       "      <td>0.290937</td>\n",
       "    </tr>\n",
       "    <tr>\n",
       "      <th>3</th>\n",
       "      <td>1372638793620000571</td>\n",
       "      <td>2013-07-01 00:39:13</td>\n",
       "      <td>0.286858</td>\n",
       "      <td>0.284672</td>\n",
       "      <td>0.285312</td>\n",
       "      <td>0.285897</td>\n",
       "      <td>0.286404</td>\n",
       "      <td>0.286858</td>\n",
       "      <td>0.287298</td>\n",
       "      <td>0.287820</td>\n",
       "      <td>0.288874</td>\n",
       "      <td>0.290750</td>\n",
       "    </tr>\n",
       "    <tr>\n",
       "      <th>4</th>\n",
       "      <td>1372638793620000571</td>\n",
       "      <td>2013-07-01 00:39:28</td>\n",
       "      <td>0.286242</td>\n",
       "      <td>0.284291</td>\n",
       "      <td>0.284811</td>\n",
       "      <td>0.285323</td>\n",
       "      <td>0.285794</td>\n",
       "      <td>0.286242</td>\n",
       "      <td>0.286715</td>\n",
       "      <td>0.287332</td>\n",
       "      <td>0.288467</td>\n",
       "      <td>0.290571</td>\n",
       "    </tr>\n",
       "    <tr>\n",
       "      <th>...</th>\n",
       "      <td>...</td>\n",
       "      <td>...</td>\n",
       "      <td>...</td>\n",
       "      <td>...</td>\n",
       "      <td>...</td>\n",
       "      <td>...</td>\n",
       "      <td>...</td>\n",
       "      <td>...</td>\n",
       "      <td>...</td>\n",
       "      <td>...</td>\n",
       "      <td>...</td>\n",
       "      <td>...</td>\n",
       "    </tr>\n",
       "    <tr>\n",
       "      <th>136475</th>\n",
       "      <td>1404157914620000488</td>\n",
       "      <td>2014-06-30 20:00:54</td>\n",
       "      <td>0.488055</td>\n",
       "      <td>0.460025</td>\n",
       "      <td>0.469842</td>\n",
       "      <td>0.476526</td>\n",
       "      <td>0.482522</td>\n",
       "      <td>0.488055</td>\n",
       "      <td>0.493967</td>\n",
       "      <td>0.500909</td>\n",
       "      <td>0.509529</td>\n",
       "      <td>0.523811</td>\n",
       "    </tr>\n",
       "    <tr>\n",
       "      <th>136476</th>\n",
       "      <td>1404157914620000488</td>\n",
       "      <td>2014-06-30 20:01:09</td>\n",
       "      <td>0.486274</td>\n",
       "      <td>0.457431</td>\n",
       "      <td>0.467585</td>\n",
       "      <td>0.474438</td>\n",
       "      <td>0.480472</td>\n",
       "      <td>0.486274</td>\n",
       "      <td>0.492366</td>\n",
       "      <td>0.499484</td>\n",
       "      <td>0.508424</td>\n",
       "      <td>0.523061</td>\n",
       "    </tr>\n",
       "    <tr>\n",
       "      <th>136477</th>\n",
       "      <td>1404157914620000488</td>\n",
       "      <td>2014-06-30 20:01:24</td>\n",
       "      <td>0.484342</td>\n",
       "      <td>0.454778</td>\n",
       "      <td>0.465399</td>\n",
       "      <td>0.472419</td>\n",
       "      <td>0.478566</td>\n",
       "      <td>0.484342</td>\n",
       "      <td>0.490697</td>\n",
       "      <td>0.498146</td>\n",
       "      <td>0.507212</td>\n",
       "      <td>0.522100</td>\n",
       "    </tr>\n",
       "    <tr>\n",
       "      <th>136478</th>\n",
       "      <td>1404157914620000488</td>\n",
       "      <td>2014-06-30 20:01:39</td>\n",
       "      <td>0.484072</td>\n",
       "      <td>0.454787</td>\n",
       "      <td>0.465316</td>\n",
       "      <td>0.472181</td>\n",
       "      <td>0.478286</td>\n",
       "      <td>0.484072</td>\n",
       "      <td>0.490336</td>\n",
       "      <td>0.497624</td>\n",
       "      <td>0.506698</td>\n",
       "      <td>0.521479</td>\n",
       "    </tr>\n",
       "    <tr>\n",
       "      <th>136479</th>\n",
       "      <td>1404157914620000488</td>\n",
       "      <td>2014-06-30 20:01:54</td>\n",
       "      <td>0.485646</td>\n",
       "      <td>0.457409</td>\n",
       "      <td>0.467557</td>\n",
       "      <td>0.474145</td>\n",
       "      <td>0.480162</td>\n",
       "      <td>0.485646</td>\n",
       "      <td>0.491702</td>\n",
       "      <td>0.498668</td>\n",
       "      <td>0.507363</td>\n",
       "      <td>0.521651</td>\n",
       "    </tr>\n",
       "  </tbody>\n",
       "</table>\n",
       "<p>136480 rows × 12 columns</p>\n",
       "</div>"
      ]
     },
     "execution_count": 26,
     "metadata": {},
     "output_type": "execute_result"
    }
   ],
   "execution_count": 26
  },
  {
   "metadata": {
    "ExecuteTime": {
     "end_time": "2025-09-08T18:21:54.964906Z",
     "start_time": "2025-09-08T18:21:54.958401Z"
    }
   },
   "cell_type": "code",
   "source": "columns = ['timesfm-q-0.1', 'timesfm-q-0.2', 'timesfm-q-0.3', 'timesfm-q-0.4', 'timesfm-q-0.5', 'timesfm-q-0.6', 'timesfm-q-0.7', 'timesfm-q-0.8', 'timesfm-q-0.9']",
   "id": "ddc759e5de2c638d",
   "outputs": [],
   "execution_count": 27
  },
  {
   "metadata": {
    "ExecuteTime": {
     "end_time": "2025-09-08T18:21:55.099835Z",
     "start_time": "2025-09-08T18:21:55.043240Z"
    }
   },
   "cell_type": "code",
   "source": [
    "for column in columns:\n",
    "    forecast_df_lat[column] = scaler_lat.inverse_transform(forecast_df_lat[[column]])\n",
    "    forecast_df_lon[column] = scaler_lon.inverse_transform(forecast_df_lon[[column]])"
   ],
   "id": "82dd7cbf5aa99617",
   "outputs": [],
   "execution_count": 28
  },
  {
   "metadata": {
    "ExecuteTime": {
     "end_time": "2025-09-08T18:21:55.201414Z",
     "start_time": "2025-09-08T18:21:55.107841Z"
    }
   },
   "cell_type": "code",
   "source": [
    "forecast_df_lat = forecast_df_lat.sort_values(['unique_id', 'ds'])\n",
    "forecast_df_lat = forecast_df_lat.groupby('unique_id').tail(1)\n",
    "\n",
    "forecast_df_lon = forecast_df_lon.sort_values(['unique_id', 'ds'])\n",
    "forecast_df_lon = forecast_df_lon.groupby('unique_id').tail(1)"
   ],
   "id": "b2fda8e739fb7d89",
   "outputs": [],
   "execution_count": 29
  },
  {
   "metadata": {
    "ExecuteTime": {
     "end_time": "2025-09-08T18:21:55.239951Z",
     "start_time": "2025-09-08T18:21:55.228002Z"
    }
   },
   "cell_type": "code",
   "source": [
    "result_lat = df_lat_test.merge(forecast_df_lat, how='left', on=['unique_id'])\n",
    "result_lon = df_lon_test.merge(forecast_df_lon, how='left', on=['unique_id'])\n",
    "result = result_lat.merge(result_lon, how='left', on=['unique_id'])"
   ],
   "id": "3fa6cd2f9dc4851c",
   "outputs": [],
   "execution_count": 30
  },
  {
   "metadata": {
    "ExecuteTime": {
     "end_time": "2025-09-08T18:21:55.295749Z",
     "start_time": "2025-09-08T18:21:55.274487Z"
    }
   },
   "cell_type": "code",
   "source": "result",
   "id": "f2225daebef6cedd",
   "outputs": [
    {
     "data": {
      "text/plain": [
       "                unique_id      ds_x_x        LAT              ds_y_x  \\\n",
       "0     1372638793620000571  1372639393  41.142636 2013-07-01 00:43:13   \n",
       "1     1372641068620000178  1372641668  41.124366 2013-07-01 01:21:08   \n",
       "2     1372656887620000167  1372657487  41.150844 2013-07-01 05:44:47   \n",
       "3     1372657987620000623  1372658587  41.154570 2013-07-01 06:03:07   \n",
       "4     1372660930620000571  1372661530  41.120118 2013-07-01 06:52:10   \n",
       "...                   ...         ...        ...                 ...   \n",
       "6819  1404155056620000206  1404155656  41.151906 2014-06-30 19:14:16   \n",
       "6820  1404155073620000099  1404155673  41.146920 2014-06-30 19:14:33   \n",
       "6821  1404155819620000242  1404156419  41.171085 2014-06-30 19:26:59   \n",
       "6822  1404157331620000343  1404157931  41.157612 2014-06-30 19:52:11   \n",
       "6823  1404157914620000488  1404158514  41.166792 2014-06-30 20:01:54   \n",
       "\n",
       "      timesfm_x  timesfm-q-0.1_x  timesfm-q-0.2_x  timesfm-q-0.3_x  \\\n",
       "0      0.287715        41.142719        41.142853        41.142960   \n",
       "1      0.212432        41.119930        41.125290        41.128326   \n",
       "2      0.351365        41.147278        41.148628        41.149715   \n",
       "3      0.493178        41.165375        41.167759        41.169285   \n",
       "4      0.304243        41.111217        41.125332        41.133457   \n",
       "...         ...              ...              ...              ...   \n",
       "6819   0.353982        41.151531        41.151875        41.152065   \n",
       "6820   0.284467        41.133934        41.137447        41.139496   \n",
       "6821   0.408957        41.156063        41.157822        41.158813   \n",
       "6822   0.333845        41.146908        41.147640        41.148224   \n",
       "6823   0.485646        41.166695        41.168102        41.169014   \n",
       "\n",
       "      timesfm-q-0.4_x  timesfm-q-0.5_x  ...  timesfm_y  timesfm-q-0.1_y  \\\n",
       "0           41.143055        41.143154  ...   0.735886        -8.599424   \n",
       "1           41.130589        41.132710  ...   0.600251        -8.606570   \n",
       "2           41.150837        41.151985  ...   0.140027        -8.723721   \n",
       "3           41.170540        41.171658  ...   0.152097        -8.718079   \n",
       "4           41.139641        41.145447  ...   0.681658        -8.609119   \n",
       "...               ...              ...  ...        ...              ...   \n",
       "6819        41.152214        41.152344  ...   0.467673        -8.643918   \n",
       "6820        41.141109        41.142704  ...   0.485240        -8.623188   \n",
       "6821        41.159443        41.159973  ...   0.441057        -8.664278   \n",
       "6822        41.148842        41.149555  ...   0.438332        -8.639633   \n",
       "6823        41.169849        41.170612  ...   0.510433        -8.655113   \n",
       "\n",
       "      timesfm-q-0.2_y  timesfm-q-0.3_y  timesfm-q-0.4_y  timesfm-q-0.5_y  \\\n",
       "0           -8.589869        -8.584729        -8.580961        -8.578316   \n",
       "1           -8.605021        -8.603922        -8.602910        -8.601873   \n",
       "2           -8.706600        -8.696557        -8.688789        -8.681811   \n",
       "3           -8.704770        -8.696086        -8.688241        -8.679714   \n",
       "4           -8.602303        -8.597115        -8.592128        -8.587734   \n",
       "...               ...              ...              ...              ...   \n",
       "6819        -8.637352        -8.632801        -8.628738        -8.624902   \n",
       "6820        -8.622816        -8.622533        -8.622211        -8.621850   \n",
       "6821        -8.651898        -8.643378        -8.636139        -8.629524   \n",
       "6822        -8.635764        -8.633593        -8.631777        -8.629998   \n",
       "6823        -8.641758        -8.632596        -8.624693        -8.617475   \n",
       "\n",
       "     timesfm-q-0.6_y  timesfm-q-0.7_y  timesfm-q-0.8_y  timesfm-q-0.9_y  \n",
       "0          -8.576289        -8.574795        -8.573832        -8.572600  \n",
       "1          -8.600748        -8.599443        -8.597731        -8.594587  \n",
       "2          -8.674873        -8.667569        -8.659448        -8.648573  \n",
       "3          -8.669991        -8.657927        -8.643268        -8.624678  \n",
       "4          -8.583840        -8.579588        -8.574241        -8.564931  \n",
       "...              ...              ...              ...              ...  \n",
       "6819       -8.621502        -8.618445        -8.615232        -8.610179  \n",
       "6820       -8.621477        -8.621069        -8.620665        -8.620096  \n",
       "6821       -8.623030        -8.616484        -8.608995        -8.596552  \n",
       "6822       -8.627758        -8.625045        -8.621679        -8.617480  \n",
       "6823       -8.610167        -8.602322        -8.593068        -8.577786  \n",
       "\n",
       "[6824 rows x 27 columns]"
      ],
      "text/html": [
       "<div>\n",
       "<style scoped>\n",
       "    .dataframe tbody tr th:only-of-type {\n",
       "        vertical-align: middle;\n",
       "    }\n",
       "\n",
       "    .dataframe tbody tr th {\n",
       "        vertical-align: top;\n",
       "    }\n",
       "\n",
       "    .dataframe thead th {\n",
       "        text-align: right;\n",
       "    }\n",
       "</style>\n",
       "<table border=\"1\" class=\"dataframe\">\n",
       "  <thead>\n",
       "    <tr style=\"text-align: right;\">\n",
       "      <th></th>\n",
       "      <th>unique_id</th>\n",
       "      <th>ds_x_x</th>\n",
       "      <th>LAT</th>\n",
       "      <th>ds_y_x</th>\n",
       "      <th>timesfm_x</th>\n",
       "      <th>timesfm-q-0.1_x</th>\n",
       "      <th>timesfm-q-0.2_x</th>\n",
       "      <th>timesfm-q-0.3_x</th>\n",
       "      <th>timesfm-q-0.4_x</th>\n",
       "      <th>timesfm-q-0.5_x</th>\n",
       "      <th>...</th>\n",
       "      <th>timesfm_y</th>\n",
       "      <th>timesfm-q-0.1_y</th>\n",
       "      <th>timesfm-q-0.2_y</th>\n",
       "      <th>timesfm-q-0.3_y</th>\n",
       "      <th>timesfm-q-0.4_y</th>\n",
       "      <th>timesfm-q-0.5_y</th>\n",
       "      <th>timesfm-q-0.6_y</th>\n",
       "      <th>timesfm-q-0.7_y</th>\n",
       "      <th>timesfm-q-0.8_y</th>\n",
       "      <th>timesfm-q-0.9_y</th>\n",
       "    </tr>\n",
       "  </thead>\n",
       "  <tbody>\n",
       "    <tr>\n",
       "      <th>0</th>\n",
       "      <td>1372638793620000571</td>\n",
       "      <td>1372639393</td>\n",
       "      <td>41.142636</td>\n",
       "      <td>2013-07-01 00:43:13</td>\n",
       "      <td>0.287715</td>\n",
       "      <td>41.142719</td>\n",
       "      <td>41.142853</td>\n",
       "      <td>41.142960</td>\n",
       "      <td>41.143055</td>\n",
       "      <td>41.143154</td>\n",
       "      <td>...</td>\n",
       "      <td>0.735886</td>\n",
       "      <td>-8.599424</td>\n",
       "      <td>-8.589869</td>\n",
       "      <td>-8.584729</td>\n",
       "      <td>-8.580961</td>\n",
       "      <td>-8.578316</td>\n",
       "      <td>-8.576289</td>\n",
       "      <td>-8.574795</td>\n",
       "      <td>-8.573832</td>\n",
       "      <td>-8.572600</td>\n",
       "    </tr>\n",
       "    <tr>\n",
       "      <th>1</th>\n",
       "      <td>1372641068620000178</td>\n",
       "      <td>1372641668</td>\n",
       "      <td>41.124366</td>\n",
       "      <td>2013-07-01 01:21:08</td>\n",
       "      <td>0.212432</td>\n",
       "      <td>41.119930</td>\n",
       "      <td>41.125290</td>\n",
       "      <td>41.128326</td>\n",
       "      <td>41.130589</td>\n",
       "      <td>41.132710</td>\n",
       "      <td>...</td>\n",
       "      <td>0.600251</td>\n",
       "      <td>-8.606570</td>\n",
       "      <td>-8.605021</td>\n",
       "      <td>-8.603922</td>\n",
       "      <td>-8.602910</td>\n",
       "      <td>-8.601873</td>\n",
       "      <td>-8.600748</td>\n",
       "      <td>-8.599443</td>\n",
       "      <td>-8.597731</td>\n",
       "      <td>-8.594587</td>\n",
       "    </tr>\n",
       "    <tr>\n",
       "      <th>2</th>\n",
       "      <td>1372656887620000167</td>\n",
       "      <td>1372657487</td>\n",
       "      <td>41.150844</td>\n",
       "      <td>2013-07-01 05:44:47</td>\n",
       "      <td>0.351365</td>\n",
       "      <td>41.147278</td>\n",
       "      <td>41.148628</td>\n",
       "      <td>41.149715</td>\n",
       "      <td>41.150837</td>\n",
       "      <td>41.151985</td>\n",
       "      <td>...</td>\n",
       "      <td>0.140027</td>\n",
       "      <td>-8.723721</td>\n",
       "      <td>-8.706600</td>\n",
       "      <td>-8.696557</td>\n",
       "      <td>-8.688789</td>\n",
       "      <td>-8.681811</td>\n",
       "      <td>-8.674873</td>\n",
       "      <td>-8.667569</td>\n",
       "      <td>-8.659448</td>\n",
       "      <td>-8.648573</td>\n",
       "    </tr>\n",
       "    <tr>\n",
       "      <th>3</th>\n",
       "      <td>1372657987620000623</td>\n",
       "      <td>1372658587</td>\n",
       "      <td>41.154570</td>\n",
       "      <td>2013-07-01 06:03:07</td>\n",
       "      <td>0.493178</td>\n",
       "      <td>41.165375</td>\n",
       "      <td>41.167759</td>\n",
       "      <td>41.169285</td>\n",
       "      <td>41.170540</td>\n",
       "      <td>41.171658</td>\n",
       "      <td>...</td>\n",
       "      <td>0.152097</td>\n",
       "      <td>-8.718079</td>\n",
       "      <td>-8.704770</td>\n",
       "      <td>-8.696086</td>\n",
       "      <td>-8.688241</td>\n",
       "      <td>-8.679714</td>\n",
       "      <td>-8.669991</td>\n",
       "      <td>-8.657927</td>\n",
       "      <td>-8.643268</td>\n",
       "      <td>-8.624678</td>\n",
       "    </tr>\n",
       "    <tr>\n",
       "      <th>4</th>\n",
       "      <td>1372660930620000571</td>\n",
       "      <td>1372661530</td>\n",
       "      <td>41.120118</td>\n",
       "      <td>2013-07-01 06:52:10</td>\n",
       "      <td>0.304243</td>\n",
       "      <td>41.111217</td>\n",
       "      <td>41.125332</td>\n",
       "      <td>41.133457</td>\n",
       "      <td>41.139641</td>\n",
       "      <td>41.145447</td>\n",
       "      <td>...</td>\n",
       "      <td>0.681658</td>\n",
       "      <td>-8.609119</td>\n",
       "      <td>-8.602303</td>\n",
       "      <td>-8.597115</td>\n",
       "      <td>-8.592128</td>\n",
       "      <td>-8.587734</td>\n",
       "      <td>-8.583840</td>\n",
       "      <td>-8.579588</td>\n",
       "      <td>-8.574241</td>\n",
       "      <td>-8.564931</td>\n",
       "    </tr>\n",
       "    <tr>\n",
       "      <th>...</th>\n",
       "      <td>...</td>\n",
       "      <td>...</td>\n",
       "      <td>...</td>\n",
       "      <td>...</td>\n",
       "      <td>...</td>\n",
       "      <td>...</td>\n",
       "      <td>...</td>\n",
       "      <td>...</td>\n",
       "      <td>...</td>\n",
       "      <td>...</td>\n",
       "      <td>...</td>\n",
       "      <td>...</td>\n",
       "      <td>...</td>\n",
       "      <td>...</td>\n",
       "      <td>...</td>\n",
       "      <td>...</td>\n",
       "      <td>...</td>\n",
       "      <td>...</td>\n",
       "      <td>...</td>\n",
       "      <td>...</td>\n",
       "      <td>...</td>\n",
       "    </tr>\n",
       "    <tr>\n",
       "      <th>6819</th>\n",
       "      <td>1404155056620000206</td>\n",
       "      <td>1404155656</td>\n",
       "      <td>41.151906</td>\n",
       "      <td>2014-06-30 19:14:16</td>\n",
       "      <td>0.353982</td>\n",
       "      <td>41.151531</td>\n",
       "      <td>41.151875</td>\n",
       "      <td>41.152065</td>\n",
       "      <td>41.152214</td>\n",
       "      <td>41.152344</td>\n",
       "      <td>...</td>\n",
       "      <td>0.467673</td>\n",
       "      <td>-8.643918</td>\n",
       "      <td>-8.637352</td>\n",
       "      <td>-8.632801</td>\n",
       "      <td>-8.628738</td>\n",
       "      <td>-8.624902</td>\n",
       "      <td>-8.621502</td>\n",
       "      <td>-8.618445</td>\n",
       "      <td>-8.615232</td>\n",
       "      <td>-8.610179</td>\n",
       "    </tr>\n",
       "    <tr>\n",
       "      <th>6820</th>\n",
       "      <td>1404155073620000099</td>\n",
       "      <td>1404155673</td>\n",
       "      <td>41.146920</td>\n",
       "      <td>2014-06-30 19:14:33</td>\n",
       "      <td>0.284467</td>\n",
       "      <td>41.133934</td>\n",
       "      <td>41.137447</td>\n",
       "      <td>41.139496</td>\n",
       "      <td>41.141109</td>\n",
       "      <td>41.142704</td>\n",
       "      <td>...</td>\n",
       "      <td>0.485240</td>\n",
       "      <td>-8.623188</td>\n",
       "      <td>-8.622816</td>\n",
       "      <td>-8.622533</td>\n",
       "      <td>-8.622211</td>\n",
       "      <td>-8.621850</td>\n",
       "      <td>-8.621477</td>\n",
       "      <td>-8.621069</td>\n",
       "      <td>-8.620665</td>\n",
       "      <td>-8.620096</td>\n",
       "    </tr>\n",
       "    <tr>\n",
       "      <th>6821</th>\n",
       "      <td>1404155819620000242</td>\n",
       "      <td>1404156419</td>\n",
       "      <td>41.171085</td>\n",
       "      <td>2014-06-30 19:26:59</td>\n",
       "      <td>0.408957</td>\n",
       "      <td>41.156063</td>\n",
       "      <td>41.157822</td>\n",
       "      <td>41.158813</td>\n",
       "      <td>41.159443</td>\n",
       "      <td>41.159973</td>\n",
       "      <td>...</td>\n",
       "      <td>0.441057</td>\n",
       "      <td>-8.664278</td>\n",
       "      <td>-8.651898</td>\n",
       "      <td>-8.643378</td>\n",
       "      <td>-8.636139</td>\n",
       "      <td>-8.629524</td>\n",
       "      <td>-8.623030</td>\n",
       "      <td>-8.616484</td>\n",
       "      <td>-8.608995</td>\n",
       "      <td>-8.596552</td>\n",
       "    </tr>\n",
       "    <tr>\n",
       "      <th>6822</th>\n",
       "      <td>1404157331620000343</td>\n",
       "      <td>1404157931</td>\n",
       "      <td>41.157612</td>\n",
       "      <td>2014-06-30 19:52:11</td>\n",
       "      <td>0.333845</td>\n",
       "      <td>41.146908</td>\n",
       "      <td>41.147640</td>\n",
       "      <td>41.148224</td>\n",
       "      <td>41.148842</td>\n",
       "      <td>41.149555</td>\n",
       "      <td>...</td>\n",
       "      <td>0.438332</td>\n",
       "      <td>-8.639633</td>\n",
       "      <td>-8.635764</td>\n",
       "      <td>-8.633593</td>\n",
       "      <td>-8.631777</td>\n",
       "      <td>-8.629998</td>\n",
       "      <td>-8.627758</td>\n",
       "      <td>-8.625045</td>\n",
       "      <td>-8.621679</td>\n",
       "      <td>-8.617480</td>\n",
       "    </tr>\n",
       "    <tr>\n",
       "      <th>6823</th>\n",
       "      <td>1404157914620000488</td>\n",
       "      <td>1404158514</td>\n",
       "      <td>41.166792</td>\n",
       "      <td>2014-06-30 20:01:54</td>\n",
       "      <td>0.485646</td>\n",
       "      <td>41.166695</td>\n",
       "      <td>41.168102</td>\n",
       "      <td>41.169014</td>\n",
       "      <td>41.169849</td>\n",
       "      <td>41.170612</td>\n",
       "      <td>...</td>\n",
       "      <td>0.510433</td>\n",
       "      <td>-8.655113</td>\n",
       "      <td>-8.641758</td>\n",
       "      <td>-8.632596</td>\n",
       "      <td>-8.624693</td>\n",
       "      <td>-8.617475</td>\n",
       "      <td>-8.610167</td>\n",
       "      <td>-8.602322</td>\n",
       "      <td>-8.593068</td>\n",
       "      <td>-8.577786</td>\n",
       "    </tr>\n",
       "  </tbody>\n",
       "</table>\n",
       "<p>6824 rows × 27 columns</p>\n",
       "</div>"
      ]
     },
     "execution_count": 31,
     "metadata": {},
     "output_type": "execute_result"
    }
   ],
   "execution_count": 31
  },
  {
   "metadata": {
    "ExecuteTime": {
     "end_time": "2025-09-08T18:21:55.409607Z",
     "start_time": "2025-09-08T18:21:55.398607Z"
    }
   },
   "cell_type": "code",
   "source": "df_lat_test",
   "id": "49054dc6e70aea13",
   "outputs": [
    {
     "data": {
      "text/plain": [
       "                    unique_id          ds        LAT\n",
       "index                                               \n",
       "1324      1372638793620000571  1372639393  41.142636\n",
       "6569      1372641068620000178  1372641668  41.124366\n",
       "23524     1372656887620000167  1372657487  41.150844\n",
       "19767     1372657987620000623  1372658587  41.154570\n",
       "57958     1372660930620000571  1372661530  41.120118\n",
       "...                       ...         ...        ...\n",
       "83349437  1404155056620000206  1404155656  41.151906\n",
       "83401457  1404155073620000099  1404155673  41.146920\n",
       "83362183  1404155819620000242  1404156419  41.171085\n",
       "83361733  1404157331620000343  1404157931  41.157612\n",
       "83359067  1404157914620000488  1404158514  41.166792\n",
       "\n",
       "[6824 rows x 3 columns]"
      ],
      "text/html": [
       "<div>\n",
       "<style scoped>\n",
       "    .dataframe tbody tr th:only-of-type {\n",
       "        vertical-align: middle;\n",
       "    }\n",
       "\n",
       "    .dataframe tbody tr th {\n",
       "        vertical-align: top;\n",
       "    }\n",
       "\n",
       "    .dataframe thead th {\n",
       "        text-align: right;\n",
       "    }\n",
       "</style>\n",
       "<table border=\"1\" class=\"dataframe\">\n",
       "  <thead>\n",
       "    <tr style=\"text-align: right;\">\n",
       "      <th></th>\n",
       "      <th>unique_id</th>\n",
       "      <th>ds</th>\n",
       "      <th>LAT</th>\n",
       "    </tr>\n",
       "    <tr>\n",
       "      <th>index</th>\n",
       "      <th></th>\n",
       "      <th></th>\n",
       "      <th></th>\n",
       "    </tr>\n",
       "  </thead>\n",
       "  <tbody>\n",
       "    <tr>\n",
       "      <th>1324</th>\n",
       "      <td>1372638793620000571</td>\n",
       "      <td>1372639393</td>\n",
       "      <td>41.142636</td>\n",
       "    </tr>\n",
       "    <tr>\n",
       "      <th>6569</th>\n",
       "      <td>1372641068620000178</td>\n",
       "      <td>1372641668</td>\n",
       "      <td>41.124366</td>\n",
       "    </tr>\n",
       "    <tr>\n",
       "      <th>23524</th>\n",
       "      <td>1372656887620000167</td>\n",
       "      <td>1372657487</td>\n",
       "      <td>41.150844</td>\n",
       "    </tr>\n",
       "    <tr>\n",
       "      <th>19767</th>\n",
       "      <td>1372657987620000623</td>\n",
       "      <td>1372658587</td>\n",
       "      <td>41.154570</td>\n",
       "    </tr>\n",
       "    <tr>\n",
       "      <th>57958</th>\n",
       "      <td>1372660930620000571</td>\n",
       "      <td>1372661530</td>\n",
       "      <td>41.120118</td>\n",
       "    </tr>\n",
       "    <tr>\n",
       "      <th>...</th>\n",
       "      <td>...</td>\n",
       "      <td>...</td>\n",
       "      <td>...</td>\n",
       "    </tr>\n",
       "    <tr>\n",
       "      <th>83349437</th>\n",
       "      <td>1404155056620000206</td>\n",
       "      <td>1404155656</td>\n",
       "      <td>41.151906</td>\n",
       "    </tr>\n",
       "    <tr>\n",
       "      <th>83401457</th>\n",
       "      <td>1404155073620000099</td>\n",
       "      <td>1404155673</td>\n",
       "      <td>41.146920</td>\n",
       "    </tr>\n",
       "    <tr>\n",
       "      <th>83362183</th>\n",
       "      <td>1404155819620000242</td>\n",
       "      <td>1404156419</td>\n",
       "      <td>41.171085</td>\n",
       "    </tr>\n",
       "    <tr>\n",
       "      <th>83361733</th>\n",
       "      <td>1404157331620000343</td>\n",
       "      <td>1404157931</td>\n",
       "      <td>41.157612</td>\n",
       "    </tr>\n",
       "    <tr>\n",
       "      <th>83359067</th>\n",
       "      <td>1404157914620000488</td>\n",
       "      <td>1404158514</td>\n",
       "      <td>41.166792</td>\n",
       "    </tr>\n",
       "  </tbody>\n",
       "</table>\n",
       "<p>6824 rows × 3 columns</p>\n",
       "</div>"
      ]
     },
     "execution_count": 32,
     "metadata": {},
     "output_type": "execute_result"
    }
   ],
   "execution_count": 32
  },
  {
   "metadata": {
    "ExecuteTime": {
     "end_time": "2025-09-08T18:21:56.632197Z",
     "start_time": "2025-09-08T18:21:55.505774Z"
    }
   },
   "cell_type": "code",
   "source": [
    "for col in columns:\n",
    "    result[f'DISTANCE_DELTA_SEPARATED_{col}'] = result.apply(lambda row: haversine_distance(\n",
    "    row['LAT'], row['LON'], row[f'{col}_x'], row[f'{col}_y']), axis=1)"
   ],
   "id": "e6c4b64c066ba7f4",
   "outputs": [],
   "execution_count": 33
  },
  {
   "metadata": {
    "ExecuteTime": {
     "end_time": "2025-09-08T18:21:56.682537Z",
     "start_time": "2025-09-08T18:21:56.672861Z"
    }
   },
   "cell_type": "code",
   "source": [
    "for col in columns:\n",
    "    print(f\"Column: {col}   Mean: {result[f'DISTANCE_DELTA_SEPARATED_{col}'].mean()}    Median: {result[f'DISTANCE_DELTA_SEPARATED_{col}'].median()}\")"
   ],
   "id": "5b99a14cdb92b324",
   "outputs": [
    {
     "name": "stdout",
     "output_type": "stream",
     "text": [
      "Column: timesfm-q-0.1   Mean: 2.116357805105032    Median: 1.7893385944186138\n",
      "Column: timesfm-q-0.2   Mean: 1.8125815288261757    Median: 1.5433918150356771\n",
      "Column: timesfm-q-0.3   Mean: 1.6735482481811008    Median: 1.422676662674904\n",
      "Column: timesfm-q-0.4   Mean: 1.5965407645164638    Median: 1.351383691896456\n",
      "Column: timesfm-q-0.5   Mean: 1.5620372156657722    Median: 1.3129447255518316\n",
      "Column: timesfm-q-0.6   Mean: 1.575246044306723    Median: 1.3288002737435274\n",
      "Column: timesfm-q-0.7   Mean: 1.6366542087847478    Median: 1.3847224739770418\n",
      "Column: timesfm-q-0.8   Mean: 1.766398925756005    Median: 1.4864425592336397\n",
      "Column: timesfm-q-0.9   Mean: 2.053931598274781    Median: 1.7421047654658441\n"
     ]
    }
   ],
   "execution_count": 34
  },
  {
   "metadata": {
    "ExecuteTime": {
     "end_time": "2025-09-08T18:21:57.269984Z",
     "start_time": "2025-09-08T18:21:56.741955Z"
    }
   },
   "cell_type": "code",
   "source": "import matplotlib.pyplot as plt",
   "id": "bf4d1aafe871993c",
   "outputs": [],
   "execution_count": 35
  },
  {
   "metadata": {
    "ExecuteTime": {
     "end_time": "2025-09-08T18:21:57.283343Z",
     "start_time": "2025-09-08T18:21:57.272511Z"
    }
   },
   "cell_type": "code",
   "source": [
    "stats = []\n",
    "for col in columns:\n",
    "    mean_val = result[f'DISTANCE_DELTA_SEPARATED_{col}'].mean()\n",
    "    median_val = result[f'DISTANCE_DELTA_SEPARATED_{col}'].median()\n",
    "    label = col.replace(\"timesfm-\", \"\")\n",
    "    stats.append({\"quantile\": label, \"mean\": mean_val, \"median\": median_val})\n",
    "\n",
    "df_stats = pd.DataFrame(stats)"
   ],
   "id": "c4c47ecb39d1e546",
   "outputs": [],
   "execution_count": 36
  },
  {
   "metadata": {
    "ExecuteTime": {
     "end_time": "2025-09-08T18:21:57.508115Z",
     "start_time": "2025-09-08T18:21:57.326315Z"
    }
   },
   "cell_type": "code",
   "source": [
    "plt.figure(figsize=(8,5))\n",
    "plt.plot(df_stats[\"quantile\"], df_stats[\"mean\"], marker=\"o\", label=\"Mean\")\n",
    "plt.plot(df_stats[\"quantile\"], df_stats[\"median\"], marker=\"o\", label=\"Median\")\n",
    "plt.xlabel(\"Quantile\")\n",
    "plt.ylabel(\"Haversine distance error\")\n",
    "plt.title(\"Prediction error vs. quantile\")\n",
    "plt.legend()\n",
    "plt.grid(True)\n",
    "plt.show()"
   ],
   "id": "6ce332bbda0bcf56",
   "outputs": [
    {
     "data": {
      "text/plain": [
       "<Figure size 800x500 with 1 Axes>"
      ],
      "image/png": "[encoded data removed]"
     },
     "metadata": {},
     "output_type": "display_data"
    }
   ],
   "execution_count": 37
  }
 ],
 "metadata": {
  "kernelspec": {
   "display_name": "Python 3",
   "language": "python",
   "name": "python3"
  },
  "language_info": {
   "codemirror_mode": {
    "name": "ipython",
    "version": 2
   },
   "file_extension": ".py",
   "mimetype": "text/x-python",
   "name": "python",
   "nbconvert_exporter": "python",
   "pygments_lexer": "ipython2",
   "version": "2.7.6"
  }
 },
 "nbformat": 4,
 "nbformat_minor": 5
}
